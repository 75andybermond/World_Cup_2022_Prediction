{
 "cells": [
  {
   "cell_type": "code",
   "execution_count": null,
   "id": "7870f4c2-537a-4c68-9a16-0c77559e7bf3",
   "metadata": {},
   "outputs": [],
   "source": [
    "import pandas as pd \n",
    "import seaborn as sns\n",
    "import numpy as np\n",
    "from sklearn import preprocessing\n",
    "import matplotlib.pyplot as plt\n",
    "# Run Multicolinaryty \n",
    "from statsmodels.stats.outliers_influence import variance_inflation_factor\n",
    "from statsmodels.tools.tools import add_constant\n"
   ]
  },
  {
   "cell_type": "code",
   "execution_count": null,
   "id": "9d0e6bac-2599-454f-beb3-85052484bd9b",
   "metadata": {},
   "outputs": [],
   "source": [
    "df = pd.read_csv('df_clean.csv')"
   ]
  },
  {
   "cell_type": "code",
   "execution_count": null,
   "id": "3932e11d-d1d8-4444-a9a3-16f831047cae",
   "metadata": {},
   "outputs": [],
   "source": [
    "df.date = pd.to_datetime(df.date)\n",
    "df = df.set_index('date')"
   ]
  },
  {
   "cell_type": "markdown",
   "id": "0cc6a3c7-cebd-4f14-8d20-05a6823628b6",
   "metadata": {},
   "source": [
    "# Correlation analysis \n",
    "* Some values are very correlated and others are not\n",
    "* We can see that more the team as a low rank more the overall scores are low \n",
    "* When scores are high/low in some categories it tends to be high on the others two \n",
    "* We get a confirmation than the away_team_score is negatively correlate on the result "
   ]
  },
  {
   "cell_type": "code",
   "execution_count": null,
   "id": "b1197eec-74c4-404b-b2a8-886d31a75301",
   "metadata": {},
   "outputs": [],
   "source": [
    "# Create the correlation matrix\n",
    "corr_mean = df.corr(method = 'pearson')\n",
    "\n",
    "#create a mask for the upper triangle\n",
    "mask = np.triu(np.ones_like(corr_mean, dtype=bool))\n",
    "\n",
    "# Add the mask to the heatmap\n",
    "fig, ax = plt.subplots(figsize=(12,8)) \n",
    "ax = sns.heatmap(corr_mean, mask=mask, cmap= \"RdYlGn\", center=0, linewidths=1, annot=True, fmt=\".2f\")\n",
    "#ax.set_xticklabels(ax.get_xticklabels(), rotation=45)\n",
    "#ax.set_yticklabels(ax.get_xticklabels(), rotation=45)\n",
    "plt.show()"
   ]
  },
  {
   "cell_type": "code",
   "execution_count": null,
   "id": "b6ca4c84-c612-4b27-829d-847d5b4f2227",
   "metadata": {},
   "outputs": [],
   "source": [
    "\n",
    "sns.set_theme(style=\"ticks\")\n",
    "\n",
    "a = sns.pairplot(df, hue=\"result\")"
   ]
  },
  {
   "cell_type": "code",
   "execution_count": 79,
   "id": "6c6e59dc-ee80-4a76-b41d-d41d2215a3f6",
   "metadata": {},
   "outputs": [],
   "source": [
    "df = df.drop(['home_team_total_fifa_points', 'away_team_total_fifa_points','home_team_mean_defense_score' ], axis=1)\n",
    "df.to_csv('df_for_ML_countries_not_numeric.csv', encoding='utf-8', index=True)"
   ]
  },
  {
   "cell_type": "code",
   "execution_count": null,
   "id": "b10c8a03-9d47-4fed-84fc-2a55f02f3f34",
   "metadata": {},
   "outputs": [],
   "source": [
    "# Conversion des pays en numériques\n",
    "le = preprocessing.LabelEncoder()\n",
    "df['home_team'] = le.fit_transform(df['home_team'])\n",
    "df['away_team'] = le.fit_transform(df['away_team'])"
   ]
  },
  {
   "cell_type": "markdown",
   "id": "2e8cd288-8299-4b2d-84cd-5e28aa6269d2",
   "metadata": {},
   "source": [
    "## Vif Analysis\n",
    "* It apperars to have 3 columns over Vif>5 , we should remove it "
   ]
  },
  {
   "cell_type": "code",
   "execution_count": null,
   "id": "3e2c8443-1e8a-4bd7-b964-6e247de3a66e",
   "metadata": {},
   "outputs": [],
   "source": [
    "from statsmodels.regression.linear_model import OLS\n",
    "from statsmodels.tools.tools import add_constant\n",
    "\n",
    "def variance_inflation_factors(exog_df):\n",
    "    '''\n",
    "    Parameters\n",
    "    ----------\n",
    "    exog_df : dataframe, (nobs, k_vars)\n",
    "        design matrix with all explanatory variables, as for example used in\n",
    "        regression.\n",
    "\n",
    "    Returns\n",
    "    -------\n",
    "    vif : Series\n",
    "        variance inflation factors\n",
    "    '''\n",
    "    exog_df = add_constant(exog_df)\n",
    "    vifs = pd.Series(\n",
    "        [1 / (1. - OLS(exog_df[col].values, \n",
    "                       exog_df.loc[:, exog_df.columns != col].values).fit().rsquared) \n",
    "         for col in exog_df],\n",
    "        index=exog_df.columns,\n",
    "        name='VIF'\n",
    "    )\n",
    "    return vifs\n",
    "\n",
    "variance_inflation_factors(df)"
   ]
  },
  {
   "cell_type": "code",
   "execution_count": null,
   "id": "647d21a8-385d-42f9-83c8-0ef9d9db7b84",
   "metadata": {},
   "outputs": [],
   "source": [
    "df = df.drop(['home_team_total_fifa_points', 'away_team_total_fifa_points','home_team_mean_defense_score' ], axis=1)"
   ]
  },
  {
   "cell_type": "code",
   "execution_count": null,
   "id": "d0313438-f2a0-4bfe-943f-4c1e5bcd6434",
   "metadata": {},
   "outputs": [],
   "source": [
    "df.to_csv('df_for_ML.csv', encoding='utf-8', index=True)"
   ]
  },
  {
   "cell_type": "code",
   "execution_count": null,
   "id": "353e978c-e32a-4bf9-b3e9-133ca6a21c31",
   "metadata": {},
   "outputs": [],
   "source": [
    "df"
   ]
  },
  {
   "cell_type": "code",
   "execution_count": null,
   "id": "8f7b373f-f9a1-4de6-8076-b860f54726a7",
   "metadata": {},
   "outputs": [],
   "source": []
  },
  {
   "cell_type": "code",
   "execution_count": null,
   "id": "139f6c0a-c12f-4d3b-b029-4f0537b0816d",
   "metadata": {},
   "outputs": [],
   "source": []
  }
 ],
 "metadata": {
  "kernelspec": {
   "display_name": "Python 3 (ipykernel)",
   "language": "python",
   "name": "python3"
  },
  "language_info": {
   "codemirror_mode": {
    "name": "ipython",
    "version": 3
   },
   "file_extension": ".py",
   "mimetype": "text/x-python",
   "name": "python",
   "nbconvert_exporter": "python",
   "pygments_lexer": "ipython3",
   "version": "3.10.4"
  }
 },
 "nbformat": 4,
 "nbformat_minor": 5
}
