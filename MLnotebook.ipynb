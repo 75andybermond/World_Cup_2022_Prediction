{
 "cells": [
  {
   "cell_type": "code",
   "execution_count": 108,
   "id": "eb96fecc-96aa-4a08-a167-194b2e90dff9",
   "metadata": {},
   "outputs": [],
   "source": [
    "import pandas as pd \n",
    "import seaborn as sns\n",
    "import numpy as np\n",
    "from sklearn import preprocessing\n",
    "import matplotlib.pyplot as plt\n",
    "\n",
    "from sklearn.preprocessing import LabelEncoder\n",
    "\n",
    "\n",
    "from sklearn.linear_model import Ridge\n",
    "from sklearn.model_selection import GridSearchCV\n",
    "from sklearn.preprocessing import StandardScaler\n",
    "from sklearn.model_selection import train_test_split\n",
    "from sklearn.svm import SVC\n",
    "from sklearn.model_selection import RepeatedKFold\n",
    "from sklearn.ensemble import RandomForestClassifier\n",
    "from sklearn.linear_model import LogisticRegression\n",
    "from sklearn.naive_bayes import GaussianNB\n",
    "from sklearn.neighbors import KNeighborsClassifier\n",
    "from sklearn.gaussian_process import GaussianProcessClassifier\n",
    "from sklearn.tree import DecisionTreeClassifier\n",
    "from sklearn.ensemble import AdaBoostClassifier\n",
    "from sklearn.discriminant_analysis import QuadraticDiscriminantAnalysis\n",
    "from sklearn.svm import SVR\n",
    "from sklearn.pipeline import Pipeline\n",
    "from sklearn.neural_network import MLPClassifier \n",
    "from sklearn.model_selection import cross_val_score\n",
    "from sklearn.metrics import mean_squared_error, mean_absolute_error\n",
    "from sklearn.metrics import accuracy_score\n",
    "from sklearn.metrics import classification_report\n",
    "from sklearn.metrics import accuracy_score, recall_score, confusion_matrix, ConfusionMatrixDisplay\n",
    "\n",
    "import tensorflow\n",
    "from tensorflow.keras.models import Sequential\n",
    "from tensorflow.keras.layers import Dense\n",
    "from tensorflow.keras.utils import to_categorical\n"
   ]
  },
  {
   "cell_type": "markdown",
   "id": "339569a4-a921-40aa-9d32-296ca1d6b9c6",
   "metadata": {},
   "source": [
    "# Open DF with countries encoded "
   ]
  },
  {
   "cell_type": "code",
   "execution_count": 109,
   "id": "a69b6bc2-c81f-470d-a26d-06be560096f6",
   "metadata": {},
   "outputs": [
    {
     "data": {
      "text/plain": [
       "3    4813\n",
       "0    2916\n",
       "1    2349\n",
       "Name: result, dtype: int64"
      ]
     },
     "execution_count": 109,
     "metadata": {},
     "output_type": "execute_result"
    }
   ],
   "source": [
    "df = pd.read_csv('df_for_ML.csv', index_col='date')\n",
    "df.result.value_counts()"
   ]
  },
  {
   "cell_type": "code",
   "execution_count": 110,
   "id": "b5e86f6c-9a55-4aad-83b3-3f5007a7d2dc",
   "metadata": {},
   "outputs": [
    {
     "data": {
      "text/html": [
       "<div>\n",
       "<style scoped>\n",
       "    .dataframe tbody tr th:only-of-type {\n",
       "        vertical-align: middle;\n",
       "    }\n",
       "\n",
       "    .dataframe tbody tr th {\n",
       "        vertical-align: top;\n",
       "    }\n",
       "\n",
       "    .dataframe thead th {\n",
       "        text-align: right;\n",
       "    }\n",
       "</style>\n",
       "<table border=\"1\" class=\"dataframe\">\n",
       "  <thead>\n",
       "    <tr style=\"text-align: right;\">\n",
       "      <th></th>\n",
       "      <th>home_team</th>\n",
       "      <th>away_team</th>\n",
       "      <th>home_team_fifa_rank</th>\n",
       "      <th>away_team_fifa_rank</th>\n",
       "      <th>home_team_goalkeeper_score</th>\n",
       "      <th>away_team_goalkeeper_score</th>\n",
       "      <th>home_team_mean_defense_score</th>\n",
       "      <th>home_team_mean_offense_score</th>\n",
       "      <th>home_team_mean_midfield_score</th>\n",
       "      <th>away_team_mean_defense_score</th>\n",
       "      <th>away_team_mean_offense_score</th>\n",
       "      <th>away_team_mean_midfield_score</th>\n",
       "      <th>result</th>\n",
       "    </tr>\n",
       "    <tr>\n",
       "      <th>date</th>\n",
       "      <th></th>\n",
       "      <th></th>\n",
       "      <th></th>\n",
       "      <th></th>\n",
       "      <th></th>\n",
       "      <th></th>\n",
       "      <th></th>\n",
       "      <th></th>\n",
       "      <th></th>\n",
       "      <th></th>\n",
       "      <th></th>\n",
       "      <th></th>\n",
       "      <th></th>\n",
       "    </tr>\n",
       "  </thead>\n",
       "  <tbody>\n",
       "    <tr>\n",
       "      <th>1993-08-08</th>\n",
       "      <td>24</td>\n",
       "      <td>117</td>\n",
       "      <td>8</td>\n",
       "      <td>14</td>\n",
       "      <td>85.941860</td>\n",
       "      <td>79.248175</td>\n",
       "      <td>85.902907</td>\n",
       "      <td>86.538372</td>\n",
       "      <td>85.355233</td>\n",
       "      <td>76.813139</td>\n",
       "      <td>79.659854</td>\n",
       "      <td>77.708759</td>\n",
       "      <td>1</td>\n",
       "    </tr>\n",
       "    <tr>\n",
       "      <th>1993-08-08</th>\n",
       "      <td>52</td>\n",
       "      <td>193</td>\n",
       "      <td>35</td>\n",
       "      <td>94</td>\n",
       "      <td>71.275510</td>\n",
       "      <td>67.595745</td>\n",
       "      <td>70.599091</td>\n",
       "      <td>75.413265</td>\n",
       "      <td>75.042857</td>\n",
       "      <td>72.443243</td>\n",
       "      <td>74.760000</td>\n",
       "      <td>73.500000</td>\n",
       "      <td>3</td>\n",
       "    </tr>\n",
       "    <tr>\n",
       "      <th>1993-08-15</th>\n",
       "      <td>9</td>\n",
       "      <td>31</td>\n",
       "      <td>52</td>\n",
       "      <td>46</td>\n",
       "      <td>78.088710</td>\n",
       "      <td>71.726190</td>\n",
       "      <td>72.558065</td>\n",
       "      <td>74.718548</td>\n",
       "      <td>74.060484</td>\n",
       "      <td>68.810714</td>\n",
       "      <td>71.543210</td>\n",
       "      <td>72.527381</td>\n",
       "      <td>3</td>\n",
       "    </tr>\n",
       "    <tr>\n",
       "      <th>1993-08-15</th>\n",
       "      <td>180</td>\n",
       "      <td>24</td>\n",
       "      <td>22</td>\n",
       "      <td>8</td>\n",
       "      <td>79.368421</td>\n",
       "      <td>86.369128</td>\n",
       "      <td>79.753509</td>\n",
       "      <td>83.721053</td>\n",
       "      <td>78.356140</td>\n",
       "      <td>86.066443</td>\n",
       "      <td>86.607383</td>\n",
       "      <td>85.288591</td>\n",
       "      <td>1</td>\n",
       "    </tr>\n",
       "    <tr>\n",
       "      <th>1993-08-22</th>\n",
       "      <td>6</td>\n",
       "      <td>139</td>\n",
       "      <td>5</td>\n",
       "      <td>70</td>\n",
       "      <td>80.490566</td>\n",
       "      <td>69.581395</td>\n",
       "      <td>82.635220</td>\n",
       "      <td>88.293082</td>\n",
       "      <td>84.132704</td>\n",
       "      <td>70.993878</td>\n",
       "      <td>76.436735</td>\n",
       "      <td>73.813636</td>\n",
       "      <td>3</td>\n",
       "    </tr>\n",
       "  </tbody>\n",
       "</table>\n",
       "</div>"
      ],
      "text/plain": [
       "            home_team  away_team  home_team_fifa_rank  away_team_fifa_rank  \\\n",
       "date                                                                         \n",
       "1993-08-08         24        117                    8                   14   \n",
       "1993-08-08         52        193                   35                   94   \n",
       "1993-08-15          9         31                   52                   46   \n",
       "1993-08-15        180         24                   22                    8   \n",
       "1993-08-22          6        139                    5                   70   \n",
       "\n",
       "            home_team_goalkeeper_score  away_team_goalkeeper_score  \\\n",
       "date                                                                 \n",
       "1993-08-08                   85.941860                   79.248175   \n",
       "1993-08-08                   71.275510                   67.595745   \n",
       "1993-08-15                   78.088710                   71.726190   \n",
       "1993-08-15                   79.368421                   86.369128   \n",
       "1993-08-22                   80.490566                   69.581395   \n",
       "\n",
       "            home_team_mean_defense_score  home_team_mean_offense_score  \\\n",
       "date                                                                     \n",
       "1993-08-08                     85.902907                     86.538372   \n",
       "1993-08-08                     70.599091                     75.413265   \n",
       "1993-08-15                     72.558065                     74.718548   \n",
       "1993-08-15                     79.753509                     83.721053   \n",
       "1993-08-22                     82.635220                     88.293082   \n",
       "\n",
       "            home_team_mean_midfield_score  away_team_mean_defense_score  \\\n",
       "date                                                                      \n",
       "1993-08-08                      85.355233                     76.813139   \n",
       "1993-08-08                      75.042857                     72.443243   \n",
       "1993-08-15                      74.060484                     68.810714   \n",
       "1993-08-15                      78.356140                     86.066443   \n",
       "1993-08-22                      84.132704                     70.993878   \n",
       "\n",
       "            away_team_mean_offense_score  away_team_mean_midfield_score  \\\n",
       "date                                                                      \n",
       "1993-08-08                     79.659854                      77.708759   \n",
       "1993-08-08                     74.760000                      73.500000   \n",
       "1993-08-15                     71.543210                      72.527381   \n",
       "1993-08-15                     86.607383                      85.288591   \n",
       "1993-08-22                     76.436735                      73.813636   \n",
       "\n",
       "            result  \n",
       "date                \n",
       "1993-08-08       1  \n",
       "1993-08-08       3  \n",
       "1993-08-15       3  \n",
       "1993-08-15       1  \n",
       "1993-08-22       3  "
      ]
     },
     "execution_count": 110,
     "metadata": {},
     "output_type": "execute_result"
    }
   ],
   "source": [
    "df.head()"
   ]
  },
  {
   "cell_type": "markdown",
   "id": "4afbd6bf-4b40-4191-8388-7a0175c1ea82",
   "metadata": {},
   "source": [
    "# Define X and y"
   ]
  },
  {
   "cell_type": "code",
   "execution_count": 111,
   "id": "fd8f40b6-91d2-4fec-b5f8-bd89fe6a1893",
   "metadata": {},
   "outputs": [],
   "source": [
    "X = df.drop(['result'], axis=1)\n",
    "y = df['result']"
   ]
  },
  {
   "cell_type": "code",
   "execution_count": 113,
   "id": "70e5612d-e382-46ce-9518-a573bf0f04a3",
   "metadata": {},
   "outputs": [
    {
     "data": {
      "text/plain": [
       "Index(['home_team', 'away_team', 'home_team_fifa_rank', 'away_team_fifa_rank',\n",
       "       'home_team_goalkeeper_score', 'away_team_goalkeeper_score',\n",
       "       'home_team_mean_defense_score', 'home_team_mean_offense_score',\n",
       "       'home_team_mean_midfield_score', 'away_team_mean_defense_score',\n",
       "       'away_team_mean_offense_score', 'away_team_mean_midfield_score'],\n",
       "      dtype='object')"
      ]
     },
     "execution_count": 113,
     "metadata": {},
     "output_type": "execute_result"
    }
   ],
   "source": [
    "X.columns"
   ]
  },
  {
   "cell_type": "markdown",
   "id": "47a20f40-e7ae-4fc9-ad5c-92b270bb94ae",
   "metadata": {},
   "source": [
    "## Scaling using StandScaler \n",
    "* I don't want \"yet\" to remove the few outliers "
   ]
  },
  {
   "cell_type": "code",
   "execution_count": 80,
   "id": "2132cf29-65d1-4995-aeeb-3c23fa40a84d",
   "metadata": {},
   "outputs": [],
   "source": [
    "from sklearn.preprocessing import StandardScaler\n",
    "import sklearn\n",
    "\n",
    "Scaller = StandardScaler()\n",
    " \n",
    "# standardization \n",
    "X = Scaller.fit_transform(X) "
   ]
  },
  {
   "cell_type": "code",
   "execution_count": 81,
   "id": "01a049b3-5428-494d-a4ba-05cee4752b81",
   "metadata": {},
   "outputs": [
    {
     "data": {
      "text/plain": [
       "'from sklearn.preprocessing import MinMaxScaler\\n\\nMinmax = MinMaxScaler()\\n \\n# standardization \\nX = Minmax.fit_transform(X) '"
      ]
     },
     "execution_count": 81,
     "metadata": {},
     "output_type": "execute_result"
    }
   ],
   "source": [
    "'''from sklearn.preprocessing import MinMaxScaler\n",
    "\n",
    "Minmax = MinMaxScaler()\n",
    " \n",
    "# standardization \n",
    "X = Minmax.fit_transform(X) '''"
   ]
  },
  {
   "cell_type": "code",
   "execution_count": 82,
   "id": "a80aa9cc-2af7-42d6-9d99-a48dda7cbc7d",
   "metadata": {},
   "outputs": [],
   "source": [
    "X_train, X_test, y_train, y_test = train_test_split(X, y, test_size=0.33, random_state=42 , stratify=y) #, stratify=y)"
   ]
  },
  {
   "cell_type": "code",
   "execution_count": 83,
   "id": "7f297368-2385-44fc-8d2a-1f77d7e09ea7",
   "metadata": {},
   "outputs": [
    {
     "data": {
      "text/plain": [
       "((6752, 12), (3326, 12), (6752,), (3326,))"
      ]
     },
     "execution_count": 83,
     "metadata": {},
     "output_type": "execute_result"
    }
   ],
   "source": [
    "X_train.shape, X_test.shape, y_train.shape, y_test.shape"
   ]
  },
  {
   "cell_type": "code",
   "execution_count": 36,
   "id": "0d5e479d-825e-48c5-afc5-f5159c7ad7d8",
   "metadata": {},
   "outputs": [],
   "source": [
    "names = [\"Nearest Neighbors\", \"Logistic Regression\",\"Linear SVM\", \"RBF SVM\", \"Gaussian Process\",\n",
    "         \"Decision Tree\", \"Random Forest\", \"Neural Net\", \"AdaBoost\",\n",
    "         \"Naive Bayes\", \"QDA\"]\n",
    "\n",
    "classifiers = [\n",
    "    KNeighborsClassifier(3),\n",
    "    LogisticRegression(),\n",
    "    SVC(kernel=\"linear\", C=0.025, probability=True),\n",
    "    SVC(gamma=2, C=1, probability=True),\n",
    "    GaussianProcessClassifier(),\n",
    "    DecisionTreeClassifier(max_depth=5),\n",
    "    RandomForestClassifier(max_depth=5, n_estimators=10, max_features=1),\n",
    "    MLPClassifier(hidden_layer_sizes=(150,100,50), alpha = 0.05, \n",
    "                       max_iter = 50,activation = 'relu', learning_rate = 'constant', \n",
    "                       solver = 'adam' , early_stopping=True),\n",
    "    AdaBoostClassifier(),\n",
    "    GaussianNB(),\n",
    "    QuadraticDiscriminantAnalysis()]"
   ]
  },
  {
   "cell_type": "code",
   "execution_count": 37,
   "id": "fa7fbad4-98d3-4275-a5cf-32a66091f3b5",
   "metadata": {},
   "outputs": [
    {
     "name": "stdout",
     "output_type": "stream",
     "text": [
      "Nearest Neighbors 0.5292841648590022\n",
      "Logistic Regression 0.5841338704679269\n",
      "Linear SVM 0.5887821506042764\n",
      "RBF SVM 0.5835140997830802\n",
      "Gaussian Process 0.6017973349860551\n",
      "Decision Tree 0.5683297180043384\n",
      "Random Forest 0.5866129532073133\n",
      "Neural Net 0.5841338704679269\n",
      "AdaBoost 0.5807251317012705\n",
      "Naive Bayes 0.5695692593740316\n",
      "QDA 0.5612023551286024\n"
     ]
    }
   ],
   "source": [
    "for name, clf in zip(names, classifiers):\n",
    "        clf.fit(X_train, y_train)\n",
    "        accuracy = clf.score(X_test, y_test)\n",
    "\n",
    "        # prediction_proba = clf.predict_proba(X_test)\n",
    "        # logloss = log_loss(y_test,prediction_proba)\n",
    "        # precision, recall, fscore, support = score(y_test, prediction)\n",
    "        # conf_martrix = confusion_matrix(y_test, prediction)\n",
    "        # clas_report = classification_report(y_test, prediction)\n",
    "\n",
    "        print(name, accuracy)"
   ]
  },
  {
   "cell_type": "code",
   "execution_count": null,
   "id": "e39c5be2-f050-42c6-a5d9-18f0325bb4a4",
   "metadata": {},
   "outputs": [],
   "source": []
  },
  {
   "cell_type": "markdown",
   "id": "0ac18d29-1c21-4041-8585-764617c111c4",
   "metadata": {},
   "source": [
    "## SGDClassfier "
   ]
  },
  {
   "cell_type": "code",
   "execution_count": null,
   "id": "77a2d5cf-6063-4e83-bf38-9e097e9c3efa",
   "metadata": {},
   "outputs": [],
   "source": [
    "from sklearn.linear_model import SGDClassifier"
   ]
  },
  {
   "cell_type": "code",
   "execution_count": null,
   "id": "9e03dc4f-e0f0-4543-979b-388deafc65db",
   "metadata": {},
   "outputs": [],
   "source": [
    "clf = SGDClassifier(loss=\"log_loss\", penalty='elasticnet' ,  alpha = 0.01) \n",
    "clf.fit(X_train, y_train)"
   ]
  },
  {
   "cell_type": "code",
   "execution_count": null,
   "id": "a71aee1c-41e5-4448-8073-38b409a1bee3",
   "metadata": {},
   "outputs": [],
   "source": [
    "y_pred = clf.predict(X_test)\n",
    "\n",
    "print('Accuracy: {:.2f}'.format(accuracy_score(y_test, y_pred)))"
   ]
  },
  {
   "cell_type": "code",
   "execution_count": null,
   "id": "50e6f9f4-e749-408b-8832-d9c270d8b26c",
   "metadata": {},
   "outputs": [],
   "source": [
    "n_iters = [5, 10, 20, 50, 100, 1000]\n",
    "scores = []\n",
    "for n_iter in n_iters:\n",
    "    clf = SGDClassifier(loss=\"hinge\", penalty=\"l2\", max_iter=n_iter)\n",
    "    clf.fit(X_train, y_train)\n",
    "    scores.append(clf.score(X_test, y_test))\n",
    "  \n",
    "plt.title(\"Effect of n_iter\")\n",
    "plt.xlabel(\"n_iter\")\n",
    "plt.ylabel(\"score\")\n",
    "plt.plot(n_iters, scores) "
   ]
  },
  {
   "cell_type": "code",
   "execution_count": null,
   "id": "07d35d2a-e072-4630-becf-18c9c2d5bd16",
   "metadata": {},
   "outputs": [],
   "source": [
    "losses = [\"hinge\", \"log_loss\", \"modified_huber\", \"perceptron\", \"squared_hinge\"]\n",
    "scores = []\n",
    "for loss in losses:\n",
    "    clf = SGDClassifier(loss=loss, penalty=\"l2\", max_iter=1000)\n",
    "    clf.fit(X_train, y_train)\n",
    "    scores.append(clf.score(X_test, y_test))\n",
    "  \n",
    "\n",
    "plt.title(\"Effect of loss\")\n",
    "plt.xlabel(\"loss\")\n",
    "plt.ylabel(\"score\")\n",
    "x = np.arange(len(losses))\n",
    "plt.xticks(x, losses)\n",
    "plt.plot(x, scores) "
   ]
  },
  {
   "cell_type": "code",
   "execution_count": null,
   "id": "de5fdb5e-f89b-4231-b6cf-4e63d803fbdf",
   "metadata": {},
   "outputs": [],
   "source": [
    "params = {\n",
    "    \"loss\" : [\"hinge\", \"log_loss\", \"squared_hinge\", \"modified_huber\", \"perceptron\"],\n",
    "    \"alpha\" : [0.0001, 0.001, 0.01, 0.1],\n",
    "    \"penalty\" : [\"l2\", \"l1\", \"elasticnet\", \"none\"],\n",
    "}\n",
    "\n",
    "clf = SGDClassifier(max_iter=10000)\n",
    "grid = GridSearchCV(clf, param_grid=params, cv=10)\n",
    "\n",
    "\n",
    "grid.fit(X_train, y_train)\n",
    "\n",
    "print(grid.best_params_)"
   ]
  },
  {
   "cell_type": "code",
   "execution_count": null,
   "id": "e17c125d-326a-4e85-874c-b289f34c15be",
   "metadata": {},
   "outputs": [],
   "source": [
    "grid_predictions = grid.predict(X_test) \n",
    "\n",
    "print('Accuracy: {:.2f}'.format(accuracy_score(y_test, grid_predictions)))"
   ]
  },
  {
   "cell_type": "markdown",
   "id": "1dee807e-8e68-4261-89ed-00b2186c8391",
   "metadata": {},
   "source": [
    "## Train prediction and eval "
   ]
  },
  {
   "cell_type": "code",
   "execution_count": null,
   "id": "6c2dd893-ffa1-4c41-9104-5c28044b2add",
   "metadata": {},
   "outputs": [],
   "source": [
    "trainpr= grid.predict(X_train)\n",
    "errortrain = accuracy_score(y_train, trainpr)\n",
    "print(\"the train score is \" )\n",
    "errortrain"
   ]
  },
  {
   "cell_type": "code",
   "execution_count": null,
   "id": "fa4e077a-3088-4017-a190-610ee12571d9",
   "metadata": {},
   "outputs": [],
   "source": [
    "combine = pd.DataFrame(dict(actual=y_train, predicted=trainpr))"
   ]
  },
  {
   "cell_type": "code",
   "execution_count": null,
   "id": "99f0f8a6-a3c5-47ee-bdf0-f20facfde535",
   "metadata": {},
   "outputs": [],
   "source": [
    "pd.crosstab(index=combine[\"actual\"], columns=combine[\"predicted\"])"
   ]
  },
  {
   "cell_type": "code",
   "execution_count": null,
   "id": "a7fc953c-32d1-4e52-9dcd-4daefe4589b1",
   "metadata": {},
   "outputs": [],
   "source": [
    "\n",
    "print(classification_report(y_train, trainpr))"
   ]
  },
  {
   "cell_type": "code",
   "execution_count": null,
   "id": "93b7d95e-d38f-4534-809e-b00c87d01117",
   "metadata": {},
   "outputs": [],
   "source": [
    "\n",
    "\n",
    "display = ConfusionMatrixDisplay(confusion_matrix = confusion_matrix(y_train, trainpr))\n",
    "fig, ax = plt.subplots(figsize=(10,10))\n",
    "display.plot(ax=ax)\n",
    "\n",
    "plt.show()"
   ]
  },
  {
   "cell_type": "markdown",
   "id": "bec1bd0f-be6c-4903-af98-8e2c88406ece",
   "metadata": {},
   "source": [
    "## Test prediction and eval "
   ]
  },
  {
   "cell_type": "code",
   "execution_count": null,
   "id": "e8d381b7-d069-41f7-a150-5c02b15781bd",
   "metadata": {},
   "outputs": [],
   "source": [
    "predts = grid.predict(X_test)\n",
    "errortest = accuracy_score(y_test, predts)\n",
    "print(\"the test score is \" )\n",
    "errortest"
   ]
  },
  {
   "cell_type": "code",
   "execution_count": null,
   "id": "fca928c4-b990-416d-a822-ef9ce7d56780",
   "metadata": {},
   "outputs": [],
   "source": [
    "combine = pd.DataFrame(dict(actual=y_test, predicted=predts))"
   ]
  },
  {
   "cell_type": "code",
   "execution_count": null,
   "id": "574c9b28-800b-461b-9b5a-6f4bee45b7bf",
   "metadata": {},
   "outputs": [],
   "source": [
    "pd.crosstab(index=combine[\"actual\"], columns=combine[\"predicted\"])"
   ]
  },
  {
   "cell_type": "code",
   "execution_count": null,
   "id": "6dc87218-c362-4995-a59d-a9d7aa855a83",
   "metadata": {},
   "outputs": [],
   "source": [
    "\n",
    "print(classification_report(y_test, predts))"
   ]
  },
  {
   "cell_type": "code",
   "execution_count": null,
   "id": "ed23a2e3-32c8-4924-b379-231766a304bf",
   "metadata": {},
   "outputs": [],
   "source": [
    "display = ConfusionMatrixDisplay(confusion_matrix=confusion_matrix(y_test, predts))\n",
    "fig, ax = plt.subplots(figsize=(10,10))\n",
    "display.plot(ax=ax)\n",
    "\n",
    "\n",
    "plt.show()"
   ]
  },
  {
   "cell_type": "markdown",
   "id": "d5bb61b5-0d63-43d8-9f98-6beb12e5dde3",
   "metadata": {
    "tags": []
   },
   "source": [
    "### Result for the SGDClassfier \n",
    "* Train accuracy is at 59 % and test accuracy at 58% \n",
    "* The model does not seems to overfit \n"
   ]
  },
  {
   "cell_type": "markdown",
   "id": "6e496640-93dd-411b-b4cf-845fb732fd46",
   "metadata": {},
   "source": [
    "## KNN Classifier "
   ]
  },
  {
   "cell_type": "code",
   "execution_count": 84,
   "id": "735c44a8-09d4-4d9c-872a-268b37acae8c",
   "metadata": {},
   "outputs": [],
   "source": [
    "from sklearn.neighbors import KNeighborsClassifier"
   ]
  },
  {
   "cell_type": "code",
   "execution_count": 85,
   "id": "aeaaa0ce-5e61-4c97-ad8c-4d1be5d0fcc3",
   "metadata": {},
   "outputs": [],
   "source": [
    "#Setup arrays to store training and test accuracies\n",
    "neighbors = np.arange(1,9)\n",
    "train_accuracy =np.empty(len(neighbors))\n",
    "test_accuracy = np.empty(len(neighbors))\n",
    "\n",
    "for i,k in enumerate(neighbors):\n",
    "    #Setup a knn classifier with k neighbors\n",
    "    knn = KNeighborsClassifier(n_neighbors=k)\n",
    "    \n",
    "    #Fit the model\n",
    "    knn.fit(X_train, y_train)\n",
    "    \n",
    "    #Compute accuracy on the training set\n",
    "    train_accuracy[i] = knn.score(X_train, y_train)\n",
    "    \n",
    "    #Compute accuracy on the test set\n",
    "    test_accuracy[i] = knn.score(X_test, y_test) "
   ]
  },
  {
   "cell_type": "code",
   "execution_count": 86,
   "id": "8fe48708-73db-4152-8ef9-a6443b1905e8",
   "metadata": {},
   "outputs": [
    {
     "data": {
      "image/png": "[encoded data removed]",
      "text/plain": [
       "<Figure size 640x480 with 1 Axes>"
      ]
     },
     "metadata": {},
     "output_type": "display_data"
    }
   ],
   "source": [
    "#Generate plot\n",
    "plt.title('k-NN Varying number of neighbors')\n",
    "plt.plot(neighbors, test_accuracy, label='Testing Accuracy')\n",
    "plt.plot(neighbors, train_accuracy, label='Training accuracy')\n",
    "plt.legend()\n",
    "plt.xlabel('Number of neighbors')\n",
    "plt.ylabel('Accuracy')\n",
    "plt.show()"
   ]
  },
  {
   "cell_type": "code",
   "execution_count": 87,
   "id": "884118c0-b251-4991-b62a-14467b0ef8da",
   "metadata": {},
   "outputs": [],
   "source": [
    "#Setup a knn classifier with k neighbors\n",
    "knn = KNeighborsClassifier(n_neighbors=7)"
   ]
  },
  {
   "cell_type": "code",
   "execution_count": 88,
   "id": "78221289-2f8f-495a-8415-a78d7e43d42e",
   "metadata": {},
   "outputs": [
    {
     "data": {
      "text/html": [
       "<style>#sk-container-id-7 {color: black;background-color: white;}#sk-container-id-7 pre{padding: 0;}#sk-container-id-7 div.sk-toggleable {background-color: white;}#sk-container-id-7 label.sk-toggleable__label {cursor: pointer;display: block;width: 100%;margin-bottom: 0;padding: 0.3em;box-sizing: border-box;text-align: center;}#sk-container-id-7 label.sk-toggleable__label-arrow:before {content: \"▸\";float: left;margin-right: 0.25em;color: #696969;}#sk-container-id-7 label.sk-toggleable__label-arrow:hover:before {color: black;}#sk-container-id-7 div.sk-estimator:hover label.sk-toggleable__label-arrow:before {color: black;}#sk-container-id-7 div.sk-toggleable__content {max-height: 0;max-width: 0;overflow: hidden;text-align: left;background-color: #f0f8ff;}#sk-container-id-7 div.sk-toggleable__content pre {margin: 0.2em;color: black;border-radius: 0.25em;background-color: #f0f8ff;}#sk-container-id-7 input.sk-toggleable__control:checked~div.sk-toggleable__content {max-height: 200px;max-width: 100%;overflow: auto;}#sk-container-id-7 input.sk-toggleable__control:checked~label.sk-toggleable__label-arrow:before {content: \"▾\";}#sk-container-id-7 div.sk-estimator input.sk-toggleable__control:checked~label.sk-toggleable__label {background-color: #d4ebff;}#sk-container-id-7 div.sk-label input.sk-toggleable__control:checked~label.sk-toggleable__label {background-color: #d4ebff;}#sk-container-id-7 input.sk-hidden--visually {border: 0;clip: rect(1px 1px 1px 1px);clip: rect(1px, 1px, 1px, 1px);height: 1px;margin: -1px;overflow: hidden;padding: 0;position: absolute;width: 1px;}#sk-container-id-7 div.sk-estimator {font-family: monospace;background-color: #f0f8ff;border: 1px dotted black;border-radius: 0.25em;box-sizing: border-box;margin-bottom: 0.5em;}#sk-container-id-7 div.sk-estimator:hover {background-color: #d4ebff;}#sk-container-id-7 div.sk-parallel-item::after {content: \"\";width: 100%;border-bottom: 1px solid gray;flex-grow: 1;}#sk-container-id-7 div.sk-label:hover label.sk-toggleable__label {background-color: #d4ebff;}#sk-container-id-7 div.sk-serial::before {content: \"\";position: absolute;border-left: 1px solid gray;box-sizing: border-box;top: 0;bottom: 0;left: 50%;z-index: 0;}#sk-container-id-7 div.sk-serial {display: flex;flex-direction: column;align-items: center;background-color: white;padding-right: 0.2em;padding-left: 0.2em;position: relative;}#sk-container-id-7 div.sk-item {position: relative;z-index: 1;}#sk-container-id-7 div.sk-parallel {display: flex;align-items: stretch;justify-content: center;background-color: white;position: relative;}#sk-container-id-7 div.sk-item::before, #sk-container-id-7 div.sk-parallel-item::before {content: \"\";position: absolute;border-left: 1px solid gray;box-sizing: border-box;top: 0;bottom: 0;left: 50%;z-index: -1;}#sk-container-id-7 div.sk-parallel-item {display: flex;flex-direction: column;z-index: 1;position: relative;background-color: white;}#sk-container-id-7 div.sk-parallel-item:first-child::after {align-self: flex-end;width: 50%;}#sk-container-id-7 div.sk-parallel-item:last-child::after {align-self: flex-start;width: 50%;}#sk-container-id-7 div.sk-parallel-item:only-child::after {width: 0;}#sk-container-id-7 div.sk-dashed-wrapped {border: 1px dashed gray;margin: 0 0.4em 0.5em 0.4em;box-sizing: border-box;padding-bottom: 0.4em;background-color: white;}#sk-container-id-7 div.sk-label label {font-family: monospace;font-weight: bold;display: inline-block;line-height: 1.2em;}#sk-container-id-7 div.sk-label-container {text-align: center;}#sk-container-id-7 div.sk-container {/* jupyter's `normalize.less` sets `[hidden] { display: none; }` but bootstrap.min.css set `[hidden] { display: none !important; }` so we also need the `!important` here to be able to override the default hidden behavior on the sphinx rendered scikit-learn.org. See: https://github.com/scikit-learn/scikit-learn/issues/21755 */display: inline-block !important;position: relative;}#sk-container-id-7 div.sk-text-repr-fallback {display: none;}</style><div id=\"sk-container-id-7\" class=\"sk-top-container\"><div class=\"sk-text-repr-fallback\"><pre>KNeighborsClassifier(n_neighbors=7)</pre><b>In a Jupyter environment, please rerun this cell to show the HTML representation or trust the notebook. <br />On GitHub, the HTML representation is unable to render, please try loading this page with nbviewer.org.</b></div><div class=\"sk-container\" hidden><div class=\"sk-item\"><div class=\"sk-estimator sk-toggleable\"><input class=\"sk-toggleable__control sk-hidden--visually\" id=\"sk-estimator-id-7\" type=\"checkbox\" checked><label for=\"sk-estimator-id-7\" class=\"sk-toggleable__label sk-toggleable__label-arrow\">KNeighborsClassifier</label><div class=\"sk-toggleable__content\"><pre>KNeighborsClassifier(n_neighbors=7)</pre></div></div></div></div></div>"
      ],
      "text/plain": [
       "KNeighborsClassifier(n_neighbors=7)"
      ]
     },
     "execution_count": 88,
     "metadata": {},
     "output_type": "execute_result"
    }
   ],
   "source": [
    "#Fit the model\n",
    "knn.fit(X_train,y_train)"
   ]
  },
  {
   "cell_type": "code",
   "execution_count": 89,
   "id": "3879910d-2ee4-4115-aaf8-c9a5720a24a5",
   "metadata": {},
   "outputs": [
    {
     "name": "stdout",
     "output_type": "stream",
     "text": [
      "the train score is \n"
     ]
    },
    {
     "data": {
      "text/plain": [
       "0.6529917061611374"
      ]
     },
     "execution_count": 89,
     "metadata": {},
     "output_type": "execute_result"
    }
   ],
   "source": [
    "trainpr= knn.predict(X_train)\n",
    "errortrain = accuracy_score(y_train, trainpr)\n",
    "print(\"the train score is \" )\n",
    "errortrain"
   ]
  },
  {
   "cell_type": "code",
   "execution_count": 90,
   "id": "afb49922-afb2-4090-8e96-66bab02a9d56",
   "metadata": {},
   "outputs": [],
   "source": [
    "combine = pd.DataFrame(dict(actual=y_train, predicted=trainpr))"
   ]
  },
  {
   "cell_type": "code",
   "execution_count": 91,
   "id": "27afdd48-d78c-4665-aa5f-222ea47a0a82",
   "metadata": {},
   "outputs": [
    {
     "data": {
      "text/html": [
       "<div>\n",
       "<style scoped>\n",
       "    .dataframe tbody tr th:only-of-type {\n",
       "        vertical-align: middle;\n",
       "    }\n",
       "\n",
       "    .dataframe tbody tr th {\n",
       "        vertical-align: top;\n",
       "    }\n",
       "\n",
       "    .dataframe thead th {\n",
       "        text-align: right;\n",
       "    }\n",
       "</style>\n",
       "<table border=\"1\" class=\"dataframe\">\n",
       "  <thead>\n",
       "    <tr style=\"text-align: right;\">\n",
       "      <th>predicted</th>\n",
       "      <th>0</th>\n",
       "      <th>1</th>\n",
       "      <th>3</th>\n",
       "    </tr>\n",
       "    <tr>\n",
       "      <th>actual</th>\n",
       "      <th></th>\n",
       "      <th></th>\n",
       "      <th></th>\n",
       "    </tr>\n",
       "  </thead>\n",
       "  <tbody>\n",
       "    <tr>\n",
       "      <th>0</th>\n",
       "      <td>1300</td>\n",
       "      <td>251</td>\n",
       "      <td>403</td>\n",
       "    </tr>\n",
       "    <tr>\n",
       "      <th>1</th>\n",
       "      <td>413</td>\n",
       "      <td>613</td>\n",
       "      <td>548</td>\n",
       "    </tr>\n",
       "    <tr>\n",
       "      <th>3</th>\n",
       "      <td>393</td>\n",
       "      <td>335</td>\n",
       "      <td>2496</td>\n",
       "    </tr>\n",
       "  </tbody>\n",
       "</table>\n",
       "</div>"
      ],
      "text/plain": [
       "predicted     0    1     3\n",
       "actual                    \n",
       "0          1300  251   403\n",
       "1           413  613   548\n",
       "3           393  335  2496"
      ]
     },
     "execution_count": 91,
     "metadata": {},
     "output_type": "execute_result"
    }
   ],
   "source": [
    "pd.crosstab(index=combine[\"actual\"], columns=combine[\"predicted\"])"
   ]
  },
  {
   "cell_type": "code",
   "execution_count": 92,
   "id": "de18b3a6-5698-426d-a2e9-4febae06c861",
   "metadata": {},
   "outputs": [
    {
     "name": "stdout",
     "output_type": "stream",
     "text": [
      "              precision    recall  f1-score   support\n",
      "\n",
      "           0       0.62      0.67      0.64      1954\n",
      "           1       0.51      0.39      0.44      1574\n",
      "           3       0.72      0.77      0.75      3224\n",
      "\n",
      "    accuracy                           0.65      6752\n",
      "   macro avg       0.62      0.61      0.61      6752\n",
      "weighted avg       0.64      0.65      0.65      6752\n",
      "\n"
     ]
    }
   ],
   "source": [
    "\n",
    "print(classification_report(y_train, trainpr))"
   ]
  },
  {
   "cell_type": "code",
   "execution_count": 93,
   "id": "f31c092d-b283-4e18-9c29-e1a9db6d0281",
   "metadata": {},
   "outputs": [
    {
     "data": {
      "image/png": "[encoded data removed]",
      "text/plain": [
       "<Figure size 1000x1000 with 2 Axes>"
      ]
     },
     "metadata": {},
     "output_type": "display_data"
    }
   ],
   "source": [
    "\n",
    "\n",
    "display = ConfusionMatrixDisplay(confusion_matrix = confusion_matrix(y_train, trainpr))\n",
    "fig, ax = plt.subplots(figsize=(10,10))\n",
    "display.plot(ax=ax)\n",
    "\n",
    "plt.show()"
   ]
  },
  {
   "cell_type": "markdown",
   "id": "198ea4da-c4da-4164-91ea-06e4006d3e59",
   "metadata": {},
   "source": [
    "## test evaluation "
   ]
  },
  {
   "cell_type": "code",
   "execution_count": 94,
   "id": "f7ba0c64-ab4e-4d0a-be7c-cca1a5037afc",
   "metadata": {},
   "outputs": [
    {
     "data": {
      "text/html": [
       "<style>#sk-container-id-8 {color: black;background-color: white;}#sk-container-id-8 pre{padding: 0;}#sk-container-id-8 div.sk-toggleable {background-color: white;}#sk-container-id-8 label.sk-toggleable__label {cursor: pointer;display: block;width: 100%;margin-bottom: 0;padding: 0.3em;box-sizing: border-box;text-align: center;}#sk-container-id-8 label.sk-toggleable__label-arrow:before {content: \"▸\";float: left;margin-right: 0.25em;color: #696969;}#sk-container-id-8 label.sk-toggleable__label-arrow:hover:before {color: black;}#sk-container-id-8 div.sk-estimator:hover label.sk-toggleable__label-arrow:before {color: black;}#sk-container-id-8 div.sk-toggleable__content {max-height: 0;max-width: 0;overflow: hidden;text-align: left;background-color: #f0f8ff;}#sk-container-id-8 div.sk-toggleable__content pre {margin: 0.2em;color: black;border-radius: 0.25em;background-color: #f0f8ff;}#sk-container-id-8 input.sk-toggleable__control:checked~div.sk-toggleable__content {max-height: 200px;max-width: 100%;overflow: auto;}#sk-container-id-8 input.sk-toggleable__control:checked~label.sk-toggleable__label-arrow:before {content: \"▾\";}#sk-container-id-8 div.sk-estimator input.sk-toggleable__control:checked~label.sk-toggleable__label {background-color: #d4ebff;}#sk-container-id-8 div.sk-label input.sk-toggleable__control:checked~label.sk-toggleable__label {background-color: #d4ebff;}#sk-container-id-8 input.sk-hidden--visually {border: 0;clip: rect(1px 1px 1px 1px);clip: rect(1px, 1px, 1px, 1px);height: 1px;margin: -1px;overflow: hidden;padding: 0;position: absolute;width: 1px;}#sk-container-id-8 div.sk-estimator {font-family: monospace;background-color: #f0f8ff;border: 1px dotted black;border-radius: 0.25em;box-sizing: border-box;margin-bottom: 0.5em;}#sk-container-id-8 div.sk-estimator:hover {background-color: #d4ebff;}#sk-container-id-8 div.sk-parallel-item::after {content: \"\";width: 100%;border-bottom: 1px solid gray;flex-grow: 1;}#sk-container-id-8 div.sk-label:hover label.sk-toggleable__label {background-color: #d4ebff;}#sk-container-id-8 div.sk-serial::before {content: \"\";position: absolute;border-left: 1px solid gray;box-sizing: border-box;top: 0;bottom: 0;left: 50%;z-index: 0;}#sk-container-id-8 div.sk-serial {display: flex;flex-direction: column;align-items: center;background-color: white;padding-right: 0.2em;padding-left: 0.2em;position: relative;}#sk-container-id-8 div.sk-item {position: relative;z-index: 1;}#sk-container-id-8 div.sk-parallel {display: flex;align-items: stretch;justify-content: center;background-color: white;position: relative;}#sk-container-id-8 div.sk-item::before, #sk-container-id-8 div.sk-parallel-item::before {content: \"\";position: absolute;border-left: 1px solid gray;box-sizing: border-box;top: 0;bottom: 0;left: 50%;z-index: -1;}#sk-container-id-8 div.sk-parallel-item {display: flex;flex-direction: column;z-index: 1;position: relative;background-color: white;}#sk-container-id-8 div.sk-parallel-item:first-child::after {align-self: flex-end;width: 50%;}#sk-container-id-8 div.sk-parallel-item:last-child::after {align-self: flex-start;width: 50%;}#sk-container-id-8 div.sk-parallel-item:only-child::after {width: 0;}#sk-container-id-8 div.sk-dashed-wrapped {border: 1px dashed gray;margin: 0 0.4em 0.5em 0.4em;box-sizing: border-box;padding-bottom: 0.4em;background-color: white;}#sk-container-id-8 div.sk-label label {font-family: monospace;font-weight: bold;display: inline-block;line-height: 1.2em;}#sk-container-id-8 div.sk-label-container {text-align: center;}#sk-container-id-8 div.sk-container {/* jupyter's `normalize.less` sets `[hidden] { display: none; }` but bootstrap.min.css set `[hidden] { display: none !important; }` so we also need the `!important` here to be able to override the default hidden behavior on the sphinx rendered scikit-learn.org. See: https://github.com/scikit-learn/scikit-learn/issues/21755 */display: inline-block !important;position: relative;}#sk-container-id-8 div.sk-text-repr-fallback {display: none;}</style><div id=\"sk-container-id-8\" class=\"sk-top-container\"><div class=\"sk-text-repr-fallback\"><pre>KNeighborsClassifier(n_neighbors=7)</pre><b>In a Jupyter environment, please rerun this cell to show the HTML representation or trust the notebook. <br />On GitHub, the HTML representation is unable to render, please try loading this page with nbviewer.org.</b></div><div class=\"sk-container\" hidden><div class=\"sk-item\"><div class=\"sk-estimator sk-toggleable\"><input class=\"sk-toggleable__control sk-hidden--visually\" id=\"sk-estimator-id-8\" type=\"checkbox\" checked><label for=\"sk-estimator-id-8\" class=\"sk-toggleable__label sk-toggleable__label-arrow\">KNeighborsClassifier</label><div class=\"sk-toggleable__content\"><pre>KNeighborsClassifier(n_neighbors=7)</pre></div></div></div></div></div>"
      ],
      "text/plain": [
       "KNeighborsClassifier(n_neighbors=7)"
      ]
     },
     "execution_count": 94,
     "metadata": {},
     "output_type": "execute_result"
    }
   ],
   "source": [
    "#Fit the model\n",
    "knn.fit(X_test,y_test)"
   ]
  },
  {
   "cell_type": "code",
   "execution_count": 95,
   "id": "07c37981-b55f-46ba-b6d0-8c4f9118df09",
   "metadata": {},
   "outputs": [
    {
     "name": "stdout",
     "output_type": "stream",
     "text": [
      "the test score is \n"
     ]
    },
    {
     "data": {
      "text/plain": [
       "0.6557426337943476"
      ]
     },
     "execution_count": 95,
     "metadata": {},
     "output_type": "execute_result"
    }
   ],
   "source": [
    "testpr= knn.predict(X_test)\n",
    "errortest = accuracy_score(y_test, testpr)\n",
    "print(\"the test score is \" )\n",
    "errortest"
   ]
  },
  {
   "cell_type": "code",
   "execution_count": 96,
   "id": "6fbe4390-d56b-4588-a35c-eb07ad734cb7",
   "metadata": {},
   "outputs": [
    {
     "data": {
      "text/html": [
       "<div>\n",
       "<style scoped>\n",
       "    .dataframe tbody tr th:only-of-type {\n",
       "        vertical-align: middle;\n",
       "    }\n",
       "\n",
       "    .dataframe tbody tr th {\n",
       "        vertical-align: top;\n",
       "    }\n",
       "\n",
       "    .dataframe thead th {\n",
       "        text-align: right;\n",
       "    }\n",
       "</style>\n",
       "<table border=\"1\" class=\"dataframe\">\n",
       "  <thead>\n",
       "    <tr style=\"text-align: right;\">\n",
       "      <th>predicted</th>\n",
       "      <th>0</th>\n",
       "      <th>1</th>\n",
       "      <th>3</th>\n",
       "    </tr>\n",
       "    <tr>\n",
       "      <th>actual</th>\n",
       "      <th></th>\n",
       "      <th></th>\n",
       "      <th></th>\n",
       "    </tr>\n",
       "  </thead>\n",
       "  <tbody>\n",
       "    <tr>\n",
       "      <th>0</th>\n",
       "      <td>660</td>\n",
       "      <td>86</td>\n",
       "      <td>216</td>\n",
       "    </tr>\n",
       "    <tr>\n",
       "      <th>1</th>\n",
       "      <td>238</td>\n",
       "      <td>258</td>\n",
       "      <td>279</td>\n",
       "    </tr>\n",
       "    <tr>\n",
       "      <th>3</th>\n",
       "      <td>184</td>\n",
       "      <td>142</td>\n",
       "      <td>1263</td>\n",
       "    </tr>\n",
       "  </tbody>\n",
       "</table>\n",
       "</div>"
      ],
      "text/plain": [
       "predicted    0    1     3\n",
       "actual                   \n",
       "0          660   86   216\n",
       "1          238  258   279\n",
       "3          184  142  1263"
      ]
     },
     "execution_count": 96,
     "metadata": {},
     "output_type": "execute_result"
    }
   ],
   "source": [
    "combine = pd.DataFrame(dict(actual=y_test, predicted=testpr))\n",
    "pd.crosstab(index=combine[\"actual\"], columns=combine[\"predicted\"])"
   ]
  },
  {
   "cell_type": "code",
   "execution_count": 97,
   "id": "8d3f978c-451c-480e-bdf9-639eecc53976",
   "metadata": {},
   "outputs": [
    {
     "name": "stdout",
     "output_type": "stream",
     "text": [
      "              precision    recall  f1-score   support\n",
      "\n",
      "           0       0.61      0.69      0.65       962\n",
      "           1       0.53      0.33      0.41       775\n",
      "           3       0.72      0.79      0.75      1589\n",
      "\n",
      "    accuracy                           0.66      3326\n",
      "   macro avg       0.62      0.60      0.60      3326\n",
      "weighted avg       0.64      0.66      0.64      3326\n",
      "\n"
     ]
    }
   ],
   "source": [
    "\n",
    "print(classification_report(y_test, testpr))"
   ]
  },
  {
   "cell_type": "code",
   "execution_count": 98,
   "id": "2cce0673-25b0-4bd2-88c5-253c1febed8b",
   "metadata": {},
   "outputs": [
    {
     "data": {
      "image/png": "[encoded data removed]",
      "text/plain": [
       "<Figure size 1000x1000 with 2 Axes>"
      ]
     },
     "metadata": {},
     "output_type": "display_data"
    }
   ],
   "source": [
    "\n",
    "display = ConfusionMatrixDisplay(confusion_matrix = confusion_matrix(y_test, testpr))\n",
    "fig, ax = plt.subplots(figsize=(10,10))\n",
    "display.plot(ax=ax)\n",
    "\n",
    "plt.show()"
   ]
  },
  {
   "cell_type": "markdown",
   "id": "fdf40673-cd95-45cb-b701-23924d39a8f4",
   "metadata": {},
   "source": [
    "### Result KNNClassifier \n",
    "* Accuracy on train is at 66% and 65% on test, still no overfitting\n",
    "* Overall recall and precision are better than SGD\n",
    "* Better result than SGDClassifier "
   ]
  },
  {
   "cell_type": "code",
   "execution_count": 99,
   "id": "430d2092-81ea-43a4-b671-268ce7fd5dbb",
   "metadata": {},
   "outputs": [],
   "source": [
    "import pickle \n",
    "filename = 'finalized_model.pkl'\n",
    "pickle.dump(knn, open(filename, 'wb'))"
   ]
  },
  {
   "cell_type": "markdown",
   "id": "091ff47b-997b-4161-96e9-d354883261c5",
   "metadata": {},
   "source": [
    "# Random classifier \n",
    "* Open DF with countries not encoded "
   ]
  },
  {
   "cell_type": "code",
   "execution_count": null,
   "id": "2192771c-f10c-4512-b5e7-7a670738f65a",
   "metadata": {},
   "outputs": [],
   "source": [
    "df = pd.read_csv('df_for_ML.csv', index_col='date')\n",
    "df.head()"
   ]
  },
  {
   "cell_type": "code",
   "execution_count": null,
   "id": "8f5679c6-2d92-48df-8286-60f16fce9635",
   "metadata": {},
   "outputs": [],
   "source": [
    "X = df.drop(['result'], axis=1)\n",
    "y = df['result']"
   ]
  },
  {
   "cell_type": "code",
   "execution_count": null,
   "id": "47dc0aef-cf39-468b-ad86-f41e6b91795e",
   "metadata": {},
   "outputs": [],
   "source": [
    "from sklearn.ensemble import RandomForestClassifier"
   ]
  },
  {
   "cell_type": "code",
   "execution_count": null,
   "id": "0d4e72a2-962f-456c-b1db-fd57ab2587d2",
   "metadata": {},
   "outputs": [],
   "source": [
    "rf = RandomForestClassifier(n_estimators=400, min_samples_split=10, random_state=1, max_features='sqrt')"
   ]
  },
  {
   "cell_type": "code",
   "execution_count": null,
   "id": "f151bdb8-a835-49c9-9946-472c07cdfe86",
   "metadata": {},
   "outputs": [],
   "source": [
    "X_train, X_test, y_train, y_test = train_test_split(X, y, test_size=0.33, random_state=1 , stratify=y) #, stratify=y)"
   ]
  },
  {
   "cell_type": "code",
   "execution_count": null,
   "id": "ef2ae7f9-28ec-4b05-a9a2-4513de503738",
   "metadata": {},
   "outputs": [],
   "source": [
    "rf.fit(X_train, y_train)"
   ]
  },
  {
   "cell_type": "code",
   "execution_count": null,
   "id": "513591d8-02b6-4e47-b05f-27b544a9b58f",
   "metadata": {},
   "outputs": [],
   "source": [
    "trainpreds= rf.predict(X_train)\n",
    "errortrain = accuracy_score(y_train, trainpreds)\n",
    "print(\"the train score is \" )\n",
    "errortrain"
   ]
  },
  {
   "cell_type": "code",
   "execution_count": null,
   "id": "15e2cd1b-1c9c-43ef-b7fc-06347256b033",
   "metadata": {},
   "outputs": [],
   "source": [
    "combine = pd.DataFrame(dict(actual=y_train, predicted=trainpreds))"
   ]
  },
  {
   "cell_type": "code",
   "execution_count": null,
   "id": "cd5994af-2e40-4a49-91b3-661759cd68b8",
   "metadata": {},
   "outputs": [],
   "source": [
    "pd.crosstab(index=combine[\"actual\"], columns=combine[\"predicted\"])"
   ]
  },
  {
   "cell_type": "code",
   "execution_count": null,
   "id": "1a84b259-1377-4b2f-8d52-12d52f66f79a",
   "metadata": {},
   "outputs": [],
   "source": [
    "\n",
    "print(classification_report(y_train, trainpreds))"
   ]
  },
  {
   "cell_type": "markdown",
   "id": "88a4094a-a35d-4ed3-8734-b158b308b8dc",
   "metadata": {},
   "source": [
    "### Test \n",
    "* predict / accuracy / confusion matrix "
   ]
  },
  {
   "cell_type": "code",
   "execution_count": null,
   "id": "a532f4ba-5c4c-4ad3-9665-07d8ad76e10b",
   "metadata": {},
   "outputs": [],
   "source": [
    "preds = rf.predict(X_test)"
   ]
  },
  {
   "cell_type": "code",
   "execution_count": null,
   "id": "66923d1f-0625-4077-bd3a-3b5f9f9df8b7",
   "metadata": {},
   "outputs": [],
   "source": [
    "error = accuracy_score(y_test, preds)\n",
    "print(\"the test score is \" )\n",
    "error"
   ]
  },
  {
   "cell_type": "code",
   "execution_count": null,
   "id": "4453f288-a6ec-40d9-975a-09f7ea69bec5",
   "metadata": {},
   "outputs": [],
   "source": [
    "combined = pd.DataFrame(dict(actual=y_test, predicted=preds))"
   ]
  },
  {
   "cell_type": "code",
   "execution_count": null,
   "id": "351c354d-2f90-4d0c-b563-13edf20899c4",
   "metadata": {},
   "outputs": [],
   "source": [
    "pd.crosstab(index=combined[\"actual\"], columns=combined[\"predicted\"])"
   ]
  },
  {
   "cell_type": "code",
   "execution_count": null,
   "id": "ae6cef0d-b672-44e5-ba1e-83433a42838e",
   "metadata": {},
   "outputs": [],
   "source": [
    "from sklearn.metrics import classification_report\n",
    "\n",
    "print(classification_report(y_test, preds))"
   ]
  },
  {
   "cell_type": "markdown",
   "id": "93f0280c-c6ea-4aa5-afcb-879323574ba6",
   "metadata": {},
   "source": [
    "### Result for Random Classifier \n",
    "* Accuracy on train is at 93% and test 65% (It seems to overfit very well :c )"
   ]
  },
  {
   "cell_type": "markdown",
   "id": "0bd08301-7f1d-41a5-9164-411978d51adc",
   "metadata": {
    "tags": []
   },
   "source": [
    "## New predictions"
   ]
  },
  {
   "cell_type": "code",
   "execution_count": null,
   "id": "aa183fa3-0f75-4fb3-9e76-20c9842720a4",
   "metadata": {},
   "outputs": [],
   "source": [
    "\n",
    "df.loc[(df['away_team'] == 52 )].tail()"
   ]
  },
  {
   "cell_type": "code",
   "execution_count": null,
   "id": "188e1aa2-7658-4248-a4ed-66f0aded2245",
   "metadata": {},
   "outputs": [],
   "source": [
    "# New prediction knn\n",
    "\n",
    "# Now predict Qatar/Ecuator\n",
    "other_data = [[142,52,50,44, 6, 73.93,71, 73.93, 73.93,73.93, 73.5 ,76, 74.5]]\n",
    "other_data_normalized = Scaller.fit_transform(other_data)\n",
    "result = knn.predict(other_data_normalized)\n",
    "print(\"Le résultat de la prédiction pour léquipe qui recoit est\") , result"
   ]
  },
  {
   "cell_type": "code",
   "execution_count": null,
   "id": "f8973996-d061-4e38-86b5-7530841e5a1e",
   "metadata": {},
   "outputs": [],
   "source": [
    "# New prediction knn\n",
    "\n",
    "# Now predict England/Iran \n",
    "\n",
    "other_data = [[55,81,5,20, 6, 83,73 , 85, 88,84, 69 ,75.3, 69]]\n",
    "other_data_normalized = Scaller.fit_transform(other_data)\n",
    "result = grid.predict(other_data_normalized)\n",
    "print(\"Le résultat de la prédiction pour léquipe qui recoit est\") , result"
   ]
  },
  {
   "cell_type": "code",
   "execution_count": null,
   "id": "b8121756-5ae6-4b72-9919-3c5749a5743c",
   "metadata": {},
   "outputs": [],
   "source": []
  },
  {
   "cell_type": "markdown",
   "id": "067c8c75-f9f1-4324-9c06-7e02debf449d",
   "metadata": {
    "jp-MarkdownHeadingCollapsed": true,
    "tags": []
   },
   "source": [
    "# Keras classification"
   ]
  },
  {
   "cell_type": "code",
   "execution_count": null,
   "id": "3aa61652-8db9-4152-a40c-665dc2fa11ea",
   "metadata": {},
   "outputs": [],
   "source": [
    "import tensorflow as tf"
   ]
  },
  {
   "cell_type": "code",
   "execution_count": null,
   "id": "2753e6d5-a439-4790-8d02-325341c5ecd5",
   "metadata": {},
   "outputs": [],
   "source": [
    "X_train.shape, y_train.shape"
   ]
  },
  {
   "cell_type": "code",
   "execution_count": null,
   "id": "491b3bf2-a17d-4517-8867-56fa95461ecd",
   "metadata": {},
   "outputs": [],
   "source": [
    "N, D = X_train.shape # number of observation and variables"
   ]
  },
  {
   "cell_type": "code",
   "execution_count": null,
   "id": "6369b050-65b7-4d80-a8cf-ebb74aa00db1",
   "metadata": {},
   "outputs": [],
   "source": [
    "# Configuration options\n",
    "training_split = 1000\n",
    "num_classes = 3\n",
    "loss_function_used = 'categorical_hinge'\n",
    "learning_rate_used = 0.03\n",
    "additional_metrics = ['accuracy']\n",
    "num_epochs = 20\n",
    "batch_size = 5 # X_train.shape[0] \n",
    "validation_split = 0.2 # 20%"
   ]
  },
  {
   "cell_type": "code",
   "execution_count": null,
   "id": "e57e9f50-5a26-4696-b5ad-cc5b154de7d5",
   "metadata": {},
   "outputs": [],
   "source": [
    "# Create the model\n",
    "model = Sequential()\n",
    "model.add(Dense(32, input_shape=(D,), activation='tanh', kernel_initializer='he_uniform'))\n",
    "model.add(Dense(16, activation='tanh', kernel_initializer='he_uniform'))\n",
    "model.add(Dense(8, activation='tanh', kernel_initializer='he_uniform'))\n",
    "model.add(Dense(3, activation='relu'))"
   ]
  },
  {
   "cell_type": "code",
   "execution_count": null,
   "id": "b14444fd-b099-4494-9532-94a25854374c",
   "metadata": {},
   "outputs": [],
   "source": [
    "# Configure the model and start training\n",
    "model.compile(loss=loss_function_used, optimizer='adam', metrics=additional_metrics)\n",
    "history = model.fit(X_train, y_train, epochs=num_epochs, batch_size=batch_size, verbose=1, validation_split=validation_split)"
   ]
  },
  {
   "cell_type": "code",
   "execution_count": null,
   "id": "d6ac5df1-8ef5-4708-87e9-5a847e63b95f",
   "metadata": {},
   "outputs": [],
   "source": [
    "# testing the model with using evaluate method\n",
    "test_result = model.evaluate(X_test, y_test)\n",
    "for i in range(len(test_result)):\n",
    "    print(f'{model.metrics_names[i]} ---> {test_result[i]}')"
   ]
  },
  {
   "cell_type": "code",
   "execution_count": null,
   "id": "f6f1fbbe-39b9-4791-9396-f91c49ef0469",
   "metadata": {},
   "outputs": [],
   "source": [
    "import matplotlib.pyplot as plt\n",
    "\n",
    "# summarize history for accuracy\n",
    "plt.plot(history.history['accuracy'])\n",
    "plt.plot(history.history['val_accuracy'])\n",
    "plt.title('model accuracy')\n",
    "plt.ylabel('accuracy')\n",
    "plt.xlabel('epoch')\n",
    "plt.legend(['train', 'test'], loc='upper left')\n",
    "plt.show()"
   ]
  },
  {
   "cell_type": "code",
   "execution_count": null,
   "id": "252952b2-42a4-469c-9547-76cd9996a888",
   "metadata": {},
   "outputs": [],
   "source": [
    "# summarize history for loss\n",
    "plt.plot(history.history['loss'])\n",
    "plt.plot(history.history['val_loss'])\n",
    "plt.title('model loss')\n",
    "plt.ylabel('loss')\n",
    "plt.xlabel('epoch')\n",
    "plt.legend(['train', 'test'], loc='upper left')\n",
    "plt.show()"
   ]
  },
  {
   "cell_type": "code",
   "execution_count": null,
   "id": "3a37144a-6b05-428f-9f13-feedba68cf62",
   "metadata": {},
   "outputs": [],
   "source": [
    "\n",
    "# Visualize training process\n",
    "plt.plot(history.history['loss'], label='Categorical Hinge loss (training data)')\n",
    "plt.plot(history.history['val_loss'], label='Categorical Hinge loss (validation data)')\n",
    "plt.title('Categorical Hinge loss for circles')\n",
    "plt.ylabel('Categorical Hinge loss value')\n",
    "plt.yscale('log')\n",
    "plt.xlabel('No. epoch')\n",
    "plt.legend(loc=\"upper left\")\n",
    "plt.show()"
   ]
  },
  {
   "cell_type": "code",
   "execution_count": null,
   "id": "9a21f9c5-9896-414c-ac07-d226ccd80e3f",
   "metadata": {},
   "outputs": [],
   "source": [
    "df_temp = pd.DataFrame({'Actual': y_train, 'Predicted': y_pred})\n",
    "df_temp.head()"
   ]
  },
  {
   "cell_type": "markdown",
   "id": "4abaae43-081a-404c-aa8c-edb0ae3f67ad",
   "metadata": {},
   "source": [
    "# MLP Classifier"
   ]
  },
  {
   "cell_type": "code",
   "execution_count": null,
   "id": "d270555d-2424-49b0-94be-24f1c7af82ce",
   "metadata": {},
   "outputs": [],
   "source": [
    "from sklearn.neural_network import MLPClassifier "
   ]
  },
  {
   "cell_type": "code",
   "execution_count": null,
   "id": "d7367164-7d59-4a88-8eee-3bce4524cdb0",
   "metadata": {},
   "outputs": [],
   "source": [
    "mlp_reg = MLPClassifier(hidden_layer_sizes=(150,100,50), alpha = 0.05, \n",
    "                       max_iter = 50,activation = 'relu', learning_rate = 'constant', \n",
    "                       solver = 'adam' , early_stopping=True)\n",
    "\n",
    "mlp_reg.fit(X_train, y_train)\n"
   ]
  },
  {
   "cell_type": "code",
   "execution_count": null,
   "id": "5fa4c55a-eac0-4aea-96c8-54086e8173f2",
   "metadata": {},
   "outputs": [],
   "source": [
    "trainpreds= mlp_reg.predict(X_train).round()\n",
    "errortrain = accuracy_score(y_train, trainpreds)\n",
    "print(\"the train score is \" )\n",
    "errortrain"
   ]
  },
  {
   "cell_type": "code",
   "execution_count": null,
   "id": "754d65f3-6ae9-4a07-828b-5fbdd543f3ca",
   "metadata": {},
   "outputs": [],
   "source": [
    "print(classification_report(y_train, trainpreds))"
   ]
  },
  {
   "cell_type": "code",
   "execution_count": null,
   "id": "06146e79-b7d0-474d-b6cb-d5d99fd3844a",
   "metadata": {},
   "outputs": [],
   "source": [
    "df_temp = df_temp.head(10)\n",
    "df_temp.plot(kind='bar',figsize=(10,6))\n",
    "plt.grid(which='major', linestyle='-', linewidth='0.5', color='green')\n",
    "plt.grid(which='minor', linestyle=':', linewidth='0.5', color='black')\n",
    "plt.show()"
   ]
  },
  {
   "cell_type": "code",
   "execution_count": null,
   "id": "cae3624f-a67f-41c7-bcda-ae5bb76fb2b5",
   "metadata": {},
   "outputs": [],
   "source": [
    "param_grid = {\n",
    "    'hidden_layer_sizes': [(150,100,50), (120,80,40), (100,50,30)],\n",
    "    'max_iter': [50, 500],\n",
    "    'activation': ['tanh', 'relu'],\n",
    "    'solver': ['sgd', 'adam'],\n",
    "    'alpha': [0.0001, 0.05],\n",
    "    'learning_rate': ['constant','adaptive'],\n",
    "}"
   ]
  },
  {
   "cell_type": "code",
   "execution_count": null,
   "id": "cc921fcb-aea2-41f2-8c93-7cca819a55a6",
   "metadata": {},
   "outputs": [],
   "source": [
    "grid = GridSearchCV(mlp_reg, param_grid, n_jobs= -1, cv=5)\n",
    "grid.fit(X_train, y_train)\n",
    "\n",
    "print(grid.best_params_) "
   ]
  },
  {
   "cell_type": "markdown",
   "id": "68ffdb2c-d5ae-44df-8565-bd0e65c2a871",
   "metadata": {},
   "source": [
    "## Test "
   ]
  },
  {
   "cell_type": "code",
   "execution_count": null,
   "id": "1355ff2a-5e24-49ae-b8fc-3b1279b3ee6a",
   "metadata": {},
   "outputs": [],
   "source": [
    "y_pred = mlp_reg.predict(X_test).round()"
   ]
  },
  {
   "cell_type": "code",
   "execution_count": null,
   "id": "1378f1b1-9ab0-4b3d-a112-d8b71b85495b",
   "metadata": {},
   "outputs": [],
   "source": [
    "df_temp = pd.DataFrame({'Actual': y_test, 'Predicted': y_pred})\n",
    "df_temp.head(1)"
   ]
  },
  {
   "cell_type": "code",
   "execution_count": null,
   "id": "d90d85bb-088a-4958-b3ff-5eadefd007bc",
   "metadata": {},
   "outputs": [],
   "source": [
    "testpreds= mlp_reg.predict(X_test).round()\n",
    "errortest = accuracy_score(y_test, testpreds)\n",
    "print(\"the test score is \" )\n",
    "errortest"
   ]
  },
  {
   "cell_type": "code",
   "execution_count": null,
   "id": "6ec840e2-4ca5-446f-b553-e8944ac1ffbb",
   "metadata": {},
   "outputs": [],
   "source": [
    "print(classification_report(y_test, testpreds))"
   ]
  },
  {
   "cell_type": "code",
   "execution_count": null,
   "id": "98d3695d-6a29-45fc-b837-a4b3b9f47208",
   "metadata": {},
   "outputs": [],
   "source": []
  },
  {
   "cell_type": "markdown",
   "id": "018278f0-b81a-4a6e-9fc4-d8590e81dd9e",
   "metadata": {},
   "source": [
    "# Model choosen will be the KNN Classifier with 66% accuracy on train and 65% on test\n"
   ]
  },
  {
   "cell_type": "markdown",
   "id": "9cfcff1e-c584-4276-bdca-0b7ee6ada883",
   "metadata": {
    "jp-MarkdownHeadingCollapsed": true,
    "tags": []
   },
   "source": [
    "# New search with rolling method on the variables \"work in process\""
   ]
  },
  {
   "cell_type": "code",
   "execution_count": null,
   "id": "47505916-a6bf-4444-8c51-401ae2b794a1",
   "metadata": {},
   "outputs": [],
   "source": [
    "df = pd.read_csv('df_for_ML_countries_not_numeric.csv')\n",
    "df.head()"
   ]
  },
  {
   "cell_type": "code",
   "execution_count": null,
   "id": "6e96f8d1-b2ff-4329-b21d-15a531b593c7",
   "metadata": {},
   "outputs": [],
   "source": [
    "grouped_matches = df.groupby(\"home_team\")"
   ]
  },
  {
   "cell_type": "code",
   "execution_count": null,
   "id": "e91e5e80-af4b-4585-ab57-d5acb1187a3a",
   "metadata": {},
   "outputs": [],
   "source": [
    "group = grouped_matches.get_group(\"France\").sort_values(\"date\")"
   ]
  },
  {
   "cell_type": "code",
   "execution_count": null,
   "id": "45e3981d-2d39-4e8c-9884-ba918d3faa03",
   "metadata": {},
   "outputs": [],
   "source": [
    "def rolling_averages(group, cols, new_cols):\n",
    "    group = group.sort_values(\"date\")\n",
    "    rolling_stats = group[cols].rolling(3, closed='left').mean()\n",
    "    group[new_cols] = rolling_stats\n",
    "    group = group.dropna(subset=new_cols)\n",
    "    return group"
   ]
  },
  {
   "cell_type": "code",
   "execution_count": null,
   "id": "5cf3b848-af68-466f-9122-262d05d2818b",
   "metadata": {},
   "outputs": [],
   "source": [
    "cols = ['home_team_score', 'away_team_score',\n",
    "       'tournament', 'shoot_out', 'home_team_goalkeeper_score',\n",
    "       'away_team_goalkeeper_score', 'home_team_mean_offense_score',\n",
    "       'home_team_mean_midfield_score', 'away_team_mean_defense_score',\n",
    "       'away_team_mean_offense_score', 'away_team_mean_midfield_score']\n",
    "new_cols = [f\"{c}_rolling\" for c in cols]\n",
    "\n",
    "rolling_averages(group, cols, new_cols)"
   ]
  },
  {
   "cell_type": "code",
   "execution_count": null,
   "id": "d8643a4d-3424-4da3-9c5a-445e367e5a9e",
   "metadata": {},
   "outputs": [],
   "source": [
    "matches_rolling = df.groupby(\"home_team\").apply(lambda x: rolling_averages(x, cols, new_cols))"
   ]
  },
  {
   "cell_type": "code",
   "execution_count": null,
   "id": "b5379df3-a481-4bd0-827b-ba463a560dc1",
   "metadata": {},
   "outputs": [],
   "source": [
    "matches_rolling = matches_rolling.droplevel('home_team')\n"
   ]
  },
  {
   "cell_type": "code",
   "execution_count": null,
   "id": "99cc770f-9264-469e-a78c-ea60b40d2744",
   "metadata": {},
   "outputs": [],
   "source": [
    "matches_rolling.index = range(matches_rolling.shape[0])"
   ]
  },
  {
   "cell_type": "code",
   "execution_count": null,
   "id": "a425ca02-4db9-4caf-9fb2-bd6eaf6205ed",
   "metadata": {},
   "outputs": [],
   "source": [
    "matches_rolling.loc[(matches_rolling['home_team'] == 'Qatar' )]"
   ]
  },
  {
   "cell_type": "code",
   "execution_count": null,
   "id": "4b9c89e9-1f3c-4824-b426-ab4dd88dcce5",
   "metadata": {},
   "outputs": [],
   "source": [
    "def make_predictions(data, predictors):\n",
    "    train = data[data.index < '2022-10-01']\n",
    "    test = data[data.index < '2022-10-01']\n",
    "    rf.fit(train[predictors], train[\"result\"])\n",
    "    preds = rf.predict(test[predictors])\n",
    "    combined = pd.DataFrame(dict(actual=test[\"result\"], predicted=preds), index=test.index)\n",
    "    error = precision_score(test[\"result\"], preds)\n",
    "    return combined, error"
   ]
  },
  {
   "cell_type": "code",
   "execution_count": null,
   "id": "c7542a96-f7d1-4719-8496-05051480902a",
   "metadata": {},
   "outputs": [],
   "source": [
    "combined, error = make_predictions(matches_rolling, predictors + new_cols)"
   ]
  },
  {
   "cell_type": "code",
   "execution_count": null,
   "id": "cfc82f34-8177-4220-ba7c-7d46abd8520e",
   "metadata": {},
   "outputs": [],
   "source": []
  },
  {
   "cell_type": "code",
   "execution_count": null,
   "id": "f1a0ac4e-5ddc-4318-9e9d-5e97d439f597",
   "metadata": {},
   "outputs": [],
   "source": [
    "from sklearn.ensemble import RandomForestClassifier\n",
    "from sklearn.tree import DecisionTreeClassifier\n",
    "from sklearn.naive_bayes import GaussianNB\n",
    "from sklearn.linear_model import LogisticRegression\n",
    "from sklearn.svm import SVC\n",
    "import pandas as pd\n",
    "import numpy as np\n",
    "from sklearn.model_selection import train_test_split\n",
    "from sklearn.preprocessing import LabelEncoder\n",
    "from time import time\n",
    "from sklearn.metrics import f1_score\n",
    "from os import path, makedirs, walk\n",
    "from joblib import dump, load\n",
    "import json\n",
    "\n",
    "# Utility Functions\n",
    "\n",
    "\n",
    "def train_classifier(clf, X_train, y_train):\n",
    "    start = time()\n",
    "    clf.fit(X_train, y_train)\n",
    "    end = time()\n",
    "    print(\"Model trained in {:2f} seconds\".format(end-start))\n",
    "\n",
    "\n",
    "def predict_labels(clf, features, target):\n",
    "    start = time()\n",
    "    y_pred = clf.predict(features)\n",
    "    end = time()\n",
    "    print(\"Made Predictions in {:2f} seconds\".format(end-start))\n",
    "\n",
    "    acc = sum(target == y_pred) / float(len(y_pred))\n",
    "\n",
    "    return f1_score(target, y_pred, average='micro'), acc\n",
    "\n",
    "\n",
    "def model(clf, X_train, y_train, X_test, y_test):\n",
    "    train_classifier(clf, X_train, y_train)\n",
    "\n",
    "    f1, acc = predict_labels(clf, X_train, y_train)\n",
    "    print(\"Training Info:\")\n",
    "    print(\"-\" * 20)\n",
    "    print(\"F1 Score:{}\".format(f1))\n",
    "    print(\"Accuracy:{}\".format(acc))\n",
    "\n",
    "    f1, acc = predict_labels(clf, X_test, y_test)\n",
    "    print(\"Test Metrics:\")\n",
    "    print(\"-\" * 20)\n",
    "    print(\"F1 Score:{}\".format(f1))\n",
    "    print(\"Accuracy:{}\".format(acc))\n",
    "\n",
    "\n",
    "def derive_clean_sheet(src):\n",
    "    arr = []\n",
    "    n_rows = src.shape[0]\n",
    "\n",
    "    for data in range(n_rows):\n",
    "\n",
    "        #[HTHG, HTAG]\n",
    "        values = src.iloc[data].values\n",
    "        cs = [0, 0]\n",
    "\n",
    "        if values[0] == 0:\n",
    "            cs[1] = 1\n",
    "\n",
    "        if values[1] == 0:\n",
    "            cs[0] = 1\n",
    "\n",
    "        arr.append(cs)\n",
    "\n",
    "    return arr\n",
    "\n",
    "\n",
    "# Training & Testing\n",
    "\n",
    "\n",
    "svc_classifier = SVC(random_state=100, kernel='rbf')\n",
    "lr_classifier = LogisticRegression(multi_class='ovr', max_iter=500)\n",
    "nbClassifier = GaussianNB()\n",
    "dtClassifier = DecisionTreeClassifier()\n",
    "rfClassifier = RandomForestClassifier()\n",
    "\n",
    "# print(\"Support Vector Machine\")\n",
    "# print(\"-\" * 20)\n",
    "# model(svc_classifier, X_train, Y_train, X_test, Y_test)\n",
    "\n",
    "print()\n",
    "print(\"Logistic Regression one vs All Classifier\")\n",
    "print(\"-\" * 20)\n",
    "model(lr_classifier, X_train, y_train, X_test, y_test)\n",
    "\n",
    "print()\n",
    "print(\"Gaussain Naive Bayes Classifier\")\n",
    "print(\"-\" * 20)\n",
    "model(nbClassifier, X_train, y_train, X_test, y_test)\n",
    "\n",
    "# print()\n",
    "# print(\"Decision Tree Classifier\")\n",
    "# print(\"-\" * 20)\n",
    "# model(dtClassifier, X_train, Y_train, X_test, Y_test)\n",
    "\n",
    "print()\n",
    "print(\"Random Forest Classifier\")\n",
    "print(\"-\" * 20)\n",
    "model(rfClassifier, X_train, y_train, X_test, y_test)\n",
    "\n",
    "# Exporting the Model\n",
    "print()\n",
    "print()\n",
    "shouldExport = input('Do you want to export the model(s) (y / n) ? ')\n",
    "if shouldExport.strip().lower() == 'y':\n",
    "    exportedModelsPath = 'exportedModels'\n",
    "\n",
    "    makedirs(exportedModelsPath, exist_ok=True)\n",
    "\n",
    "    dump(lr_classifier, f'{exportedModelsPath}/lr_classifier.model')\n",
    "    dump(nbClassifier, f'{exportedModelsPath}/nb_classifier.model')\n",
    "    dump(rfClassifier, f'{exportedModelsPath}/rf_classifier.model')\n",
    "\n",
    "    exportMetaData = dict()\n",
    "    exportMetaData['home_teams'] = home_encoded_mapping\n",
    "    exportMetaData['away_teams'] = away_encoded_mapping\n",
    "\n",
    "    exportMetaDataFile = open(f'{exportedModelsPath}/metaData.json', 'w')\n",
    "    json.dump(exportMetaData, exportMetaDataFile)\n",
    "\n",
    "    print(f'Model(s) exported successfully to {exportedModelsPath}/')"
   ]
  },
  {
   "cell_type": "code",
   "execution_count": null,
   "id": "f704811c-1c77-4710-9fa5-77a15596b58c",
   "metadata": {},
   "outputs": [],
   "source": []
  },
  {
   "cell_type": "code",
   "execution_count": null,
   "id": "c3387fb4-da11-4bfb-8f4c-4a81695c56e4",
   "metadata": {},
   "outputs": [],
   "source": []
  },
  {
   "cell_type": "code",
   "execution_count": null,
   "id": "821b126d-2f99-4eb6-b2e5-ccfddfac5c86",
   "metadata": {},
   "outputs": [],
   "source": []
  }
 ],
 "metadata": {
  "kernelspec": {
   "display_name": "Python 3 (ipykernel)",
   "language": "python",
   "name": "python3"
  },
  "language_info": {
   "codemirror_mode": {
    "name": "ipython",
    "version": 3
   },
   "file_extension": ".py",
   "mimetype": "text/x-python",
   "name": "python",
   "nbconvert_exporter": "python",
   "pygments_lexer": "ipython3",
   "version": "3.10.4"
  }
 },
 "nbformat": 4,
 "nbformat_minor": 5
}
