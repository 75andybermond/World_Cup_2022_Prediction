{
 "cells": [
  {
   "cell_type": "code",
   "execution_count": 14,
   "id": "eb96fecc-96aa-4a08-a167-194b2e90dff9",
   "metadata": {},
   "outputs": [],
   "source": [
    "import pandas as pd \n",
    "import seaborn as sns\n",
    "import numpy as np\n",
    "from sklearn import preprocessing\n",
    "import matplotlib.pyplot as plt\n",
    "\n",
    "from sklearn.preprocessing import LabelEncoder\n",
    "from sklearn import preprocessing\n",
    "import statsmodels.api as sm\n",
    "from statsmodels.stats.outliers_influence import variance_inflation_factor\n",
    "from statsmodels.formula.api import ols\n",
    "from statsmodels.stats.stattools import durbin_watson\n",
    "\n",
    "\n",
    "from sklearn.linear_model import Ridge\n",
    "from sklearn.model_selection import GridSearchCV\n",
    "from sklearn.preprocessing import StandardScaler\n",
    "from sklearn.model_selection import train_test_split\n",
    "from sklearn.svm import SVC\n",
    "from sklearn.linear_model import LinearRegression\n",
    "from sklearn.model_selection import RepeatedKFold\n",
    "\n",
    "\n",
    "from sklearn.linear_model import LinearRegression, Lasso, ElasticNet\n",
    "from sklearn.tree import DecisionTreeRegressor\n",
    "from sklearn.neighbors import KNeighborsRegressor\n",
    "from sklearn.svm import SVR\n",
    "from sklearn.ensemble import RandomForestRegressor, GradientBoostingRegressor, ExtraTreesRegressor, AdaBoostRegressor\n",
    "from sklearn.preprocessing import StandardScaler\n",
    "from sklearn.pipeline import Pipeline\n",
    "from sklearn.model_selection import cross_val_score\n",
    "from sklearn.metrics import mean_squared_error, mean_absolute_error\n",
    "from sklearn.metrics import accuracy_score\n",
    "from sklearn.model_selection import GridSearchCV\n",
    "import tensorflow as tf\n",
    "from sklearn.metrics import accuracy_score, recall_score, confusion_matrix, ConfusionMatrixDisplay\n"
   ]
  },
  {
   "cell_type": "code",
   "execution_count": 2,
   "id": "a69b6bc2-c81f-470d-a26d-06be560096f6",
   "metadata": {},
   "outputs": [
    {
     "data": {
      "text/html": [
       "<div>\n",
       "<style scoped>\n",
       "    .dataframe tbody tr th:only-of-type {\n",
       "        vertical-align: middle;\n",
       "    }\n",
       "\n",
       "    .dataframe tbody tr th {\n",
       "        vertical-align: top;\n",
       "    }\n",
       "\n",
       "    .dataframe thead th {\n",
       "        text-align: right;\n",
       "    }\n",
       "</style>\n",
       "<table border=\"1\" class=\"dataframe\">\n",
       "  <thead>\n",
       "    <tr style=\"text-align: right;\">\n",
       "      <th></th>\n",
       "      <th>home_team</th>\n",
       "      <th>away_team</th>\n",
       "      <th>home_team_fifa_rank</th>\n",
       "      <th>away_team_fifa_rank</th>\n",
       "      <th>tournament</th>\n",
       "      <th>shoot_out</th>\n",
       "      <th>home_team_goalkeeper_score</th>\n",
       "      <th>away_team_goalkeeper_score</th>\n",
       "      <th>home_team_mean_offense_score</th>\n",
       "      <th>home_team_mean_midfield_score</th>\n",
       "      <th>away_team_mean_defense_score</th>\n",
       "      <th>away_team_mean_offense_score</th>\n",
       "      <th>away_team_mean_midfield_score</th>\n",
       "      <th>result</th>\n",
       "    </tr>\n",
       "    <tr>\n",
       "      <th>date</th>\n",
       "      <th></th>\n",
       "      <th></th>\n",
       "      <th></th>\n",
       "      <th></th>\n",
       "      <th></th>\n",
       "      <th></th>\n",
       "      <th></th>\n",
       "      <th></th>\n",
       "      <th></th>\n",
       "      <th></th>\n",
       "      <th></th>\n",
       "      <th></th>\n",
       "      <th></th>\n",
       "      <th></th>\n",
       "    </tr>\n",
       "  </thead>\n",
       "  <tbody>\n",
       "    <tr>\n",
       "      <th>1993-08-08</th>\n",
       "      <td>24</td>\n",
       "      <td>116</td>\n",
       "      <td>8</td>\n",
       "      <td>14</td>\n",
       "      <td>8</td>\n",
       "      <td>0</td>\n",
       "      <td>85.941860</td>\n",
       "      <td>79.248175</td>\n",
       "      <td>86.538372</td>\n",
       "      <td>85.355233</td>\n",
       "      <td>76.813139</td>\n",
       "      <td>79.659854</td>\n",
       "      <td>77.708759</td>\n",
       "      <td>2</td>\n",
       "    </tr>\n",
       "    <tr>\n",
       "      <th>1993-08-08</th>\n",
       "      <td>52</td>\n",
       "      <td>191</td>\n",
       "      <td>35</td>\n",
       "      <td>94</td>\n",
       "      <td>7</td>\n",
       "      <td>0</td>\n",
       "      <td>71.275510</td>\n",
       "      <td>67.311111</td>\n",
       "      <td>75.413265</td>\n",
       "      <td>75.042857</td>\n",
       "      <td>72.305714</td>\n",
       "      <td>74.660417</td>\n",
       "      <td>73.423810</td>\n",
       "      <td>3</td>\n",
       "    </tr>\n",
       "    <tr>\n",
       "      <th>1993-08-15</th>\n",
       "      <td>9</td>\n",
       "      <td>31</td>\n",
       "      <td>52</td>\n",
       "      <td>46</td>\n",
       "      <td>7</td>\n",
       "      <td>1</td>\n",
       "      <td>78.088710</td>\n",
       "      <td>71.726190</td>\n",
       "      <td>74.718548</td>\n",
       "      <td>74.060484</td>\n",
       "      <td>68.810714</td>\n",
       "      <td>71.543210</td>\n",
       "      <td>72.527381</td>\n",
       "      <td>3</td>\n",
       "    </tr>\n",
       "    <tr>\n",
       "      <th>1993-08-15</th>\n",
       "      <td>179</td>\n",
       "      <td>24</td>\n",
       "      <td>22</td>\n",
       "      <td>8</td>\n",
       "      <td>7</td>\n",
       "      <td>0</td>\n",
       "      <td>79.368421</td>\n",
       "      <td>86.371622</td>\n",
       "      <td>83.721053</td>\n",
       "      <td>78.356140</td>\n",
       "      <td>86.077027</td>\n",
       "      <td>86.625000</td>\n",
       "      <td>85.312162</td>\n",
       "      <td>2</td>\n",
       "    </tr>\n",
       "    <tr>\n",
       "      <th>1993-08-22</th>\n",
       "      <td>6</td>\n",
       "      <td>137</td>\n",
       "      <td>5</td>\n",
       "      <td>70</td>\n",
       "      <td>7</td>\n",
       "      <td>0</td>\n",
       "      <td>80.500000</td>\n",
       "      <td>69.581395</td>\n",
       "      <td>88.286709</td>\n",
       "      <td>84.138608</td>\n",
       "      <td>70.993878</td>\n",
       "      <td>76.436735</td>\n",
       "      <td>73.813636</td>\n",
       "      <td>3</td>\n",
       "    </tr>\n",
       "  </tbody>\n",
       "</table>\n",
       "</div>"
      ],
      "text/plain": [
       "            home_team  away_team  home_team_fifa_rank  away_team_fifa_rank  \\\n",
       "date                                                                         \n",
       "1993-08-08         24        116                    8                   14   \n",
       "1993-08-08         52        191                   35                   94   \n",
       "1993-08-15          9         31                   52                   46   \n",
       "1993-08-15        179         24                   22                    8   \n",
       "1993-08-22          6        137                    5                   70   \n",
       "\n",
       "            tournament  shoot_out  home_team_goalkeeper_score  \\\n",
       "date                                                            \n",
       "1993-08-08           8          0                   85.941860   \n",
       "1993-08-08           7          0                   71.275510   \n",
       "1993-08-15           7          1                   78.088710   \n",
       "1993-08-15           7          0                   79.368421   \n",
       "1993-08-22           7          0                   80.500000   \n",
       "\n",
       "            away_team_goalkeeper_score  home_team_mean_offense_score  \\\n",
       "date                                                                   \n",
       "1993-08-08                   79.248175                     86.538372   \n",
       "1993-08-08                   67.311111                     75.413265   \n",
       "1993-08-15                   71.726190                     74.718548   \n",
       "1993-08-15                   86.371622                     83.721053   \n",
       "1993-08-22                   69.581395                     88.286709   \n",
       "\n",
       "            home_team_mean_midfield_score  away_team_mean_defense_score  \\\n",
       "date                                                                      \n",
       "1993-08-08                      85.355233                     76.813139   \n",
       "1993-08-08                      75.042857                     72.305714   \n",
       "1993-08-15                      74.060484                     68.810714   \n",
       "1993-08-15                      78.356140                     86.077027   \n",
       "1993-08-22                      84.138608                     70.993878   \n",
       "\n",
       "            away_team_mean_offense_score  away_team_mean_midfield_score  \\\n",
       "date                                                                      \n",
       "1993-08-08                     79.659854                      77.708759   \n",
       "1993-08-08                     74.660417                      73.423810   \n",
       "1993-08-15                     71.543210                      72.527381   \n",
       "1993-08-15                     86.625000                      85.312162   \n",
       "1993-08-22                     76.436735                      73.813636   \n",
       "\n",
       "            result  \n",
       "date                \n",
       "1993-08-08       2  \n",
       "1993-08-08       3  \n",
       "1993-08-15       3  \n",
       "1993-08-15       2  \n",
       "1993-08-22       3  "
      ]
     },
     "execution_count": 2,
     "metadata": {},
     "output_type": "execute_result"
    }
   ],
   "source": [
    "df = pd.read_csv('df_for_ML.csv', index_col='date')\n",
    "df.head()"
   ]
  },
  {
   "cell_type": "code",
   "execution_count": 3,
   "id": "e6206715-9d4a-49e1-8c58-27d2f15eeaab",
   "metadata": {},
   "outputs": [
    {
     "data": {
      "text/plain": [
       "Index(['home_team', 'away_team', 'home_team_fifa_rank', 'away_team_fifa_rank',\n",
       "       'tournament', 'shoot_out', 'home_team_goalkeeper_score',\n",
       "       'away_team_goalkeeper_score', 'home_team_mean_offense_score',\n",
       "       'home_team_mean_midfield_score', 'away_team_mean_defense_score',\n",
       "       'away_team_mean_offense_score', 'away_team_mean_midfield_score',\n",
       "       'result'],\n",
       "      dtype='object')"
      ]
     },
     "execution_count": 3,
     "metadata": {},
     "output_type": "execute_result"
    }
   ],
   "source": [
    "df.columns"
   ]
  },
  {
   "cell_type": "markdown",
   "id": "4afbd6bf-4b40-4191-8388-7a0175c1ea82",
   "metadata": {},
   "source": [
    "# Scaling and SGDClassifer"
   ]
  },
  {
   "cell_type": "code",
   "execution_count": 4,
   "id": "fd8f40b6-91d2-4fec-b5f8-bd89fe6a1893",
   "metadata": {},
   "outputs": [],
   "source": [
    "X = df.drop(['result'], axis=1)\n",
    "y = df['result']"
   ]
  },
  {
   "cell_type": "markdown",
   "id": "47a20f40-e7ae-4fc9-ad5c-92b270bb94ae",
   "metadata": {},
   "source": [
    "## Scaling using StandScaler \n",
    "* I don't want \"yet\" to remove the few outliers "
   ]
  },
  {
   "cell_type": "code",
   "execution_count": null,
   "id": "2132cf29-65d1-4995-aeeb-3c23fa40a84d",
   "metadata": {},
   "outputs": [],
   "source": [
    "from sklearn.preprocessing import StandardScaler\n",
    "import sklearn\n",
    "\n",
    "Scaller = StandardScaler()\n",
    " \n",
    "# standardization \n",
    "X = Scaller.fit_transform(X) "
   ]
  },
  {
   "cell_type": "code",
   "execution_count": 5,
   "id": "a80aa9cc-2af7-42d6-9d99-a48dda7cbc7d",
   "metadata": {},
   "outputs": [],
   "source": [
    "X_train, X_test, y_train, y_test = train_test_split(X, y, test_size=0.33, random_state=1, stratify=y)"
   ]
  },
  {
   "cell_type": "code",
   "execution_count": 6,
   "id": "7f297368-2385-44fc-8d2a-1f77d7e09ea7",
   "metadata": {},
   "outputs": [
    {
     "data": {
      "text/plain": [
       "((6551, 13), (3227, 13), (6551,), (3227,))"
      ]
     },
     "execution_count": 6,
     "metadata": {},
     "output_type": "execute_result"
    }
   ],
   "source": [
    "X_train.shape, X_test.shape, y_train.shape, y_test.shape"
   ]
  },
  {
   "cell_type": "code",
   "execution_count": 21,
   "id": "77a2d5cf-6063-4e83-bf38-9e097e9c3efa",
   "metadata": {},
   "outputs": [],
   "source": [
    "from sklearn.linear_model import SGDClassifier"
   ]
  },
  {
   "cell_type": "code",
   "execution_count": 22,
   "id": "9e03dc4f-e0f0-4543-979b-388deafc65db",
   "metadata": {},
   "outputs": [
    {
     "data": {
      "text/html": [
       "<style>#sk-container-id-2 {color: black;background-color: white;}#sk-container-id-2 pre{padding: 0;}#sk-container-id-2 div.sk-toggleable {background-color: white;}#sk-container-id-2 label.sk-toggleable__label {cursor: pointer;display: block;width: 100%;margin-bottom: 0;padding: 0.3em;box-sizing: border-box;text-align: center;}#sk-container-id-2 label.sk-toggleable__label-arrow:before {content: \"▸\";float: left;margin-right: 0.25em;color: #696969;}#sk-container-id-2 label.sk-toggleable__label-arrow:hover:before {color: black;}#sk-container-id-2 div.sk-estimator:hover label.sk-toggleable__label-arrow:before {color: black;}#sk-container-id-2 div.sk-toggleable__content {max-height: 0;max-width: 0;overflow: hidden;text-align: left;background-color: #f0f8ff;}#sk-container-id-2 div.sk-toggleable__content pre {margin: 0.2em;color: black;border-radius: 0.25em;background-color: #f0f8ff;}#sk-container-id-2 input.sk-toggleable__control:checked~div.sk-toggleable__content {max-height: 200px;max-width: 100%;overflow: auto;}#sk-container-id-2 input.sk-toggleable__control:checked~label.sk-toggleable__label-arrow:before {content: \"▾\";}#sk-container-id-2 div.sk-estimator input.sk-toggleable__control:checked~label.sk-toggleable__label {background-color: #d4ebff;}#sk-container-id-2 div.sk-label input.sk-toggleable__control:checked~label.sk-toggleable__label {background-color: #d4ebff;}#sk-container-id-2 input.sk-hidden--visually {border: 0;clip: rect(1px 1px 1px 1px);clip: rect(1px, 1px, 1px, 1px);height: 1px;margin: -1px;overflow: hidden;padding: 0;position: absolute;width: 1px;}#sk-container-id-2 div.sk-estimator {font-family: monospace;background-color: #f0f8ff;border: 1px dotted black;border-radius: 0.25em;box-sizing: border-box;margin-bottom: 0.5em;}#sk-container-id-2 div.sk-estimator:hover {background-color: #d4ebff;}#sk-container-id-2 div.sk-parallel-item::after {content: \"\";width: 100%;border-bottom: 1px solid gray;flex-grow: 1;}#sk-container-id-2 div.sk-label:hover label.sk-toggleable__label {background-color: #d4ebff;}#sk-container-id-2 div.sk-serial::before {content: \"\";position: absolute;border-left: 1px solid gray;box-sizing: border-box;top: 0;bottom: 0;left: 50%;z-index: 0;}#sk-container-id-2 div.sk-serial {display: flex;flex-direction: column;align-items: center;background-color: white;padding-right: 0.2em;padding-left: 0.2em;position: relative;}#sk-container-id-2 div.sk-item {position: relative;z-index: 1;}#sk-container-id-2 div.sk-parallel {display: flex;align-items: stretch;justify-content: center;background-color: white;position: relative;}#sk-container-id-2 div.sk-item::before, #sk-container-id-2 div.sk-parallel-item::before {content: \"\";position: absolute;border-left: 1px solid gray;box-sizing: border-box;top: 0;bottom: 0;left: 50%;z-index: -1;}#sk-container-id-2 div.sk-parallel-item {display: flex;flex-direction: column;z-index: 1;position: relative;background-color: white;}#sk-container-id-2 div.sk-parallel-item:first-child::after {align-self: flex-end;width: 50%;}#sk-container-id-2 div.sk-parallel-item:last-child::after {align-self: flex-start;width: 50%;}#sk-container-id-2 div.sk-parallel-item:only-child::after {width: 0;}#sk-container-id-2 div.sk-dashed-wrapped {border: 1px dashed gray;margin: 0 0.4em 0.5em 0.4em;box-sizing: border-box;padding-bottom: 0.4em;background-color: white;}#sk-container-id-2 div.sk-label label {font-family: monospace;font-weight: bold;display: inline-block;line-height: 1.2em;}#sk-container-id-2 div.sk-label-container {text-align: center;}#sk-container-id-2 div.sk-container {/* jupyter's `normalize.less` sets `[hidden] { display: none; }` but bootstrap.min.css set `[hidden] { display: none !important; }` so we also need the `!important` here to be able to override the default hidden behavior on the sphinx rendered scikit-learn.org. See: https://github.com/scikit-learn/scikit-learn/issues/21755 */display: inline-block !important;position: relative;}#sk-container-id-2 div.sk-text-repr-fallback {display: none;}</style><div id=\"sk-container-id-2\" class=\"sk-top-container\"><div class=\"sk-text-repr-fallback\"><pre>SGDClassifier(alpha=0.01, loss=&#x27;log_loss&#x27;, penalty=&#x27;elasticnet&#x27;)</pre><b>In a Jupyter environment, please rerun this cell to show the HTML representation or trust the notebook. <br />On GitHub, the HTML representation is unable to render, please try loading this page with nbviewer.org.</b></div><div class=\"sk-container\" hidden><div class=\"sk-item\"><div class=\"sk-estimator sk-toggleable\"><input class=\"sk-toggleable__control sk-hidden--visually\" id=\"sk-estimator-id-2\" type=\"checkbox\" checked><label for=\"sk-estimator-id-2\" class=\"sk-toggleable__label sk-toggleable__label-arrow\">SGDClassifier</label><div class=\"sk-toggleable__content\"><pre>SGDClassifier(alpha=0.01, loss=&#x27;log_loss&#x27;, penalty=&#x27;elasticnet&#x27;)</pre></div></div></div></div></div>"
      ],
      "text/plain": [
       "SGDClassifier(alpha=0.01, loss='log_loss', penalty='elasticnet')"
      ]
     },
     "execution_count": 22,
     "metadata": {},
     "output_type": "execute_result"
    }
   ],
   "source": [
    "clf = SGDClassifier(loss=\"log_loss\", penalty='elasticnet' ,  alpha = 0.01) \n",
    "clf.fit(X_train, y_train)"
   ]
  },
  {
   "cell_type": "code",
   "execution_count": 23,
   "id": "a71aee1c-41e5-4448-8073-38b409a1bee3",
   "metadata": {},
   "outputs": [
    {
     "name": "stdout",
     "output_type": "stream",
     "text": [
      "Accuracy: 0.53\n"
     ]
    }
   ],
   "source": [
    "y_pred = clf.predict(X_test)\n",
    "\n",
    "print('Accuracy: {:.2f}'.format(accuracy_score(y_test, y_pred)))"
   ]
  },
  {
   "cell_type": "code",
   "execution_count": null,
   "id": "50e6f9f4-e749-408b-8832-d9c270d8b26c",
   "metadata": {},
   "outputs": [],
   "source": [
    "n_iters = [5, 10, 20, 50, 100, 1000]\n",
    "scores = []\n",
    "for n_iter in n_iters:\n",
    "    clf = SGDClassifier(loss=\"hinge\", penalty=\"l2\", max_iter=n_iter)\n",
    "    clf.fit(X_train, y_train)\n",
    "    scores.append(clf.score(X_test, y_test))\n",
    "  \n",
    "plt.title(\"Effect of n_iter\")\n",
    "plt.xlabel(\"n_iter\")\n",
    "plt.ylabel(\"score\")\n",
    "plt.plot(n_iters, scores) "
   ]
  },
  {
   "cell_type": "code",
   "execution_count": null,
   "id": "07d35d2a-e072-4630-becf-18c9c2d5bd16",
   "metadata": {},
   "outputs": [],
   "source": [
    "losses = [\"hinge\", \"log_loss\", \"modified_huber\", \"perceptron\", \"squared_hinge\"]\n",
    "scores = []\n",
    "for loss in losses:\n",
    "    clf = SGDClassifier(loss=loss, penalty=\"l2\", max_iter=1000)\n",
    "    clf.fit(X_train, y_train)\n",
    "    scores.append(clf.score(X_test, y_test))\n",
    "  \n",
    "\n",
    "plt.title(\"Effect of loss\")\n",
    "plt.xlabel(\"loss\")\n",
    "plt.ylabel(\"score\")\n",
    "x = np.arange(len(losses))\n",
    "plt.xticks(x, losses)\n",
    "plt.plot(x, scores) "
   ]
  },
  {
   "cell_type": "code",
   "execution_count": 25,
   "id": "de5fdb5e-f89b-4231-b6cf-4e63d803fbdf",
   "metadata": {},
   "outputs": [
    {
     "name": "stdout",
     "output_type": "stream",
     "text": [
      "{'alpha': 0.1, 'loss': 'log_loss', 'penalty': 'l1'}\n"
     ]
    }
   ],
   "source": [
    "params = {\n",
    "    \"loss\" : [\"hinge\", \"log_loss\", \"squared_hinge\", \"modified_huber\", \"perceptron\"],\n",
    "    \"alpha\" : [0.0001, 0.001, 0.01, 0.1],\n",
    "    \"penalty\" : [\"l2\", \"l1\", \"elasticnet\", \"none\"],\n",
    "}\n",
    "\n",
    "clf = SGDClassifier(max_iter=10000)\n",
    "grid = GridSearchCV(clf, param_grid=params, cv=10)\n",
    "\n",
    "\n",
    "grid.fit(X_train, y_train)\n",
    "\n",
    "print(grid.best_params_)"
   ]
  },
  {
   "cell_type": "code",
   "execution_count": 27,
   "id": "e17c125d-326a-4e85-874c-b289f34c15be",
   "metadata": {},
   "outputs": [
    {
     "name": "stdout",
     "output_type": "stream",
     "text": [
      "Accuracy: 0.57\n"
     ]
    }
   ],
   "source": [
    "grid_predictions = grid.predict(X_test) \n",
    "\n",
    "print('Accuracy: {:.2f}'.format(accuracy_score(y_test, grid_predictions)))"
   ]
  },
  {
   "cell_type": "markdown",
   "id": "1dee807e-8e68-4261-89ed-00b2186c8391",
   "metadata": {},
   "source": [
    "## Train prediction and eval "
   ]
  },
  {
   "cell_type": "code",
   "execution_count": 28,
   "id": "6c2dd893-ffa1-4c41-9104-5c28044b2add",
   "metadata": {},
   "outputs": [
    {
     "name": "stdout",
     "output_type": "stream",
     "text": [
      "the train score is \n"
     ]
    },
    {
     "data": {
      "text/plain": [
       "0.5692260723553656"
      ]
     },
     "execution_count": 28,
     "metadata": {},
     "output_type": "execute_result"
    }
   ],
   "source": [
    "trainpr= grid.predict(X_train)\n",
    "errortrain = accuracy_score(y_train, trainpr)\n",
    "print(\"the train score is \" )\n",
    "errortrain"
   ]
  },
  {
   "cell_type": "code",
   "execution_count": 29,
   "id": "fa4e077a-3088-4017-a190-610ee12571d9",
   "metadata": {},
   "outputs": [],
   "source": [
    "combine = pd.DataFrame(dict(actual=y_train, predicted=trainpr))"
   ]
  },
  {
   "cell_type": "code",
   "execution_count": 30,
   "id": "99f0f8a6-a3c5-47ee-bdf0-f20facfde535",
   "metadata": {},
   "outputs": [
    {
     "data": {
      "text/html": [
       "<div>\n",
       "<style scoped>\n",
       "    .dataframe tbody tr th:only-of-type {\n",
       "        vertical-align: middle;\n",
       "    }\n",
       "\n",
       "    .dataframe tbody tr th {\n",
       "        vertical-align: top;\n",
       "    }\n",
       "\n",
       "    .dataframe thead th {\n",
       "        text-align: right;\n",
       "    }\n",
       "</style>\n",
       "<table border=\"1\" class=\"dataframe\">\n",
       "  <thead>\n",
       "    <tr style=\"text-align: right;\">\n",
       "      <th>predicted</th>\n",
       "      <th>0</th>\n",
       "      <th>3</th>\n",
       "    </tr>\n",
       "    <tr>\n",
       "      <th>actual</th>\n",
       "      <th></th>\n",
       "      <th></th>\n",
       "    </tr>\n",
       "  </thead>\n",
       "  <tbody>\n",
       "    <tr>\n",
       "      <th>0</th>\n",
       "      <td>1416</td>\n",
       "      <td>474</td>\n",
       "    </tr>\n",
       "    <tr>\n",
       "      <th>2</th>\n",
       "      <td>820</td>\n",
       "      <td>708</td>\n",
       "    </tr>\n",
       "    <tr>\n",
       "      <th>3</th>\n",
       "      <td>820</td>\n",
       "      <td>2313</td>\n",
       "    </tr>\n",
       "  </tbody>\n",
       "</table>\n",
       "</div>"
      ],
      "text/plain": [
       "predicted     0     3\n",
       "actual               \n",
       "0          1416   474\n",
       "2           820   708\n",
       "3           820  2313"
      ]
     },
     "execution_count": 30,
     "metadata": {},
     "output_type": "execute_result"
    }
   ],
   "source": [
    "pd.crosstab(index=combine[\"actual\"], columns=combine[\"predicted\"])"
   ]
  },
  {
   "cell_type": "code",
   "execution_count": 31,
   "id": "a7fc953c-32d1-4e52-9dcd-4daefe4589b1",
   "metadata": {},
   "outputs": [
    {
     "name": "stdout",
     "output_type": "stream",
     "text": [
      "              precision    recall  f1-score   support\n",
      "\n",
      "           0       0.46      0.75      0.57      1890\n",
      "           2       0.00      0.00      0.00      1528\n",
      "           3       0.66      0.74      0.70      3133\n",
      "\n",
      "    accuracy                           0.57      6551\n",
      "   macro avg       0.38      0.50      0.42      6551\n",
      "weighted avg       0.45      0.57      0.50      6551\n",
      "\n"
     ]
    },
    {
     "name": "stderr",
     "output_type": "stream",
     "text": [
      "C:\\Users\\utilisateur\\anaconda3\\envs\\new\\lib\\site-packages\\sklearn\\metrics\\_classification.py:1334: UndefinedMetricWarning: Precision and F-score are ill-defined and being set to 0.0 in labels with no predicted samples. Use `zero_division` parameter to control this behavior.\n",
      "  _warn_prf(average, modifier, msg_start, len(result))\n",
      "C:\\Users\\utilisateur\\anaconda3\\envs\\new\\lib\\site-packages\\sklearn\\metrics\\_classification.py:1334: UndefinedMetricWarning: Precision and F-score are ill-defined and being set to 0.0 in labels with no predicted samples. Use `zero_division` parameter to control this behavior.\n",
      "  _warn_prf(average, modifier, msg_start, len(result))\n",
      "C:\\Users\\utilisateur\\anaconda3\\envs\\new\\lib\\site-packages\\sklearn\\metrics\\_classification.py:1334: UndefinedMetricWarning: Precision and F-score are ill-defined and being set to 0.0 in labels with no predicted samples. Use `zero_division` parameter to control this behavior.\n",
      "  _warn_prf(average, modifier, msg_start, len(result))\n"
     ]
    }
   ],
   "source": [
    "\n",
    "print(classification_report(y_train, trainpr))"
   ]
  },
  {
   "cell_type": "code",
   "execution_count": 32,
   "id": "93b7d95e-d38f-4534-809e-b00c87d01117",
   "metadata": {},
   "outputs": [
    {
     "data": {
      "image/png": "[encoded data removed]",
      "text/plain": [
       "<Figure size 1000x1000 with 2 Axes>"
      ]
     },
     "metadata": {},
     "output_type": "display_data"
    }
   ],
   "source": [
    "y_predict_train = np.where(grid.predict(X_train)<0.5, 0, 1) \n",
    "\n",
    "display = ConfusionMatrixDisplay(confusion_matrix = confusion_matrix(y_train, trainpr))\n",
    "fig, ax = plt.subplots(figsize=(10,10))\n",
    "display.plot(ax=ax)\n",
    "\n",
    "plt.show()"
   ]
  },
  {
   "cell_type": "markdown",
   "id": "bec1bd0f-be6c-4903-af98-8e2c88406ece",
   "metadata": {},
   "source": [
    "## Test prediction and eval "
   ]
  },
  {
   "cell_type": "code",
   "execution_count": 33,
   "id": "e8d381b7-d069-41f7-a150-5c02b15781bd",
   "metadata": {},
   "outputs": [
    {
     "name": "stdout",
     "output_type": "stream",
     "text": [
      "the train score is \n"
     ]
    },
    {
     "data": {
      "text/plain": [
       "0.5711186860861481"
      ]
     },
     "execution_count": 33,
     "metadata": {},
     "output_type": "execute_result"
    }
   ],
   "source": [
    "predts = grid.predict(X_test)\n",
    "errortrain = accuracy_score(y_test, predts)\n",
    "print(\"the train score is \" )\n",
    "errortrain"
   ]
  },
  {
   "cell_type": "code",
   "execution_count": 34,
   "id": "fca928c4-b990-416d-a822-ef9ce7d56780",
   "metadata": {},
   "outputs": [],
   "source": [
    "combine = pd.DataFrame(dict(actual=y_test, predicted=preds))"
   ]
  },
  {
   "cell_type": "code",
   "execution_count": 35,
   "id": "574c9b28-800b-461b-9b5a-6f4bee45b7bf",
   "metadata": {},
   "outputs": [
    {
     "data": {
      "text/html": [
       "<div>\n",
       "<style scoped>\n",
       "    .dataframe tbody tr th:only-of-type {\n",
       "        vertical-align: middle;\n",
       "    }\n",
       "\n",
       "    .dataframe tbody tr th {\n",
       "        vertical-align: top;\n",
       "    }\n",
       "\n",
       "    .dataframe thead th {\n",
       "        text-align: right;\n",
       "    }\n",
       "</style>\n",
       "<table border=\"1\" class=\"dataframe\">\n",
       "  <thead>\n",
       "    <tr style=\"text-align: right;\">\n",
       "      <th>predicted</th>\n",
       "      <th>0</th>\n",
       "      <th>2</th>\n",
       "      <th>3</th>\n",
       "    </tr>\n",
       "    <tr>\n",
       "      <th>actual</th>\n",
       "      <th></th>\n",
       "      <th></th>\n",
       "      <th></th>\n",
       "    </tr>\n",
       "  </thead>\n",
       "  <tbody>\n",
       "    <tr>\n",
       "      <th>0</th>\n",
       "      <td>604</td>\n",
       "      <td>76</td>\n",
       "      <td>251</td>\n",
       "    </tr>\n",
       "    <tr>\n",
       "      <th>2</th>\n",
       "      <td>199</td>\n",
       "      <td>207</td>\n",
       "      <td>346</td>\n",
       "    </tr>\n",
       "    <tr>\n",
       "      <th>3</th>\n",
       "      <td>178</td>\n",
       "      <td>63</td>\n",
       "      <td>1303</td>\n",
       "    </tr>\n",
       "  </tbody>\n",
       "</table>\n",
       "</div>"
      ],
      "text/plain": [
       "predicted    0    2     3\n",
       "actual                   \n",
       "0          604   76   251\n",
       "2          199  207   346\n",
       "3          178   63  1303"
      ]
     },
     "execution_count": 35,
     "metadata": {},
     "output_type": "execute_result"
    }
   ],
   "source": [
    "pd.crosstab(index=combine[\"actual\"], columns=combine[\"predicted\"])"
   ]
  },
  {
   "cell_type": "code",
   "execution_count": 36,
   "id": "6dc87218-c362-4995-a59d-a9d7aa855a83",
   "metadata": {},
   "outputs": [
    {
     "name": "stdout",
     "output_type": "stream",
     "text": [
      "              precision    recall  f1-score   support\n",
      "\n",
      "           0       0.62      0.65      0.63       931\n",
      "           2       0.60      0.28      0.38       752\n",
      "           3       0.69      0.84      0.76      1544\n",
      "\n",
      "    accuracy                           0.66      3227\n",
      "   macro avg       0.63      0.59      0.59      3227\n",
      "weighted avg       0.65      0.66      0.63      3227\n",
      "\n"
     ]
    }
   ],
   "source": [
    "\n",
    "print(classification_report(y_test, preds))"
   ]
  },
  {
   "cell_type": "code",
   "execution_count": 37,
   "id": "ed23a2e3-32c8-4924-b379-231766a304bf",
   "metadata": {},
   "outputs": [
    {
     "data": {
      "image/png": "[encoded data removed]",
      "text/plain": [
       "<Figure size 1000x1000 with 2 Axes>"
      ]
     },
     "metadata": {},
     "output_type": "display_data"
    }
   ],
   "source": [
    "display = ConfusionMatrixDisplay(confusion_matrix=confusion_matrix(y_test, preds))\n",
    "fig, ax = plt.subplots(figsize=(10,10))\n",
    "display.plot(ax=ax)\n",
    "\n",
    "\n",
    "plt.show()"
   ]
  },
  {
   "cell_type": "code",
   "execution_count": null,
   "id": "b5a1b493-0c1c-434d-a4c8-09350af7bfe5",
   "metadata": {},
   "outputs": [],
   "source": []
  },
  {
   "cell_type": "markdown",
   "id": "091ff47b-997b-4161-96e9-d354883261c5",
   "metadata": {},
   "source": [
    "# Random classifer "
   ]
  },
  {
   "cell_type": "code",
   "execution_count": 38,
   "id": "47dc0aef-cf39-468b-ad86-f41e6b91795e",
   "metadata": {},
   "outputs": [],
   "source": [
    "from sklearn.ensemble import RandomForestClassifier"
   ]
  },
  {
   "cell_type": "code",
   "execution_count": 39,
   "id": "0d4e72a2-962f-456c-b1db-fd57ab2587d2",
   "metadata": {},
   "outputs": [],
   "source": [
    "rf = RandomForestClassifier(n_estimators=400, min_samples_split=10, random_state=1, max_features='sqrt')"
   ]
  },
  {
   "cell_type": "code",
   "execution_count": null,
   "id": "24aab5be-4f35-4135-bff4-773c4d5e0c96",
   "metadata": {},
   "outputs": [],
   "source": [
    "\"\"\"predictors = ['home_team', 'away_team', 'home_team_fifa_rank', 'away_team_fifa_rank',\n",
    "       'tournament', 'home_team_goalkeeper_score',\n",
    "       'away_team_goalkeeper_score', 'home_team_mean_offense_score',\n",
    "       'home_team_mean_midfield_score', 'away_team_mean_defense_score',\n",
    "       'away_team_mean_offense_score', 'away_team_mean_midfield_score']\"\"\""
   ]
  },
  {
   "cell_type": "code",
   "execution_count": null,
   "id": "34f09a22-3cb9-448f-b253-541c82612d37",
   "metadata": {},
   "outputs": [],
   "source": [
    "forest_params = [{'max_depth': list(range(10, 15)), 'max_features': list(range(0,14))}]\n",
    "\n",
    "rf = GridSearchCV(rf, forest_params, cv = 10, scoring='accuracy')\n",
    "\n",
    "print(clf.best_score_)"
   ]
  },
  {
   "cell_type": "code",
   "execution_count": 40,
   "id": "ef2ae7f9-28ec-4b05-a9a2-4513de503738",
   "metadata": {},
   "outputs": [
    {
     "data": {
      "text/html": [
       "<style>#sk-container-id-3 {color: black;background-color: white;}#sk-container-id-3 pre{padding: 0;}#sk-container-id-3 div.sk-toggleable {background-color: white;}#sk-container-id-3 label.sk-toggleable__label {cursor: pointer;display: block;width: 100%;margin-bottom: 0;padding: 0.3em;box-sizing: border-box;text-align: center;}#sk-container-id-3 label.sk-toggleable__label-arrow:before {content: \"▸\";float: left;margin-right: 0.25em;color: #696969;}#sk-container-id-3 label.sk-toggleable__label-arrow:hover:before {color: black;}#sk-container-id-3 div.sk-estimator:hover label.sk-toggleable__label-arrow:before {color: black;}#sk-container-id-3 div.sk-toggleable__content {max-height: 0;max-width: 0;overflow: hidden;text-align: left;background-color: #f0f8ff;}#sk-container-id-3 div.sk-toggleable__content pre {margin: 0.2em;color: black;border-radius: 0.25em;background-color: #f0f8ff;}#sk-container-id-3 input.sk-toggleable__control:checked~div.sk-toggleable__content {max-height: 200px;max-width: 100%;overflow: auto;}#sk-container-id-3 input.sk-toggleable__control:checked~label.sk-toggleable__label-arrow:before {content: \"▾\";}#sk-container-id-3 div.sk-estimator input.sk-toggleable__control:checked~label.sk-toggleable__label {background-color: #d4ebff;}#sk-container-id-3 div.sk-label input.sk-toggleable__control:checked~label.sk-toggleable__label {background-color: #d4ebff;}#sk-container-id-3 input.sk-hidden--visually {border: 0;clip: rect(1px 1px 1px 1px);clip: rect(1px, 1px, 1px, 1px);height: 1px;margin: -1px;overflow: hidden;padding: 0;position: absolute;width: 1px;}#sk-container-id-3 div.sk-estimator {font-family: monospace;background-color: #f0f8ff;border: 1px dotted black;border-radius: 0.25em;box-sizing: border-box;margin-bottom: 0.5em;}#sk-container-id-3 div.sk-estimator:hover {background-color: #d4ebff;}#sk-container-id-3 div.sk-parallel-item::after {content: \"\";width: 100%;border-bottom: 1px solid gray;flex-grow: 1;}#sk-container-id-3 div.sk-label:hover label.sk-toggleable__label {background-color: #d4ebff;}#sk-container-id-3 div.sk-serial::before {content: \"\";position: absolute;border-left: 1px solid gray;box-sizing: border-box;top: 0;bottom: 0;left: 50%;z-index: 0;}#sk-container-id-3 div.sk-serial {display: flex;flex-direction: column;align-items: center;background-color: white;padding-right: 0.2em;padding-left: 0.2em;position: relative;}#sk-container-id-3 div.sk-item {position: relative;z-index: 1;}#sk-container-id-3 div.sk-parallel {display: flex;align-items: stretch;justify-content: center;background-color: white;position: relative;}#sk-container-id-3 div.sk-item::before, #sk-container-id-3 div.sk-parallel-item::before {content: \"\";position: absolute;border-left: 1px solid gray;box-sizing: border-box;top: 0;bottom: 0;left: 50%;z-index: -1;}#sk-container-id-3 div.sk-parallel-item {display: flex;flex-direction: column;z-index: 1;position: relative;background-color: white;}#sk-container-id-3 div.sk-parallel-item:first-child::after {align-self: flex-end;width: 50%;}#sk-container-id-3 div.sk-parallel-item:last-child::after {align-self: flex-start;width: 50%;}#sk-container-id-3 div.sk-parallel-item:only-child::after {width: 0;}#sk-container-id-3 div.sk-dashed-wrapped {border: 1px dashed gray;margin: 0 0.4em 0.5em 0.4em;box-sizing: border-box;padding-bottom: 0.4em;background-color: white;}#sk-container-id-3 div.sk-label label {font-family: monospace;font-weight: bold;display: inline-block;line-height: 1.2em;}#sk-container-id-3 div.sk-label-container {text-align: center;}#sk-container-id-3 div.sk-container {/* jupyter's `normalize.less` sets `[hidden] { display: none; }` but bootstrap.min.css set `[hidden] { display: none !important; }` so we also need the `!important` here to be able to override the default hidden behavior on the sphinx rendered scikit-learn.org. See: https://github.com/scikit-learn/scikit-learn/issues/21755 */display: inline-block !important;position: relative;}#sk-container-id-3 div.sk-text-repr-fallback {display: none;}</style><div id=\"sk-container-id-3\" class=\"sk-top-container\"><div class=\"sk-text-repr-fallback\"><pre>RandomForestClassifier(min_samples_split=10, n_estimators=400, random_state=1)</pre><b>In a Jupyter environment, please rerun this cell to show the HTML representation or trust the notebook. <br />On GitHub, the HTML representation is unable to render, please try loading this page with nbviewer.org.</b></div><div class=\"sk-container\" hidden><div class=\"sk-item\"><div class=\"sk-estimator sk-toggleable\"><input class=\"sk-toggleable__control sk-hidden--visually\" id=\"sk-estimator-id-3\" type=\"checkbox\" checked><label for=\"sk-estimator-id-3\" class=\"sk-toggleable__label sk-toggleable__label-arrow\">RandomForestClassifier</label><div class=\"sk-toggleable__content\"><pre>RandomForestClassifier(min_samples_split=10, n_estimators=400, random_state=1)</pre></div></div></div></div></div>"
      ],
      "text/plain": [
       "RandomForestClassifier(min_samples_split=10, n_estimators=400, random_state=1)"
      ]
     },
     "execution_count": 40,
     "metadata": {},
     "output_type": "execute_result"
    }
   ],
   "source": [
    "#rf.fit(train[predictors], train[\"result\"])\n",
    "rf.fit(X_train, y_train)"
   ]
  },
  {
   "cell_type": "code",
   "execution_count": 41,
   "id": "513591d8-02b6-4e47-b05f-27b544a9b58f",
   "metadata": {},
   "outputs": [
    {
     "name": "stdout",
     "output_type": "stream",
     "text": [
      "the train score is \n"
     ]
    },
    {
     "data": {
      "text/plain": [
       "0.9261181499007785"
      ]
     },
     "execution_count": 41,
     "metadata": {},
     "output_type": "execute_result"
    }
   ],
   "source": [
    "trainpreds= rf.predict(X_train)\n",
    "errortrain = accuracy_score(y_train, trainpreds)\n",
    "print(\"the train score is \" )\n",
    "errortrain"
   ]
  },
  {
   "cell_type": "code",
   "execution_count": 42,
   "id": "15e2cd1b-1c9c-43ef-b7fc-06347256b033",
   "metadata": {},
   "outputs": [],
   "source": [
    "combine = pd.DataFrame(dict(actual=y_train, predicted=trainpreds))"
   ]
  },
  {
   "cell_type": "code",
   "execution_count": 43,
   "id": "cd5994af-2e40-4a49-91b3-661759cd68b8",
   "metadata": {},
   "outputs": [
    {
     "data": {
      "text/html": [
       "<div>\n",
       "<style scoped>\n",
       "    .dataframe tbody tr th:only-of-type {\n",
       "        vertical-align: middle;\n",
       "    }\n",
       "\n",
       "    .dataframe tbody tr th {\n",
       "        vertical-align: top;\n",
       "    }\n",
       "\n",
       "    .dataframe thead th {\n",
       "        text-align: right;\n",
       "    }\n",
       "</style>\n",
       "<table border=\"1\" class=\"dataframe\">\n",
       "  <thead>\n",
       "    <tr style=\"text-align: right;\">\n",
       "      <th>predicted</th>\n",
       "      <th>0</th>\n",
       "      <th>2</th>\n",
       "      <th>3</th>\n",
       "    </tr>\n",
       "    <tr>\n",
       "      <th>actual</th>\n",
       "      <th></th>\n",
       "      <th></th>\n",
       "      <th></th>\n",
       "    </tr>\n",
       "  </thead>\n",
       "  <tbody>\n",
       "    <tr>\n",
       "      <th>0</th>\n",
       "      <td>1723</td>\n",
       "      <td>16</td>\n",
       "      <td>151</td>\n",
       "    </tr>\n",
       "    <tr>\n",
       "      <th>2</th>\n",
       "      <td>59</td>\n",
       "      <td>1280</td>\n",
       "      <td>189</td>\n",
       "    </tr>\n",
       "    <tr>\n",
       "      <th>3</th>\n",
       "      <td>57</td>\n",
       "      <td>12</td>\n",
       "      <td>3064</td>\n",
       "    </tr>\n",
       "  </tbody>\n",
       "</table>\n",
       "</div>"
      ],
      "text/plain": [
       "predicted     0     2     3\n",
       "actual                     \n",
       "0          1723    16   151\n",
       "2            59  1280   189\n",
       "3            57    12  3064"
      ]
     },
     "execution_count": 43,
     "metadata": {},
     "output_type": "execute_result"
    }
   ],
   "source": [
    "pd.crosstab(index=combine[\"actual\"], columns=combine[\"predicted\"])"
   ]
  },
  {
   "cell_type": "code",
   "execution_count": 44,
   "id": "1a84b259-1377-4b2f-8d52-12d52f66f79a",
   "metadata": {},
   "outputs": [
    {
     "name": "stdout",
     "output_type": "stream",
     "text": [
      "              precision    recall  f1-score   support\n",
      "\n",
      "           0       0.94      0.91      0.92      1890\n",
      "           2       0.98      0.84      0.90      1528\n",
      "           3       0.90      0.98      0.94      3133\n",
      "\n",
      "    accuracy                           0.93      6551\n",
      "   macro avg       0.94      0.91      0.92      6551\n",
      "weighted avg       0.93      0.93      0.93      6551\n",
      "\n"
     ]
    }
   ],
   "source": [
    "\n",
    "print(classification_report(y_train, trainpreds))"
   ]
  },
  {
   "cell_type": "markdown",
   "id": "88a4094a-a35d-4ed3-8734-b158b308b8dc",
   "metadata": {},
   "source": [
    "### Test \n",
    "* predict / accuracy / confusion matrix "
   ]
  },
  {
   "cell_type": "code",
   "execution_count": 45,
   "id": "a532f4ba-5c4c-4ad3-9665-07d8ad76e10b",
   "metadata": {},
   "outputs": [],
   "source": [
    "preds = rf.predict(X_test)"
   ]
  },
  {
   "cell_type": "code",
   "execution_count": 46,
   "id": "66923d1f-0625-4077-bd3a-3b5f9f9df8b7",
   "metadata": {},
   "outputs": [
    {
     "name": "stdout",
     "output_type": "stream",
     "text": [
      "the test score is \n"
     ]
    },
    {
     "data": {
      "text/plain": [
       "0.6550976138828634"
      ]
     },
     "execution_count": 46,
     "metadata": {},
     "output_type": "execute_result"
    }
   ],
   "source": [
    "error = accuracy_score(y_test, preds)\n",
    "print(\"the test score is \" )\n",
    "error"
   ]
  },
  {
   "cell_type": "code",
   "execution_count": 47,
   "id": "4453f288-a6ec-40d9-975a-09f7ea69bec5",
   "metadata": {},
   "outputs": [],
   "source": [
    "combined = pd.DataFrame(dict(actual=y_test, predicted=preds))"
   ]
  },
  {
   "cell_type": "code",
   "execution_count": 48,
   "id": "351c354d-2f90-4d0c-b563-13edf20899c4",
   "metadata": {},
   "outputs": [
    {
     "data": {
      "text/html": [
       "<div>\n",
       "<style scoped>\n",
       "    .dataframe tbody tr th:only-of-type {\n",
       "        vertical-align: middle;\n",
       "    }\n",
       "\n",
       "    .dataframe tbody tr th {\n",
       "        vertical-align: top;\n",
       "    }\n",
       "\n",
       "    .dataframe thead th {\n",
       "        text-align: right;\n",
       "    }\n",
       "</style>\n",
       "<table border=\"1\" class=\"dataframe\">\n",
       "  <thead>\n",
       "    <tr style=\"text-align: right;\">\n",
       "      <th>predicted</th>\n",
       "      <th>0</th>\n",
       "      <th>2</th>\n",
       "      <th>3</th>\n",
       "    </tr>\n",
       "    <tr>\n",
       "      <th>actual</th>\n",
       "      <th></th>\n",
       "      <th></th>\n",
       "      <th></th>\n",
       "    </tr>\n",
       "  </thead>\n",
       "  <tbody>\n",
       "    <tr>\n",
       "      <th>0</th>\n",
       "      <td>604</td>\n",
       "      <td>76</td>\n",
       "      <td>251</td>\n",
       "    </tr>\n",
       "    <tr>\n",
       "      <th>2</th>\n",
       "      <td>199</td>\n",
       "      <td>207</td>\n",
       "      <td>346</td>\n",
       "    </tr>\n",
       "    <tr>\n",
       "      <th>3</th>\n",
       "      <td>178</td>\n",
       "      <td>63</td>\n",
       "      <td>1303</td>\n",
       "    </tr>\n",
       "  </tbody>\n",
       "</table>\n",
       "</div>"
      ],
      "text/plain": [
       "predicted    0    2     3\n",
       "actual                   \n",
       "0          604   76   251\n",
       "2          199  207   346\n",
       "3          178   63  1303"
      ]
     },
     "execution_count": 48,
     "metadata": {},
     "output_type": "execute_result"
    }
   ],
   "source": [
    "pd.crosstab(index=combined[\"actual\"], columns=combined[\"predicted\"])"
   ]
  },
  {
   "cell_type": "code",
   "execution_count": 49,
   "id": "ae6cef0d-b672-44e5-ba1e-83433a42838e",
   "metadata": {},
   "outputs": [
    {
     "name": "stdout",
     "output_type": "stream",
     "text": [
      "              precision    recall  f1-score   support\n",
      "\n",
      "           0       0.62      0.65      0.63       931\n",
      "           2       0.60      0.28      0.38       752\n",
      "           3       0.69      0.84      0.76      1544\n",
      "\n",
      "    accuracy                           0.66      3227\n",
      "   macro avg       0.63      0.59      0.59      3227\n",
      "weighted avg       0.65      0.66      0.63      3227\n",
      "\n"
     ]
    }
   ],
   "source": [
    "from sklearn.metrics import classification_report\n",
    "\n",
    "print(classification_report(y_test, preds))"
   ]
  },
  {
   "cell_type": "markdown",
   "id": "9cfcff1e-c584-4276-bdca-0b7ee6ada883",
   "metadata": {},
   "source": [
    "# New search with rolling method on the variables \"work in process\""
   ]
  },
  {
   "cell_type": "code",
   "execution_count": null,
   "id": "47505916-a6bf-4444-8c51-401ae2b794a1",
   "metadata": {},
   "outputs": [],
   "source": [
    "df = pd.read_csv('df_for_ML_countries_not_numeric.csv')\n",
    "df.head()"
   ]
  },
  {
   "cell_type": "code",
   "execution_count": null,
   "id": "6e96f8d1-b2ff-4329-b21d-15a531b593c7",
   "metadata": {},
   "outputs": [],
   "source": [
    "grouped_matches = df.groupby(\"home_team\")"
   ]
  },
  {
   "cell_type": "code",
   "execution_count": null,
   "id": "e91e5e80-af4b-4585-ab57-d5acb1187a3a",
   "metadata": {},
   "outputs": [],
   "source": [
    "group = grouped_matches.get_group(\"France\").sort_values(\"date\")"
   ]
  },
  {
   "cell_type": "code",
   "execution_count": null,
   "id": "45e3981d-2d39-4e8c-9884-ba918d3faa03",
   "metadata": {},
   "outputs": [],
   "source": [
    "def rolling_averages(group, cols, new_cols):\n",
    "    group = group.sort_values(\"date\")\n",
    "    rolling_stats = group[cols].rolling(3, closed='left').mean()\n",
    "    group[new_cols] = rolling_stats\n",
    "    group = group.dropna(subset=new_cols)\n",
    "    return group"
   ]
  },
  {
   "cell_type": "code",
   "execution_count": null,
   "id": "5cf3b848-af68-466f-9122-262d05d2818b",
   "metadata": {},
   "outputs": [],
   "source": [
    "cols = ['home_team_score', 'away_team_score',\n",
    "       'tournament', 'shoot_out', 'home_team_goalkeeper_score',\n",
    "       'away_team_goalkeeper_score', 'home_team_mean_offense_score',\n",
    "       'home_team_mean_midfield_score', 'away_team_mean_defense_score',\n",
    "       'away_team_mean_offense_score', 'away_team_mean_midfield_score']\n",
    "new_cols = [f\"{c}_rolling\" for c in cols]\n",
    "\n",
    "rolling_averages(group, cols, new_cols)"
   ]
  },
  {
   "cell_type": "code",
   "execution_count": null,
   "id": "d8643a4d-3424-4da3-9c5a-445e367e5a9e",
   "metadata": {},
   "outputs": [],
   "source": [
    "matches_rolling = df.groupby(\"home_team\").apply(lambda x: rolling_averages(x, cols, new_cols))"
   ]
  },
  {
   "cell_type": "code",
   "execution_count": null,
   "id": "b5379df3-a481-4bd0-827b-ba463a560dc1",
   "metadata": {},
   "outputs": [],
   "source": [
    "matches_rolling = matches_rolling.droplevel('home_team')\n"
   ]
  },
  {
   "cell_type": "code",
   "execution_count": null,
   "id": "4587a8f0-d981-4c17-a7da-9aeca0e44a29",
   "metadata": {},
   "outputs": [],
   "source": []
  },
  {
   "cell_type": "code",
   "execution_count": null,
   "id": "99cc770f-9264-469e-a78c-ea60b40d2744",
   "metadata": {},
   "outputs": [],
   "source": [
    "matches_rolling.index = range(matches_rolling.shape[0])"
   ]
  },
  {
   "cell_type": "code",
   "execution_count": null,
   "id": "a425ca02-4db9-4caf-9fb2-bd6eaf6205ed",
   "metadata": {},
   "outputs": [],
   "source": [
    "matches_rolling.loc[(matches_rolling['home_team'] == 'Qatar' )]"
   ]
  },
  {
   "cell_type": "code",
   "execution_count": null,
   "id": "4b9c89e9-1f3c-4824-b426-ab4dd88dcce5",
   "metadata": {},
   "outputs": [],
   "source": [
    "def make_predictions(data, predictors):\n",
    "    train = data[data.index < '2022-10-01']\n",
    "    test = data[data.index < '2022-10-01']\n",
    "    rf.fit(train[predictors], train[\"result\"])\n",
    "    preds = rf.predict(test[predictors])\n",
    "    combined = pd.DataFrame(dict(actual=test[\"result\"], predicted=preds), index=test.index)\n",
    "    error = precision_score(test[\"result\"], preds)\n",
    "    return combined, error"
   ]
  },
  {
   "cell_type": "code",
   "execution_count": null,
   "id": "c7542a96-f7d1-4719-8496-05051480902a",
   "metadata": {},
   "outputs": [],
   "source": [
    "combined, error = make_predictions(matches_rolling, predictors + new_cols)"
   ]
  },
  {
   "cell_type": "code",
   "execution_count": null,
   "id": "cfc82f34-8177-4220-ba7c-7d46abd8520e",
   "metadata": {},
   "outputs": [],
   "source": []
  },
  {
   "cell_type": "code",
   "execution_count": null,
   "id": "f1a0ac4e-5ddc-4318-9e9d-5e97d439f597",
   "metadata": {},
   "outputs": [],
   "source": []
  },
  {
   "cell_type": "code",
   "execution_count": null,
   "id": "f704811c-1c77-4710-9fa5-77a15596b58c",
   "metadata": {},
   "outputs": [],
   "source": []
  },
  {
   "cell_type": "code",
   "execution_count": null,
   "id": "c3387fb4-da11-4bfb-8f4c-4a81695c56e4",
   "metadata": {},
   "outputs": [],
   "source": []
  },
  {
   "cell_type": "code",
   "execution_count": null,
   "id": "821b126d-2f99-4eb6-b2e5-ccfddfac5c86",
   "metadata": {},
   "outputs": [],
   "source": []
  }
 ],
 "metadata": {
  "kernelspec": {
   "display_name": "Python 3 (ipykernel)",
   "language": "python",
   "name": "python3"
  },
  "language_info": {
   "codemirror_mode": {
    "name": "ipython",
    "version": 3
   },
   "file_extension": ".py",
   "mimetype": "text/x-python",
   "name": "python",
   "nbconvert_exporter": "python",
   "pygments_lexer": "ipython3",
   "version": "3.10.4"
  }
 },
 "nbformat": 4,
 "nbformat_minor": 5
}
