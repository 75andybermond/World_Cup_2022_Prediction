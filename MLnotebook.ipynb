{
 "cells": [
  {
   "cell_type": "code",
   "execution_count": 71,
   "id": "eb96fecc-96aa-4a08-a167-194b2e90dff9",
   "metadata": {},
   "outputs": [],
   "source": [
    "import pandas as pd \n",
    "import seaborn as sns\n",
    "import numpy as np\n",
    "from sklearn import preprocessing\n",
    "import matplotlib.pyplot as plt\n",
    "\n",
    "from sklearn.preprocessing import LabelEncoder\n",
    "\n",
    "\n",
    "from sklearn.linear_model import Ridge\n",
    "from sklearn.model_selection import GridSearchCV\n",
    "from sklearn.preprocessing import StandardScaler\n",
    "from sklearn.model_selection import train_test_split\n",
    "from sklearn.svm import SVC\n",
    "from sklearn.model_selection import RepeatedKFold\n",
    "from sklearn.ensemble import RandomForestClassifier\n",
    "from sklearn.linear_model import LogisticRegression\n",
    "from sklearn.naive_bayes import GaussianNB\n",
    "from sklearn.neighbors import KNeighborsClassifier\n",
    "from sklearn.gaussian_process import GaussianProcessClassifier\n",
    "from sklearn.tree import DecisionTreeClassifier\n",
    "from sklearn.ensemble import AdaBoostClassifier\n",
    "from sklearn.discriminant_analysis import QuadraticDiscriminantAnalysis\n",
    "from sklearn.svm import SVR\n",
    "from sklearn.pipeline import Pipeline\n",
    "from sklearn.neural_network import MLPClassifier \n",
    "from sklearn.model_selection import cross_val_score\n",
    "from sklearn.metrics import mean_squared_error, mean_absolute_error\n",
    "from sklearn.metrics import accuracy_score\n",
    "from sklearn.metrics import classification_report\n",
    "from sklearn.metrics import accuracy_score, recall_score, confusion_matrix, ConfusionMatrixDisplay\n",
    "\n",
    "# grid search kernel for gaussian process classifier\n",
    "from sklearn.datasets import make_classification\n",
    "from sklearn.model_selection import GridSearchCV\n",
    "from sklearn.model_selection import RepeatedStratifiedKFold\n",
    "from sklearn.gaussian_process import GaussianProcessClassifier\n",
    "from sklearn.gaussian_process.kernels import RBF\n",
    "from sklearn.gaussian_process.kernels import DotProduct\n",
    "from sklearn.gaussian_process.kernels import Matern\n",
    "from sklearn.gaussian_process.kernels import RationalQuadratic\n",
    "from sklearn.gaussian_process.kernels import WhiteKernel\n",
    "from sklearn.gaussian_process.kernels import ConstantKernel, RBF\n",
    "\n",
    "import tensorflow\n",
    "from tensorflow.keras.models import Sequential\n",
    "from tensorflow.keras.layers import Dense\n",
    "from tensorflow.keras.utils import to_categorical"
   ]
  },
  {
   "cell_type": "markdown",
   "id": "339569a4-a921-40aa-9d32-296ca1d6b9c6",
   "metadata": {},
   "source": [
    "# Open DF with countries encoded "
   ]
  },
  {
   "cell_type": "code",
   "execution_count": 72,
   "id": "a69b6bc2-c81f-470d-a26d-06be560096f6",
   "metadata": {},
   "outputs": [
    {
     "data": {
      "text/plain": [
       "0    913\n",
       "2    879\n",
       "1    731\n",
       "Name: result, dtype: int64"
      ]
     },
     "execution_count": 72,
     "metadata": {},
     "output_type": "execute_result"
    }
   ],
   "source": [
    "df = pd.read_csv('df_for_ML_v2.csv', index_col='date')\n",
    "df.result.value_counts()"
   ]
  },
  {
   "cell_type": "code",
   "execution_count": 3,
   "id": "94fff60e-896f-4718-af9e-1c1f9d9e2c8c",
   "metadata": {},
   "outputs": [
    {
     "data": {
      "text/plain": [
       "Index(['home_team', 'away_team', 'home_team_fifa_rank', 'away_team_fifa_rank',\n",
       "       'home_team_goalkeeper_score', 'away_team_goalkeeper_score',\n",
       "       'home_team_mean_defense_score', 'home_team_mean_offense_score',\n",
       "       'home_team_mean_midfield_score', 'away_team_mean_defense_score',\n",
       "       'away_team_mean_offense_score', 'away_team_mean_midfield_score',\n",
       "       'fifa_rank_delta', 'offense/defense_ratio', 'result'],\n",
       "      dtype='object')"
      ]
     },
     "execution_count": 3,
     "metadata": {},
     "output_type": "execute_result"
    }
   ],
   "source": [
    "df.columns"
   ]
  },
  {
   "cell_type": "code",
   "execution_count": 4,
   "id": "b5e86f6c-9a55-4aad-83b3-3f5007a7d2dc",
   "metadata": {},
   "outputs": [
    {
     "data": {
      "text/plain": [
       "date\n",
       "1993-08-08    71.669231\n",
       "1993-08-15    86.150000\n",
       "1993-08-25    62.080000\n",
       "1993-08-29    74.773684\n",
       "1993-09-05    78.536364\n",
       "                ...    \n",
       "2022-03-29    72.000000\n",
       "2022-03-29    82.200000\n",
       "2022-03-29    84.800000\n",
       "2022-03-29    81.200000\n",
       "2022-03-30    75.800000\n",
       "Name: away_team_mean_defense_score, Length: 2523, dtype: float64"
      ]
     },
     "execution_count": 4,
     "metadata": {},
     "output_type": "execute_result"
    }
   ],
   "source": [
    "del df['fifa_rank_delta']\n",
    "del df['offense/defense_ratio']\n",
    "df['home_team_mean_offense_score']\n",
    "df['away_team_mean_defense_score']"
   ]
  },
  {
   "cell_type": "markdown",
   "id": "d76fd13b-c05a-48d8-8658-3fc1a9083b6a",
   "metadata": {},
   "source": [
    "# removing some columsn to see if its working better"
   ]
  },
  {
   "cell_type": "code",
   "execution_count": 392,
   "id": "328bd58e-d82a-4991-87bf-71de46d01350",
   "metadata": {},
   "outputs": [],
   "source": [
    "df = df[['home_team', 'away_team', 'home_team_fifa_rank', 'away_team_fifa_rank', 'result']]"
   ]
  },
  {
   "cell_type": "markdown",
   "id": "4afbd6bf-4b40-4191-8388-7a0175c1ea82",
   "metadata": {},
   "source": [
    "# Define X and y"
   ]
  },
  {
   "cell_type": "code",
   "execution_count": 5,
   "id": "fd8f40b6-91d2-4fec-b5f8-bd89fe6a1893",
   "metadata": {},
   "outputs": [],
   "source": [
    "X = df.drop(['result'], axis=1)\n",
    "y = df['result']"
   ]
  },
  {
   "cell_type": "code",
   "execution_count": 6,
   "id": "70e5612d-e382-46ce-9518-a573bf0f04a3",
   "metadata": {},
   "outputs": [
    {
     "data": {
      "text/plain": [
       "Index(['home_team', 'away_team', 'home_team_fifa_rank', 'away_team_fifa_rank',\n",
       "       'home_team_goalkeeper_score', 'away_team_goalkeeper_score',\n",
       "       'home_team_mean_defense_score', 'home_team_mean_offense_score',\n",
       "       'home_team_mean_midfield_score', 'away_team_mean_defense_score',\n",
       "       'away_team_mean_offense_score', 'away_team_mean_midfield_score'],\n",
       "      dtype='object')"
      ]
     },
     "execution_count": 6,
     "metadata": {},
     "output_type": "execute_result"
    }
   ],
   "source": [
    "X.columns"
   ]
  },
  {
   "cell_type": "code",
   "execution_count": null,
   "id": "a9e210a9-0617-4c94-9639-73fe73eca647",
   "metadata": {},
   "outputs": [],
   "source": []
  },
  {
   "cell_type": "markdown",
   "id": "47a20f40-e7ae-4fc9-ad5c-92b270bb94ae",
   "metadata": {
    "tags": []
   },
   "source": [
    "## Scaling using StandScaler \n",
    "* I don't want \"yet\" to remove the few outliers "
   ]
  },
  {
   "cell_type": "code",
   "execution_count": 7,
   "id": "a80aa9cc-2af7-42d6-9d99-a48dda7cbc7d",
   "metadata": {},
   "outputs": [],
   "source": [
    "X_train, X_test, y_train, y_test = train_test_split(X, y, test_size=0.3, random_state=1 , stratify=y) #, stratify=y)"
   ]
  },
  {
   "cell_type": "code",
   "execution_count": 8,
   "id": "7f297368-2385-44fc-8d2a-1f77d7e09ea7",
   "metadata": {},
   "outputs": [
    {
     "data": {
      "text/plain": [
       "((1766, 12), (757, 12), (1766,), (757,))"
      ]
     },
     "execution_count": 8,
     "metadata": {},
     "output_type": "execute_result"
    }
   ],
   "source": [
    "X_train.shape, X_test.shape, y_train.shape, y_test.shape"
   ]
  },
  {
   "cell_type": "code",
   "execution_count": 9,
   "id": "2132cf29-65d1-4995-aeeb-3c23fa40a84d",
   "metadata": {},
   "outputs": [],
   "source": [
    "from sklearn.preprocessing import StandardScaler\n",
    "import sklearn\n",
    "\n",
    "Scaller = StandardScaler()\n",
    " \n",
    "# standardization \n",
    "X_train = Scaller.fit_transform(X_train) \n",
    "X_test =Scaller.fit_transform(X_test)"
   ]
  },
  {
   "cell_type": "markdown",
   "id": "b32e71e8-5469-47b8-b947-054678b27990",
   "metadata": {},
   "source": [
    "### Running almost all the Classifiers at once to have a general idea of the results "
   ]
  },
  {
   "cell_type": "code",
   "execution_count": 404,
   "id": "0d5e479d-825e-48c5-afc5-f5159c7ad7d8",
   "metadata": {},
   "outputs": [],
   "source": [
    "names = [\"Nearest Neighbors\", \"Logistic Regression\",\"Linear SVM\", \"RBF SVM\", \"Gaussian Process\",\n",
    "         \"Decision Tree\", \"Random Forest\", \"MLP\", \"AdaBoost\",\n",
    "         \"Naive Bayes\", \"QDA\"]\n",
    "\n",
    "classifiers = [\n",
    "    KNeighborsClassifier(n_neighbors=80),\n",
    "    LogisticRegression(),\n",
    "    SVC(kernel=\"linear\", C=0.025, probability=True),\n",
    "    SVC(gamma=2, C=1, probability=True),\n",
    "    GaussianProcessClassifier(),\n",
    "    DecisionTreeClassifier(max_depth=5),\n",
    "    RandomForestClassifier(max_depth=5, n_estimators=10, max_features=1),\n",
    "    MLPClassifier(hidden_layer_sizes=(150,100,50), alpha = 0.05, \n",
    "                       max_iter = 50,activation = 'relu', learning_rate = 'constant', \n",
    "                       solver = 'adam' , early_stopping=True),\n",
    "    AdaBoostClassifier(),\n",
    "    GaussianNB(),\n",
    "    QuadraticDiscriminantAnalysis()]"
   ]
  },
  {
   "cell_type": "code",
   "execution_count": 405,
   "id": "fa7fbad4-98d3-4275-a5cf-32a66091f3b5",
   "metadata": {},
   "outputs": [
    {
     "name": "stdout",
     "output_type": "stream",
     "text": [
      "Nearest Neighbors 0.5759577278731837\n",
      "Logistic Regression 0.5891677675033025\n",
      "Linear SVM 0.5878467635402906\n",
      "RBF SVM 0.5931307793923382\n",
      "Gaussian Process 0.5785997357992074\n",
      "Decision Tree 0.5799207397622193\n",
      "Random Forest 0.5653896961690885\n",
      "MLP 0.560105680317041\n",
      "AdaBoost 0.5521796565389696\n",
      "Naive Bayes 0.5799207397622193\n",
      "QDA 0.5693527080581242\n"
     ]
    }
   ],
   "source": [
    "for name, clf in zip(names, classifiers):\n",
    "        clf.fit(X_train, y_train)\n",
    "        accuracy = clf.score(X_test, y_test)\n",
    "\n",
    "        # prediction_proba = clf.predict_proba(X_test)\n",
    "        # logloss = log_loss(y_test,prediction_proba)\n",
    "        # precision, recall, fscore, support = score(y_test, prediction)\n",
    "        # conf_martrix = confusion_matrix(y_test, prediction)\n",
    "        # clas_report = classification_report(y_test, prediction)\n",
    "\n",
    "        print(name, accuracy)"
   ]
  },
  {
   "cell_type": "markdown",
   "id": "0e7b955c-ed1a-4669-b1aa-03b64779b8a0",
   "metadata": {
    "jp-MarkdownHeadingCollapsed": true,
    "tags": []
   },
   "source": [
    "# Run SVC "
   ]
  },
  {
   "cell_type": "code",
   "execution_count": 10,
   "id": "e251455e-5bc2-4366-ac1c-d214761f29eb",
   "metadata": {},
   "outputs": [],
   "source": [
    "from sklearn.svm import SVC\n",
    "model = SVC(C= 1, gamma= 1)"
   ]
  },
  {
   "cell_type": "code",
   "execution_count": 11,
   "id": "3f80b913-cb97-4098-b7f6-8d13d75e9ae1",
   "metadata": {},
   "outputs": [
    {
     "ename": "AttributeError",
     "evalue": "'GridSearchCV' object has no attribute 'best_params_'",
     "output_type": "error",
     "traceback": [
      "\u001b[1;31m---------------------------------------------------------------------------\u001b[0m",
      "\u001b[1;31mAttributeError\u001b[0m                            Traceback (most recent call last)",
      "Input \u001b[1;32mIn [11]\u001b[0m, in \u001b[0;36m<cell line: 3>\u001b[1;34m()\u001b[0m\n\u001b[0;32m      1\u001b[0m param_grid \u001b[38;5;241m=\u001b[39m {\u001b[38;5;124m'\u001b[39m\u001b[38;5;124mC\u001b[39m\u001b[38;5;124m'\u001b[39m:[\u001b[38;5;241m1\u001b[39m,\u001b[38;5;241m10\u001b[39m,\u001b[38;5;241m100\u001b[39m,\u001b[38;5;241m1000\u001b[39m],\u001b[38;5;124m'\u001b[39m\u001b[38;5;124mgamma\u001b[39m\u001b[38;5;124m'\u001b[39m:[\u001b[38;5;241m1\u001b[39m,\u001b[38;5;241m0.1\u001b[39m,\u001b[38;5;241m0.001\u001b[39m,\u001b[38;5;241m0.0001\u001b[39m], \u001b[38;5;124m'\u001b[39m\u001b[38;5;124mkernel\u001b[39m\u001b[38;5;124m'\u001b[39m:[\u001b[38;5;124m'\u001b[39m\u001b[38;5;124mlinear\u001b[39m\u001b[38;5;124m'\u001b[39m,\u001b[38;5;124m'\u001b[39m\u001b[38;5;124mrbf\u001b[39m\u001b[38;5;124m'\u001b[39m]}\n\u001b[0;32m      2\u001b[0m grid \u001b[38;5;241m=\u001b[39m GridSearchCV(SVC(),param_grid,refit \u001b[38;5;241m=\u001b[39m \u001b[38;5;28;01mTrue\u001b[39;00m, verbose\u001b[38;5;241m=\u001b[39m\u001b[38;5;241m2\u001b[39m)\n\u001b[1;32m----> 3\u001b[0m \u001b[43mgrid\u001b[49m\u001b[38;5;241;43m.\u001b[39;49m\u001b[43mbest_params_\u001b[49m\n",
      "\u001b[1;31mAttributeError\u001b[0m: 'GridSearchCV' object has no attribute 'best_params_'"
     ]
    }
   ],
   "source": [
    "param_grid = {'C':[1,10,100,1000],'gamma':[1,0.1,0.001,0.0001], 'kernel':['linear','rbf']}\n",
    "grid = GridSearchCV(SVC(),param_grid,refit = True, verbose=2)\n",
    "grid.best_params_"
   ]
  },
  {
   "cell_type": "code",
   "execution_count": 12,
   "id": "8852d1a2-f992-40d9-8490-c3321f1ceee7",
   "metadata": {},
   "outputs": [
    {
     "data": {
      "text/html": [
       "<style>#sk-container-id-1 {color: black;background-color: white;}#sk-container-id-1 pre{padding: 0;}#sk-container-id-1 div.sk-toggleable {background-color: white;}#sk-container-id-1 label.sk-toggleable__label {cursor: pointer;display: block;width: 100%;margin-bottom: 0;padding: 0.3em;box-sizing: border-box;text-align: center;}#sk-container-id-1 label.sk-toggleable__label-arrow:before {content: \"▸\";float: left;margin-right: 0.25em;color: #696969;}#sk-container-id-1 label.sk-toggleable__label-arrow:hover:before {color: black;}#sk-container-id-1 div.sk-estimator:hover label.sk-toggleable__label-arrow:before {color: black;}#sk-container-id-1 div.sk-toggleable__content {max-height: 0;max-width: 0;overflow: hidden;text-align: left;background-color: #f0f8ff;}#sk-container-id-1 div.sk-toggleable__content pre {margin: 0.2em;color: black;border-radius: 0.25em;background-color: #f0f8ff;}#sk-container-id-1 input.sk-toggleable__control:checked~div.sk-toggleable__content {max-height: 200px;max-width: 100%;overflow: auto;}#sk-container-id-1 input.sk-toggleable__control:checked~label.sk-toggleable__label-arrow:before {content: \"▾\";}#sk-container-id-1 div.sk-estimator input.sk-toggleable__control:checked~label.sk-toggleable__label {background-color: #d4ebff;}#sk-container-id-1 div.sk-label input.sk-toggleable__control:checked~label.sk-toggleable__label {background-color: #d4ebff;}#sk-container-id-1 input.sk-hidden--visually {border: 0;clip: rect(1px 1px 1px 1px);clip: rect(1px, 1px, 1px, 1px);height: 1px;margin: -1px;overflow: hidden;padding: 0;position: absolute;width: 1px;}#sk-container-id-1 div.sk-estimator {font-family: monospace;background-color: #f0f8ff;border: 1px dotted black;border-radius: 0.25em;box-sizing: border-box;margin-bottom: 0.5em;}#sk-container-id-1 div.sk-estimator:hover {background-color: #d4ebff;}#sk-container-id-1 div.sk-parallel-item::after {content: \"\";width: 100%;border-bottom: 1px solid gray;flex-grow: 1;}#sk-container-id-1 div.sk-label:hover label.sk-toggleable__label {background-color: #d4ebff;}#sk-container-id-1 div.sk-serial::before {content: \"\";position: absolute;border-left: 1px solid gray;box-sizing: border-box;top: 0;bottom: 0;left: 50%;z-index: 0;}#sk-container-id-1 div.sk-serial {display: flex;flex-direction: column;align-items: center;background-color: white;padding-right: 0.2em;padding-left: 0.2em;position: relative;}#sk-container-id-1 div.sk-item {position: relative;z-index: 1;}#sk-container-id-1 div.sk-parallel {display: flex;align-items: stretch;justify-content: center;background-color: white;position: relative;}#sk-container-id-1 div.sk-item::before, #sk-container-id-1 div.sk-parallel-item::before {content: \"\";position: absolute;border-left: 1px solid gray;box-sizing: border-box;top: 0;bottom: 0;left: 50%;z-index: -1;}#sk-container-id-1 div.sk-parallel-item {display: flex;flex-direction: column;z-index: 1;position: relative;background-color: white;}#sk-container-id-1 div.sk-parallel-item:first-child::after {align-self: flex-end;width: 50%;}#sk-container-id-1 div.sk-parallel-item:last-child::after {align-self: flex-start;width: 50%;}#sk-container-id-1 div.sk-parallel-item:only-child::after {width: 0;}#sk-container-id-1 div.sk-dashed-wrapped {border: 1px dashed gray;margin: 0 0.4em 0.5em 0.4em;box-sizing: border-box;padding-bottom: 0.4em;background-color: white;}#sk-container-id-1 div.sk-label label {font-family: monospace;font-weight: bold;display: inline-block;line-height: 1.2em;}#sk-container-id-1 div.sk-label-container {text-align: center;}#sk-container-id-1 div.sk-container {/* jupyter's `normalize.less` sets `[hidden] { display: none; }` but bootstrap.min.css set `[hidden] { display: none !important; }` so we also need the `!important` here to be able to override the default hidden behavior on the sphinx rendered scikit-learn.org. See: https://github.com/scikit-learn/scikit-learn/issues/21755 */display: inline-block !important;position: relative;}#sk-container-id-1 div.sk-text-repr-fallback {display: none;}</style><div id=\"sk-container-id-1\" class=\"sk-top-container\"><div class=\"sk-text-repr-fallback\"><pre>SVC(C=1, gamma=1)</pre><b>In a Jupyter environment, please rerun this cell to show the HTML representation or trust the notebook. <br />On GitHub, the HTML representation is unable to render, please try loading this page with nbviewer.org.</b></div><div class=\"sk-container\" hidden><div class=\"sk-item\"><div class=\"sk-estimator sk-toggleable\"><input class=\"sk-toggleable__control sk-hidden--visually\" id=\"sk-estimator-id-1\" type=\"checkbox\" checked><label for=\"sk-estimator-id-1\" class=\"sk-toggleable__label sk-toggleable__label-arrow\">SVC</label><div class=\"sk-toggleable__content\"><pre>SVC(C=1, gamma=1)</pre></div></div></div></div></div>"
      ],
      "text/plain": [
       "SVC(C=1, gamma=1)"
      ]
     },
     "execution_count": 12,
     "metadata": {},
     "output_type": "execute_result"
    }
   ],
   "source": [
    "model.fit(X_train,y_train)"
   ]
  },
  {
   "cell_type": "code",
   "execution_count": 13,
   "id": "f87ebd2b-164d-468b-bfd5-68c1f23a064b",
   "metadata": {},
   "outputs": [
    {
     "name": "stdout",
     "output_type": "stream",
     "text": [
      "the train score is \n"
     ]
    },
    {
     "data": {
      "text/plain": [
       "0.9580973952434881"
      ]
     },
     "execution_count": 13,
     "metadata": {},
     "output_type": "execute_result"
    }
   ],
   "source": [
    "trainpr= model.predict(X_train)\n",
    "errortrain = accuracy_score(y_train, trainpr)\n",
    "print(\"the train score is \" )\n",
    "errortrain"
   ]
  },
  {
   "cell_type": "code",
   "execution_count": 14,
   "id": "fad21e69-3dd8-4cc8-8acd-0e2562212f56",
   "metadata": {},
   "outputs": [
    {
     "data": {
      "text/html": [
       "<div>\n",
       "<style scoped>\n",
       "    .dataframe tbody tr th:only-of-type {\n",
       "        vertical-align: middle;\n",
       "    }\n",
       "\n",
       "    .dataframe tbody tr th {\n",
       "        vertical-align: top;\n",
       "    }\n",
       "\n",
       "    .dataframe thead th {\n",
       "        text-align: right;\n",
       "    }\n",
       "</style>\n",
       "<table border=\"1\" class=\"dataframe\">\n",
       "  <thead>\n",
       "    <tr style=\"text-align: right;\">\n",
       "      <th>predicted</th>\n",
       "      <th>0</th>\n",
       "      <th>1</th>\n",
       "      <th>2</th>\n",
       "    </tr>\n",
       "    <tr>\n",
       "      <th>actual</th>\n",
       "      <th></th>\n",
       "      <th></th>\n",
       "      <th></th>\n",
       "    </tr>\n",
       "  </thead>\n",
       "  <tbody>\n",
       "    <tr>\n",
       "      <th>0</th>\n",
       "      <td>626</td>\n",
       "      <td>4</td>\n",
       "      <td>9</td>\n",
       "    </tr>\n",
       "    <tr>\n",
       "      <th>1</th>\n",
       "      <td>20</td>\n",
       "      <td>479</td>\n",
       "      <td>13</td>\n",
       "    </tr>\n",
       "    <tr>\n",
       "      <th>2</th>\n",
       "      <td>17</td>\n",
       "      <td>11</td>\n",
       "      <td>587</td>\n",
       "    </tr>\n",
       "  </tbody>\n",
       "</table>\n",
       "</div>"
      ],
      "text/plain": [
       "predicted    0    1    2\n",
       "actual                  \n",
       "0          626    4    9\n",
       "1           20  479   13\n",
       "2           17   11  587"
      ]
     },
     "execution_count": 14,
     "metadata": {},
     "output_type": "execute_result"
    }
   ],
   "source": [
    "combine = pd.DataFrame(dict(actual=y_train, predicted=trainpr))\n",
    "pd.crosstab(index=combine[\"actual\"], columns=combine[\"predicted\"])"
   ]
  },
  {
   "cell_type": "code",
   "execution_count": 15,
   "id": "ff316f80-0023-4135-8c92-b0869f8f8fad",
   "metadata": {},
   "outputs": [
    {
     "name": "stdout",
     "output_type": "stream",
     "text": [
      "              precision    recall  f1-score   support\n",
      "\n",
      "           0       0.94      0.98      0.96       639\n",
      "           1       0.97      0.94      0.95       512\n",
      "           2       0.96      0.95      0.96       615\n",
      "\n",
      "    accuracy                           0.96      1766\n",
      "   macro avg       0.96      0.96      0.96      1766\n",
      "weighted avg       0.96      0.96      0.96      1766\n",
      "\n"
     ]
    }
   ],
   "source": [
    "print(classification_report(y_train, trainpr))"
   ]
  },
  {
   "cell_type": "markdown",
   "id": "b13d5f52-d9f7-4351-9433-3bc7c4e8db55",
   "metadata": {
    "tags": []
   },
   "source": [
    "# Test evaluation "
   ]
  },
  {
   "cell_type": "code",
   "execution_count": 16,
   "id": "6b65f1e1-d3e8-4bb3-ba2d-06f24cb45c80",
   "metadata": {},
   "outputs": [
    {
     "name": "stdout",
     "output_type": "stream",
     "text": [
      "the test score is \n"
     ]
    },
    {
     "data": {
      "text/plain": [
       "0.618229854689564"
      ]
     },
     "execution_count": 16,
     "metadata": {},
     "output_type": "execute_result"
    }
   ],
   "source": [
    "predts = model.predict(X_test)\n",
    "errortest = accuracy_score(y_test, predts)\n",
    "print(\"the test score is \" )\n",
    "errortest"
   ]
  },
  {
   "cell_type": "code",
   "execution_count": 17,
   "id": "6ccc7117-45b5-4cd3-8f03-425a373e6ddb",
   "metadata": {},
   "outputs": [
    {
     "data": {
      "text/html": [
       "<div>\n",
       "<style scoped>\n",
       "    .dataframe tbody tr th:only-of-type {\n",
       "        vertical-align: middle;\n",
       "    }\n",
       "\n",
       "    .dataframe tbody tr th {\n",
       "        vertical-align: top;\n",
       "    }\n",
       "\n",
       "    .dataframe thead th {\n",
       "        text-align: right;\n",
       "    }\n",
       "</style>\n",
       "<table border=\"1\" class=\"dataframe\">\n",
       "  <thead>\n",
       "    <tr style=\"text-align: right;\">\n",
       "      <th>predicted</th>\n",
       "      <th>0</th>\n",
       "      <th>1</th>\n",
       "      <th>2</th>\n",
       "    </tr>\n",
       "    <tr>\n",
       "      <th>actual</th>\n",
       "      <th></th>\n",
       "      <th></th>\n",
       "      <th></th>\n",
       "    </tr>\n",
       "  </thead>\n",
       "  <tbody>\n",
       "    <tr>\n",
       "      <th>0</th>\n",
       "      <td>193</td>\n",
       "      <td>43</td>\n",
       "      <td>38</td>\n",
       "    </tr>\n",
       "    <tr>\n",
       "      <th>1</th>\n",
       "      <td>83</td>\n",
       "      <td>78</td>\n",
       "      <td>58</td>\n",
       "    </tr>\n",
       "    <tr>\n",
       "      <th>2</th>\n",
       "      <td>41</td>\n",
       "      <td>26</td>\n",
       "      <td>197</td>\n",
       "    </tr>\n",
       "  </tbody>\n",
       "</table>\n",
       "</div>"
      ],
      "text/plain": [
       "predicted    0   1    2\n",
       "actual                 \n",
       "0          193  43   38\n",
       "1           83  78   58\n",
       "2           41  26  197"
      ]
     },
     "execution_count": 17,
     "metadata": {},
     "output_type": "execute_result"
    }
   ],
   "source": [
    "combine = pd.DataFrame(dict(actual=y_test, predicted=predts))\n",
    "pd.crosstab(index=combine[\"actual\"], columns=combine[\"predicted\"])"
   ]
  },
  {
   "cell_type": "code",
   "execution_count": 18,
   "id": "37bc8859-878f-4196-9c48-2f8ebd3b8b02",
   "metadata": {},
   "outputs": [
    {
     "name": "stdout",
     "output_type": "stream",
     "text": [
      "              precision    recall  f1-score   support\n",
      "\n",
      "           0       0.61      0.70      0.65       274\n",
      "           1       0.53      0.36      0.43       219\n",
      "           2       0.67      0.75      0.71       264\n",
      "\n",
      "    accuracy                           0.62       757\n",
      "   macro avg       0.60      0.60      0.60       757\n",
      "weighted avg       0.61      0.62      0.61       757\n",
      "\n"
     ]
    }
   ],
   "source": [
    "print(classification_report(y_test, predts))"
   ]
  },
  {
   "cell_type": "code",
   "execution_count": 19,
   "id": "e430081f-ff13-4cce-a131-d0f05076d699",
   "metadata": {},
   "outputs": [
    {
     "data": {
      "text/html": [
       "<style>#sk-container-id-2 {color: black;background-color: white;}#sk-container-id-2 pre{padding: 0;}#sk-container-id-2 div.sk-toggleable {background-color: white;}#sk-container-id-2 label.sk-toggleable__label {cursor: pointer;display: block;width: 100%;margin-bottom: 0;padding: 0.3em;box-sizing: border-box;text-align: center;}#sk-container-id-2 label.sk-toggleable__label-arrow:before {content: \"▸\";float: left;margin-right: 0.25em;color: #696969;}#sk-container-id-2 label.sk-toggleable__label-arrow:hover:before {color: black;}#sk-container-id-2 div.sk-estimator:hover label.sk-toggleable__label-arrow:before {color: black;}#sk-container-id-2 div.sk-toggleable__content {max-height: 0;max-width: 0;overflow: hidden;text-align: left;background-color: #f0f8ff;}#sk-container-id-2 div.sk-toggleable__content pre {margin: 0.2em;color: black;border-radius: 0.25em;background-color: #f0f8ff;}#sk-container-id-2 input.sk-toggleable__control:checked~div.sk-toggleable__content {max-height: 200px;max-width: 100%;overflow: auto;}#sk-container-id-2 input.sk-toggleable__control:checked~label.sk-toggleable__label-arrow:before {content: \"▾\";}#sk-container-id-2 div.sk-estimator input.sk-toggleable__control:checked~label.sk-toggleable__label {background-color: #d4ebff;}#sk-container-id-2 div.sk-label input.sk-toggleable__control:checked~label.sk-toggleable__label {background-color: #d4ebff;}#sk-container-id-2 input.sk-hidden--visually {border: 0;clip: rect(1px 1px 1px 1px);clip: rect(1px, 1px, 1px, 1px);height: 1px;margin: -1px;overflow: hidden;padding: 0;position: absolute;width: 1px;}#sk-container-id-2 div.sk-estimator {font-family: monospace;background-color: #f0f8ff;border: 1px dotted black;border-radius: 0.25em;box-sizing: border-box;margin-bottom: 0.5em;}#sk-container-id-2 div.sk-estimator:hover {background-color: #d4ebff;}#sk-container-id-2 div.sk-parallel-item::after {content: \"\";width: 100%;border-bottom: 1px solid gray;flex-grow: 1;}#sk-container-id-2 div.sk-label:hover label.sk-toggleable__label {background-color: #d4ebff;}#sk-container-id-2 div.sk-serial::before {content: \"\";position: absolute;border-left: 1px solid gray;box-sizing: border-box;top: 0;bottom: 0;left: 50%;z-index: 0;}#sk-container-id-2 div.sk-serial {display: flex;flex-direction: column;align-items: center;background-color: white;padding-right: 0.2em;padding-left: 0.2em;position: relative;}#sk-container-id-2 div.sk-item {position: relative;z-index: 1;}#sk-container-id-2 div.sk-parallel {display: flex;align-items: stretch;justify-content: center;background-color: white;position: relative;}#sk-container-id-2 div.sk-item::before, #sk-container-id-2 div.sk-parallel-item::before {content: \"\";position: absolute;border-left: 1px solid gray;box-sizing: border-box;top: 0;bottom: 0;left: 50%;z-index: -1;}#sk-container-id-2 div.sk-parallel-item {display: flex;flex-direction: column;z-index: 1;position: relative;background-color: white;}#sk-container-id-2 div.sk-parallel-item:first-child::after {align-self: flex-end;width: 50%;}#sk-container-id-2 div.sk-parallel-item:last-child::after {align-self: flex-start;width: 50%;}#sk-container-id-2 div.sk-parallel-item:only-child::after {width: 0;}#sk-container-id-2 div.sk-dashed-wrapped {border: 1px dashed gray;margin: 0 0.4em 0.5em 0.4em;box-sizing: border-box;padding-bottom: 0.4em;background-color: white;}#sk-container-id-2 div.sk-label label {font-family: monospace;font-weight: bold;display: inline-block;line-height: 1.2em;}#sk-container-id-2 div.sk-label-container {text-align: center;}#sk-container-id-2 div.sk-container {/* jupyter's `normalize.less` sets `[hidden] { display: none; }` but bootstrap.min.css set `[hidden] { display: none !important; }` so we also need the `!important` here to be able to override the default hidden behavior on the sphinx rendered scikit-learn.org. See: https://github.com/scikit-learn/scikit-learn/issues/21755 */display: inline-block !important;position: relative;}#sk-container-id-2 div.sk-text-repr-fallback {display: none;}</style><div id=\"sk-container-id-2\" class=\"sk-top-container\"><div class=\"sk-text-repr-fallback\"><pre>SVC(C=1, gamma=1)</pre><b>In a Jupyter environment, please rerun this cell to show the HTML representation or trust the notebook. <br />On GitHub, the HTML representation is unable to render, please try loading this page with nbviewer.org.</b></div><div class=\"sk-container\" hidden><div class=\"sk-item\"><div class=\"sk-estimator sk-toggleable\"><input class=\"sk-toggleable__control sk-hidden--visually\" id=\"sk-estimator-id-2\" type=\"checkbox\" checked><label for=\"sk-estimator-id-2\" class=\"sk-toggleable__label sk-toggleable__label-arrow\">SVC</label><div class=\"sk-toggleable__content\"><pre>SVC(C=1, gamma=1)</pre></div></div></div></div></div>"
      ],
      "text/plain": [
       "SVC(C=1, gamma=1)"
      ]
     },
     "execution_count": 19,
     "metadata": {},
     "output_type": "execute_result"
    }
   ],
   "source": [
    "model"
   ]
  },
  {
   "cell_type": "code",
   "execution_count": 355,
   "id": "9426a56a-6ad8-4087-bfdc-712e5b978374",
   "metadata": {},
   "outputs": [],
   "source": [
    "'''import pickle \n",
    "filename = 'light_model.pkl'\n",
    "pickle.dump(model, open(filename, 'wb'))'''"
   ]
  },
  {
   "cell_type": "markdown",
   "id": "f12e803c-2413-4fc4-b6b8-d09e3a8d30ae",
   "metadata": {
    "jp-MarkdownHeadingCollapsed": true,
    "tags": []
   },
   "source": [
    "## Gaussian Processes Classifier"
   ]
  },
  {
   "cell_type": "code",
   "execution_count": 63,
   "id": "721e32ee-c149-4bf9-bd7a-3c1f806bb017",
   "metadata": {},
   "outputs": [],
   "source": [
    "\n",
    "model = GaussianProcessClassifier()"
   ]
  },
  {
   "cell_type": "code",
   "execution_count": 64,
   "id": "e81a212b-909e-495d-adaf-71b53940cd5a",
   "metadata": {},
   "outputs": [],
   "source": [
    "\n",
    "# perform the search\n",
    "results = model.fit(X_train, y_train)"
   ]
  },
  {
   "cell_type": "code",
   "execution_count": 65,
   "id": "9f6ef613-ba43-4200-9cb2-fb0d8e428e73",
   "metadata": {},
   "outputs": [
    {
     "name": "stdout",
     "output_type": "stream",
     "text": [
      "the train score is \n"
     ]
    },
    {
     "data": {
      "text/plain": [
       "0.8312570781426953"
      ]
     },
     "execution_count": 65,
     "metadata": {},
     "output_type": "execute_result"
    }
   ],
   "source": [
    "trainpr= results.predict(X_train)\n",
    "errortrain = accuracy_score(y_train, trainpr)\n",
    "print(\"the train score is \" )\n",
    "errortrain"
   ]
  },
  {
   "cell_type": "code",
   "execution_count": 66,
   "id": "b2689aec-fb3c-415a-8117-46afe46c8939",
   "metadata": {},
   "outputs": [
    {
     "data": {
      "text/html": [
       "<div>\n",
       "<style scoped>\n",
       "    .dataframe tbody tr th:only-of-type {\n",
       "        vertical-align: middle;\n",
       "    }\n",
       "\n",
       "    .dataframe tbody tr th {\n",
       "        vertical-align: top;\n",
       "    }\n",
       "\n",
       "    .dataframe thead th {\n",
       "        text-align: right;\n",
       "    }\n",
       "</style>\n",
       "<table border=\"1\" class=\"dataframe\">\n",
       "  <thead>\n",
       "    <tr style=\"text-align: right;\">\n",
       "      <th>predicted</th>\n",
       "      <th>0</th>\n",
       "      <th>1</th>\n",
       "      <th>2</th>\n",
       "    </tr>\n",
       "    <tr>\n",
       "      <th>actual</th>\n",
       "      <th></th>\n",
       "      <th></th>\n",
       "      <th></th>\n",
       "    </tr>\n",
       "  </thead>\n",
       "  <tbody>\n",
       "    <tr>\n",
       "      <th>0</th>\n",
       "      <td>572</td>\n",
       "      <td>28</td>\n",
       "      <td>39</td>\n",
       "    </tr>\n",
       "    <tr>\n",
       "      <th>1</th>\n",
       "      <td>93</td>\n",
       "      <td>364</td>\n",
       "      <td>55</td>\n",
       "    </tr>\n",
       "    <tr>\n",
       "      <th>2</th>\n",
       "      <td>53</td>\n",
       "      <td>30</td>\n",
       "      <td>532</td>\n",
       "    </tr>\n",
       "  </tbody>\n",
       "</table>\n",
       "</div>"
      ],
      "text/plain": [
       "predicted    0    1    2\n",
       "actual                  \n",
       "0          572   28   39\n",
       "1           93  364   55\n",
       "2           53   30  532"
      ]
     },
     "execution_count": 66,
     "metadata": {},
     "output_type": "execute_result"
    }
   ],
   "source": [
    "combine = pd.DataFrame(dict(actual=y_train, predicted=trainpr))\n",
    "pd.crosstab(index=combine[\"actual\"], columns=combine[\"predicted\"])"
   ]
  },
  {
   "cell_type": "code",
   "execution_count": 67,
   "id": "68ed30fb-c5e4-4bf8-8497-a63fc5e94cb6",
   "metadata": {},
   "outputs": [
    {
     "name": "stdout",
     "output_type": "stream",
     "text": [
      "              precision    recall  f1-score   support\n",
      "\n",
      "           0       0.80      0.90      0.84       639\n",
      "           1       0.86      0.71      0.78       512\n",
      "           2       0.85      0.87      0.86       615\n",
      "\n",
      "    accuracy                           0.83      1766\n",
      "   macro avg       0.84      0.82      0.83      1766\n",
      "weighted avg       0.83      0.83      0.83      1766\n",
      "\n"
     ]
    }
   ],
   "source": [
    "\n",
    "print(classification_report(y_train, trainpr))"
   ]
  },
  {
   "cell_type": "markdown",
   "id": "75e97d77-3f6a-4a74-a619-692198f00609",
   "metadata": {},
   "source": [
    "### test "
   ]
  },
  {
   "cell_type": "code",
   "execution_count": 68,
   "id": "d7914bc0-982a-45bc-a918-61e0418c723f",
   "metadata": {},
   "outputs": [
    {
     "name": "stdout",
     "output_type": "stream",
     "text": [
      "the test score is \n"
     ]
    },
    {
     "data": {
      "text/plain": [
       "0.6010568031704095"
      ]
     },
     "execution_count": 68,
     "metadata": {},
     "output_type": "execute_result"
    }
   ],
   "source": [
    "testpr= results.predict(X_test)\n",
    "errortest = accuracy_score(y_test, testpr)\n",
    "print(\"the test score is \" )\n",
    "errortest"
   ]
  },
  {
   "cell_type": "code",
   "execution_count": 69,
   "id": "9a54e8b2-44d3-4d19-bc00-cea8573a1629",
   "metadata": {},
   "outputs": [
    {
     "data": {
      "text/html": [
       "<div>\n",
       "<style scoped>\n",
       "    .dataframe tbody tr th:only-of-type {\n",
       "        vertical-align: middle;\n",
       "    }\n",
       "\n",
       "    .dataframe tbody tr th {\n",
       "        vertical-align: top;\n",
       "    }\n",
       "\n",
       "    .dataframe thead th {\n",
       "        text-align: right;\n",
       "    }\n",
       "</style>\n",
       "<table border=\"1\" class=\"dataframe\">\n",
       "  <thead>\n",
       "    <tr style=\"text-align: right;\">\n",
       "      <th>predicted</th>\n",
       "      <th>0</th>\n",
       "      <th>1</th>\n",
       "      <th>2</th>\n",
       "    </tr>\n",
       "    <tr>\n",
       "      <th>actual</th>\n",
       "      <th></th>\n",
       "      <th></th>\n",
       "      <th></th>\n",
       "    </tr>\n",
       "  </thead>\n",
       "  <tbody>\n",
       "    <tr>\n",
       "      <th>0</th>\n",
       "      <td>205</td>\n",
       "      <td>46</td>\n",
       "      <td>23</td>\n",
       "    </tr>\n",
       "    <tr>\n",
       "      <th>1</th>\n",
       "      <td>97</td>\n",
       "      <td>65</td>\n",
       "      <td>57</td>\n",
       "    </tr>\n",
       "    <tr>\n",
       "      <th>2</th>\n",
       "      <td>38</td>\n",
       "      <td>41</td>\n",
       "      <td>185</td>\n",
       "    </tr>\n",
       "  </tbody>\n",
       "</table>\n",
       "</div>"
      ],
      "text/plain": [
       "predicted    0   1    2\n",
       "actual                 \n",
       "0          205  46   23\n",
       "1           97  65   57\n",
       "2           38  41  185"
      ]
     },
     "execution_count": 69,
     "metadata": {},
     "output_type": "execute_result"
    }
   ],
   "source": [
    "combine = pd.DataFrame(dict(actual=y_test, predicted=testpr))\n",
    "pd.crosstab(index=combine[\"actual\"], columns=combine[\"predicted\"])"
   ]
  },
  {
   "cell_type": "code",
   "execution_count": 70,
   "id": "0ba41ab2-a5dd-4975-b2e4-61535b051c9f",
   "metadata": {},
   "outputs": [
    {
     "name": "stdout",
     "output_type": "stream",
     "text": [
      "              precision    recall  f1-score   support\n",
      "\n",
      "           0       0.60      0.75      0.67       274\n",
      "           1       0.43      0.30      0.35       219\n",
      "           2       0.70      0.70      0.70       264\n",
      "\n",
      "    accuracy                           0.60       757\n",
      "   macro avg       0.58      0.58      0.57       757\n",
      "weighted avg       0.59      0.60      0.59       757\n",
      "\n"
     ]
    }
   ],
   "source": [
    "\n",
    "print(classification_report(y_test, testpr))"
   ]
  },
  {
   "cell_type": "markdown",
   "id": "0ac18d29-1c21-4041-8585-764617c111c4",
   "metadata": {
    "jp-MarkdownHeadingCollapsed": true,
    "tags": []
   },
   "source": [
    "## SGDClassfier "
   ]
  },
  {
   "cell_type": "code",
   "execution_count": 166,
   "id": "77a2d5cf-6063-4e83-bf38-9e097e9c3efa",
   "metadata": {},
   "outputs": [],
   "source": [
    "from sklearn.linear_model import SGDClassifier"
   ]
  },
  {
   "cell_type": "code",
   "execution_count": 167,
   "id": "9e03dc4f-e0f0-4543-979b-388deafc65db",
   "metadata": {},
   "outputs": [
    {
     "data": {
      "text/html": [
       "<style>#sk-container-id-11 {color: black;background-color: white;}#sk-container-id-11 pre{padding: 0;}#sk-container-id-11 div.sk-toggleable {background-color: white;}#sk-container-id-11 label.sk-toggleable__label {cursor: pointer;display: block;width: 100%;margin-bottom: 0;padding: 0.3em;box-sizing: border-box;text-align: center;}#sk-container-id-11 label.sk-toggleable__label-arrow:before {content: \"▸\";float: left;margin-right: 0.25em;color: #696969;}#sk-container-id-11 label.sk-toggleable__label-arrow:hover:before {color: black;}#sk-container-id-11 div.sk-estimator:hover label.sk-toggleable__label-arrow:before {color: black;}#sk-container-id-11 div.sk-toggleable__content {max-height: 0;max-width: 0;overflow: hidden;text-align: left;background-color: #f0f8ff;}#sk-container-id-11 div.sk-toggleable__content pre {margin: 0.2em;color: black;border-radius: 0.25em;background-color: #f0f8ff;}#sk-container-id-11 input.sk-toggleable__control:checked~div.sk-toggleable__content {max-height: 200px;max-width: 100%;overflow: auto;}#sk-container-id-11 input.sk-toggleable__control:checked~label.sk-toggleable__label-arrow:before {content: \"▾\";}#sk-container-id-11 div.sk-estimator input.sk-toggleable__control:checked~label.sk-toggleable__label {background-color: #d4ebff;}#sk-container-id-11 div.sk-label input.sk-toggleable__control:checked~label.sk-toggleable__label {background-color: #d4ebff;}#sk-container-id-11 input.sk-hidden--visually {border: 0;clip: rect(1px 1px 1px 1px);clip: rect(1px, 1px, 1px, 1px);height: 1px;margin: -1px;overflow: hidden;padding: 0;position: absolute;width: 1px;}#sk-container-id-11 div.sk-estimator {font-family: monospace;background-color: #f0f8ff;border: 1px dotted black;border-radius: 0.25em;box-sizing: border-box;margin-bottom: 0.5em;}#sk-container-id-11 div.sk-estimator:hover {background-color: #d4ebff;}#sk-container-id-11 div.sk-parallel-item::after {content: \"\";width: 100%;border-bottom: 1px solid gray;flex-grow: 1;}#sk-container-id-11 div.sk-label:hover label.sk-toggleable__label {background-color: #d4ebff;}#sk-container-id-11 div.sk-serial::before {content: \"\";position: absolute;border-left: 1px solid gray;box-sizing: border-box;top: 0;bottom: 0;left: 50%;z-index: 0;}#sk-container-id-11 div.sk-serial {display: flex;flex-direction: column;align-items: center;background-color: white;padding-right: 0.2em;padding-left: 0.2em;position: relative;}#sk-container-id-11 div.sk-item {position: relative;z-index: 1;}#sk-container-id-11 div.sk-parallel {display: flex;align-items: stretch;justify-content: center;background-color: white;position: relative;}#sk-container-id-11 div.sk-item::before, #sk-container-id-11 div.sk-parallel-item::before {content: \"\";position: absolute;border-left: 1px solid gray;box-sizing: border-box;top: 0;bottom: 0;left: 50%;z-index: -1;}#sk-container-id-11 div.sk-parallel-item {display: flex;flex-direction: column;z-index: 1;position: relative;background-color: white;}#sk-container-id-11 div.sk-parallel-item:first-child::after {align-self: flex-end;width: 50%;}#sk-container-id-11 div.sk-parallel-item:last-child::after {align-self: flex-start;width: 50%;}#sk-container-id-11 div.sk-parallel-item:only-child::after {width: 0;}#sk-container-id-11 div.sk-dashed-wrapped {border: 1px dashed gray;margin: 0 0.4em 0.5em 0.4em;box-sizing: border-box;padding-bottom: 0.4em;background-color: white;}#sk-container-id-11 div.sk-label label {font-family: monospace;font-weight: bold;display: inline-block;line-height: 1.2em;}#sk-container-id-11 div.sk-label-container {text-align: center;}#sk-container-id-11 div.sk-container {/* jupyter's `normalize.less` sets `[hidden] { display: none; }` but bootstrap.min.css set `[hidden] { display: none !important; }` so we also need the `!important` here to be able to override the default hidden behavior on the sphinx rendered scikit-learn.org. See: https://github.com/scikit-learn/scikit-learn/issues/21755 */display: inline-block !important;position: relative;}#sk-container-id-11 div.sk-text-repr-fallback {display: none;}</style><div id=\"sk-container-id-11\" class=\"sk-top-container\"><div class=\"sk-text-repr-fallback\"><pre>SGDClassifier(alpha=0.01, loss=&#x27;log_loss&#x27;, penalty=&#x27;elasticnet&#x27;)</pre><b>In a Jupyter environment, please rerun this cell to show the HTML representation or trust the notebook. <br />On GitHub, the HTML representation is unable to render, please try loading this page with nbviewer.org.</b></div><div class=\"sk-container\" hidden><div class=\"sk-item\"><div class=\"sk-estimator sk-toggleable\"><input class=\"sk-toggleable__control sk-hidden--visually\" id=\"sk-estimator-id-13\" type=\"checkbox\" checked><label for=\"sk-estimator-id-13\" class=\"sk-toggleable__label sk-toggleable__label-arrow\">SGDClassifier</label><div class=\"sk-toggleable__content\"><pre>SGDClassifier(alpha=0.01, loss=&#x27;log_loss&#x27;, penalty=&#x27;elasticnet&#x27;)</pre></div></div></div></div></div>"
      ],
      "text/plain": [
       "SGDClassifier(alpha=0.01, loss='log_loss', penalty='elasticnet')"
      ]
     },
     "execution_count": 167,
     "metadata": {},
     "output_type": "execute_result"
    }
   ],
   "source": [
    "clf = SGDClassifier(loss=\"log_loss\", penalty='elasticnet' ,  alpha = 0.01) \n",
    "clf.fit(X_train, y_train)"
   ]
  },
  {
   "cell_type": "code",
   "execution_count": 168,
   "id": "a71aee1c-41e5-4448-8073-38b409a1bee3",
   "metadata": {},
   "outputs": [
    {
     "name": "stdout",
     "output_type": "stream",
     "text": [
      "Accuracy: 0.57\n"
     ]
    }
   ],
   "source": [
    "y_pred = clf.predict(X_test)\n",
    "\n",
    "print('Accuracy: {:.2f}'.format(accuracy_score(y_test, y_pred)))"
   ]
  },
  {
   "cell_type": "code",
   "execution_count": 74,
   "id": "50e6f9f4-e749-408b-8832-d9c270d8b26c",
   "metadata": {},
   "outputs": [
    {
     "name": "stderr",
     "output_type": "stream",
     "text": [
      "C:\\Users\\utilisateur\\anaconda3\\envs\\new\\lib\\site-packages\\sklearn\\linear_model\\_stochastic_gradient.py:705: ConvergenceWarning: Maximum number of iteration reached before convergence. Consider increasing max_iter to improve the fit.\n",
      "  warnings.warn(\n",
      "C:\\Users\\utilisateur\\anaconda3\\envs\\new\\lib\\site-packages\\sklearn\\linear_model\\_stochastic_gradient.py:705: ConvergenceWarning: Maximum number of iteration reached before convergence. Consider increasing max_iter to improve the fit.\n",
      "  warnings.warn(\n",
      "C:\\Users\\utilisateur\\anaconda3\\envs\\new\\lib\\site-packages\\sklearn\\linear_model\\_stochastic_gradient.py:705: ConvergenceWarning: Maximum number of iteration reached before convergence. Consider increasing max_iter to improve the fit.\n",
      "  warnings.warn(\n",
      "C:\\Users\\utilisateur\\anaconda3\\envs\\new\\lib\\site-packages\\sklearn\\linear_model\\_stochastic_gradient.py:705: ConvergenceWarning: Maximum number of iteration reached before convergence. Consider increasing max_iter to improve the fit.\n",
      "  warnings.warn(\n"
     ]
    },
    {
     "data": {
      "text/plain": [
       "[<matplotlib.lines.Line2D at 0x2511a979510>]"
      ]
     },
     "execution_count": 74,
     "metadata": {},
     "output_type": "execute_result"
    },
    {
     "data": {
      "image/png": "[encoded data removed]",
      "text/plain": [
       "<Figure size 640x480 with 1 Axes>"
      ]
     },
     "metadata": {},
     "output_type": "display_data"
    }
   ],
   "source": [
    "n_iters = [5, 10, 20, 50, 100, 1000,5000]\n",
    "scores = []\n",
    "for n_iter in n_iters:\n",
    "    clf = SGDClassifier(loss=\"hinge\", penalty=\"l2\", max_iter=n_iter)\n",
    "    clf.fit(X_train, y_train)\n",
    "    scores.append(clf.score(X_test, y_test))\n",
    "  \n",
    "plt.title(\"Effect of n_iter\")\n",
    "plt.xlabel(\"n_iter\")\n",
    "plt.ylabel(\"score\")\n",
    "plt.plot(n_iters, scores) "
   ]
  },
  {
   "cell_type": "code",
   "execution_count": 75,
   "id": "07d35d2a-e072-4630-becf-18c9c2d5bd16",
   "metadata": {},
   "outputs": [
    {
     "data": {
      "text/plain": [
       "[<matplotlib.lines.Line2D at 0x2511a9edae0>]"
      ]
     },
     "execution_count": 75,
     "metadata": {},
     "output_type": "execute_result"
    },
    {
     "data": {
      "image/png": "[encoded data removed]",
      "text/plain": [
       "<Figure size 640x480 with 1 Axes>"
      ]
     },
     "metadata": {},
     "output_type": "display_data"
    }
   ],
   "source": [
    "losses = [\"hinge\", \"log_loss\", \"modified_huber\", \"perceptron\", \"squared_hinge\"]\n",
    "scores = []\n",
    "for loss in losses:\n",
    "    clf = SGDClassifier(loss=loss, penalty=\"l2\", max_iter=1000)\n",
    "    clf.fit(X_train, y_train)\n",
    "    scores.append(clf.score(X_test, y_test))\n",
    "  \n",
    "\n",
    "plt.title(\"Effect of loss\")\n",
    "plt.xlabel(\"loss\")\n",
    "plt.ylabel(\"score\")\n",
    "x = np.arange(len(losses))\n",
    "plt.xticks(x, losses)\n",
    "plt.plot(x, scores) "
   ]
  },
  {
   "cell_type": "code",
   "execution_count": null,
   "id": "de5fdb5e-f89b-4231-b6cf-4e63d803fbdf",
   "metadata": {},
   "outputs": [],
   "source": [
    "params = {\n",
    "    \"loss\" : [\"hinge\", \"log_loss\", \"squared_hinge\", \"modified_huber\", \"perceptron\"],\n",
    "    \"alpha\" : [0.0001, 0.001, 0.01, 0.1],\n",
    "    \"penalty\" : [\"l2\", \"l1\", \"elasticnet\", \"none\"],\n",
    "}\n",
    "\n",
    "clf = SGDClassifier(max_iter=10000)\n",
    "grid = GridSearchCV(clf, param_grid=params, cv=10)\n",
    "\n",
    "\n",
    "grid.fit(X_train, y_train)\n",
    "\n",
    "print(grid.best_params_)"
   ]
  },
  {
   "cell_type": "code",
   "execution_count": null,
   "id": "e17c125d-326a-4e85-874c-b289f34c15be",
   "metadata": {},
   "outputs": [],
   "source": [
    "grid_predictions = grid.predict(X_test) \n",
    "\n",
    "print('Accuracy: {:.2f}'.format(accuracy_score(y_test, grid_predictions)))"
   ]
  },
  {
   "cell_type": "markdown",
   "id": "1dee807e-8e68-4261-89ed-00b2186c8391",
   "metadata": {
    "jp-MarkdownHeadingCollapsed": true,
    "tags": []
   },
   "source": [
    "## Train prediction and eval "
   ]
  },
  {
   "cell_type": "code",
   "execution_count": null,
   "id": "6c2dd893-ffa1-4c41-9104-5c28044b2add",
   "metadata": {},
   "outputs": [],
   "source": [
    "trainpr= grid.predict(X_train)\n",
    "errortrain = accuracy_score(y_train, trainpr)\n",
    "print(\"the train score is \" )\n",
    "errortrain"
   ]
  },
  {
   "cell_type": "code",
   "execution_count": null,
   "id": "fa4e077a-3088-4017-a190-610ee12571d9",
   "metadata": {},
   "outputs": [],
   "source": [
    "combine = pd.DataFrame(dict(actual=y_train, predicted=trainpr))"
   ]
  },
  {
   "cell_type": "code",
   "execution_count": null,
   "id": "99f0f8a6-a3c5-47ee-bdf0-f20facfde535",
   "metadata": {},
   "outputs": [],
   "source": [
    "pd.crosstab(index=combine[\"actual\"], columns=combine[\"predicted\"])"
   ]
  },
  {
   "cell_type": "code",
   "execution_count": null,
   "id": "a7fc953c-32d1-4e52-9dcd-4daefe4589b1",
   "metadata": {},
   "outputs": [],
   "source": [
    "\n",
    "print(classification_report(y_train, trainpr))"
   ]
  },
  {
   "cell_type": "code",
   "execution_count": null,
   "id": "93b7d95e-d38f-4534-809e-b00c87d01117",
   "metadata": {},
   "outputs": [],
   "source": [
    "\n",
    "\n",
    "display = ConfusionMatrixDisplay(confusion_matrix = confusion_matrix(y_train, trainpr))\n",
    "fig, ax = plt.subplots(figsize=(10,10))\n",
    "display.plot(ax=ax)\n",
    "\n",
    "plt.show()"
   ]
  },
  {
   "cell_type": "markdown",
   "id": "bec1bd0f-be6c-4903-af98-8e2c88406ece",
   "metadata": {
    "jp-MarkdownHeadingCollapsed": true,
    "tags": []
   },
   "source": [
    "## Test prediction and eval "
   ]
  },
  {
   "cell_type": "code",
   "execution_count": null,
   "id": "e8d381b7-d069-41f7-a150-5c02b15781bd",
   "metadata": {},
   "outputs": [],
   "source": [
    "predts = grid.predict(X_test)\n",
    "errortest = accuracy_score(y_test, predts)\n",
    "print(\"the test score is \" )\n",
    "errortest"
   ]
  },
  {
   "cell_type": "code",
   "execution_count": null,
   "id": "fca928c4-b990-416d-a822-ef9ce7d56780",
   "metadata": {},
   "outputs": [],
   "source": [
    "combine = pd.DataFrame(dict(actual=y_test, predicted=predts))"
   ]
  },
  {
   "cell_type": "code",
   "execution_count": null,
   "id": "574c9b28-800b-461b-9b5a-6f4bee45b7bf",
   "metadata": {},
   "outputs": [],
   "source": [
    "pd.crosstab(index=combine[\"actual\"], columns=combine[\"predicted\"])"
   ]
  },
  {
   "cell_type": "code",
   "execution_count": null,
   "id": "6dc87218-c362-4995-a59d-a9d7aa855a83",
   "metadata": {},
   "outputs": [],
   "source": [
    "\n",
    "print(classification_report(y_test, predts))"
   ]
  },
  {
   "cell_type": "code",
   "execution_count": null,
   "id": "ed23a2e3-32c8-4924-b379-231766a304bf",
   "metadata": {},
   "outputs": [],
   "source": [
    "display = ConfusionMatrixDisplay(confusion_matrix=confusion_matrix(y_test, predts))\n",
    "fig, ax = plt.subplots(figsize=(10,10))\n",
    "display.plot(ax=ax)\n",
    "\n",
    "\n",
    "plt.show()"
   ]
  },
  {
   "cell_type": "markdown",
   "id": "d5bb61b5-0d63-43d8-9f98-6beb12e5dde3",
   "metadata": {
    "tags": []
   },
   "source": [
    "### Result for the SGDClassfier \n",
    "* Train accuracy is at 59 % and test accuracy at 58% \n",
    "* The model does not seems to overfit \n"
   ]
  },
  {
   "cell_type": "markdown",
   "id": "6e496640-93dd-411b-b4cf-845fb732fd46",
   "metadata": {
    "tags": []
   },
   "source": [
    "# KNN Classifier "
   ]
  },
  {
   "cell_type": "code",
   "execution_count": 20,
   "id": "735c44a8-09d4-4d9c-872a-268b37acae8c",
   "metadata": {},
   "outputs": [],
   "source": [
    "from sklearn.neighbors import KNeighborsClassifier"
   ]
  },
  {
   "cell_type": "code",
   "execution_count": 21,
   "id": "98e83ae2-caa5-4822-9a1c-9d069a174a2c",
   "metadata": {},
   "outputs": [
    {
     "name": "stdout",
     "output_type": "stream",
     "text": [
      "Fitting 5 folds for each of 11 candidates, totalling 55 fits\n"
     ]
    }
   ],
   "source": [
    "knn = KNeighborsClassifier()\n",
    "from sklearn.model_selection import GridSearchCV\n",
    "k_range = list(range(1, 12))\n",
    "param_grid = dict(n_neighbors=k_range)\n",
    "  \n",
    "# defining parameter range\n",
    "grid = GridSearchCV(knn, param_grid, cv=5, scoring='accuracy', return_train_score=True,verbose=1)\n",
    "  \n",
    "# fitting the model for grid search\n",
    "grid_search=grid.fit(X_train, y_train)"
   ]
  },
  {
   "cell_type": "code",
   "execution_count": 416,
   "id": "82fdb13a-e23d-4c84-808e-8b36746da996",
   "metadata": {},
   "outputs": [
    {
     "name": "stdout",
     "output_type": "stream",
     "text": [
      "{'n_neighbors': 1}\n"
     ]
    }
   ],
   "source": [
    "print(grid_search.best_params_)"
   ]
  },
  {
   "cell_type": "code",
   "execution_count": 80,
   "id": "aeaaa0ce-5e61-4c97-ad8c-4d1be5d0fcc3",
   "metadata": {},
   "outputs": [],
   "source": [
    "#Setup arrays to store training and test accuracies\n",
    "neighbors = np.arange(1,100)\n",
    "train_accuracy =np.empty(len(neighbors))\n",
    "test_accuracy = np.empty(len(neighbors))\n",
    "\n",
    "for i,k in enumerate(neighbors):\n",
    "    #Setup a knn classifier with k neighbors\n",
    "    knn = KNeighborsClassifier(n_neighbors=k)\n",
    "    \n",
    "    #Fit the model\n",
    "    knn.fit(X_train, y_train)\n",
    "    \n",
    "    #Compute accuracy on the training set\n",
    "    train_accuracy[i] = knn.score(X_train, y_train)\n",
    "    \n",
    "    #Compute accuracy on the test set\n",
    "    test_accuracy[i] = knn.score(X_test, y_test) "
   ]
  },
  {
   "cell_type": "code",
   "execution_count": 81,
   "id": "8fe48708-73db-4152-8ef9-a6443b1905e8",
   "metadata": {},
   "outputs": [
    {
     "data": {
      "image/png": "[encoded data removed]",
      "text/plain": [
       "<Figure size 640x480 with 1 Axes>"
      ]
     },
     "metadata": {},
     "output_type": "display_data"
    }
   ],
   "source": [
    "#Generate plot\n",
    "plt.title('k-NN Varying number of neighbors')\n",
    "plt.plot(neighbors, test_accuracy, label='Testing Accuracy')\n",
    "plt.plot(neighbors, train_accuracy, label='Training accuracy')\n",
    "plt.legend()\n",
    "plt.xlabel('Number of neighbors')\n",
    "plt.ylabel('Accuracy')\n",
    "plt.show()"
   ]
  },
  {
   "cell_type": "code",
   "execution_count": 22,
   "id": "884118c0-b251-4991-b62a-14467b0ef8da",
   "metadata": {},
   "outputs": [],
   "source": [
    "#Setup a knn classifier with k neighbors\n",
    "knn = KNeighborsClassifier(n_neighbors=80)"
   ]
  },
  {
   "cell_type": "code",
   "execution_count": 23,
   "id": "78221289-2f8f-495a-8415-a78d7e43d42e",
   "metadata": {},
   "outputs": [
    {
     "data": {
      "text/html": [
       "<style>#sk-container-id-3 {color: black;background-color: white;}#sk-container-id-3 pre{padding: 0;}#sk-container-id-3 div.sk-toggleable {background-color: white;}#sk-container-id-3 label.sk-toggleable__label {cursor: pointer;display: block;width: 100%;margin-bottom: 0;padding: 0.3em;box-sizing: border-box;text-align: center;}#sk-container-id-3 label.sk-toggleable__label-arrow:before {content: \"▸\";float: left;margin-right: 0.25em;color: #696969;}#sk-container-id-3 label.sk-toggleable__label-arrow:hover:before {color: black;}#sk-container-id-3 div.sk-estimator:hover label.sk-toggleable__label-arrow:before {color: black;}#sk-container-id-3 div.sk-toggleable__content {max-height: 0;max-width: 0;overflow: hidden;text-align: left;background-color: #f0f8ff;}#sk-container-id-3 div.sk-toggleable__content pre {margin: 0.2em;color: black;border-radius: 0.25em;background-color: #f0f8ff;}#sk-container-id-3 input.sk-toggleable__control:checked~div.sk-toggleable__content {max-height: 200px;max-width: 100%;overflow: auto;}#sk-container-id-3 input.sk-toggleable__control:checked~label.sk-toggleable__label-arrow:before {content: \"▾\";}#sk-container-id-3 div.sk-estimator input.sk-toggleable__control:checked~label.sk-toggleable__label {background-color: #d4ebff;}#sk-container-id-3 div.sk-label input.sk-toggleable__control:checked~label.sk-toggleable__label {background-color: #d4ebff;}#sk-container-id-3 input.sk-hidden--visually {border: 0;clip: rect(1px 1px 1px 1px);clip: rect(1px, 1px, 1px, 1px);height: 1px;margin: -1px;overflow: hidden;padding: 0;position: absolute;width: 1px;}#sk-container-id-3 div.sk-estimator {font-family: monospace;background-color: #f0f8ff;border: 1px dotted black;border-radius: 0.25em;box-sizing: border-box;margin-bottom: 0.5em;}#sk-container-id-3 div.sk-estimator:hover {background-color: #d4ebff;}#sk-container-id-3 div.sk-parallel-item::after {content: \"\";width: 100%;border-bottom: 1px solid gray;flex-grow: 1;}#sk-container-id-3 div.sk-label:hover label.sk-toggleable__label {background-color: #d4ebff;}#sk-container-id-3 div.sk-serial::before {content: \"\";position: absolute;border-left: 1px solid gray;box-sizing: border-box;top: 0;bottom: 0;left: 50%;z-index: 0;}#sk-container-id-3 div.sk-serial {display: flex;flex-direction: column;align-items: center;background-color: white;padding-right: 0.2em;padding-left: 0.2em;position: relative;}#sk-container-id-3 div.sk-item {position: relative;z-index: 1;}#sk-container-id-3 div.sk-parallel {display: flex;align-items: stretch;justify-content: center;background-color: white;position: relative;}#sk-container-id-3 div.sk-item::before, #sk-container-id-3 div.sk-parallel-item::before {content: \"\";position: absolute;border-left: 1px solid gray;box-sizing: border-box;top: 0;bottom: 0;left: 50%;z-index: -1;}#sk-container-id-3 div.sk-parallel-item {display: flex;flex-direction: column;z-index: 1;position: relative;background-color: white;}#sk-container-id-3 div.sk-parallel-item:first-child::after {align-self: flex-end;width: 50%;}#sk-container-id-3 div.sk-parallel-item:last-child::after {align-self: flex-start;width: 50%;}#sk-container-id-3 div.sk-parallel-item:only-child::after {width: 0;}#sk-container-id-3 div.sk-dashed-wrapped {border: 1px dashed gray;margin: 0 0.4em 0.5em 0.4em;box-sizing: border-box;padding-bottom: 0.4em;background-color: white;}#sk-container-id-3 div.sk-label label {font-family: monospace;font-weight: bold;display: inline-block;line-height: 1.2em;}#sk-container-id-3 div.sk-label-container {text-align: center;}#sk-container-id-3 div.sk-container {/* jupyter's `normalize.less` sets `[hidden] { display: none; }` but bootstrap.min.css set `[hidden] { display: none !important; }` so we also need the `!important` here to be able to override the default hidden behavior on the sphinx rendered scikit-learn.org. See: https://github.com/scikit-learn/scikit-learn/issues/21755 */display: inline-block !important;position: relative;}#sk-container-id-3 div.sk-text-repr-fallback {display: none;}</style><div id=\"sk-container-id-3\" class=\"sk-top-container\"><div class=\"sk-text-repr-fallback\"><pre>KNeighborsClassifier(n_neighbors=80)</pre><b>In a Jupyter environment, please rerun this cell to show the HTML representation or trust the notebook. <br />On GitHub, the HTML representation is unable to render, please try loading this page with nbviewer.org.</b></div><div class=\"sk-container\" hidden><div class=\"sk-item\"><div class=\"sk-estimator sk-toggleable\"><input class=\"sk-toggleable__control sk-hidden--visually\" id=\"sk-estimator-id-3\" type=\"checkbox\" checked><label for=\"sk-estimator-id-3\" class=\"sk-toggleable__label sk-toggleable__label-arrow\">KNeighborsClassifier</label><div class=\"sk-toggleable__content\"><pre>KNeighborsClassifier(n_neighbors=80)</pre></div></div></div></div></div>"
      ],
      "text/plain": [
       "KNeighborsClassifier(n_neighbors=80)"
      ]
     },
     "execution_count": 23,
     "metadata": {},
     "output_type": "execute_result"
    }
   ],
   "source": [
    "#Fit the model\n",
    "knn.fit(X_train,y_train)"
   ]
  },
  {
   "cell_type": "code",
   "execution_count": 24,
   "id": "3879910d-2ee4-4115-aaf8-c9a5720a24a5",
   "metadata": {},
   "outputs": [
    {
     "name": "stdout",
     "output_type": "stream",
     "text": [
      "the train score is \n"
     ]
    },
    {
     "data": {
      "text/plain": [
       "0.5866364665911665"
      ]
     },
     "execution_count": 24,
     "metadata": {},
     "output_type": "execute_result"
    }
   ],
   "source": [
    "trainpr= knn.predict(X_train)\n",
    "errortrain = accuracy_score(y_train, trainpr)\n",
    "print(\"the train score is \" )\n",
    "errortrain"
   ]
  },
  {
   "cell_type": "code",
   "execution_count": 25,
   "id": "afb49922-afb2-4090-8e96-66bab02a9d56",
   "metadata": {},
   "outputs": [],
   "source": [
    "combine = pd.DataFrame(dict(actual=y_train, predicted=trainpr))"
   ]
  },
  {
   "cell_type": "code",
   "execution_count": 26,
   "id": "27afdd48-d78c-4665-aa5f-222ea47a0a82",
   "metadata": {},
   "outputs": [
    {
     "data": {
      "text/html": [
       "<div>\n",
       "<style scoped>\n",
       "    .dataframe tbody tr th:only-of-type {\n",
       "        vertical-align: middle;\n",
       "    }\n",
       "\n",
       "    .dataframe tbody tr th {\n",
       "        vertical-align: top;\n",
       "    }\n",
       "\n",
       "    .dataframe thead th {\n",
       "        text-align: right;\n",
       "    }\n",
       "</style>\n",
       "<table border=\"1\" class=\"dataframe\">\n",
       "  <thead>\n",
       "    <tr style=\"text-align: right;\">\n",
       "      <th>predicted</th>\n",
       "      <th>0</th>\n",
       "      <th>1</th>\n",
       "      <th>2</th>\n",
       "    </tr>\n",
       "    <tr>\n",
       "      <th>actual</th>\n",
       "      <th></th>\n",
       "      <th></th>\n",
       "      <th></th>\n",
       "    </tr>\n",
       "  </thead>\n",
       "  <tbody>\n",
       "    <tr>\n",
       "      <th>0</th>\n",
       "      <td>518</td>\n",
       "      <td>41</td>\n",
       "      <td>80</td>\n",
       "    </tr>\n",
       "    <tr>\n",
       "      <th>1</th>\n",
       "      <td>268</td>\n",
       "      <td>85</td>\n",
       "      <td>159</td>\n",
       "    </tr>\n",
       "    <tr>\n",
       "      <th>2</th>\n",
       "      <td>132</td>\n",
       "      <td>50</td>\n",
       "      <td>433</td>\n",
       "    </tr>\n",
       "  </tbody>\n",
       "</table>\n",
       "</div>"
      ],
      "text/plain": [
       "predicted    0   1    2\n",
       "actual                 \n",
       "0          518  41   80\n",
       "1          268  85  159\n",
       "2          132  50  433"
      ]
     },
     "execution_count": 26,
     "metadata": {},
     "output_type": "execute_result"
    }
   ],
   "source": [
    "pd.crosstab(index=combine[\"actual\"], columns=combine[\"predicted\"])"
   ]
  },
  {
   "cell_type": "code",
   "execution_count": 27,
   "id": "de18b3a6-5698-426d-a2e9-4febae06c861",
   "metadata": {},
   "outputs": [
    {
     "name": "stdout",
     "output_type": "stream",
     "text": [
      "              precision    recall  f1-score   support\n",
      "\n",
      "           0       0.56      0.81      0.67       639\n",
      "           1       0.48      0.17      0.25       512\n",
      "           2       0.64      0.70      0.67       615\n",
      "\n",
      "    accuracy                           0.59      1766\n",
      "   macro avg       0.56      0.56      0.53      1766\n",
      "weighted avg       0.57      0.59      0.55      1766\n",
      "\n"
     ]
    }
   ],
   "source": [
    "\n",
    "print(classification_report(y_train, trainpr))"
   ]
  },
  {
   "cell_type": "code",
   "execution_count": 28,
   "id": "f31c092d-b283-4e18-9c29-e1a9db6d0281",
   "metadata": {},
   "outputs": [
    {
     "data": {
      "image/png": "[encoded data removed]",
      "text/plain": [
       "<Figure size 1000x1000 with 2 Axes>"
      ]
     },
     "metadata": {},
     "output_type": "display_data"
    }
   ],
   "source": [
    "\n",
    "\n",
    "display = ConfusionMatrixDisplay(confusion_matrix = confusion_matrix(y_train, trainpr))\n",
    "fig, ax = plt.subplots(figsize=(10,10))\n",
    "display.plot(ax=ax)\n",
    "\n",
    "plt.show()"
   ]
  },
  {
   "cell_type": "markdown",
   "id": "198ea4da-c4da-4164-91ea-06e4006d3e59",
   "metadata": {
    "tags": []
   },
   "source": [
    "## test evaluation "
   ]
  },
  {
   "cell_type": "code",
   "execution_count": 29,
   "id": "f7ba0c64-ab4e-4d0a-be7c-cca1a5037afc",
   "metadata": {},
   "outputs": [
    {
     "data": {
      "text/html": [
       "<style>#sk-container-id-4 {color: black;background-color: white;}#sk-container-id-4 pre{padding: 0;}#sk-container-id-4 div.sk-toggleable {background-color: white;}#sk-container-id-4 label.sk-toggleable__label {cursor: pointer;display: block;width: 100%;margin-bottom: 0;padding: 0.3em;box-sizing: border-box;text-align: center;}#sk-container-id-4 label.sk-toggleable__label-arrow:before {content: \"▸\";float: left;margin-right: 0.25em;color: #696969;}#sk-container-id-4 label.sk-toggleable__label-arrow:hover:before {color: black;}#sk-container-id-4 div.sk-estimator:hover label.sk-toggleable__label-arrow:before {color: black;}#sk-container-id-4 div.sk-toggleable__content {max-height: 0;max-width: 0;overflow: hidden;text-align: left;background-color: #f0f8ff;}#sk-container-id-4 div.sk-toggleable__content pre {margin: 0.2em;color: black;border-radius: 0.25em;background-color: #f0f8ff;}#sk-container-id-4 input.sk-toggleable__control:checked~div.sk-toggleable__content {max-height: 200px;max-width: 100%;overflow: auto;}#sk-container-id-4 input.sk-toggleable__control:checked~label.sk-toggleable__label-arrow:before {content: \"▾\";}#sk-container-id-4 div.sk-estimator input.sk-toggleable__control:checked~label.sk-toggleable__label {background-color: #d4ebff;}#sk-container-id-4 div.sk-label input.sk-toggleable__control:checked~label.sk-toggleable__label {background-color: #d4ebff;}#sk-container-id-4 input.sk-hidden--visually {border: 0;clip: rect(1px 1px 1px 1px);clip: rect(1px, 1px, 1px, 1px);height: 1px;margin: -1px;overflow: hidden;padding: 0;position: absolute;width: 1px;}#sk-container-id-4 div.sk-estimator {font-family: monospace;background-color: #f0f8ff;border: 1px dotted black;border-radius: 0.25em;box-sizing: border-box;margin-bottom: 0.5em;}#sk-container-id-4 div.sk-estimator:hover {background-color: #d4ebff;}#sk-container-id-4 div.sk-parallel-item::after {content: \"\";width: 100%;border-bottom: 1px solid gray;flex-grow: 1;}#sk-container-id-4 div.sk-label:hover label.sk-toggleable__label {background-color: #d4ebff;}#sk-container-id-4 div.sk-serial::before {content: \"\";position: absolute;border-left: 1px solid gray;box-sizing: border-box;top: 0;bottom: 0;left: 50%;z-index: 0;}#sk-container-id-4 div.sk-serial {display: flex;flex-direction: column;align-items: center;background-color: white;padding-right: 0.2em;padding-left: 0.2em;position: relative;}#sk-container-id-4 div.sk-item {position: relative;z-index: 1;}#sk-container-id-4 div.sk-parallel {display: flex;align-items: stretch;justify-content: center;background-color: white;position: relative;}#sk-container-id-4 div.sk-item::before, #sk-container-id-4 div.sk-parallel-item::before {content: \"\";position: absolute;border-left: 1px solid gray;box-sizing: border-box;top: 0;bottom: 0;left: 50%;z-index: -1;}#sk-container-id-4 div.sk-parallel-item {display: flex;flex-direction: column;z-index: 1;position: relative;background-color: white;}#sk-container-id-4 div.sk-parallel-item:first-child::after {align-self: flex-end;width: 50%;}#sk-container-id-4 div.sk-parallel-item:last-child::after {align-self: flex-start;width: 50%;}#sk-container-id-4 div.sk-parallel-item:only-child::after {width: 0;}#sk-container-id-4 div.sk-dashed-wrapped {border: 1px dashed gray;margin: 0 0.4em 0.5em 0.4em;box-sizing: border-box;padding-bottom: 0.4em;background-color: white;}#sk-container-id-4 div.sk-label label {font-family: monospace;font-weight: bold;display: inline-block;line-height: 1.2em;}#sk-container-id-4 div.sk-label-container {text-align: center;}#sk-container-id-4 div.sk-container {/* jupyter's `normalize.less` sets `[hidden] { display: none; }` but bootstrap.min.css set `[hidden] { display: none !important; }` so we also need the `!important` here to be able to override the default hidden behavior on the sphinx rendered scikit-learn.org. See: https://github.com/scikit-learn/scikit-learn/issues/21755 */display: inline-block !important;position: relative;}#sk-container-id-4 div.sk-text-repr-fallback {display: none;}</style><div id=\"sk-container-id-4\" class=\"sk-top-container\"><div class=\"sk-text-repr-fallback\"><pre>KNeighborsClassifier(n_neighbors=80)</pre><b>In a Jupyter environment, please rerun this cell to show the HTML representation or trust the notebook. <br />On GitHub, the HTML representation is unable to render, please try loading this page with nbviewer.org.</b></div><div class=\"sk-container\" hidden><div class=\"sk-item\"><div class=\"sk-estimator sk-toggleable\"><input class=\"sk-toggleable__control sk-hidden--visually\" id=\"sk-estimator-id-4\" type=\"checkbox\" checked><label for=\"sk-estimator-id-4\" class=\"sk-toggleable__label sk-toggleable__label-arrow\">KNeighborsClassifier</label><div class=\"sk-toggleable__content\"><pre>KNeighborsClassifier(n_neighbors=80)</pre></div></div></div></div></div>"
      ],
      "text/plain": [
       "KNeighborsClassifier(n_neighbors=80)"
      ]
     },
     "execution_count": 29,
     "metadata": {},
     "output_type": "execute_result"
    }
   ],
   "source": [
    "#Fit the model\n",
    "knn.fit(X_test,y_test)"
   ]
  },
  {
   "cell_type": "code",
   "execution_count": 30,
   "id": "07c37981-b55f-46ba-b6d0-8c4f9118df09",
   "metadata": {},
   "outputs": [
    {
     "name": "stdout",
     "output_type": "stream",
     "text": [
      "the test score is \n"
     ]
    },
    {
     "data": {
      "text/plain": [
       "0.5878467635402906"
      ]
     },
     "execution_count": 30,
     "metadata": {},
     "output_type": "execute_result"
    }
   ],
   "source": [
    "testpr= knn.predict(X_test)\n",
    "errortest = accuracy_score(y_test, testpr)\n",
    "print(\"the test score is \" )\n",
    "errortest"
   ]
  },
  {
   "cell_type": "code",
   "execution_count": 31,
   "id": "6fbe4390-d56b-4588-a35c-eb07ad734cb7",
   "metadata": {},
   "outputs": [
    {
     "data": {
      "text/html": [
       "<div>\n",
       "<style scoped>\n",
       "    .dataframe tbody tr th:only-of-type {\n",
       "        vertical-align: middle;\n",
       "    }\n",
       "\n",
       "    .dataframe tbody tr th {\n",
       "        vertical-align: top;\n",
       "    }\n",
       "\n",
       "    .dataframe thead th {\n",
       "        text-align: right;\n",
       "    }\n",
       "</style>\n",
       "<table border=\"1\" class=\"dataframe\">\n",
       "  <thead>\n",
       "    <tr style=\"text-align: right;\">\n",
       "      <th>predicted</th>\n",
       "      <th>0</th>\n",
       "      <th>1</th>\n",
       "      <th>2</th>\n",
       "    </tr>\n",
       "    <tr>\n",
       "      <th>actual</th>\n",
       "      <th></th>\n",
       "      <th></th>\n",
       "      <th></th>\n",
       "    </tr>\n",
       "  </thead>\n",
       "  <tbody>\n",
       "    <tr>\n",
       "      <th>0</th>\n",
       "      <td>209</td>\n",
       "      <td>35</td>\n",
       "      <td>30</td>\n",
       "    </tr>\n",
       "    <tr>\n",
       "      <th>1</th>\n",
       "      <td>85</td>\n",
       "      <td>54</td>\n",
       "      <td>80</td>\n",
       "    </tr>\n",
       "    <tr>\n",
       "      <th>2</th>\n",
       "      <td>39</td>\n",
       "      <td>43</td>\n",
       "      <td>182</td>\n",
       "    </tr>\n",
       "  </tbody>\n",
       "</table>\n",
       "</div>"
      ],
      "text/plain": [
       "predicted    0   1    2\n",
       "actual                 \n",
       "0          209  35   30\n",
       "1           85  54   80\n",
       "2           39  43  182"
      ]
     },
     "execution_count": 31,
     "metadata": {},
     "output_type": "execute_result"
    }
   ],
   "source": [
    "combine = pd.DataFrame(dict(actual=y_test, predicted=testpr))\n",
    "pd.crosstab(index=combine[\"actual\"], columns=combine[\"predicted\"])"
   ]
  },
  {
   "cell_type": "code",
   "execution_count": 32,
   "id": "8d3f978c-451c-480e-bdf9-639eecc53976",
   "metadata": {},
   "outputs": [
    {
     "name": "stdout",
     "output_type": "stream",
     "text": [
      "              precision    recall  f1-score   support\n",
      "\n",
      "           0       0.63      0.76      0.69       274\n",
      "           1       0.41      0.25      0.31       219\n",
      "           2       0.62      0.69      0.65       264\n",
      "\n",
      "    accuracy                           0.59       757\n",
      "   macro avg       0.55      0.57      0.55       757\n",
      "weighted avg       0.56      0.59      0.57       757\n",
      "\n"
     ]
    }
   ],
   "source": [
    "\n",
    "print(classification_report(y_test, testpr))"
   ]
  },
  {
   "cell_type": "code",
   "execution_count": 33,
   "id": "2cce0673-25b0-4bd2-88c5-253c1febed8b",
   "metadata": {},
   "outputs": [
    {
     "data": {
      "image/png": "[encoded data removed]",
      "text/plain": [
       "<Figure size 1000x1000 with 2 Axes>"
      ]
     },
     "metadata": {},
     "output_type": "display_data"
    }
   ],
   "source": [
    "\n",
    "display = ConfusionMatrixDisplay(confusion_matrix = confusion_matrix(y_test, testpr))\n",
    "fig, ax = plt.subplots(figsize=(10,10))\n",
    "display.plot(ax=ax)\n",
    "\n",
    "plt.show()"
   ]
  },
  {
   "cell_type": "markdown",
   "id": "fdf40673-cd95-45cb-b701-23924d39a8f4",
   "metadata": {},
   "source": [
    "### Result KNNClassifier \n",
    "* Accuracy on train is at 58% and 67% on test, still no overfitting\n",
    "* Overall recall and precision are better than SGD\n",
    "* Better result than SGDClassifier "
   ]
  },
  {
   "cell_type": "code",
   "execution_count": 478,
   "id": "430d2092-81ea-43a4-b671-268ce7fd5dbb",
   "metadata": {},
   "outputs": [],
   "source": [
    "import pickle \n",
    "filename = 'finalized_model.pkl'\n",
    "pickle.dump(knn, open(filename, 'wb'))"
   ]
  },
  {
   "cell_type": "markdown",
   "id": "091ff47b-997b-4161-96e9-d354883261c5",
   "metadata": {
    "tags": []
   },
   "source": [
    "# Random classifier "
   ]
  },
  {
   "cell_type": "code",
   "execution_count": 34,
   "id": "47dc0aef-cf39-468b-ad86-f41e6b91795e",
   "metadata": {},
   "outputs": [],
   "source": [
    "from sklearn.ensemble import RandomForestClassifier"
   ]
  },
  {
   "cell_type": "code",
   "execution_count": 35,
   "id": "0d4e72a2-962f-456c-b1db-fd57ab2587d2",
   "metadata": {},
   "outputs": [],
   "source": [
    "rf = RandomForestClassifier(min_samples_split=10, random_state=42)"
   ]
  },
  {
   "cell_type": "code",
   "execution_count": null,
   "id": "71583755-79a9-4a99-8813-f3293f69f2da",
   "metadata": {},
   "outputs": [],
   "source": [
    "param_grid = { \n",
    "    'n_estimators': [200, 500],\n",
    "    'max_features': ['sqrt', 'log2'],\n",
    "    'max_depth' : [4,5,6,7,8],\n",
    "    'criterion' :['gini', 'entropy']\n",
    "}"
   ]
  },
  {
   "cell_type": "code",
   "execution_count": null,
   "id": "e26353d3-4f84-4e0d-8d7d-f37236a46df2",
   "metadata": {},
   "outputs": [],
   "source": [
    "CV_rfc = GridSearchCV(estimator=rf, param_grid=param_grid, cv= 4)\n"
   ]
  },
  {
   "cell_type": "code",
   "execution_count": 36,
   "id": "ef2ae7f9-28ec-4b05-a9a2-4513de503738",
   "metadata": {},
   "outputs": [
    {
     "data": {
      "text/html": [
       "<style>#sk-container-id-5 {color: black;background-color: white;}#sk-container-id-5 pre{padding: 0;}#sk-container-id-5 div.sk-toggleable {background-color: white;}#sk-container-id-5 label.sk-toggleable__label {cursor: pointer;display: block;width: 100%;margin-bottom: 0;padding: 0.3em;box-sizing: border-box;text-align: center;}#sk-container-id-5 label.sk-toggleable__label-arrow:before {content: \"▸\";float: left;margin-right: 0.25em;color: #696969;}#sk-container-id-5 label.sk-toggleable__label-arrow:hover:before {color: black;}#sk-container-id-5 div.sk-estimator:hover label.sk-toggleable__label-arrow:before {color: black;}#sk-container-id-5 div.sk-toggleable__content {max-height: 0;max-width: 0;overflow: hidden;text-align: left;background-color: #f0f8ff;}#sk-container-id-5 div.sk-toggleable__content pre {margin: 0.2em;color: black;border-radius: 0.25em;background-color: #f0f8ff;}#sk-container-id-5 input.sk-toggleable__control:checked~div.sk-toggleable__content {max-height: 200px;max-width: 100%;overflow: auto;}#sk-container-id-5 input.sk-toggleable__control:checked~label.sk-toggleable__label-arrow:before {content: \"▾\";}#sk-container-id-5 div.sk-estimator input.sk-toggleable__control:checked~label.sk-toggleable__label {background-color: #d4ebff;}#sk-container-id-5 div.sk-label input.sk-toggleable__control:checked~label.sk-toggleable__label {background-color: #d4ebff;}#sk-container-id-5 input.sk-hidden--visually {border: 0;clip: rect(1px 1px 1px 1px);clip: rect(1px, 1px, 1px, 1px);height: 1px;margin: -1px;overflow: hidden;padding: 0;position: absolute;width: 1px;}#sk-container-id-5 div.sk-estimator {font-family: monospace;background-color: #f0f8ff;border: 1px dotted black;border-radius: 0.25em;box-sizing: border-box;margin-bottom: 0.5em;}#sk-container-id-5 div.sk-estimator:hover {background-color: #d4ebff;}#sk-container-id-5 div.sk-parallel-item::after {content: \"\";width: 100%;border-bottom: 1px solid gray;flex-grow: 1;}#sk-container-id-5 div.sk-label:hover label.sk-toggleable__label {background-color: #d4ebff;}#sk-container-id-5 div.sk-serial::before {content: \"\";position: absolute;border-left: 1px solid gray;box-sizing: border-box;top: 0;bottom: 0;left: 50%;z-index: 0;}#sk-container-id-5 div.sk-serial {display: flex;flex-direction: column;align-items: center;background-color: white;padding-right: 0.2em;padding-left: 0.2em;position: relative;}#sk-container-id-5 div.sk-item {position: relative;z-index: 1;}#sk-container-id-5 div.sk-parallel {display: flex;align-items: stretch;justify-content: center;background-color: white;position: relative;}#sk-container-id-5 div.sk-item::before, #sk-container-id-5 div.sk-parallel-item::before {content: \"\";position: absolute;border-left: 1px solid gray;box-sizing: border-box;top: 0;bottom: 0;left: 50%;z-index: -1;}#sk-container-id-5 div.sk-parallel-item {display: flex;flex-direction: column;z-index: 1;position: relative;background-color: white;}#sk-container-id-5 div.sk-parallel-item:first-child::after {align-self: flex-end;width: 50%;}#sk-container-id-5 div.sk-parallel-item:last-child::after {align-self: flex-start;width: 50%;}#sk-container-id-5 div.sk-parallel-item:only-child::after {width: 0;}#sk-container-id-5 div.sk-dashed-wrapped {border: 1px dashed gray;margin: 0 0.4em 0.5em 0.4em;box-sizing: border-box;padding-bottom: 0.4em;background-color: white;}#sk-container-id-5 div.sk-label label {font-family: monospace;font-weight: bold;display: inline-block;line-height: 1.2em;}#sk-container-id-5 div.sk-label-container {text-align: center;}#sk-container-id-5 div.sk-container {/* jupyter's `normalize.less` sets `[hidden] { display: none; }` but bootstrap.min.css set `[hidden] { display: none !important; }` so we also need the `!important` here to be able to override the default hidden behavior on the sphinx rendered scikit-learn.org. See: https://github.com/scikit-learn/scikit-learn/issues/21755 */display: inline-block !important;position: relative;}#sk-container-id-5 div.sk-text-repr-fallback {display: none;}</style><div id=\"sk-container-id-5\" class=\"sk-top-container\"><div class=\"sk-text-repr-fallback\"><pre>RandomForestClassifier(min_samples_split=10, random_state=42)</pre><b>In a Jupyter environment, please rerun this cell to show the HTML representation or trust the notebook. <br />On GitHub, the HTML representation is unable to render, please try loading this page with nbviewer.org.</b></div><div class=\"sk-container\" hidden><div class=\"sk-item\"><div class=\"sk-estimator sk-toggleable\"><input class=\"sk-toggleable__control sk-hidden--visually\" id=\"sk-estimator-id-5\" type=\"checkbox\" checked><label for=\"sk-estimator-id-5\" class=\"sk-toggleable__label sk-toggleable__label-arrow\">RandomForestClassifier</label><div class=\"sk-toggleable__content\"><pre>RandomForestClassifier(min_samples_split=10, random_state=42)</pre></div></div></div></div></div>"
      ],
      "text/plain": [
       "RandomForestClassifier(min_samples_split=10, random_state=42)"
      ]
     },
     "execution_count": 36,
     "metadata": {},
     "output_type": "execute_result"
    }
   ],
   "source": [
    "rf.fit(X_train, y_train)"
   ]
  },
  {
   "cell_type": "code",
   "execution_count": null,
   "id": "6eeed4ea-17f6-484d-b743-633ff8258741",
   "metadata": {},
   "outputs": [],
   "source": [
    "CV_rfc.best_params_"
   ]
  },
  {
   "cell_type": "code",
   "execution_count": 37,
   "id": "513591d8-02b6-4e47-b05f-27b544a9b58f",
   "metadata": {},
   "outputs": [
    {
     "name": "stdout",
     "output_type": "stream",
     "text": [
      "the train score is \n"
     ]
    },
    {
     "data": {
      "text/plain": [
       "0.9377123442808607"
      ]
     },
     "execution_count": 37,
     "metadata": {},
     "output_type": "execute_result"
    }
   ],
   "source": [
    "trainpreds= rf.predict(X_train)\n",
    "errortrain = accuracy_score(y_train, trainpreds)\n",
    "print(\"the train score is \" )\n",
    "errortrain"
   ]
  },
  {
   "cell_type": "code",
   "execution_count": 38,
   "id": "15e2cd1b-1c9c-43ef-b7fc-06347256b033",
   "metadata": {},
   "outputs": [],
   "source": [
    "combine = pd.DataFrame(dict(actual=y_train, predicted=trainpreds))"
   ]
  },
  {
   "cell_type": "code",
   "execution_count": 39,
   "id": "cd5994af-2e40-4a49-91b3-661759cd68b8",
   "metadata": {},
   "outputs": [
    {
     "data": {
      "text/html": [
       "<div>\n",
       "<style scoped>\n",
       "    .dataframe tbody tr th:only-of-type {\n",
       "        vertical-align: middle;\n",
       "    }\n",
       "\n",
       "    .dataframe tbody tr th {\n",
       "        vertical-align: top;\n",
       "    }\n",
       "\n",
       "    .dataframe thead th {\n",
       "        text-align: right;\n",
       "    }\n",
       "</style>\n",
       "<table border=\"1\" class=\"dataframe\">\n",
       "  <thead>\n",
       "    <tr style=\"text-align: right;\">\n",
       "      <th>predicted</th>\n",
       "      <th>0</th>\n",
       "      <th>1</th>\n",
       "      <th>2</th>\n",
       "    </tr>\n",
       "    <tr>\n",
       "      <th>actual</th>\n",
       "      <th></th>\n",
       "      <th></th>\n",
       "      <th></th>\n",
       "    </tr>\n",
       "  </thead>\n",
       "  <tbody>\n",
       "    <tr>\n",
       "      <th>0</th>\n",
       "      <td>617</td>\n",
       "      <td>2</td>\n",
       "      <td>20</td>\n",
       "    </tr>\n",
       "    <tr>\n",
       "      <th>1</th>\n",
       "      <td>24</td>\n",
       "      <td>453</td>\n",
       "      <td>35</td>\n",
       "    </tr>\n",
       "    <tr>\n",
       "      <th>2</th>\n",
       "      <td>23</td>\n",
       "      <td>6</td>\n",
       "      <td>586</td>\n",
       "    </tr>\n",
       "  </tbody>\n",
       "</table>\n",
       "</div>"
      ],
      "text/plain": [
       "predicted    0    1    2\n",
       "actual                  \n",
       "0          617    2   20\n",
       "1           24  453   35\n",
       "2           23    6  586"
      ]
     },
     "execution_count": 39,
     "metadata": {},
     "output_type": "execute_result"
    }
   ],
   "source": [
    "pd.crosstab(index=combine[\"actual\"], columns=combine[\"predicted\"])"
   ]
  },
  {
   "cell_type": "code",
   "execution_count": 40,
   "id": "1a84b259-1377-4b2f-8d52-12d52f66f79a",
   "metadata": {},
   "outputs": [
    {
     "name": "stdout",
     "output_type": "stream",
     "text": [
      "              precision    recall  f1-score   support\n",
      "\n",
      "           0       0.93      0.97      0.95       639\n",
      "           1       0.98      0.88      0.93       512\n",
      "           2       0.91      0.95      0.93       615\n",
      "\n",
      "    accuracy                           0.94      1766\n",
      "   macro avg       0.94      0.93      0.94      1766\n",
      "weighted avg       0.94      0.94      0.94      1766\n",
      "\n"
     ]
    }
   ],
   "source": [
    "\n",
    "print(classification_report(y_train, trainpreds))"
   ]
  },
  {
   "cell_type": "markdown",
   "id": "88a4094a-a35d-4ed3-8734-b158b308b8dc",
   "metadata": {},
   "source": [
    "### Test \n",
    "* predict / accuracy / confusion matrix "
   ]
  },
  {
   "cell_type": "code",
   "execution_count": 41,
   "id": "a532f4ba-5c4c-4ad3-9665-07d8ad76e10b",
   "metadata": {},
   "outputs": [],
   "source": [
    "preds = rf.predict(X_test)"
   ]
  },
  {
   "cell_type": "code",
   "execution_count": 42,
   "id": "66923d1f-0625-4077-bd3a-3b5f9f9df8b7",
   "metadata": {},
   "outputs": [
    {
     "name": "stdout",
     "output_type": "stream",
     "text": [
      "the test score is \n"
     ]
    },
    {
     "data": {
      "text/plain": [
       "0.6155878467635403"
      ]
     },
     "execution_count": 42,
     "metadata": {},
     "output_type": "execute_result"
    }
   ],
   "source": [
    "error = accuracy_score(y_test, preds)\n",
    "print(\"the test score is \" )\n",
    "error"
   ]
  },
  {
   "cell_type": "code",
   "execution_count": 43,
   "id": "4453f288-a6ec-40d9-975a-09f7ea69bec5",
   "metadata": {},
   "outputs": [],
   "source": [
    "combined = pd.DataFrame(dict(actual=y_test, predicted=preds))"
   ]
  },
  {
   "cell_type": "code",
   "execution_count": 44,
   "id": "351c354d-2f90-4d0c-b563-13edf20899c4",
   "metadata": {},
   "outputs": [
    {
     "data": {
      "text/html": [
       "<div>\n",
       "<style scoped>\n",
       "    .dataframe tbody tr th:only-of-type {\n",
       "        vertical-align: middle;\n",
       "    }\n",
       "\n",
       "    .dataframe tbody tr th {\n",
       "        vertical-align: top;\n",
       "    }\n",
       "\n",
       "    .dataframe thead th {\n",
       "        text-align: right;\n",
       "    }\n",
       "</style>\n",
       "<table border=\"1\" class=\"dataframe\">\n",
       "  <thead>\n",
       "    <tr style=\"text-align: right;\">\n",
       "      <th>predicted</th>\n",
       "      <th>0</th>\n",
       "      <th>1</th>\n",
       "      <th>2</th>\n",
       "    </tr>\n",
       "    <tr>\n",
       "      <th>actual</th>\n",
       "      <th></th>\n",
       "      <th></th>\n",
       "      <th></th>\n",
       "    </tr>\n",
       "  </thead>\n",
       "  <tbody>\n",
       "    <tr>\n",
       "      <th>0</th>\n",
       "      <td>202</td>\n",
       "      <td>45</td>\n",
       "      <td>27</td>\n",
       "    </tr>\n",
       "    <tr>\n",
       "      <th>1</th>\n",
       "      <td>84</td>\n",
       "      <td>75</td>\n",
       "      <td>60</td>\n",
       "    </tr>\n",
       "    <tr>\n",
       "      <th>2</th>\n",
       "      <td>45</td>\n",
       "      <td>30</td>\n",
       "      <td>189</td>\n",
       "    </tr>\n",
       "  </tbody>\n",
       "</table>\n",
       "</div>"
      ],
      "text/plain": [
       "predicted    0   1    2\n",
       "actual                 \n",
       "0          202  45   27\n",
       "1           84  75   60\n",
       "2           45  30  189"
      ]
     },
     "execution_count": 44,
     "metadata": {},
     "output_type": "execute_result"
    }
   ],
   "source": [
    "pd.crosstab(index=combined[\"actual\"], columns=combined[\"predicted\"])"
   ]
  },
  {
   "cell_type": "code",
   "execution_count": 45,
   "id": "ae6cef0d-b672-44e5-ba1e-83433a42838e",
   "metadata": {},
   "outputs": [
    {
     "name": "stdout",
     "output_type": "stream",
     "text": [
      "              precision    recall  f1-score   support\n",
      "\n",
      "           0       0.61      0.74      0.67       274\n",
      "           1       0.50      0.34      0.41       219\n",
      "           2       0.68      0.72      0.70       264\n",
      "\n",
      "    accuracy                           0.62       757\n",
      "   macro avg       0.60      0.60      0.59       757\n",
      "weighted avg       0.60      0.62      0.60       757\n",
      "\n"
     ]
    }
   ],
   "source": [
    "from sklearn.metrics import classification_report\n",
    "\n",
    "print(classification_report(y_test, preds))"
   ]
  },
  {
   "cell_type": "markdown",
   "id": "93f0280c-c6ea-4aa5-afcb-879323574ba6",
   "metadata": {
    "jp-MarkdownHeadingCollapsed": true,
    "tags": []
   },
   "source": [
    "### Result for Random Classifier \n",
    "* Accuracy on train is at 93% and test 65% (It seems to overfit very well :c )"
   ]
  },
  {
   "cell_type": "markdown",
   "id": "0bd08301-7f1d-41a5-9164-411978d51adc",
   "metadata": {
    "tags": []
   },
   "source": [
    "## New predictions"
   ]
  },
  {
   "cell_type": "code",
   "execution_count": null,
   "id": "aa183fa3-0f75-4fb3-9e76-20c9842720a4",
   "metadata": {},
   "outputs": [],
   "source": [
    "\n",
    "df.loc[(df['away_team'] == 52 )].tail()"
   ]
  },
  {
   "cell_type": "code",
   "execution_count": 62,
   "id": "618b7032-2510-49b1-b622-091083877371",
   "metadata": {},
   "outputs": [
    {
     "data": {
      "text/plain": [
       "array([[0., 0., 0., 0., 0., 0., 0., 0., 0., 0., 0., 0.]])"
      ]
     },
     "execution_count": 62,
     "metadata": {},
     "output_type": "execute_result"
    }
   ],
   "source": [
    "other_data_normalized\n"
   ]
  },
  {
   "cell_type": "code",
   "execution_count": 69,
   "id": "188e1aa2-7658-4248-a4ed-66f0aded2245",
   "metadata": {},
   "outputs": [
    {
     "name": "stdout",
     "output_type": "stream",
     "text": [
      "Le résultat de la prédiction pour léquipe qui recoit est\n"
     ]
    },
    {
     "data": {
      "text/plain": [
       "(None, array([1], dtype=int64))"
      ]
     },
     "execution_count": 69,
     "metadata": {},
     "output_type": "execute_result"
    }
   ],
   "source": [
    "# New prediction knn\n",
    "\n",
    "# Now predict Qatar/Ecuator\n",
    "other_data = [[142,52,50,44, 73.93,71, 73.93, 73.93,73.93, 73.5 ,76, 74.5]]\n",
    "other_data_normalized = Scaller.fit_transform(other_data)\n",
    "result = knn.predict(other_data_normalized)\n",
    "print(\"Le résultat de la prédiction pour léquipe qui recoit est\") , result"
   ]
  },
  {
   "cell_type": "code",
   "execution_count": 70,
   "id": "f8973996-d061-4e38-86b5-7530841e5a1e",
   "metadata": {},
   "outputs": [
    {
     "name": "stdout",
     "output_type": "stream",
     "text": [
      "Le résultat de la prédiction pour léquipe qui recoit est\n"
     ]
    },
    {
     "data": {
      "text/plain": [
       "(None, array([1], dtype=int64))"
      ]
     },
     "execution_count": 70,
     "metadata": {},
     "output_type": "execute_result"
    }
   ],
   "source": [
    "# New prediction knn\n",
    "\n",
    "# Now predict England/Iran \n",
    "\n",
    "other_data = [[55,1,5,20, 83,73 , 85, 88,84, 69 ,75.3, 69]]\n",
    "other_data_normalized = Scaller.fit_transform(other_data)\n",
    "result = knn.predict(other_data_normalized)\n",
    "print(\"Le résultat de la prédiction pour léquipe qui recoit est\") , result"
   ]
  },
  {
   "cell_type": "code",
   "execution_count": 66,
   "id": "b2cbff1f-9b6d-40ec-b3bd-d9d37863923d",
   "metadata": {},
   "outputs": [
    {
     "data": {
      "text/plain": [
       "array([[0., 0., 0., 0., 0., 0., 0., 0., 0., 0., 0., 0.]])"
      ]
     },
     "execution_count": 66,
     "metadata": {},
     "output_type": "execute_result"
    }
   ],
   "source": [
    "other_data_normalized"
   ]
  },
  {
   "cell_type": "code",
   "execution_count": 74,
   "id": "51af3513-99d0-444c-a437-2f334623d308",
   "metadata": {},
   "outputs": [
    {
     "data": {
      "text/html": [
       "<div>\n",
       "<style scoped>\n",
       "    .dataframe tbody tr th:only-of-type {\n",
       "        vertical-align: middle;\n",
       "    }\n",
       "\n",
       "    .dataframe tbody tr th {\n",
       "        vertical-align: top;\n",
       "    }\n",
       "\n",
       "    .dataframe thead th {\n",
       "        text-align: right;\n",
       "    }\n",
       "</style>\n",
       "<table border=\"1\" class=\"dataframe\">\n",
       "  <thead>\n",
       "    <tr style=\"text-align: right;\">\n",
       "      <th></th>\n",
       "      <th>home_team</th>\n",
       "      <th>away_team</th>\n",
       "      <th>home_team_fifa_rank</th>\n",
       "      <th>away_team_fifa_rank</th>\n",
       "      <th>home_team_goalkeeper_score</th>\n",
       "      <th>away_team_goalkeeper_score</th>\n",
       "      <th>home_team_mean_defense_score</th>\n",
       "      <th>home_team_mean_offense_score</th>\n",
       "      <th>home_team_mean_midfield_score</th>\n",
       "      <th>away_team_mean_defense_score</th>\n",
       "      <th>away_team_mean_offense_score</th>\n",
       "      <th>away_team_mean_midfield_score</th>\n",
       "      <th>fifa_rank_delta</th>\n",
       "      <th>offense/defense_ratio</th>\n",
       "      <th>result</th>\n",
       "    </tr>\n",
       "    <tr>\n",
       "      <th>date</th>\n",
       "      <th></th>\n",
       "      <th></th>\n",
       "      <th></th>\n",
       "      <th></th>\n",
       "      <th></th>\n",
       "      <th></th>\n",
       "      <th></th>\n",
       "      <th></th>\n",
       "      <th></th>\n",
       "      <th></th>\n",
       "      <th></th>\n",
       "      <th></th>\n",
       "      <th></th>\n",
       "      <th></th>\n",
       "      <th></th>\n",
       "    </tr>\n",
       "  </thead>\n",
       "  <tbody>\n",
       "    <tr>\n",
       "      <th>1993-08-08</th>\n",
       "      <td>47</td>\n",
       "      <td>174</td>\n",
       "      <td>35</td>\n",
       "      <td>94</td>\n",
       "      <td>71.645833</td>\n",
       "      <td>69.000000</td>\n",
       "      <td>70.475926</td>\n",
       "      <td>75.477083</td>\n",
       "      <td>74.929167</td>\n",
       "      <td>71.669231</td>\n",
       "      <td>75.260000</td>\n",
       "      <td>74.592308</td>\n",
       "      <td>59</td>\n",
       "      <td>1.053131</td>\n",
       "      <td>2</td>\n",
       "    </tr>\n",
       "    <tr>\n",
       "      <th>1993-08-15</th>\n",
       "      <td>171</td>\n",
       "      <td>23</td>\n",
       "      <td>22</td>\n",
       "      <td>8</td>\n",
       "      <td>79.215190</td>\n",
       "      <td>87.596154</td>\n",
       "      <td>79.593671</td>\n",
       "      <td>83.616456</td>\n",
       "      <td>78.277215</td>\n",
       "      <td>86.150000</td>\n",
       "      <td>87.326923</td>\n",
       "      <td>85.873077</td>\n",
       "      <td>-14</td>\n",
       "      <td>0.970591</td>\n",
       "      <td>1</td>\n",
       "    </tr>\n",
       "    <tr>\n",
       "      <th>1993-08-25</th>\n",
       "      <td>45</td>\n",
       "      <td>95</td>\n",
       "      <td>10</td>\n",
       "      <td>84</td>\n",
       "      <td>80.428571</td>\n",
       "      <td>76.000000</td>\n",
       "      <td>78.645714</td>\n",
       "      <td>77.640000</td>\n",
       "      <td>79.231429</td>\n",
       "      <td>62.080000</td>\n",
       "      <td>64.566667</td>\n",
       "      <td>66.000000</td>\n",
       "      <td>74</td>\n",
       "      <td>1.250644</td>\n",
       "      <td>2</td>\n",
       "    </tr>\n",
       "    <tr>\n",
       "      <th>1993-08-29</th>\n",
       "      <td>6</td>\n",
       "      <td>123</td>\n",
       "      <td>5</td>\n",
       "      <td>67</td>\n",
       "      <td>80.960000</td>\n",
       "      <td>74.157895</td>\n",
       "      <td>83.172000</td>\n",
       "      <td>88.237333</td>\n",
       "      <td>84.616000</td>\n",
       "      <td>74.773684</td>\n",
       "      <td>77.610526</td>\n",
       "      <td>74.326316</td>\n",
       "      <td>62</td>\n",
       "      <td>1.180059</td>\n",
       "      <td>1</td>\n",
       "    </tr>\n",
       "    <tr>\n",
       "      <th>1993-09-05</th>\n",
       "      <td>6</td>\n",
       "      <td>34</td>\n",
       "      <td>5</td>\n",
       "      <td>19</td>\n",
       "      <td>80.960000</td>\n",
       "      <td>77.772727</td>\n",
       "      <td>83.172000</td>\n",
       "      <td>88.237333</td>\n",
       "      <td>84.616000</td>\n",
       "      <td>78.536364</td>\n",
       "      <td>80.663636</td>\n",
       "      <td>78.204545</td>\n",
       "      <td>14</td>\n",
       "      <td>1.123522</td>\n",
       "      <td>0</td>\n",
       "    </tr>\n",
       "  </tbody>\n",
       "</table>\n",
       "</div>"
      ],
      "text/plain": [
       "            home_team  away_team  home_team_fifa_rank  away_team_fifa_rank  \\\n",
       "date                                                                         \n",
       "1993-08-08         47        174                   35                   94   \n",
       "1993-08-15        171         23                   22                    8   \n",
       "1993-08-25         45         95                   10                   84   \n",
       "1993-08-29          6        123                    5                   67   \n",
       "1993-09-05          6         34                    5                   19   \n",
       "\n",
       "            home_team_goalkeeper_score  away_team_goalkeeper_score  \\\n",
       "date                                                                 \n",
       "1993-08-08                   71.645833                   69.000000   \n",
       "1993-08-15                   79.215190                   87.596154   \n",
       "1993-08-25                   80.428571                   76.000000   \n",
       "1993-08-29                   80.960000                   74.157895   \n",
       "1993-09-05                   80.960000                   77.772727   \n",
       "\n",
       "            home_team_mean_defense_score  home_team_mean_offense_score  \\\n",
       "date                                                                     \n",
       "1993-08-08                     70.475926                     75.477083   \n",
       "1993-08-15                     79.593671                     83.616456   \n",
       "1993-08-25                     78.645714                     77.640000   \n",
       "1993-08-29                     83.172000                     88.237333   \n",
       "1993-09-05                     83.172000                     88.237333   \n",
       "\n",
       "            home_team_mean_midfield_score  away_team_mean_defense_score  \\\n",
       "date                                                                      \n",
       "1993-08-08                      74.929167                     71.669231   \n",
       "1993-08-15                      78.277215                     86.150000   \n",
       "1993-08-25                      79.231429                     62.080000   \n",
       "1993-08-29                      84.616000                     74.773684   \n",
       "1993-09-05                      84.616000                     78.536364   \n",
       "\n",
       "            away_team_mean_offense_score  away_team_mean_midfield_score  \\\n",
       "date                                                                      \n",
       "1993-08-08                     75.260000                      74.592308   \n",
       "1993-08-15                     87.326923                      85.873077   \n",
       "1993-08-25                     64.566667                      66.000000   \n",
       "1993-08-29                     77.610526                      74.326316   \n",
       "1993-09-05                     80.663636                      78.204545   \n",
       "\n",
       "            fifa_rank_delta  offense/defense_ratio  result  \n",
       "date                                                        \n",
       "1993-08-08               59               1.053131       2  \n",
       "1993-08-15              -14               0.970591       1  \n",
       "1993-08-25               74               1.250644       2  \n",
       "1993-08-29               62               1.180059       1  \n",
       "1993-09-05               14               1.123522       0  "
      ]
     },
     "execution_count": 74,
     "metadata": {},
     "output_type": "execute_result"
    }
   ],
   "source": [
    "df.head()"
   ]
  },
  {
   "cell_type": "code",
   "execution_count": 80,
   "id": "689e2071-2cdc-4b39-b157-2271adf83d82",
   "metadata": {},
   "outputs": [],
   "source": [
    "testting = [[47,\t174,\t35,\t94,\t71.645833,\t69.000000,\t70.475926,\t75.477083,\t74.929167,\t71.669231,\t75.260000,\t74.592308,\t59,\t1.05313]]"
   ]
  },
  {
   "cell_type": "code",
   "execution_count": 82,
   "id": "37f1f4a8-dc1d-437e-a881-61594c2430db",
   "metadata": {},
   "outputs": [
    {
     "data": {
      "text/plain": [
       "array([[0., 0., 0., 0., 0., 0., 0., 0., 0., 0., 0., 0., 0., 0.]])"
      ]
     },
     "execution_count": 82,
     "metadata": {},
     "output_type": "execute_result"
    }
   ],
   "source": [
    "Scaller.transform(testting)"
   ]
  },
  {
   "cell_type": "code",
   "execution_count": 85,
   "id": "b8121756-5ae6-4b72-9919-3c5749a5743c",
   "metadata": {},
   "outputs": [
    {
     "data": {
      "text/plain": [
       "array([-1.02823959, -1.47671503,  0.64517584, -0.21650989, -0.36584115,\n",
       "        0.09757736, -0.93098086,  0.07090647, -0.30318488, -0.68476057,\n",
       "       -0.77634984, -0.58366673])"
      ]
     },
     "execution_count": 85,
     "metadata": {},
     "output_type": "execute_result"
    }
   ],
   "source": [
    "X_train[2]"
   ]
  },
  {
   "cell_type": "markdown",
   "id": "067c8c75-f9f1-4324-9c06-7e02debf449d",
   "metadata": {
    "jp-MarkdownHeadingCollapsed": true,
    "tags": []
   },
   "source": [
    "# Keras classification"
   ]
  },
  {
   "cell_type": "code",
   "execution_count": 324,
   "id": "3aa61652-8db9-4152-a40c-665dc2fa11ea",
   "metadata": {},
   "outputs": [],
   "source": [
    "import tensorflow as tf"
   ]
  },
  {
   "cell_type": "code",
   "execution_count": 325,
   "id": "2753e6d5-a439-4790-8d02-325341c5ecd5",
   "metadata": {},
   "outputs": [
    {
     "data": {
      "text/plain": [
       "((1766, 4), (1766,))"
      ]
     },
     "execution_count": 325,
     "metadata": {},
     "output_type": "execute_result"
    }
   ],
   "source": [
    "X_train.shape, y_train.shape"
   ]
  },
  {
   "cell_type": "code",
   "execution_count": 326,
   "id": "491b3bf2-a17d-4517-8867-56fa95461ecd",
   "metadata": {},
   "outputs": [],
   "source": [
    "N, D = X_train.shape # number of observation and variables"
   ]
  },
  {
   "cell_type": "code",
   "execution_count": 328,
   "id": "6369b050-65b7-4d80-a8cf-ebb74aa00db1",
   "metadata": {},
   "outputs": [],
   "source": [
    "# Configuration options\n",
    "training_split = 1000\n",
    "num_classes = 3\n",
    "loss_function_used = 'categorical_hinge'\n",
    "learning_rate_used = 0.03\n",
    "additional_metrics = ['accuracy']\n",
    "num_epochs = 80\n",
    "batch_size = 5 # X_train.shape[0] \n",
    "validation_split = 0.2 # 20%"
   ]
  },
  {
   "cell_type": "code",
   "execution_count": 329,
   "id": "e57e9f50-5a26-4696-b5ad-cc5b154de7d5",
   "metadata": {},
   "outputs": [],
   "source": [
    "# Create the model\n",
    "model = Sequential()\n",
    "model.add(Dense(32, input_shape=(D,), activation='tanh', kernel_initializer='he_uniform'))\n",
    "model.add(Dense(16, activation='tanh', kernel_initializer='he_uniform'))\n",
    "model.add(Dense(8, activation='tanh', kernel_initializer='he_uniform'))\n",
    "model.add(Dense(3, activation='relu'))"
   ]
  },
  {
   "cell_type": "code",
   "execution_count": 330,
   "id": "b14444fd-b099-4494-9532-94a25854374c",
   "metadata": {},
   "outputs": [
    {
     "name": "stdout",
     "output_type": "stream",
     "text": [
      "Epoch 1/80\n",
      "283/283 [==============================] - 1s 2ms/step - loss: 0.6565 - accuracy: 0.4618 - val_loss: 0.6249 - val_accuracy: 0.5000\n",
      "Epoch 2/80\n",
      "283/283 [==============================] - 1s 2ms/step - loss: 0.6006 - accuracy: 0.4554 - val_loss: 0.5895 - val_accuracy: 0.4068\n",
      "Epoch 3/80\n",
      "283/283 [==============================] - 1s 2ms/step - loss: 0.5574 - accuracy: 0.3839 - val_loss: 0.5623 - val_accuracy: 0.2655\n",
      "Epoch 4/80\n",
      "283/283 [==============================] - 1s 2ms/step - loss: 0.5271 - accuracy: 0.3576 - val_loss: 0.5434 - val_accuracy: 0.4520\n",
      "Epoch 5/80\n",
      "283/283 [==============================] - 1s 2ms/step - loss: 0.5190 - accuracy: 0.3739 - val_loss: 0.5400 - val_accuracy: 0.3814\n",
      "Epoch 6/80\n",
      "283/283 [==============================] - 1s 2ms/step - loss: 0.5104 - accuracy: 0.3831 - val_loss: 0.5259 - val_accuracy: 0.3814\n",
      "Epoch 7/80\n",
      "283/283 [==============================] - 1s 2ms/step - loss: 0.5071 - accuracy: 0.3555 - val_loss: 0.5238 - val_accuracy: 0.4379\n",
      "Epoch 8/80\n",
      "283/283 [==============================] - 1s 2ms/step - loss: 0.5020 - accuracy: 0.3697 - val_loss: 0.5232 - val_accuracy: 0.3616\n",
      "Epoch 9/80\n",
      "283/283 [==============================] - 1s 2ms/step - loss: 0.4983 - accuracy: 0.3746 - val_loss: 0.5212 - val_accuracy: 0.3136\n",
      "Epoch 10/80\n",
      "283/283 [==============================] - 1s 2ms/step - loss: 0.4961 - accuracy: 0.3839 - val_loss: 0.5211 - val_accuracy: 0.3192\n",
      "Epoch 11/80\n",
      "283/283 [==============================] - 1s 2ms/step - loss: 0.4930 - accuracy: 0.3591 - val_loss: 0.5139 - val_accuracy: 0.3390\n",
      "Epoch 12/80\n",
      "283/283 [==============================] - 1s 2ms/step - loss: 0.4913 - accuracy: 0.3428 - val_loss: 0.5151 - val_accuracy: 0.4209\n",
      "Epoch 13/80\n",
      "283/283 [==============================] - 1s 2ms/step - loss: 0.4889 - accuracy: 0.3534 - val_loss: 0.5125 - val_accuracy: 0.4040\n",
      "Epoch 14/80\n",
      "283/283 [==============================] - 1s 2ms/step - loss: 0.4880 - accuracy: 0.3569 - val_loss: 0.5144 - val_accuracy: 0.3249\n",
      "Epoch 15/80\n",
      "283/283 [==============================] - 1s 3ms/step - loss: 0.4875 - accuracy: 0.3633 - val_loss: 0.5135 - val_accuracy: 0.2797\n",
      "Epoch 16/80\n",
      "283/283 [==============================] - 1s 2ms/step - loss: 0.4882 - accuracy: 0.3371 - val_loss: 0.5132 - val_accuracy: 0.3164\n",
      "Epoch 17/80\n",
      "283/283 [==============================] - 1s 2ms/step - loss: 0.4863 - accuracy: 0.3647 - val_loss: 0.5180 - val_accuracy: 0.3277\n",
      "Epoch 18/80\n",
      "283/283 [==============================] - 1s 2ms/step - loss: 0.4862 - accuracy: 0.3499 - val_loss: 0.5057 - val_accuracy: 0.3362\n",
      "Epoch 19/80\n",
      "283/283 [==============================] - 1s 2ms/step - loss: 0.4851 - accuracy: 0.3506 - val_loss: 0.5074 - val_accuracy: 0.3898\n",
      "Epoch 20/80\n",
      "283/283 [==============================] - 1s 2ms/step - loss: 0.4834 - accuracy: 0.3654 - val_loss: 0.5101 - val_accuracy: 0.3475\n",
      "Epoch 21/80\n",
      "283/283 [==============================] - 1s 2ms/step - loss: 0.4833 - accuracy: 0.3343 - val_loss: 0.5098 - val_accuracy: 0.3446\n",
      "Epoch 22/80\n",
      "283/283 [==============================] - 1s 2ms/step - loss: 0.4828 - accuracy: 0.3265 - val_loss: 0.5093 - val_accuracy: 0.3164\n",
      "Epoch 23/80\n",
      "283/283 [==============================] - 1s 2ms/step - loss: 0.4822 - accuracy: 0.3690 - val_loss: 0.5023 - val_accuracy: 0.3559\n",
      "Epoch 24/80\n",
      "283/283 [==============================] - 1s 2ms/step - loss: 0.4817 - accuracy: 0.3385 - val_loss: 0.5093 - val_accuracy: 0.3701\n",
      "Epoch 25/80\n",
      "283/283 [==============================] - 1s 2ms/step - loss: 0.4813 - accuracy: 0.3343 - val_loss: 0.5017 - val_accuracy: 0.3672\n",
      "Epoch 26/80\n",
      "283/283 [==============================] - 1s 2ms/step - loss: 0.4808 - accuracy: 0.3527 - val_loss: 0.4991 - val_accuracy: 0.3333\n",
      "Epoch 27/80\n",
      "283/283 [==============================] - 1s 2ms/step - loss: 0.4805 - accuracy: 0.3803 - val_loss: 0.5000 - val_accuracy: 0.3588\n",
      "Epoch 28/80\n",
      "283/283 [==============================] - 1s 3ms/step - loss: 0.4812 - accuracy: 0.3569 - val_loss: 0.4989 - val_accuracy: 0.3503\n",
      "Epoch 29/80\n",
      "283/283 [==============================] - 1s 3ms/step - loss: 0.4794 - accuracy: 0.3414 - val_loss: 0.4984 - val_accuracy: 0.3701\n",
      "Epoch 30/80\n",
      "283/283 [==============================] - 1s 2ms/step - loss: 0.4795 - accuracy: 0.3499 - val_loss: 0.4986 - val_accuracy: 0.3305\n",
      "Epoch 31/80\n",
      "283/283 [==============================] - 1s 2ms/step - loss: 0.4792 - accuracy: 0.3739 - val_loss: 0.4984 - val_accuracy: 0.3616\n",
      "Epoch 32/80\n",
      "283/283 [==============================] - 1s 3ms/step - loss: 0.4791 - accuracy: 0.3810 - val_loss: 0.5009 - val_accuracy: 0.3164\n",
      "Epoch 33/80\n",
      "283/283 [==============================] - 1s 2ms/step - loss: 0.4781 - accuracy: 0.3442 - val_loss: 0.4958 - val_accuracy: 0.4350\n",
      "Epoch 34/80\n",
      "283/283 [==============================] - 1s 2ms/step - loss: 0.4781 - accuracy: 0.3484 - val_loss: 0.4948 - val_accuracy: 0.3362\n",
      "Epoch 35/80\n",
      "283/283 [==============================] - 1s 3ms/step - loss: 0.4777 - accuracy: 0.3598 - val_loss: 0.4947 - val_accuracy: 0.3446\n",
      "Epoch 36/80\n",
      "283/283 [==============================] - 1s 2ms/step - loss: 0.4785 - accuracy: 0.3697 - val_loss: 0.4956 - val_accuracy: 0.3672\n",
      "Epoch 37/80\n",
      "283/283 [==============================] - 1s 2ms/step - loss: 0.4772 - accuracy: 0.3598 - val_loss: 0.4930 - val_accuracy: 0.3729\n",
      "Epoch 38/80\n",
      "283/283 [==============================] - 1s 2ms/step - loss: 0.4768 - accuracy: 0.3527 - val_loss: 0.4964 - val_accuracy: 0.3898\n",
      "Epoch 39/80\n",
      "283/283 [==============================] - 1s 2ms/step - loss: 0.4770 - accuracy: 0.3272 - val_loss: 0.4941 - val_accuracy: 0.3672\n",
      "Epoch 40/80\n",
      "283/283 [==============================] - 1s 2ms/step - loss: 0.4764 - accuracy: 0.3477 - val_loss: 0.4946 - val_accuracy: 0.3814\n",
      "Epoch 41/80\n",
      "283/283 [==============================] - 1s 2ms/step - loss: 0.4755 - accuracy: 0.3612 - val_loss: 0.4934 - val_accuracy: 0.3277\n",
      "Epoch 42/80\n",
      "283/283 [==============================] - 1s 3ms/step - loss: 0.4758 - accuracy: 0.3612 - val_loss: 0.4904 - val_accuracy: 0.3842\n",
      "Epoch 43/80\n",
      "283/283 [==============================] - 1s 2ms/step - loss: 0.4760 - accuracy: 0.3421 - val_loss: 0.4912 - val_accuracy: 0.3672\n",
      "Epoch 44/80\n",
      "283/283 [==============================] - 1s 2ms/step - loss: 0.4752 - accuracy: 0.3399 - val_loss: 0.4932 - val_accuracy: 0.3277\n",
      "Epoch 45/80\n",
      "283/283 [==============================] - 1s 2ms/step - loss: 0.4757 - accuracy: 0.3357 - val_loss: 0.4938 - val_accuracy: 0.4096\n",
      "Epoch 46/80\n",
      "283/283 [==============================] - 1s 2ms/step - loss: 0.4751 - accuracy: 0.3463 - val_loss: 0.4899 - val_accuracy: 0.3249\n",
      "Epoch 47/80\n",
      "283/283 [==============================] - 1s 2ms/step - loss: 0.4748 - accuracy: 0.3399 - val_loss: 0.4951 - val_accuracy: 0.3814\n",
      "Epoch 48/80\n",
      "283/283 [==============================] - 1s 2ms/step - loss: 0.4744 - accuracy: 0.3130 - val_loss: 0.4929 - val_accuracy: 0.3418\n",
      "Epoch 49/80\n",
      "283/283 [==============================] - 1s 2ms/step - loss: 0.4744 - accuracy: 0.3576 - val_loss: 0.4898 - val_accuracy: 0.3390\n",
      "Epoch 50/80\n",
      "283/283 [==============================] - 1s 2ms/step - loss: 0.4749 - accuracy: 0.3513 - val_loss: 0.4903 - val_accuracy: 0.4124\n",
      "Epoch 51/80\n",
      "283/283 [==============================] - 1s 2ms/step - loss: 0.4723 - accuracy: 0.3725 - val_loss: 0.4963 - val_accuracy: 0.3249\n",
      "Epoch 52/80\n",
      "283/283 [==============================] - 1s 2ms/step - loss: 0.4750 - accuracy: 0.3704 - val_loss: 0.4906 - val_accuracy: 0.3672\n",
      "Epoch 53/80\n",
      "283/283 [==============================] - 1s 2ms/step - loss: 0.4733 - accuracy: 0.3414 - val_loss: 0.4905 - val_accuracy: 0.3333\n",
      "Epoch 54/80\n",
      "283/283 [==============================] - 1s 2ms/step - loss: 0.4727 - accuracy: 0.3739 - val_loss: 0.4919 - val_accuracy: 0.4040\n",
      "Epoch 55/80\n",
      "283/283 [==============================] - 1s 2ms/step - loss: 0.4727 - accuracy: 0.3477 - val_loss: 0.4906 - val_accuracy: 0.3559\n",
      "Epoch 56/80\n",
      "283/283 [==============================] - 1s 2ms/step - loss: 0.4731 - accuracy: 0.3258 - val_loss: 0.4875 - val_accuracy: 0.3192\n",
      "Epoch 57/80\n",
      "283/283 [==============================] - 1s 2ms/step - loss: 0.4723 - accuracy: 0.3683 - val_loss: 0.4884 - val_accuracy: 0.3277\n",
      "Epoch 58/80\n",
      "283/283 [==============================] - 1s 2ms/step - loss: 0.4719 - accuracy: 0.3399 - val_loss: 0.4899 - val_accuracy: 0.4011\n",
      "Epoch 59/80\n",
      "283/283 [==============================] - 1s 2ms/step - loss: 0.4717 - accuracy: 0.3378 - val_loss: 0.4892 - val_accuracy: 0.3390\n",
      "Epoch 60/80\n",
      "283/283 [==============================] - 1s 2ms/step - loss: 0.4724 - accuracy: 0.3591 - val_loss: 0.4909 - val_accuracy: 0.3136\n",
      "Epoch 61/80\n",
      "283/283 [==============================] - 1s 2ms/step - loss: 0.4728 - accuracy: 0.3612 - val_loss: 0.4888 - val_accuracy: 0.2853\n",
      "Epoch 62/80\n",
      "283/283 [==============================] - 1s 2ms/step - loss: 0.4716 - accuracy: 0.3754 - val_loss: 0.4911 - val_accuracy: 0.3277\n",
      "Epoch 63/80\n",
      "283/283 [==============================] - 1s 2ms/step - loss: 0.4717 - accuracy: 0.3293 - val_loss: 0.4913 - val_accuracy: 0.3616\n",
      "Epoch 64/80\n",
      "283/283 [==============================] - 1s 2ms/step - loss: 0.4709 - accuracy: 0.3506 - val_loss: 0.4916 - val_accuracy: 0.3362\n",
      "Epoch 65/80\n",
      "283/283 [==============================] - 1s 2ms/step - loss: 0.4712 - accuracy: 0.3371 - val_loss: 0.4924 - val_accuracy: 0.3164\n",
      "Epoch 66/80\n",
      "283/283 [==============================] - 1s 2ms/step - loss: 0.4705 - accuracy: 0.3173 - val_loss: 0.4907 - val_accuracy: 0.3107\n",
      "Epoch 67/80\n",
      "283/283 [==============================] - 1s 2ms/step - loss: 0.4704 - accuracy: 0.3166 - val_loss: 0.4916 - val_accuracy: 0.3475\n",
      "Epoch 68/80\n",
      "283/283 [==============================] - 1s 2ms/step - loss: 0.4704 - accuracy: 0.3392 - val_loss: 0.4888 - val_accuracy: 0.3503\n",
      "Epoch 69/80\n",
      "283/283 [==============================] - 1s 2ms/step - loss: 0.4716 - accuracy: 0.3435 - val_loss: 0.4899 - val_accuracy: 0.3644\n",
      "Epoch 70/80\n",
      "283/283 [==============================] - 1s 3ms/step - loss: 0.4692 - accuracy: 0.3428 - val_loss: 0.4886 - val_accuracy: 0.3164\n",
      "Epoch 71/80\n",
      "283/283 [==============================] - 1s 2ms/step - loss: 0.4702 - accuracy: 0.3272 - val_loss: 0.4922 - val_accuracy: 0.4011\n",
      "Epoch 72/80\n",
      "283/283 [==============================] - 1s 2ms/step - loss: 0.4693 - accuracy: 0.3357 - val_loss: 0.4911 - val_accuracy: 0.3136\n",
      "Epoch 73/80\n",
      "283/283 [==============================] - 1s 2ms/step - loss: 0.4702 - accuracy: 0.3314 - val_loss: 0.4910 - val_accuracy: 0.2938\n",
      "Epoch 74/80\n",
      "283/283 [==============================] - 1s 2ms/step - loss: 0.4698 - accuracy: 0.3371 - val_loss: 0.4910 - val_accuracy: 0.2938\n",
      "Epoch 75/80\n",
      "283/283 [==============================] - 1s 2ms/step - loss: 0.4697 - accuracy: 0.3704 - val_loss: 0.4930 - val_accuracy: 0.4237\n",
      "Epoch 76/80\n",
      "283/283 [==============================] - 1s 2ms/step - loss: 0.4699 - accuracy: 0.3392 - val_loss: 0.4872 - val_accuracy: 0.3390\n",
      "Epoch 77/80\n",
      "283/283 [==============================] - 1s 2ms/step - loss: 0.4693 - accuracy: 0.3754 - val_loss: 0.4895 - val_accuracy: 0.3192\n",
      "Epoch 78/80\n",
      "283/283 [==============================] - 1s 3ms/step - loss: 0.4688 - accuracy: 0.3499 - val_loss: 0.4909 - val_accuracy: 0.3898\n",
      "Epoch 79/80\n",
      "283/283 [==============================] - 1s 2ms/step - loss: 0.4688 - accuracy: 0.3484 - val_loss: 0.4918 - val_accuracy: 0.2853\n",
      "Epoch 80/80\n",
      "283/283 [==============================] - 1s 2ms/step - loss: 0.4686 - accuracy: 0.3626 - val_loss: 0.4881 - val_accuracy: 0.3559\n"
     ]
    }
   ],
   "source": [
    "# Configure the model and start training\n",
    "model.compile(loss=loss_function_used, optimizer='adam', metrics=additional_metrics)\n",
    "history = model.fit(X_train, y_train, epochs=num_epochs, batch_size=batch_size, verbose=1, validation_split=validation_split)"
   ]
  },
  {
   "cell_type": "code",
   "execution_count": 331,
   "id": "d6ac5df1-8ef5-4708-87e9-5a847e63b95f",
   "metadata": {},
   "outputs": [
    {
     "name": "stdout",
     "output_type": "stream",
     "text": [
      "24/24 [==============================] - 0s 2ms/step - loss: 0.4772 - accuracy: 0.3593\n",
      "loss ---> 0.47715505957603455\n",
      "accuracy ---> 0.35931307077407837\n"
     ]
    }
   ],
   "source": [
    "# testing the model with using evaluate method\n",
    "test_result = model.evaluate(X_test, y_test)\n",
    "for i in range(len(test_result)):\n",
    "    print(f'{model.metrics_names[i]} ---> {test_result[i]}')"
   ]
  },
  {
   "cell_type": "code",
   "execution_count": 332,
   "id": "f6f1fbbe-39b9-4791-9396-f91c49ef0469",
   "metadata": {},
   "outputs": [
    {
     "data": {
      "image/png": "[encoded data removed]",
      "text/plain": [
       "<Figure size 640x480 with 1 Axes>"
      ]
     },
     "metadata": {},
     "output_type": "display_data"
    }
   ],
   "source": [
    "import matplotlib.pyplot as plt\n",
    "\n",
    "# summarize history for accuracy\n",
    "plt.plot(history.history['accuracy'])\n",
    "plt.plot(history.history['val_accuracy'])\n",
    "plt.title('model accuracy')\n",
    "plt.ylabel('accuracy')\n",
    "plt.xlabel('epoch')\n",
    "plt.legend(['train', 'test'], loc='upper left')\n",
    "plt.show()"
   ]
  },
  {
   "cell_type": "code",
   "execution_count": 333,
   "id": "252952b2-42a4-469c-9547-76cd9996a888",
   "metadata": {},
   "outputs": [
    {
     "data": {
      "image/png": "[encoded data removed]",
      "text/plain": [
       "<Figure size 640x480 with 1 Axes>"
      ]
     },
     "metadata": {},
     "output_type": "display_data"
    }
   ],
   "source": [
    "# summarize history for loss\n",
    "plt.plot(history.history['loss'])\n",
    "plt.plot(history.history['val_loss'])\n",
    "plt.title('model loss')\n",
    "plt.ylabel('loss')\n",
    "plt.xlabel('epoch')\n",
    "plt.legend(['train', 'test'], loc='upper left')\n",
    "plt.show()"
   ]
  },
  {
   "cell_type": "code",
   "execution_count": null,
   "id": "3a37144a-6b05-428f-9f13-feedba68cf62",
   "metadata": {},
   "outputs": [],
   "source": [
    "\n",
    "# Visualize training process\n",
    "plt.plot(history.history['loss'], label='Categorical Hinge loss (training data)')\n",
    "plt.plot(history.history['val_loss'], label='Categorical Hinge loss (validation data)')\n",
    "plt.title('Categorical Hinge loss for circles')\n",
    "plt.ylabel('Categorical Hinge loss value')\n",
    "plt.yscale('log')\n",
    "plt.xlabel('No. epoch')\n",
    "plt.legend(loc=\"upper left\")\n",
    "plt.show()"
   ]
  },
  {
   "cell_type": "code",
   "execution_count": null,
   "id": "9a21f9c5-9896-414c-ac07-d226ccd80e3f",
   "metadata": {},
   "outputs": [],
   "source": [
    "df_temp = pd.DataFrame({'Actual': y_train, 'Predicted': y_pred})\n",
    "df_temp.head()"
   ]
  },
  {
   "cell_type": "markdown",
   "id": "4abaae43-081a-404c-aa8c-edb0ae3f67ad",
   "metadata": {
    "jp-MarkdownHeadingCollapsed": true,
    "tags": []
   },
   "source": [
    "# MLP Classifier"
   ]
  },
  {
   "cell_type": "code",
   "execution_count": 334,
   "id": "d270555d-2424-49b0-94be-24f1c7af82ce",
   "metadata": {},
   "outputs": [],
   "source": [
    "from sklearn.neural_network import MLPClassifier "
   ]
  },
  {
   "cell_type": "code",
   "execution_count": 335,
   "id": "d7367164-7d59-4a88-8eee-3bce4524cdb0",
   "metadata": {},
   "outputs": [
    {
     "data": {
      "text/html": [
       "<style>#sk-container-id-22 {color: black;background-color: white;}#sk-container-id-22 pre{padding: 0;}#sk-container-id-22 div.sk-toggleable {background-color: white;}#sk-container-id-22 label.sk-toggleable__label {cursor: pointer;display: block;width: 100%;margin-bottom: 0;padding: 0.3em;box-sizing: border-box;text-align: center;}#sk-container-id-22 label.sk-toggleable__label-arrow:before {content: \"▸\";float: left;margin-right: 0.25em;color: #696969;}#sk-container-id-22 label.sk-toggleable__label-arrow:hover:before {color: black;}#sk-container-id-22 div.sk-estimator:hover label.sk-toggleable__label-arrow:before {color: black;}#sk-container-id-22 div.sk-toggleable__content {max-height: 0;max-width: 0;overflow: hidden;text-align: left;background-color: #f0f8ff;}#sk-container-id-22 div.sk-toggleable__content pre {margin: 0.2em;color: black;border-radius: 0.25em;background-color: #f0f8ff;}#sk-container-id-22 input.sk-toggleable__control:checked~div.sk-toggleable__content {max-height: 200px;max-width: 100%;overflow: auto;}#sk-container-id-22 input.sk-toggleable__control:checked~label.sk-toggleable__label-arrow:before {content: \"▾\";}#sk-container-id-22 div.sk-estimator input.sk-toggleable__control:checked~label.sk-toggleable__label {background-color: #d4ebff;}#sk-container-id-22 div.sk-label input.sk-toggleable__control:checked~label.sk-toggleable__label {background-color: #d4ebff;}#sk-container-id-22 input.sk-hidden--visually {border: 0;clip: rect(1px 1px 1px 1px);clip: rect(1px, 1px, 1px, 1px);height: 1px;margin: -1px;overflow: hidden;padding: 0;position: absolute;width: 1px;}#sk-container-id-22 div.sk-estimator {font-family: monospace;background-color: #f0f8ff;border: 1px dotted black;border-radius: 0.25em;box-sizing: border-box;margin-bottom: 0.5em;}#sk-container-id-22 div.sk-estimator:hover {background-color: #d4ebff;}#sk-container-id-22 div.sk-parallel-item::after {content: \"\";width: 100%;border-bottom: 1px solid gray;flex-grow: 1;}#sk-container-id-22 div.sk-label:hover label.sk-toggleable__label {background-color: #d4ebff;}#sk-container-id-22 div.sk-serial::before {content: \"\";position: absolute;border-left: 1px solid gray;box-sizing: border-box;top: 0;bottom: 0;left: 50%;z-index: 0;}#sk-container-id-22 div.sk-serial {display: flex;flex-direction: column;align-items: center;background-color: white;padding-right: 0.2em;padding-left: 0.2em;position: relative;}#sk-container-id-22 div.sk-item {position: relative;z-index: 1;}#sk-container-id-22 div.sk-parallel {display: flex;align-items: stretch;justify-content: center;background-color: white;position: relative;}#sk-container-id-22 div.sk-item::before, #sk-container-id-22 div.sk-parallel-item::before {content: \"\";position: absolute;border-left: 1px solid gray;box-sizing: border-box;top: 0;bottom: 0;left: 50%;z-index: -1;}#sk-container-id-22 div.sk-parallel-item {display: flex;flex-direction: column;z-index: 1;position: relative;background-color: white;}#sk-container-id-22 div.sk-parallel-item:first-child::after {align-self: flex-end;width: 50%;}#sk-container-id-22 div.sk-parallel-item:last-child::after {align-self: flex-start;width: 50%;}#sk-container-id-22 div.sk-parallel-item:only-child::after {width: 0;}#sk-container-id-22 div.sk-dashed-wrapped {border: 1px dashed gray;margin: 0 0.4em 0.5em 0.4em;box-sizing: border-box;padding-bottom: 0.4em;background-color: white;}#sk-container-id-22 div.sk-label label {font-family: monospace;font-weight: bold;display: inline-block;line-height: 1.2em;}#sk-container-id-22 div.sk-label-container {text-align: center;}#sk-container-id-22 div.sk-container {/* jupyter's `normalize.less` sets `[hidden] { display: none; }` but bootstrap.min.css set `[hidden] { display: none !important; }` so we also need the `!important` here to be able to override the default hidden behavior on the sphinx rendered scikit-learn.org. See: https://github.com/scikit-learn/scikit-learn/issues/21755 */display: inline-block !important;position: relative;}#sk-container-id-22 div.sk-text-repr-fallback {display: none;}</style><div id=\"sk-container-id-22\" class=\"sk-top-container\"><div class=\"sk-text-repr-fallback\"><pre>MLPClassifier(early_stopping=True, hidden_layer_sizes=(120, 80, 40),\n",
       "              learning_rate=&#x27;adaptive&#x27;, max_iter=50)</pre><b>In a Jupyter environment, please rerun this cell to show the HTML representation or trust the notebook. <br />On GitHub, the HTML representation is unable to render, please try loading this page with nbviewer.org.</b></div><div class=\"sk-container\" hidden><div class=\"sk-item\"><div class=\"sk-estimator sk-toggleable\"><input class=\"sk-toggleable__control sk-hidden--visually\" id=\"sk-estimator-id-24\" type=\"checkbox\" checked><label for=\"sk-estimator-id-24\" class=\"sk-toggleable__label sk-toggleable__label-arrow\">MLPClassifier</label><div class=\"sk-toggleable__content\"><pre>MLPClassifier(early_stopping=True, hidden_layer_sizes=(120, 80, 40),\n",
       "              learning_rate=&#x27;adaptive&#x27;, max_iter=50)</pre></div></div></div></div></div>"
      ],
      "text/plain": [
       "MLPClassifier(early_stopping=True, hidden_layer_sizes=(120, 80, 40),\n",
       "              learning_rate='adaptive', max_iter=50)"
      ]
     },
     "execution_count": 335,
     "metadata": {},
     "output_type": "execute_result"
    }
   ],
   "source": [
    "mlp_reg = MLPClassifier(hidden_layer_sizes=(120,80,40), alpha = 0.0001, \n",
    "                       max_iter = 50,activation = 'relu', learning_rate = 'adaptive', \n",
    "                       solver = 'adam' , early_stopping=True)\n",
    "\n",
    "mlp_reg.fit(X_train, y_train)\n"
   ]
  },
  {
   "cell_type": "code",
   "execution_count": 336,
   "id": "5fa4c55a-eac0-4aea-96c8-54086e8173f2",
   "metadata": {},
   "outputs": [
    {
     "name": "stdout",
     "output_type": "stream",
     "text": [
      "the train score is \n"
     ]
    },
    {
     "data": {
      "text/plain": [
       "0.5906002265005662"
      ]
     },
     "execution_count": 336,
     "metadata": {},
     "output_type": "execute_result"
    }
   ],
   "source": [
    "trainpreds= mlp_reg.predict(X_train).round()\n",
    "errortrain = accuracy_score(y_train, trainpreds)\n",
    "print(\"the train score is \" )\n",
    "errortrain"
   ]
  },
  {
   "cell_type": "code",
   "execution_count": 337,
   "id": "754d65f3-6ae9-4a07-828b-5fbdd543f3ca",
   "metadata": {},
   "outputs": [
    {
     "name": "stdout",
     "output_type": "stream",
     "text": [
      "              precision    recall  f1-score   support\n",
      "\n",
      "           0       0.57      0.78      0.66       639\n",
      "           1       0.49      0.27      0.34       512\n",
      "           2       0.66      0.67      0.66       615\n",
      "\n",
      "    accuracy                           0.59      1766\n",
      "   macro avg       0.57      0.57      0.56      1766\n",
      "weighted avg       0.58      0.59      0.57      1766\n",
      "\n"
     ]
    }
   ],
   "source": [
    "print(classification_report(y_train, trainpreds))"
   ]
  },
  {
   "cell_type": "code",
   "execution_count": 338,
   "id": "06146e79-b7d0-474d-b6cb-d5d99fd3844a",
   "metadata": {},
   "outputs": [
    {
     "data": {
      "image/png": "[encoded data removed]",
      "text/plain": [
       "<Figure size 1000x600 with 1 Axes>"
      ]
     },
     "metadata": {},
     "output_type": "display_data"
    }
   ],
   "source": [
    "df_temp = df_temp.head(10)\n",
    "df_temp.plot(kind='bar',figsize=(10,6))\n",
    "plt.grid(which='major', linestyle='-', linewidth='0.5', color='green')\n",
    "plt.grid(which='minor', linestyle=':', linewidth='0.5', color='black')\n",
    "plt.show()"
   ]
  },
  {
   "cell_type": "code",
   "execution_count": 339,
   "id": "cae3624f-a67f-41c7-bcda-ae5bb76fb2b5",
   "metadata": {},
   "outputs": [],
   "source": [
    "param_grid = {\n",
    "    'hidden_layer_sizes': [(150,100,50), (120,80,40), (100,50,30)],\n",
    "    'max_iter': [50, 500],\n",
    "    'activation': ['tanh', 'relu'],\n",
    "    'solver': ['sgd', 'adam'],\n",
    "    'alpha': [0.0001, 0.05],\n",
    "    'learning_rate': ['constant','adaptive'],\n",
    "}"
   ]
  },
  {
   "cell_type": "code",
   "execution_count": 340,
   "id": "cc921fcb-aea2-41f2-8c93-7cca819a55a6",
   "metadata": {},
   "outputs": [
    {
     "name": "stderr",
     "output_type": "stream",
     "text": [
      "\n",
      "KeyboardInterrupt\n",
      "\n"
     ]
    }
   ],
   "source": [
    "grid = GridSearchCV(mlp_reg, param_grid, n_jobs= -1, cv=5)\n",
    "grid.fit(X_train, y_train)\n",
    "\n",
    "print(grid.best_params_) "
   ]
  },
  {
   "cell_type": "markdown",
   "id": "68ffdb2c-d5ae-44df-8565-bd0e65c2a871",
   "metadata": {},
   "source": [
    "## Test "
   ]
  },
  {
   "cell_type": "code",
   "execution_count": 341,
   "id": "1355ff2a-5e24-49ae-b8fc-3b1279b3ee6a",
   "metadata": {},
   "outputs": [],
   "source": [
    "y_pred = mlp_reg.predict(X_test).round()"
   ]
  },
  {
   "cell_type": "code",
   "execution_count": 342,
   "id": "1378f1b1-9ab0-4b3d-a112-d8b71b85495b",
   "metadata": {},
   "outputs": [
    {
     "data": {
      "text/html": [
       "<div>\n",
       "<style scoped>\n",
       "    .dataframe tbody tr th:only-of-type {\n",
       "        vertical-align: middle;\n",
       "    }\n",
       "\n",
       "    .dataframe tbody tr th {\n",
       "        vertical-align: top;\n",
       "    }\n",
       "\n",
       "    .dataframe thead th {\n",
       "        text-align: right;\n",
       "    }\n",
       "</style>\n",
       "<table border=\"1\" class=\"dataframe\">\n",
       "  <thead>\n",
       "    <tr style=\"text-align: right;\">\n",
       "      <th></th>\n",
       "      <th>Actual</th>\n",
       "      <th>Predicted</th>\n",
       "    </tr>\n",
       "    <tr>\n",
       "      <th>date</th>\n",
       "      <th></th>\n",
       "      <th></th>\n",
       "    </tr>\n",
       "  </thead>\n",
       "  <tbody>\n",
       "    <tr>\n",
       "      <th>2001-09-05</th>\n",
       "      <td>0</td>\n",
       "      <td>0</td>\n",
       "    </tr>\n",
       "  </tbody>\n",
       "</table>\n",
       "</div>"
      ],
      "text/plain": [
       "            Actual  Predicted\n",
       "date                         \n",
       "2001-09-05       0          0"
      ]
     },
     "execution_count": 342,
     "metadata": {},
     "output_type": "execute_result"
    }
   ],
   "source": [
    "df_temp = pd.DataFrame({'Actual': y_test, 'Predicted': y_pred})\n",
    "df_temp.head(1)"
   ]
  },
  {
   "cell_type": "code",
   "execution_count": 343,
   "id": "d90d85bb-088a-4958-b3ff-5eadefd007bc",
   "metadata": {},
   "outputs": [
    {
     "name": "stdout",
     "output_type": "stream",
     "text": [
      "the test score is \n"
     ]
    },
    {
     "data": {
      "text/plain": [
       "0.5574636723910171"
      ]
     },
     "execution_count": 343,
     "metadata": {},
     "output_type": "execute_result"
    }
   ],
   "source": [
    "testpreds= mlp_reg.predict(X_test).round()\n",
    "errortest = accuracy_score(y_test, testpreds)\n",
    "print(\"the test score is \" )\n",
    "errortest"
   ]
  },
  {
   "cell_type": "code",
   "execution_count": 344,
   "id": "6ec840e2-4ca5-446f-b553-e8944ac1ffbb",
   "metadata": {},
   "outputs": [
    {
     "name": "stdout",
     "output_type": "stream",
     "text": [
      "              precision    recall  f1-score   support\n",
      "\n",
      "           0       0.56      0.80      0.66       274\n",
      "           1       0.39      0.18      0.24       219\n",
      "           2       0.62      0.62      0.62       264\n",
      "\n",
      "    accuracy                           0.56       757\n",
      "   macro avg       0.52      0.53      0.51       757\n",
      "weighted avg       0.53      0.56      0.53       757\n",
      "\n"
     ]
    }
   ],
   "source": [
    "print(classification_report(y_test, testpreds))"
   ]
  },
  {
   "cell_type": "code",
   "execution_count": null,
   "id": "ba3b496a-ff5f-4a79-8e6f-b3aee1c267ba",
   "metadata": {},
   "outputs": [],
   "source": []
  },
  {
   "cell_type": "markdown",
   "id": "018278f0-b81a-4a6e-9fc4-d8590e81dd9e",
   "metadata": {},
   "source": [
    "# Model choosen will be the KNN Classifier with 58% accuracy on train and 57% on test\n"
   ]
  },
  {
   "cell_type": "markdown",
   "id": "9cfcff1e-c584-4276-bdca-0b7ee6ada883",
   "metadata": {
    "jp-MarkdownHeadingCollapsed": true,
    "tags": []
   },
   "source": [
    "# New search with rolling method on the variables \"work in process\""
   ]
  },
  {
   "cell_type": "code",
   "execution_count": null,
   "id": "47505916-a6bf-4444-8c51-401ae2b794a1",
   "metadata": {},
   "outputs": [],
   "source": [
    "df = pd.read_csv('df_for_ML_countries_not_numeric.csv')\n",
    "df.head()"
   ]
  },
  {
   "cell_type": "code",
   "execution_count": null,
   "id": "6e96f8d1-b2ff-4329-b21d-15a531b593c7",
   "metadata": {},
   "outputs": [],
   "source": [
    "grouped_matches = df.groupby(\"home_team\")"
   ]
  },
  {
   "cell_type": "code",
   "execution_count": null,
   "id": "e91e5e80-af4b-4585-ab57-d5acb1187a3a",
   "metadata": {},
   "outputs": [],
   "source": [
    "group = grouped_matches.get_group(\"France\").sort_values(\"date\")"
   ]
  },
  {
   "cell_type": "code",
   "execution_count": null,
   "id": "45e3981d-2d39-4e8c-9884-ba918d3faa03",
   "metadata": {},
   "outputs": [],
   "source": [
    "def rolling_averages(group, cols, new_cols):\n",
    "    group = group.sort_values(\"date\")\n",
    "    rolling_stats = group[cols].rolling(3, closed='left').mean()\n",
    "    group[new_cols] = rolling_stats\n",
    "    group = group.dropna(subset=new_cols)\n",
    "    return group"
   ]
  },
  {
   "cell_type": "code",
   "execution_count": null,
   "id": "5cf3b848-af68-466f-9122-262d05d2818b",
   "metadata": {},
   "outputs": [],
   "source": [
    "cols = ['home_team_score', 'away_team_score',\n",
    "       'tournament', 'shoot_out', 'home_team_goalkeeper_score',\n",
    "       'away_team_goalkeeper_score', 'home_team_mean_offense_score',\n",
    "       'home_team_mean_midfield_score', 'away_team_mean_defense_score',\n",
    "       'away_team_mean_offense_score', 'away_team_mean_midfield_score']\n",
    "new_cols = [f\"{c}_rolling\" for c in cols]\n",
    "\n",
    "rolling_averages(group, cols, new_cols)"
   ]
  },
  {
   "cell_type": "code",
   "execution_count": null,
   "id": "d8643a4d-3424-4da3-9c5a-445e367e5a9e",
   "metadata": {},
   "outputs": [],
   "source": [
    "matches_rolling = df.groupby(\"home_team\").apply(lambda x: rolling_averages(x, cols, new_cols))"
   ]
  },
  {
   "cell_type": "code",
   "execution_count": null,
   "id": "b5379df3-a481-4bd0-827b-ba463a560dc1",
   "metadata": {},
   "outputs": [],
   "source": [
    "matches_rolling = matches_rolling.droplevel('home_team')\n"
   ]
  },
  {
   "cell_type": "code",
   "execution_count": null,
   "id": "99cc770f-9264-469e-a78c-ea60b40d2744",
   "metadata": {},
   "outputs": [],
   "source": [
    "matches_rolling.index = range(matches_rolling.shape[0])"
   ]
  },
  {
   "cell_type": "code",
   "execution_count": null,
   "id": "a425ca02-4db9-4caf-9fb2-bd6eaf6205ed",
   "metadata": {},
   "outputs": [],
   "source": [
    "matches_rolling.loc[(matches_rolling['home_team'] == 'Qatar' )]"
   ]
  },
  {
   "cell_type": "code",
   "execution_count": null,
   "id": "4b9c89e9-1f3c-4824-b426-ab4dd88dcce5",
   "metadata": {},
   "outputs": [],
   "source": [
    "def make_predictions(data, predictors):\n",
    "    train = data[data.index < '2022-10-01']\n",
    "    test = data[data.index < '2022-10-01']\n",
    "    rf.fit(train[predictors], train[\"result\"])\n",
    "    preds = rf.predict(test[predictors])\n",
    "    combined = pd.DataFrame(dict(actual=test[\"result\"], predicted=preds), index=test.index)\n",
    "    error = precision_score(test[\"result\"], preds)\n",
    "    return combined, error"
   ]
  },
  {
   "cell_type": "code",
   "execution_count": null,
   "id": "c7542a96-f7d1-4719-8496-05051480902a",
   "metadata": {},
   "outputs": [],
   "source": [
    "combined, error = make_predictions(matches_rolling, predictors + new_cols)"
   ]
  },
  {
   "cell_type": "code",
   "execution_count": null,
   "id": "cfc82f34-8177-4220-ba7c-7d46abd8520e",
   "metadata": {},
   "outputs": [],
   "source": []
  },
  {
   "cell_type": "code",
   "execution_count": 130,
   "id": "f1a0ac4e-5ddc-4318-9e9d-5e97d439f597",
   "metadata": {},
   "outputs": [
    {
     "name": "stdout",
     "output_type": "stream",
     "text": [
      "\n",
      "Logistic Regression one vs All Classifier\n",
      "--------------------\n",
      "Model trained in 0.033907 seconds\n",
      "Made Predictions in 0.000000 seconds\n",
      "Training Info:\n",
      "--------------------\n",
      "F1 Score:0.5747451868629672\n",
      "Accuracy:0.5747451868629672\n",
      "Made Predictions in 0.000000 seconds\n",
      "Test Metrics:\n",
      "--------------------\n",
      "F1 Score:0.5746367239101717\n",
      "Accuracy:0.5746367239101717\n",
      "\n",
      "Gaussain Naive Bayes Classifier\n",
      "--------------------\n",
      "Model trained in 0.000997 seconds\n",
      "Made Predictions in 0.000000 seconds\n",
      "Training Info:\n",
      "--------------------\n",
      "F1 Score:0.5645526613816535\n",
      "Accuracy:0.5645526613816535\n",
      "Made Predictions in 0.000000 seconds\n",
      "Test Metrics:\n",
      "--------------------\n",
      "F1 Score:0.5627476882430648\n",
      "Accuracy:0.5627476882430648\n",
      "\n",
      "Random Forest Classifier\n",
      "--------------------\n",
      "Model trained in 0.441310 seconds\n",
      "Made Predictions in 0.037147 seconds\n",
      "Training Info:\n",
      "--------------------\n",
      "F1 Score:1.0\n",
      "Accuracy:1.0\n",
      "Made Predictions in 0.023111 seconds\n",
      "Test Metrics:\n",
      "--------------------\n",
      "F1 Score:0.6605019815059445\n",
      "Accuracy:0.6605019815059445\n",
      "\n",
      "\n"
     ]
    },
    {
     "name": "stdin",
     "output_type": "stream",
     "text": [
      "Do you want to export the model(s) (y / n) ?  n\n"
     ]
    }
   ],
   "source": [
    "from sklearn.ensemble import RandomForestClassifier\n",
    "from sklearn.tree import DecisionTreeClassifier\n",
    "from sklearn.naive_bayes import GaussianNB\n",
    "from sklearn.linear_model import LogisticRegression\n",
    "from sklearn.svm import SVC\n",
    "import pandas as pd\n",
    "import numpy as np\n",
    "from sklearn.model_selection import train_test_split\n",
    "from sklearn.preprocessing import LabelEncoder\n",
    "from time import time\n",
    "from sklearn.metrics import f1_score\n",
    "from os import path, makedirs, walk\n",
    "from joblib import dump, load\n",
    "import json\n",
    "\n",
    "# Utility Functions\n",
    "\n",
    "\n",
    "def train_classifier(clf, X_train, y_train):\n",
    "    start = time()\n",
    "    clf.fit(X_train, y_train)\n",
    "    end = time()\n",
    "    print(\"Model trained in {:2f} seconds\".format(end-start))\n",
    "\n",
    "\n",
    "def predict_labels(clf, features, target):\n",
    "    start = time()\n",
    "    y_pred = clf.predict(features)\n",
    "    end = time()\n",
    "    print(\"Made Predictions in {:2f} seconds\".format(end-start))\n",
    "\n",
    "    acc = sum(target == y_pred) / float(len(y_pred))\n",
    "\n",
    "    return f1_score(target, y_pred, average='micro'), acc\n",
    "\n",
    "\n",
    "def model(clf, X_train, y_train, X_test, y_test):\n",
    "    train_classifier(clf, X_train, y_train)\n",
    "\n",
    "    f1, acc = predict_labels(clf, X_train, y_train)\n",
    "    print(\"Training Info:\")\n",
    "    print(\"-\" * 20)\n",
    "    print(\"F1 Score:{}\".format(f1))\n",
    "    print(\"Accuracy:{}\".format(acc))\n",
    "\n",
    "    f1, acc = predict_labels(clf, X_test, y_test)\n",
    "    print(\"Test Metrics:\")\n",
    "    print(\"-\" * 20)\n",
    "    print(\"F1 Score:{}\".format(f1))\n",
    "    print(\"Accuracy:{}\".format(acc))\n",
    "\n",
    "\n",
    "def derive_clean_sheet(src):\n",
    "    arr = []\n",
    "    n_rows = src.shape[0]\n",
    "\n",
    "    for data in range(n_rows):\n",
    "\n",
    "        #[HTHG, HTAG]\n",
    "        values = src.iloc[data].values\n",
    "        cs = [0, 0]\n",
    "\n",
    "        if values[0] == 0:\n",
    "            cs[1] = 1\n",
    "\n",
    "        if values[1] == 0:\n",
    "            cs[0] = 1\n",
    "\n",
    "        arr.append(cs)\n",
    "\n",
    "    return arr\n",
    "\n",
    "\n",
    "# Training & Testing\n",
    "\n",
    "\n",
    "svc_classifier = SVC(random_state=100, kernel='rbf')\n",
    "lr_classifier = LogisticRegression(multi_class='ovr', max_iter=500)\n",
    "nbClassifier = GaussianNB()\n",
    "dtClassifier = DecisionTreeClassifier()\n",
    "rfClassifier = RandomForestClassifier()\n",
    "\n",
    "# print(\"Support Vector Machine\")\n",
    "# print(\"-\" * 20)\n",
    "# model(svc_classifier, X_train, Y_train, X_test, Y_test)\n",
    "\n",
    "print()\n",
    "print(\"Logistic Regression one vs All Classifier\")\n",
    "print(\"-\" * 20)\n",
    "model(lr_classifier, X_train, y_train, X_test, y_test)\n",
    "\n",
    "print()\n",
    "print(\"Gaussain Naive Bayes Classifier\")\n",
    "print(\"-\" * 20)\n",
    "model(nbClassifier, X_train, y_train, X_test, y_test)\n",
    "\n",
    "# print()\n",
    "# print(\"Decision Tree Classifier\")\n",
    "# print(\"-\" * 20)\n",
    "# model(dtClassifier, X_train, Y_train, X_test, Y_test)\n",
    "\n",
    "print()\n",
    "print(\"Random Forest Classifier\")\n",
    "print(\"-\" * 20)\n",
    "model(rfClassifier, X_train, y_train, X_test, y_test)\n",
    "\n",
    "# Exporting the Model\n",
    "print()\n",
    "print()\n",
    "shouldExport = input('Do you want to export the model(s) (y / n) ? ')\n",
    "if shouldExport.strip().lower() == 'y':\n",
    "    exportedModelsPath = 'exportedModels'\n",
    "\n",
    "    makedirs(exportedModelsPath, exist_ok=True)\n",
    "\n",
    "    dump(lr_classifier, f'{exportedModelsPath}/lr_classifier.model')\n",
    "    dump(nbClassifier, f'{exportedModelsPath}/nb_classifier.model')\n",
    "    dump(rfClassifier, f'{exportedModelsPath}/rf_classifier.model')\n",
    "\n",
    "    exportMetaData = dict()\n",
    "    exportMetaData['home_teams'] = home_encoded_mapping\n",
    "    exportMetaData['away_teams'] = away_encoded_mapping\n",
    "\n",
    "    exportMetaDataFile = open(f'{exportedModelsPath}/metaData.json', 'w')\n",
    "    json.dump(exportMetaData, exportMetaDataFile)\n",
    "\n",
    "    print(f'Model(s) exported successfully to {exportedModelsPath}/')"
   ]
  }
 ],
 "metadata": {
  "kernelspec": {
   "display_name": "Python 3 (ipykernel)",
   "language": "python",
   "name": "python3"
  },
  "language_info": {
   "codemirror_mode": {
    "name": "ipython",
    "version": 3
   },
   "file_extension": ".py",
   "mimetype": "text/x-python",
   "name": "python",
   "nbconvert_exporter": "python",
   "pygments_lexer": "ipython3",
   "version": "3.10.4"
  }
 },
 "nbformat": 4,
 "nbformat_minor": 5
}
