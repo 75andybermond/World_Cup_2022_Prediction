{
 "cells": [
  {
   "cell_type": "code",
   "execution_count": 48,
   "id": "cfb52a1c-3f83-428c-b2af-f9bda6985599",
   "metadata": {},
   "outputs": [],
   "source": [
    "import pandas as pd \n",
    "import seaborn as sns\n",
    "import numpy as np\n",
    "from sklearn import preprocessing\n",
    "import matplotlib.pyplot as plt\n",
    "\n",
    "#https://www.kaggle.com/datasets/brenda89/fifa-world-cup-2022\n"
   ]
  },
  {
   "cell_type": "markdown",
   "id": "5f73ecde-d735-4cff-8de5-096cc920356d",
   "metadata": {},
   "source": [
    "# Loading international- matches dataset "
   ]
  },
  {
   "cell_type": "code",
   "execution_count": 49,
   "id": "c2b4762c-2ac5-4980-9cd6-81574bbdf40c",
   "metadata": {},
   "outputs": [
    {
     "data": {
      "text/plain": [
       "Index(['date', 'home_team', 'away_team', 'home_team_continent',\n",
       "       'away_team_continent', 'home_team_fifa_rank', 'away_team_fifa_rank',\n",
       "       'home_team_total_fifa_points', 'away_team_total_fifa_points',\n",
       "       'home_team_score', 'away_team_score', 'tournament', 'city', 'country',\n",
       "       'neutral_location', 'shoot_out', 'home_team_result',\n",
       "       'home_team_goalkeeper_score', 'away_team_goalkeeper_score',\n",
       "       'home_team_mean_defense_score', 'home_team_mean_offense_score',\n",
       "       'home_team_mean_midfield_score', 'away_team_mean_defense_score',\n",
       "       'away_team_mean_offense_score', 'away_team_mean_midfield_score'],\n",
       "      dtype='object')"
      ]
     },
     "execution_count": 49,
     "metadata": {},
     "output_type": "execute_result"
    }
   ],
   "source": [
    "df = pd.read_csv('international_matches.csv')\n",
    "#df1 = pd.read_csv('players_22.csv')\n",
    "df.columns"
   ]
  },
  {
   "cell_type": "markdown",
   "id": "d91f3aa7-db42-457d-9ebe-7224b9923342",
   "metadata": {},
   "source": [
    "## Analyzing dataset types / counting "
   ]
  },
  {
   "cell_type": "code",
   "execution_count": 50,
   "id": "2501b7c3-b83e-481a-ae75-562c79af4ba2",
   "metadata": {},
   "outputs": [
    {
     "data": {
      "text/plain": [
       "25"
      ]
     },
     "execution_count": 50,
     "metadata": {},
     "output_type": "execute_result"
    }
   ],
   "source": [
    "df.dtypes.count()"
   ]
  },
  {
   "cell_type": "code",
   "execution_count": 51,
   "id": "8e12c362-f8cb-467e-9f88-147cf40fac13",
   "metadata": {},
   "outputs": [
    {
     "data": {
      "text/html": [
       "<div>\n",
       "<style scoped>\n",
       "    .dataframe tbody tr th:only-of-type {\n",
       "        vertical-align: middle;\n",
       "    }\n",
       "\n",
       "    .dataframe tbody tr th {\n",
       "        vertical-align: top;\n",
       "    }\n",
       "\n",
       "    .dataframe thead th {\n",
       "        text-align: right;\n",
       "    }\n",
       "</style>\n",
       "<table border=\"1\" class=\"dataframe\">\n",
       "  <thead>\n",
       "    <tr style=\"text-align: right;\">\n",
       "      <th></th>\n",
       "      <th>date</th>\n",
       "      <th>home_team</th>\n",
       "      <th>away_team</th>\n",
       "      <th>home_team_continent</th>\n",
       "      <th>away_team_continent</th>\n",
       "      <th>home_team_fifa_rank</th>\n",
       "      <th>away_team_fifa_rank</th>\n",
       "      <th>home_team_total_fifa_points</th>\n",
       "      <th>away_team_total_fifa_points</th>\n",
       "      <th>home_team_score</th>\n",
       "      <th>...</th>\n",
       "      <th>shoot_out</th>\n",
       "      <th>home_team_result</th>\n",
       "      <th>home_team_goalkeeper_score</th>\n",
       "      <th>away_team_goalkeeper_score</th>\n",
       "      <th>home_team_mean_defense_score</th>\n",
       "      <th>home_team_mean_offense_score</th>\n",
       "      <th>home_team_mean_midfield_score</th>\n",
       "      <th>away_team_mean_defense_score</th>\n",
       "      <th>away_team_mean_offense_score</th>\n",
       "      <th>away_team_mean_midfield_score</th>\n",
       "    </tr>\n",
       "  </thead>\n",
       "  <tbody>\n",
       "    <tr>\n",
       "      <th>0</th>\n",
       "      <td>1993-08-08</td>\n",
       "      <td>Bolivia</td>\n",
       "      <td>Uruguay</td>\n",
       "      <td>South America</td>\n",
       "      <td>South America</td>\n",
       "      <td>59</td>\n",
       "      <td>22</td>\n",
       "      <td>0</td>\n",
       "      <td>0</td>\n",
       "      <td>3</td>\n",
       "      <td>...</td>\n",
       "      <td>No</td>\n",
       "      <td>Win</td>\n",
       "      <td>NaN</td>\n",
       "      <td>NaN</td>\n",
       "      <td>NaN</td>\n",
       "      <td>NaN</td>\n",
       "      <td>NaN</td>\n",
       "      <td>NaN</td>\n",
       "      <td>NaN</td>\n",
       "      <td>NaN</td>\n",
       "    </tr>\n",
       "    <tr>\n",
       "      <th>1</th>\n",
       "      <td>1993-08-08</td>\n",
       "      <td>Brazil</td>\n",
       "      <td>Mexico</td>\n",
       "      <td>South America</td>\n",
       "      <td>North America</td>\n",
       "      <td>8</td>\n",
       "      <td>14</td>\n",
       "      <td>0</td>\n",
       "      <td>0</td>\n",
       "      <td>1</td>\n",
       "      <td>...</td>\n",
       "      <td>No</td>\n",
       "      <td>Draw</td>\n",
       "      <td>NaN</td>\n",
       "      <td>NaN</td>\n",
       "      <td>NaN</td>\n",
       "      <td>NaN</td>\n",
       "      <td>NaN</td>\n",
       "      <td>NaN</td>\n",
       "      <td>NaN</td>\n",
       "      <td>NaN</td>\n",
       "    </tr>\n",
       "    <tr>\n",
       "      <th>2</th>\n",
       "      <td>1993-08-08</td>\n",
       "      <td>Ecuador</td>\n",
       "      <td>Venezuela</td>\n",
       "      <td>South America</td>\n",
       "      <td>South America</td>\n",
       "      <td>35</td>\n",
       "      <td>94</td>\n",
       "      <td>0</td>\n",
       "      <td>0</td>\n",
       "      <td>5</td>\n",
       "      <td>...</td>\n",
       "      <td>No</td>\n",
       "      <td>Win</td>\n",
       "      <td>NaN</td>\n",
       "      <td>NaN</td>\n",
       "      <td>NaN</td>\n",
       "      <td>NaN</td>\n",
       "      <td>NaN</td>\n",
       "      <td>NaN</td>\n",
       "      <td>NaN</td>\n",
       "      <td>NaN</td>\n",
       "    </tr>\n",
       "    <tr>\n",
       "      <th>3</th>\n",
       "      <td>1993-08-08</td>\n",
       "      <td>Guinea</td>\n",
       "      <td>Sierra Leone</td>\n",
       "      <td>Africa</td>\n",
       "      <td>Africa</td>\n",
       "      <td>65</td>\n",
       "      <td>86</td>\n",
       "      <td>0</td>\n",
       "      <td>0</td>\n",
       "      <td>1</td>\n",
       "      <td>...</td>\n",
       "      <td>No</td>\n",
       "      <td>Win</td>\n",
       "      <td>NaN</td>\n",
       "      <td>NaN</td>\n",
       "      <td>NaN</td>\n",
       "      <td>NaN</td>\n",
       "      <td>NaN</td>\n",
       "      <td>NaN</td>\n",
       "      <td>NaN</td>\n",
       "      <td>NaN</td>\n",
       "    </tr>\n",
       "    <tr>\n",
       "      <th>4</th>\n",
       "      <td>1993-08-08</td>\n",
       "      <td>Paraguay</td>\n",
       "      <td>Argentina</td>\n",
       "      <td>South America</td>\n",
       "      <td>South America</td>\n",
       "      <td>67</td>\n",
       "      <td>5</td>\n",
       "      <td>0</td>\n",
       "      <td>0</td>\n",
       "      <td>1</td>\n",
       "      <td>...</td>\n",
       "      <td>No</td>\n",
       "      <td>Lose</td>\n",
       "      <td>NaN</td>\n",
       "      <td>NaN</td>\n",
       "      <td>NaN</td>\n",
       "      <td>NaN</td>\n",
       "      <td>NaN</td>\n",
       "      <td>NaN</td>\n",
       "      <td>NaN</td>\n",
       "      <td>NaN</td>\n",
       "    </tr>\n",
       "  </tbody>\n",
       "</table>\n",
       "<p>5 rows × 25 columns</p>\n",
       "</div>"
      ],
      "text/plain": [
       "         date home_team     away_team home_team_continent away_team_continent  \\\n",
       "0  1993-08-08   Bolivia       Uruguay       South America       South America   \n",
       "1  1993-08-08    Brazil        Mexico       South America       North America   \n",
       "2  1993-08-08   Ecuador     Venezuela       South America       South America   \n",
       "3  1993-08-08    Guinea  Sierra Leone              Africa              Africa   \n",
       "4  1993-08-08  Paraguay     Argentina       South America       South America   \n",
       "\n",
       "   home_team_fifa_rank  away_team_fifa_rank  home_team_total_fifa_points  \\\n",
       "0                   59                   22                            0   \n",
       "1                    8                   14                            0   \n",
       "2                   35                   94                            0   \n",
       "3                   65                   86                            0   \n",
       "4                   67                    5                            0   \n",
       "\n",
       "   away_team_total_fifa_points  home_team_score  ...  shoot_out  \\\n",
       "0                            0                3  ...         No   \n",
       "1                            0                1  ...         No   \n",
       "2                            0                5  ...         No   \n",
       "3                            0                1  ...         No   \n",
       "4                            0                1  ...         No   \n",
       "\n",
       "  home_team_result home_team_goalkeeper_score away_team_goalkeeper_score  \\\n",
       "0              Win                        NaN                        NaN   \n",
       "1             Draw                        NaN                        NaN   \n",
       "2              Win                        NaN                        NaN   \n",
       "3              Win                        NaN                        NaN   \n",
       "4             Lose                        NaN                        NaN   \n",
       "\n",
       "   home_team_mean_defense_score home_team_mean_offense_score  \\\n",
       "0                           NaN                          NaN   \n",
       "1                           NaN                          NaN   \n",
       "2                           NaN                          NaN   \n",
       "3                           NaN                          NaN   \n",
       "4                           NaN                          NaN   \n",
       "\n",
       "  home_team_mean_midfield_score  away_team_mean_defense_score  \\\n",
       "0                           NaN                           NaN   \n",
       "1                           NaN                           NaN   \n",
       "2                           NaN                           NaN   \n",
       "3                           NaN                           NaN   \n",
       "4                           NaN                           NaN   \n",
       "\n",
       "   away_team_mean_offense_score  away_team_mean_midfield_score  \n",
       "0                           NaN                            NaN  \n",
       "1                           NaN                            NaN  \n",
       "2                           NaN                            NaN  \n",
       "3                           NaN                            NaN  \n",
       "4                           NaN                            NaN  \n",
       "\n",
       "[5 rows x 25 columns]"
      ]
     },
     "execution_count": 51,
     "metadata": {},
     "output_type": "execute_result"
    }
   ],
   "source": [
    "df.head()"
   ]
  },
  {
   "cell_type": "code",
   "execution_count": 52,
   "id": "6719000b-a66a-4c4f-a1d0-acdcbecb9f32",
   "metadata": {},
   "outputs": [
    {
     "data": {
      "text/plain": [
       "home_team\n",
       "Afghanistan        36\n",
       "Albania           131\n",
       "Algeria           159\n",
       "American Samoa     17\n",
       "Andorra            97\n",
       "                 ... \n",
       "Vietnam           120\n",
       "Wales             129\n",
       "Yemen              87\n",
       "Zambia            180\n",
       "Zimbabwe          135\n",
       "Name: date, Length: 211, dtype: int64"
      ]
     },
     "execution_count": 52,
     "metadata": {},
     "output_type": "execute_result"
    }
   ],
   "source": [
    "countries = df.groupby('home_team')['date'].count()\n",
    "countries"
   ]
  },
  {
   "cell_type": "code",
   "execution_count": 53,
   "id": "7b1111d3-6261-49a8-a7c8-7b6435794db9",
   "metadata": {},
   "outputs": [
    {
     "data": {
      "text/plain": [
       "Mexico                      316\n",
       "USA                         314\n",
       "Japan                       280\n",
       "Saudi Arabia                272\n",
       "Korea Republic              249\n",
       "                           ... \n",
       "Timor-Leste                  16\n",
       "Tonga                        15\n",
       "Anguilla                     13\n",
       "Cook Islands                 10\n",
       "Turks and Caicos Islands      8\n",
       "Name: home_team, Length: 211, dtype: int64"
      ]
     },
     "execution_count": 53,
     "metadata": {},
     "output_type": "execute_result"
    }
   ],
   "source": [
    "df.home_team.value_counts()"
   ]
  },
  {
   "cell_type": "code",
   "execution_count": 54,
   "id": "262c4a5a-1dfa-4597-bc4a-d481c62e9f3b",
   "metadata": {},
   "outputs": [
    {
     "data": {
      "text/plain": [
       "Zambia                      243\n",
       "Costa Rica                  217\n",
       "Paraguay                    216\n",
       "Sweden                      206\n",
       "Mexico                      201\n",
       "                           ... \n",
       "Bahamas                      20\n",
       "Turks and Caicos Islands     18\n",
       "Montserrat                   18\n",
       "American Samoa               14\n",
       "Samoa                        14\n",
       "Name: away_team, Length: 211, dtype: int64"
      ]
     },
     "execution_count": 54,
     "metadata": {},
     "output_type": "execute_result"
    }
   ],
   "source": [
    "df.away_team.value_counts()"
   ]
  },
  {
   "cell_type": "code",
   "execution_count": 55,
   "id": "d403aa1a-de98-45d6-b5a7-a0a552e20d4a",
   "metadata": {},
   "outputs": [
    {
     "data": {
      "text/plain": [
       "tournament\n",
       "ABCS Tournament                               2011-12-022011-12-042012-07-132012-07-152013-1...\n",
       "AFC Asian Cup                                 1996-12-041996-12-041996-12-051996-12-051996-1...\n",
       "AFC Asian Cup qualification                   1996-01-241996-01-261996-01-281996-01-301996-0...\n",
       "AFC Challenge Cup                             2006-04-012006-04-012006-04-022006-04-022006-0...\n",
       "AFC Challenge Cup qualification               2008-04-022008-04-042008-04-042008-04-062008-0...\n",
       "                                                                    ...                        \n",
       "USA Cup                                       1995-06-111995-06-171995-06-181995-06-211995-0...\n",
       "United Arab Emirates Friendship Tournament    1994-02-021994-02-021994-02-041994-02-041994-0...\n",
       "VFF Cup                                       2008-10-282008-10-302008-11-162010-11-022010-1...\n",
       "WAFF Championship                             2000-05-232000-05-232000-05-242000-05-242000-0...\n",
       "Windward Islands Tournament                   1995-11-191995-11-191995-11-231995-11-231995-1...\n",
       "Name: date, Length: 82, dtype: object"
      ]
     },
     "execution_count": 55,
     "metadata": {},
     "output_type": "execute_result"
    }
   ],
   "source": [
    "df.groupby('tournament')['date'].sum()"
   ]
  },
  {
   "cell_type": "markdown",
   "id": "3f026c00-2fe2-4348-82ac-c202cc74761a",
   "metadata": {},
   "source": [
    "# Filtering qualified countries "
   ]
  },
  {
   "cell_type": "markdown",
   "id": "2fbeee96-909a-4220-a4f3-faadae2e13bb",
   "metadata": {},
   "source": [
    "\n",
    "\n",
    "* Only 31 teams qualified \n",
    "* Filtering for away and home team "
   ]
  },
  {
   "cell_type": "code",
   "execution_count": 56,
   "id": "344d063b-db9d-4dbf-a56a-e5a81d09df70",
   "metadata": {},
   "outputs": [],
   "source": [
    "filtercountry = \"Qatar\" ,\"Ecuador\", \"Senegal\", \"Netherlands\" ,\"England\", \"IR Iran\" , \"USA\" , \"Wales\",  \"Argentina\" , \"Saudi Arabia\",  \"Mexico\", \"Poland\",  \"France\" ,\"Australia\", \"Denmark\" ,\"Tunisia\" , \"Spain\" , \"Costa Rica\",  \"Germany\", \"Japan\" , \"Belgium\",  \"Canada\",  \"Morocco\",  \"Croatia\",  \"Brazil\",  \"Serbia\",  \"Switzerland\",  \"Cameroon\",  \"Portugal\",  \"Ghana\",  \"Uruguay\", \"Korea Republic\""
   ]
  },
  {
   "cell_type": "code",
   "execution_count": 57,
   "id": "0359f19b-3838-42fd-8082-5d3e5557ea38",
   "metadata": {},
   "outputs": [
    {
     "data": {
      "text/html": [
       "<div>\n",
       "<style scoped>\n",
       "    .dataframe tbody tr th:only-of-type {\n",
       "        vertical-align: middle;\n",
       "    }\n",
       "\n",
       "    .dataframe tbody tr th {\n",
       "        vertical-align: top;\n",
       "    }\n",
       "\n",
       "    .dataframe thead th {\n",
       "        text-align: right;\n",
       "    }\n",
       "</style>\n",
       "<table border=\"1\" class=\"dataframe\">\n",
       "  <thead>\n",
       "    <tr style=\"text-align: right;\">\n",
       "      <th></th>\n",
       "      <th>date</th>\n",
       "      <th>home_team</th>\n",
       "      <th>away_team</th>\n",
       "      <th>home_team_continent</th>\n",
       "      <th>away_team_continent</th>\n",
       "      <th>home_team_fifa_rank</th>\n",
       "      <th>away_team_fifa_rank</th>\n",
       "      <th>home_team_total_fifa_points</th>\n",
       "      <th>away_team_total_fifa_points</th>\n",
       "      <th>home_team_score</th>\n",
       "      <th>...</th>\n",
       "      <th>shoot_out</th>\n",
       "      <th>home_team_result</th>\n",
       "      <th>home_team_goalkeeper_score</th>\n",
       "      <th>away_team_goalkeeper_score</th>\n",
       "      <th>home_team_mean_defense_score</th>\n",
       "      <th>home_team_mean_offense_score</th>\n",
       "      <th>home_team_mean_midfield_score</th>\n",
       "      <th>away_team_mean_defense_score</th>\n",
       "      <th>away_team_mean_offense_score</th>\n",
       "      <th>away_team_mean_midfield_score</th>\n",
       "    </tr>\n",
       "  </thead>\n",
       "  <tbody>\n",
       "    <tr>\n",
       "      <th>93</th>\n",
       "      <td>1993-10-16</td>\n",
       "      <td>IR Iran</td>\n",
       "      <td>Korea Republic</td>\n",
       "      <td>Asia</td>\n",
       "      <td>Asia</td>\n",
       "      <td>58</td>\n",
       "      <td>36</td>\n",
       "      <td>0</td>\n",
       "      <td>0</td>\n",
       "      <td>0</td>\n",
       "      <td>...</td>\n",
       "      <td>No</td>\n",
       "      <td>Lose</td>\n",
       "      <td>NaN</td>\n",
       "      <td>NaN</td>\n",
       "      <td>NaN</td>\n",
       "      <td>NaN</td>\n",
       "      <td>NaN</td>\n",
       "      <td>NaN</td>\n",
       "      <td>NaN</td>\n",
       "      <td>NaN</td>\n",
       "    </tr>\n",
       "    <tr>\n",
       "      <th>101</th>\n",
       "      <td>1993-10-22</td>\n",
       "      <td>IR Iran</td>\n",
       "      <td>Iraq</td>\n",
       "      <td>Asia</td>\n",
       "      <td>Asia</td>\n",
       "      <td>59</td>\n",
       "      <td>64</td>\n",
       "      <td>0</td>\n",
       "      <td>0</td>\n",
       "      <td>1</td>\n",
       "      <td>...</td>\n",
       "      <td>No</td>\n",
       "      <td>Lose</td>\n",
       "      <td>NaN</td>\n",
       "      <td>NaN</td>\n",
       "      <td>NaN</td>\n",
       "      <td>NaN</td>\n",
       "      <td>NaN</td>\n",
       "      <td>NaN</td>\n",
       "      <td>NaN</td>\n",
       "      <td>NaN</td>\n",
       "    </tr>\n",
       "    <tr>\n",
       "      <th>106</th>\n",
       "      <td>1993-10-25</td>\n",
       "      <td>IR Iran</td>\n",
       "      <td>Korea DPR</td>\n",
       "      <td>Asia</td>\n",
       "      <td>Asia</td>\n",
       "      <td>59</td>\n",
       "      <td>58</td>\n",
       "      <td>0</td>\n",
       "      <td>0</td>\n",
       "      <td>2</td>\n",
       "      <td>...</td>\n",
       "      <td>No</td>\n",
       "      <td>Win</td>\n",
       "      <td>NaN</td>\n",
       "      <td>NaN</td>\n",
       "      <td>NaN</td>\n",
       "      <td>NaN</td>\n",
       "      <td>NaN</td>\n",
       "      <td>NaN</td>\n",
       "      <td>NaN</td>\n",
       "      <td>NaN</td>\n",
       "    </tr>\n",
       "    <tr>\n",
       "      <th>1437</th>\n",
       "      <td>1996-05-17</td>\n",
       "      <td>IR Iran</td>\n",
       "      <td>Qatar</td>\n",
       "      <td>Asia</td>\n",
       "      <td>Asia</td>\n",
       "      <td>118</td>\n",
       "      <td>84</td>\n",
       "      <td>0</td>\n",
       "      <td>0</td>\n",
       "      <td>2</td>\n",
       "      <td>...</td>\n",
       "      <td>No</td>\n",
       "      <td>Win</td>\n",
       "      <td>NaN</td>\n",
       "      <td>NaN</td>\n",
       "      <td>NaN</td>\n",
       "      <td>NaN</td>\n",
       "      <td>NaN</td>\n",
       "      <td>NaN</td>\n",
       "      <td>NaN</td>\n",
       "      <td>NaN</td>\n",
       "    </tr>\n",
       "    <tr>\n",
       "      <th>1534</th>\n",
       "      <td>1996-06-10</td>\n",
       "      <td>IR Iran</td>\n",
       "      <td>Nepal</td>\n",
       "      <td>Asia</td>\n",
       "      <td>Asia</td>\n",
       "      <td>122</td>\n",
       "      <td>146</td>\n",
       "      <td>0</td>\n",
       "      <td>0</td>\n",
       "      <td>8</td>\n",
       "      <td>...</td>\n",
       "      <td>No</td>\n",
       "      <td>Win</td>\n",
       "      <td>NaN</td>\n",
       "      <td>NaN</td>\n",
       "      <td>NaN</td>\n",
       "      <td>NaN</td>\n",
       "      <td>NaN</td>\n",
       "      <td>NaN</td>\n",
       "      <td>NaN</td>\n",
       "      <td>NaN</td>\n",
       "    </tr>\n",
       "    <tr>\n",
       "      <th>...</th>\n",
       "      <td>...</td>\n",
       "      <td>...</td>\n",
       "      <td>...</td>\n",
       "      <td>...</td>\n",
       "      <td>...</td>\n",
       "      <td>...</td>\n",
       "      <td>...</td>\n",
       "      <td>...</td>\n",
       "      <td>...</td>\n",
       "      <td>...</td>\n",
       "      <td>...</td>\n",
       "      <td>...</td>\n",
       "      <td>...</td>\n",
       "      <td>...</td>\n",
       "      <td>...</td>\n",
       "      <td>...</td>\n",
       "      <td>...</td>\n",
       "      <td>...</td>\n",
       "      <td>...</td>\n",
       "      <td>...</td>\n",
       "      <td>...</td>\n",
       "    </tr>\n",
       "    <tr>\n",
       "      <th>23119</th>\n",
       "      <td>2021-10-12</td>\n",
       "      <td>IR Iran</td>\n",
       "      <td>Korea Republic</td>\n",
       "      <td>Asia</td>\n",
       "      <td>Asia</td>\n",
       "      <td>22</td>\n",
       "      <td>36</td>\n",
       "      <td>1538</td>\n",
       "      <td>1479</td>\n",
       "      <td>1</td>\n",
       "      <td>...</td>\n",
       "      <td>No</td>\n",
       "      <td>Draw</td>\n",
       "      <td>73.0</td>\n",
       "      <td>75.0</td>\n",
       "      <td>69.0</td>\n",
       "      <td>75.3</td>\n",
       "      <td>69.0</td>\n",
       "      <td>73.0</td>\n",
       "      <td>80.0</td>\n",
       "      <td>73.8</td>\n",
       "    </tr>\n",
       "    <tr>\n",
       "      <th>23417</th>\n",
       "      <td>2022-01-27</td>\n",
       "      <td>IR Iran</td>\n",
       "      <td>Iraq</td>\n",
       "      <td>Asia</td>\n",
       "      <td>Asia</td>\n",
       "      <td>21</td>\n",
       "      <td>75</td>\n",
       "      <td>1557</td>\n",
       "      <td>1333</td>\n",
       "      <td>1</td>\n",
       "      <td>...</td>\n",
       "      <td>No</td>\n",
       "      <td>Win</td>\n",
       "      <td>73.0</td>\n",
       "      <td>NaN</td>\n",
       "      <td>69.0</td>\n",
       "      <td>75.3</td>\n",
       "      <td>69.0</td>\n",
       "      <td>NaN</td>\n",
       "      <td>NaN</td>\n",
       "      <td>NaN</td>\n",
       "    </tr>\n",
       "    <tr>\n",
       "      <th>23447</th>\n",
       "      <td>2022-02-01</td>\n",
       "      <td>IR Iran</td>\n",
       "      <td>United Arab Emirates</td>\n",
       "      <td>Asia</td>\n",
       "      <td>Asia</td>\n",
       "      <td>21</td>\n",
       "      <td>69</td>\n",
       "      <td>1557</td>\n",
       "      <td>1350</td>\n",
       "      <td>1</td>\n",
       "      <td>...</td>\n",
       "      <td>No</td>\n",
       "      <td>Win</td>\n",
       "      <td>73.0</td>\n",
       "      <td>70.0</td>\n",
       "      <td>69.0</td>\n",
       "      <td>75.3</td>\n",
       "      <td>69.0</td>\n",
       "      <td>63.0</td>\n",
       "      <td>64.3</td>\n",
       "      <td>67.0</td>\n",
       "    </tr>\n",
       "    <tr>\n",
       "      <th>23580</th>\n",
       "      <td>2022-03-29</td>\n",
       "      <td>IR Iran</td>\n",
       "      <td>Lebanon</td>\n",
       "      <td>Asia</td>\n",
       "      <td>Asia</td>\n",
       "      <td>21</td>\n",
       "      <td>95</td>\n",
       "      <td>1572</td>\n",
       "      <td>1228</td>\n",
       "      <td>2</td>\n",
       "      <td>...</td>\n",
       "      <td>No</td>\n",
       "      <td>Win</td>\n",
       "      <td>73.0</td>\n",
       "      <td>NaN</td>\n",
       "      <td>69.0</td>\n",
       "      <td>75.3</td>\n",
       "      <td>69.0</td>\n",
       "      <td>NaN</td>\n",
       "      <td>NaN</td>\n",
       "      <td>NaN</td>\n",
       "    </tr>\n",
       "    <tr>\n",
       "      <th>23875</th>\n",
       "      <td>2022-06-12</td>\n",
       "      <td>IR Iran</td>\n",
       "      <td>Algeria</td>\n",
       "      <td>Asia</td>\n",
       "      <td>Africa</td>\n",
       "      <td>21</td>\n",
       "      <td>44</td>\n",
       "      <td>1564</td>\n",
       "      <td>1461</td>\n",
       "      <td>1</td>\n",
       "      <td>...</td>\n",
       "      <td>No</td>\n",
       "      <td>Lose</td>\n",
       "      <td>73.0</td>\n",
       "      <td>78.0</td>\n",
       "      <td>69.0</td>\n",
       "      <td>75.3</td>\n",
       "      <td>69.0</td>\n",
       "      <td>78.0</td>\n",
       "      <td>81.0</td>\n",
       "      <td>78.0</td>\n",
       "    </tr>\n",
       "  </tbody>\n",
       "</table>\n",
       "<p>191 rows × 25 columns</p>\n",
       "</div>"
      ],
      "text/plain": [
       "             date home_team             away_team home_team_continent  \\\n",
       "93     1993-10-16   IR Iran        Korea Republic                Asia   \n",
       "101    1993-10-22   IR Iran                  Iraq                Asia   \n",
       "106    1993-10-25   IR Iran             Korea DPR                Asia   \n",
       "1437   1996-05-17   IR Iran                 Qatar                Asia   \n",
       "1534   1996-06-10   IR Iran                 Nepal                Asia   \n",
       "...           ...       ...                   ...                 ...   \n",
       "23119  2021-10-12   IR Iran        Korea Republic                Asia   \n",
       "23417  2022-01-27   IR Iran                  Iraq                Asia   \n",
       "23447  2022-02-01   IR Iran  United Arab Emirates                Asia   \n",
       "23580  2022-03-29   IR Iran               Lebanon                Asia   \n",
       "23875  2022-06-12   IR Iran               Algeria                Asia   \n",
       "\n",
       "      away_team_continent  home_team_fifa_rank  away_team_fifa_rank  \\\n",
       "93                   Asia                   58                   36   \n",
       "101                  Asia                   59                   64   \n",
       "106                  Asia                   59                   58   \n",
       "1437                 Asia                  118                   84   \n",
       "1534                 Asia                  122                  146   \n",
       "...                   ...                  ...                  ...   \n",
       "23119                Asia                   22                   36   \n",
       "23417                Asia                   21                   75   \n",
       "23447                Asia                   21                   69   \n",
       "23580                Asia                   21                   95   \n",
       "23875              Africa                   21                   44   \n",
       "\n",
       "       home_team_total_fifa_points  away_team_total_fifa_points  \\\n",
       "93                               0                            0   \n",
       "101                              0                            0   \n",
       "106                              0                            0   \n",
       "1437                             0                            0   \n",
       "1534                             0                            0   \n",
       "...                            ...                          ...   \n",
       "23119                         1538                         1479   \n",
       "23417                         1557                         1333   \n",
       "23447                         1557                         1350   \n",
       "23580                         1572                         1228   \n",
       "23875                         1564                         1461   \n",
       "\n",
       "       home_team_score  ...  shoot_out home_team_result  \\\n",
       "93                   0  ...         No             Lose   \n",
       "101                  1  ...         No             Lose   \n",
       "106                  2  ...         No              Win   \n",
       "1437                 2  ...         No              Win   \n",
       "1534                 8  ...         No              Win   \n",
       "...                ...  ...        ...              ...   \n",
       "23119                1  ...         No             Draw   \n",
       "23417                1  ...         No              Win   \n",
       "23447                1  ...         No              Win   \n",
       "23580                2  ...         No              Win   \n",
       "23875                1  ...         No             Lose   \n",
       "\n",
       "      home_team_goalkeeper_score away_team_goalkeeper_score  \\\n",
       "93                           NaN                        NaN   \n",
       "101                          NaN                        NaN   \n",
       "106                          NaN                        NaN   \n",
       "1437                         NaN                        NaN   \n",
       "1534                         NaN                        NaN   \n",
       "...                          ...                        ...   \n",
       "23119                       73.0                       75.0   \n",
       "23417                       73.0                        NaN   \n",
       "23447                       73.0                       70.0   \n",
       "23580                       73.0                        NaN   \n",
       "23875                       73.0                       78.0   \n",
       "\n",
       "       home_team_mean_defense_score home_team_mean_offense_score  \\\n",
       "93                              NaN                          NaN   \n",
       "101                             NaN                          NaN   \n",
       "106                             NaN                          NaN   \n",
       "1437                            NaN                          NaN   \n",
       "1534                            NaN                          NaN   \n",
       "...                             ...                          ...   \n",
       "23119                          69.0                         75.3   \n",
       "23417                          69.0                         75.3   \n",
       "23447                          69.0                         75.3   \n",
       "23580                          69.0                         75.3   \n",
       "23875                          69.0                         75.3   \n",
       "\n",
       "      home_team_mean_midfield_score  away_team_mean_defense_score  \\\n",
       "93                              NaN                           NaN   \n",
       "101                             NaN                           NaN   \n",
       "106                             NaN                           NaN   \n",
       "1437                            NaN                           NaN   \n",
       "1534                            NaN                           NaN   \n",
       "...                             ...                           ...   \n",
       "23119                          69.0                          73.0   \n",
       "23417                          69.0                           NaN   \n",
       "23447                          69.0                          63.0   \n",
       "23580                          69.0                           NaN   \n",
       "23875                          69.0                          78.0   \n",
       "\n",
       "       away_team_mean_offense_score  away_team_mean_midfield_score  \n",
       "93                              NaN                            NaN  \n",
       "101                             NaN                            NaN  \n",
       "106                             NaN                            NaN  \n",
       "1437                            NaN                            NaN  \n",
       "1534                            NaN                            NaN  \n",
       "...                             ...                            ...  \n",
       "23119                          80.0                           73.8  \n",
       "23417                           NaN                            NaN  \n",
       "23447                          64.3                           67.0  \n",
       "23580                           NaN                            NaN  \n",
       "23875                          81.0                           78.0  \n",
       "\n",
       "[191 rows x 25 columns]"
      ]
     },
     "execution_count": 57,
     "metadata": {},
     "output_type": "execute_result"
    }
   ],
   "source": [
    "df.loc[(df['home_team'] == 'IR Iran' )] # test for checking each countries "
   ]
  },
  {
   "cell_type": "markdown",
   "id": "b2798e9d-902e-440b-b3b5-7448449ca1c6",
   "metadata": {},
   "source": [
    "## Concat 2 datasets created qualified teams\n"
   ]
  },
  {
   "cell_type": "code",
   "execution_count": 58,
   "id": "45cea64d-09ea-4140-aa85-f95951b1526e",
   "metadata": {},
   "outputs": [
    {
     "data": {
      "text/plain": [
       "date                             11296\n",
       "home_team                        11296\n",
       "away_team                        11296\n",
       "home_team_continent              11296\n",
       "away_team_continent              11296\n",
       "home_team_fifa_rank              11296\n",
       "away_team_fifa_rank              11296\n",
       "home_team_total_fifa_points      11296\n",
       "away_team_total_fifa_points      11296\n",
       "home_team_score                  11296\n",
       "away_team_score                  11296\n",
       "tournament                       11296\n",
       "city                             11296\n",
       "country                          11296\n",
       "neutral_location                 11296\n",
       "shoot_out                        11296\n",
       "home_team_result                 11296\n",
       "home_team_goalkeeper_score        5759\n",
       "away_team_goalkeeper_score        5634\n",
       "home_team_mean_defense_score      5696\n",
       "home_team_mean_offense_score      5902\n",
       "home_team_mean_midfield_score     5841\n",
       "away_team_mean_defense_score      5595\n",
       "away_team_mean_offense_score      5809\n",
       "away_team_mean_midfield_score     5732\n",
       "dtype: int64"
      ]
     },
     "execution_count": 58,
     "metadata": {},
     "output_type": "execute_result"
    }
   ],
   "source": [
    "dfhome = df[df['home_team'].isin(filtercountry)]\n",
    "dfaway = df[df['away_team'].isin(filtercountry)]\n",
    "newdf = pd.concat((dfhome, dfaway))\n",
    "newdf.drop_duplicates()\n",
    "newdf.count()"
   ]
  },
  {
   "cell_type": "code",
   "execution_count": 59,
   "id": "e55278e4-69e5-42d9-a994-9c4889b0966f",
   "metadata": {},
   "outputs": [
    {
     "data": {
      "text/plain": [
       "tournament\n",
       "AFC Asian Cup                    13\n",
       "AFC Asian Cup qualification      16\n",
       "Arab Cup                         11\n",
       "Copa América                      2\n",
       "FIFA World Cup qualification     60\n",
       "Friendly                        145\n",
       "Gold Cup                          2\n",
       "Gulf Cup                         31\n",
       "King's Cup                        3\n",
       "WAFF Championship                 5\n",
       "Name: date, dtype: int64"
      ]
     },
     "execution_count": 59,
     "metadata": {},
     "output_type": "execute_result"
    }
   ],
   "source": [
    "#newdf.groupby('home_team')['date'].count()\n",
    "qa = newdf.loc[(df['home_team'] == 'Qatar' )]\n",
    "qa.groupby([\"tournament\"])[\"date\"].count()\n"
   ]
  },
  {
   "cell_type": "markdown",
   "id": "73d19430-0e67-4771-9f0c-c5a59c3e66b1",
   "metadata": {},
   "source": [
    "# Filtering important competitions \n",
    "* Get only FIFA and UEFA competitions"
   ]
  },
  {
   "cell_type": "code",
   "execution_count": 60,
   "id": "c14ebcd8-699f-4f00-8255-2e1f47a40d45",
   "metadata": {},
   "outputs": [
    {
     "data": {
      "text/plain": [
       "tournament\n",
       "AFC Asian Cup                                  186\n",
       "AFC Asian Cup qualification                    122\n",
       "African Cup of Nations                         273\n",
       "African Cup of Nations qualification           262\n",
       "African Nations Championship                    58\n",
       "African Nations Championship qualification      10\n",
       "Amílcar Cabral Cup                              17\n",
       "Arab Cup                                        35\n",
       "CONCACAF Nations League                         29\n",
       "CONCACAF Nations League qualification            3\n",
       "CONMEBOL–UEFA Cup of Champions                   1\n",
       "COSAFA Cup                                       8\n",
       "Confederations Cup                             194\n",
       "Copa América                                   286\n",
       "Copa Confraternidad                              2\n",
       "Cup of Ancient Civilizations                     1\n",
       "Cyprus International Tournament                  9\n",
       "Dynasty Cup                                     14\n",
       "EAFF Championship                               54\n",
       "FIFA World Cup                                 592\n",
       "FIFA World Cup qualification                  2656\n",
       "Friendly                                      4501\n",
       "Gold Cup                                       253\n",
       "Gold Cup qualification                           3\n",
       "Gulf Cup                                       115\n",
       "King Hassan II Tournament                       18\n",
       "King's Cup                                      21\n",
       "Kirin Challenge Cup                             25\n",
       "Kirin Cup                                       54\n",
       "Korea Cup                                       20\n",
       "Lunar New Year Cup                              20\n",
       "Malta International Tournament                   2\n",
       "Nations Cup                                      3\n",
       "Nehru Cup                                        7\n",
       "Nordic Championship                              1\n",
       "OSN Cup                                          2\n",
       "Oceania Nations Cup                             18\n",
       "Simba Tournament                                11\n",
       "Superclásico de las Américas                    16\n",
       "Tournoi de France                                9\n",
       "UEFA Euro                                      280\n",
       "UEFA Euro qualification                        776\n",
       "UEFA Nations League                            198\n",
       "UNCAF Cup                                       48\n",
       "USA Cup                                         26\n",
       "United Arab Emirates Friendship Tournament      17\n",
       "WAFF Championship                               40\n",
       "Name: date, dtype: int64"
      ]
     },
     "execution_count": 60,
     "metadata": {},
     "output_type": "execute_result"
    }
   ],
   "source": [
    "newdf.groupby('tournament')['date'].count() # Checking all the competitions played "
   ]
  },
  {
   "cell_type": "code",
   "execution_count": 61,
   "id": "3d1b8890-202a-441e-8902-6b17cc80add0",
   "metadata": {},
   "outputs": [],
   "source": [
    "filtertournament = \"AFC Asian Cup\", \"AFC Asian Cup qualification \", \"African Cup of Nations\", \"Friendly\", \"African Cup of Nations qualification\", \"African Nations Championship\", \"African Nations Championship qualification\",\"Copa América\", \"FIFA World Cup\", \"FIFA World Cup qualification\", \"UEFA Euro\", \"UEFA Euro qualification\", \"UEFA Nations League\"\n",
    "# Selecting only the main competitions \n",
    "newdf = newdf.query('tournament in @filtertournament')"
   ]
  },
  {
   "cell_type": "code",
   "execution_count": 62,
   "id": "23db7c93-d9c0-461b-b9e3-60554be0a2c8",
   "metadata": {},
   "outputs": [
    {
     "data": {
      "text/plain": [
       "shoot_out\n",
       "No     9933\n",
       "Yes     145\n",
       "Name: date, dtype: int64"
      ]
     },
     "execution_count": 62,
     "metadata": {},
     "output_type": "execute_result"
    }
   ],
   "source": [
    "newdf.groupby('shoot_out')['date'].count() # Does the match include a penaly or not "
   ]
  },
  {
   "cell_type": "code",
   "execution_count": 63,
   "id": "f6297913-5413-415b-bfd1-eaae27d5fb82",
   "metadata": {},
   "outputs": [
    {
     "data": {
      "text/plain": [
       "home_team\n",
       "Mexico                            345\n",
       "USA                               313\n",
       "Germany                           299\n",
       "France                            297\n",
       "Brazil                            294\n",
       "                                 ... \n",
       "Dominica                            1\n",
       "Djibouti                            1\n",
       "Solomon Islands                     1\n",
       "Timor-Leste                         1\n",
       "St. Vincent and the Grenadines      1\n",
       "Name: home_team_result, Length: 188, dtype: int64"
      ]
     },
     "execution_count": 63,
     "metadata": {},
     "output_type": "execute_result"
    }
   ],
   "source": [
    "newdf.groupby('home_team')['home_team_result'].count().sort_values(ascending=False)"
   ]
  },
  {
   "cell_type": "markdown",
   "id": "1ddedb2e-0530-4dc0-8740-e0ae731de654",
   "metadata": {},
   "source": [
    "# Filling Nan values (a lot of process) \n",
    "\n",
    "*  Identify columns with Nan \n",
    "* '[home_team_goalkeeper_score', 'away_team_goalkeeper_score',\n",
    "       'home_team_mean_defense_score', 'home_team_mean_offense_score',\n",
    "       'home_team_mean_midfield_score', 'away_team_mean_defense_score',\n",
    "       'away_team_mean_offense_score', 'away_team_mean_midfield_score']"
   ]
  },
  {
   "cell_type": "code",
   "execution_count": 64,
   "id": "26642036-bae7-4f9c-a9fb-fe841036ff1a",
   "metadata": {},
   "outputs": [
    {
     "data": {
      "text/plain": [
       "date                                0\n",
       "home_team                           0\n",
       "away_team                           0\n",
       "home_team_continent                 0\n",
       "away_team_continent                 0\n",
       "home_team_fifa_rank                 0\n",
       "away_team_fifa_rank                 0\n",
       "home_team_total_fifa_points         0\n",
       "away_team_total_fifa_points         0\n",
       "home_team_score                     0\n",
       "away_team_score                     0\n",
       "tournament                          0\n",
       "city                                0\n",
       "country                             0\n",
       "neutral_location                    0\n",
       "shoot_out                           0\n",
       "home_team_result                    0\n",
       "home_team_goalkeeper_score       4729\n",
       "away_team_goalkeeper_score       4821\n",
       "home_team_mean_defense_score     4789\n",
       "home_team_mean_offense_score     4617\n",
       "home_team_mean_midfield_score    4683\n",
       "away_team_mean_defense_score     4853\n",
       "away_team_mean_offense_score     4659\n",
       "away_team_mean_midfield_score    4739\n",
       "dtype: int64"
      ]
     },
     "execution_count": 64,
     "metadata": {},
     "output_type": "execute_result"
    }
   ],
   "source": [
    "newdf.isnull().sum()"
   ]
  },
  {
   "cell_type": "markdown",
   "id": "e705e28e-11a1-4122-b433-aa2cb11ea93f",
   "metadata": {},
   "source": [
    "## Filling columns by columns\n",
    "* Filling Nan with the mean of the column and the country that it belongs to \n",
    "* Filling missing Nan in the Qatar team"
   ]
  },
  {
   "cell_type": "code",
   "execution_count": 65,
   "id": "acca4510-c2d5-413e-b95f-545dca4580ee",
   "metadata": {},
   "outputs": [],
   "source": [
    "\n",
    "newdf['home_team_goalkeeper_score'] = newdf['home_team_goalkeeper_score'].fillna(newdf.groupby('home_team')['home_team_goalkeeper_score'].transform('mean'))\n",
    "\n",
    "newdf['away_team_goalkeeper_score'] = newdf['away_team_goalkeeper_score'].fillna(newdf.groupby('away_team')['away_team_goalkeeper_score'].transform('mean'))\n",
    "\n",
    "newdf['home_team_mean_defense_score'] = newdf['home_team_mean_defense_score'].fillna(newdf.groupby('home_team')['home_team_mean_defense_score'].transform('mean'))\n",
    "\n",
    "newdf['home_team_mean_offense_score'] = newdf['home_team_mean_offense_score'].fillna(newdf.groupby('home_team')['home_team_mean_offense_score'].transform('mean'))\n",
    "\n",
    "newdf['home_team_mean_midfield_score'] = newdf['home_team_mean_midfield_score'].fillna(newdf.groupby('home_team')['home_team_mean_midfield_score'].transform('mean'))\n",
    "\n",
    "newdf['away_team_mean_defense_score'] = newdf['away_team_mean_defense_score'].fillna(newdf.groupby('away_team')['away_team_mean_defense_score'].transform('mean'))\n",
    "\n",
    "newdf['away_team_mean_offense_score'] = newdf['away_team_mean_offense_score'].fillna(newdf.groupby('away_team')['away_team_mean_offense_score'].transform('mean'))\n",
    "\n",
    "newdf['away_team_mean_midfield_score'] = newdf['away_team_mean_midfield_score'].fillna(newdf.groupby('away_team')['away_team_mean_midfield_score'].transform('mean'))\n",
    "\n",
    "newdf = newdf.fillna(73.93)"
   ]
  },
  {
   "cell_type": "code",
   "execution_count": 35,
   "id": "422cef5d-a0fe-4a9f-94b2-3352fa06fab3",
   "metadata": {},
   "outputs": [],
   "source": [
    "#fifa rank delta of home and away team (higher values indicate that home team is stronger than away team)\n",
    "df['fifa_rank_delta'] = df['away_team_fifa_rank'] - df ['home_team_fifa_rank']\n",
    "\n",
    "#offense home team vs defense away team (higher values indicate that home team offense is stronger than away team defense)\n",
    "df['offense/defense_ratio'] = df['home_team_mean_offense_score'] / df['away_team_mean_defense_score']"
   ]
  },
  {
   "cell_type": "code",
   "execution_count": 36,
   "id": "238a1db8-9e38-448f-942b-b01adce20525",
   "metadata": {},
   "outputs": [
    {
     "data": {
      "text/plain": [
       "'qatar = newdf.loc[(newdf[\\'home_team\\'] == \\'Qatar\\' )]\\nqatar[\"home_team_goalkeeper_score\"] = qatar[\\'home_team_goalkeeper_score\\'].fillna(76.96)\\nqatar.away_team_goalkeeper_score = qatar.away_team_goalkeeper_score.fillna(69.63)\\nqatar.home_team_mean_defense_score = qatar.home_team_mean_defense_score.fillna(76.50)\\nqatar.home_team_mean_offense_score = qatar.home_team_mean_offense_score.fillna(77.81)\\nqatar.home_team_mean_midfield_score = qatar.home_team_mean_midfield_score.fillna(77.71)\\nqatar.away_team_mean_defense_score = qatar.away_team_mean_defense_score.fillna(70.71)\\nqatar.away_team_mean_offense_score  = qatar.away_team_mean_offense_score.fillna(70.70)\\nqatar.away_team_mean_midfield_score = qatar.away_team_mean_midfield_score.fillna(71.44)\\n'"
      ]
     },
     "execution_count": 36,
     "metadata": {},
     "output_type": "execute_result"
    }
   ],
   "source": [
    "\"\"\"qatar = newdf.loc[(newdf['home_team'] == 'Qatar' )]\n",
    "qatar[\"home_team_goalkeeper_score\"] = qatar['home_team_goalkeeper_score'].fillna(76.96)\n",
    "qatar.away_team_goalkeeper_score = qatar.away_team_goalkeeper_score.fillna(69.63)\n",
    "qatar.home_team_mean_defense_score = qatar.home_team_mean_defense_score.fillna(76.50)\n",
    "qatar.home_team_mean_offense_score = qatar.home_team_mean_offense_score.fillna(77.81)\n",
    "qatar.home_team_mean_midfield_score = qatar.home_team_mean_midfield_score.fillna(77.71)\n",
    "qatar.away_team_mean_defense_score = qatar.away_team_mean_defense_score.fillna(70.71)\n",
    "qatar.away_team_mean_offense_score  = qatar.away_team_mean_offense_score.fillna(70.70)\n",
    "qatar.away_team_mean_midfield_score = qatar.away_team_mean_midfield_score.fillna(71.44)\n",
    "\"\"\""
   ]
  },
  {
   "cell_type": "code",
   "execution_count": 37,
   "id": "564f6338-41d1-4569-b821-c971b9d25ab2",
   "metadata": {},
   "outputs": [],
   "source": [
    "#newdf.drop(newdf.loc[(newdf['home_team'] == 'Qatar' )], inplace=True, axis=1)\n",
    "#newdf = newdf.drop((['home_team'] == 'Qatar' ), axis=1)"
   ]
  },
  {
   "cell_type": "code",
   "execution_count": 38,
   "id": "41acb312-ecf4-4119-8aed-04f56bba78b2",
   "metadata": {},
   "outputs": [],
   "source": [
    "#newdf.drop(newdf.loc[(newdf['home_team'] == 'Qatar' ), axis=0])"
   ]
  },
  {
   "cell_type": "markdown",
   "id": "587d723b-750c-49ff-8e87-5575f6dff257",
   "metadata": {},
   "source": [
    "# Converting string columns into numeric\n",
    "* renaming dataset\n",
    "* convert to datetime index\n",
    "* Label encoding "
   ]
  },
  {
   "cell_type": "code",
   "execution_count": 66,
   "id": "793f9928-25ca-4496-99f4-2156ea157cb0",
   "metadata": {},
   "outputs": [
    {
     "data": {
      "text/plain": [
       "1                            Friendly\n",
       "2        FIFA World Cup qualification\n",
       "10       FIFA World Cup qualification\n",
       "14       FIFA World Cup qualification\n",
       "15       FIFA World Cup qualification\n",
       "                     ...             \n",
       "23867             UEFA Nations League\n",
       "23869             UEFA Nations League\n",
       "23885             UEFA Nations League\n",
       "23908             UEFA Nations League\n",
       "23909             UEFA Nations League\n",
       "Name: tournament, Length: 10078, dtype: object"
      ]
     },
     "execution_count": 66,
     "metadata": {},
     "output_type": "execute_result"
    }
   ],
   "source": [
    "df = newdf\n",
    "df.date = pd.to_datetime(df.date)\n",
    "df['result'] = df.home_team_result \n",
    "df.tournament"
   ]
  },
  {
   "cell_type": "code",
   "execution_count": 67,
   "id": "a7735b0a-5da6-4efd-935b-1dcc108cbf5d",
   "metadata": {},
   "outputs": [
    {
     "data": {
      "text/plain": [
       "date                             datetime64[ns]\n",
       "home_team                                object\n",
       "away_team                                object\n",
       "home_team_continent                      object\n",
       "away_team_continent                      object\n",
       "home_team_fifa_rank                       int64\n",
       "away_team_fifa_rank                       int64\n",
       "home_team_total_fifa_points               int64\n",
       "away_team_total_fifa_points               int64\n",
       "home_team_score                           int64\n",
       "away_team_score                           int64\n",
       "tournament                               object\n",
       "city                                     object\n",
       "country                                  object\n",
       "neutral_location                           bool\n",
       "shoot_out                                object\n",
       "home_team_result                         object\n",
       "home_team_goalkeeper_score              float64\n",
       "away_team_goalkeeper_score              float64\n",
       "home_team_mean_defense_score            float64\n",
       "home_team_mean_offense_score            float64\n",
       "home_team_mean_midfield_score           float64\n",
       "away_team_mean_defense_score            float64\n",
       "away_team_mean_offense_score            float64\n",
       "away_team_mean_midfield_score           float64\n",
       "result                                   object\n",
       "dtype: object"
      ]
     },
     "execution_count": 67,
     "metadata": {},
     "output_type": "execute_result"
    }
   ],
   "source": [
    "df.dtypes"
   ]
  },
  {
   "cell_type": "code",
   "execution_count": 68,
   "id": "36878ebd-cf5a-4af8-ab3a-8adc247fcbe5",
   "metadata": {},
   "outputs": [
    {
     "data": {
      "text/plain": [
       "1                            Friendly\n",
       "2        FIFA World Cup qualification\n",
       "10       FIFA World Cup qualification\n",
       "14       FIFA World Cup qualification\n",
       "15       FIFA World Cup qualification\n",
       "                     ...             \n",
       "23867             UEFA Nations League\n",
       "23869             UEFA Nations League\n",
       "23885             UEFA Nations League\n",
       "23908             UEFA Nations League\n",
       "23909             UEFA Nations League\n",
       "Name: tournament, Length: 10078, dtype: object"
      ]
     },
     "execution_count": 68,
     "metadata": {},
     "output_type": "execute_result"
    }
   ],
   "source": [
    "df.tournament"
   ]
  },
  {
   "cell_type": "markdown",
   "id": "420293ef-cf57-420b-9d00-744c906ebb78",
   "metadata": {},
   "source": [
    "# Encoding non numericals columns\n",
    "* Using label encoder and a dictionary "
   ]
  },
  {
   "cell_type": "code",
   "execution_count": 69,
   "id": "432d19b1-7bda-4847-b365-9973808c03d0",
   "metadata": {},
   "outputs": [
    {
     "data": {
      "text/plain": [
       "date                             datetime64[ns]\n",
       "home_team                                object\n",
       "away_team                                object\n",
       "home_team_continent                      object\n",
       "away_team_continent                      object\n",
       "home_team_fifa_rank                       int64\n",
       "away_team_fifa_rank                       int64\n",
       "home_team_total_fifa_points               int64\n",
       "away_team_total_fifa_points               int64\n",
       "home_team_score                           int64\n",
       "away_team_score                           int64\n",
       "tournament                                int32\n",
       "city                                      int32\n",
       "country                                  object\n",
       "neutral_location                           bool\n",
       "shoot_out                                 int32\n",
       "home_team_result                         object\n",
       "home_team_goalkeeper_score              float64\n",
       "away_team_goalkeeper_score              float64\n",
       "home_team_mean_defense_score            float64\n",
       "home_team_mean_offense_score            float64\n",
       "home_team_mean_midfield_score           float64\n",
       "away_team_mean_defense_score            float64\n",
       "away_team_mean_offense_score            float64\n",
       "away_team_mean_midfield_score           float64\n",
       "result                                    int64\n",
       "dtype: object"
      ]
     },
     "execution_count": 69,
     "metadata": {},
     "output_type": "execute_result"
    }
   ],
   "source": [
    "le = preprocessing.LabelEncoder()\n",
    "df.tournament = le.fit_transform(df.tournament)\n",
    "df.city = le.fit_transform(df.city)\n",
    "\n",
    "df.shoot_out = le.fit_transform(df.shoot_out)\n",
    "df['result'] =  df['result'].replace({'Win': 3, 'Lose': 0, 'Draw' : 1})\n",
    "df.dtypes"
   ]
  },
  {
   "cell_type": "markdown",
   "id": "b02c3bd3-80b8-4169-891d-9b147f0d86f6",
   "metadata": {},
   "source": [
    "## Deleting useless columns"
   ]
  },
  {
   "cell_type": "code",
   "execution_count": 70,
   "id": "0f1a9d3d-aa5e-46fe-859d-0c5c1049a16b",
   "metadata": {},
   "outputs": [],
   "source": [
    "del df['home_team_result']\n",
    "del df['home_team_continent']\n",
    "del df['away_team_continent']\n",
    "del df['country']\n",
    "\n",
    "del df['city']\n"
   ]
  },
  {
   "cell_type": "code",
   "execution_count": null,
   "id": "2e255819-b6ce-4701-ba2b-715e3aee8d7a",
   "metadata": {},
   "outputs": [],
   "source": []
  },
  {
   "cell_type": "code",
   "execution_count": 71,
   "id": "a1c8c9ca-371c-4f49-8ab4-b45a331b3118",
   "metadata": {},
   "outputs": [
    {
     "data": {
      "text/plain": [
       "date                             0\n",
       "home_team                        0\n",
       "away_team                        0\n",
       "home_team_fifa_rank              0\n",
       "away_team_fifa_rank              0\n",
       "home_team_total_fifa_points      0\n",
       "away_team_total_fifa_points      0\n",
       "home_team_score                  0\n",
       "away_team_score                  0\n",
       "tournament                       0\n",
       "neutral_location                 0\n",
       "shoot_out                        0\n",
       "home_team_goalkeeper_score       0\n",
       "away_team_goalkeeper_score       0\n",
       "home_team_mean_defense_score     0\n",
       "home_team_mean_offense_score     0\n",
       "home_team_mean_midfield_score    0\n",
       "away_team_mean_defense_score     0\n",
       "away_team_mean_offense_score     0\n",
       "away_team_mean_midfield_score    0\n",
       "result                           0\n",
       "dtype: int64"
      ]
     },
     "execution_count": 71,
     "metadata": {},
     "output_type": "execute_result"
    }
   ],
   "source": [
    "df.isnull().sum() # still many values missing / problem is that values missing belongs to qatar mostly / , "
   ]
  },
  {
   "cell_type": "code",
   "execution_count": 72,
   "id": "4e67940c-7740-48b7-8ce8-a36713bdf66b",
   "metadata": {},
   "outputs": [
    {
     "data": {
      "text/plain": [
       "home_team\n",
       "Afghanistan      14\n",
       "Albania         254\n",
       "Algeria         170\n",
       "Andorra         166\n",
       "Angola          102\n",
       "               ... \n",
       "Vietnam          35\n",
       "Wales          1390\n",
       "Yemen             7\n",
       "Zambia          115\n",
       "Zimbabwe         51\n",
       "Name: tournament, Length: 188, dtype: int32"
      ]
     },
     "execution_count": 72,
     "metadata": {},
     "output_type": "execute_result"
    }
   ],
   "source": [
    "df.groupby('home_team')['tournament'].sum()"
   ]
  },
  {
   "cell_type": "code",
   "execution_count": 73,
   "id": "0a90be92-f91e-419a-8eae-5c86643ed856",
   "metadata": {},
   "outputs": [],
   "source": [
    "one = (df.groupby('home_team')['result'].sum() /  df.groupby('home_team')['tournament'].sum())\n",
    "one = pd.DataFrame(data=one).reset_index()\n",
    "\n",
    "two = (df.groupby('away_team')['result'].sum() /  df.groupby('away_team')['tournament'].sum())\n",
    "two = pd.DataFrame(data=two).reset_index()\n"
   ]
  },
  {
   "cell_type": "code",
   "execution_count": 74,
   "id": "c8381d1b-9e2a-488d-8828-06db826d91eb",
   "metadata": {},
   "outputs": [
    {
     "data": {
      "text/plain": [
       "Mexico             345\n",
       "USA                313\n",
       "Germany            299\n",
       "France             297\n",
       "Brazil             294\n",
       "                  ... \n",
       "Belize               1\n",
       "Solomon Islands      1\n",
       "Dominica             1\n",
       "Macau                1\n",
       "Aruba                1\n",
       "Name: home_team, Length: 188, dtype: int64"
      ]
     },
     "execution_count": 74,
     "metadata": {},
     "output_type": "execute_result"
    }
   ],
   "source": [
    "'''result = dict(pd.concat([one,two]).groupby('home_team',as_index=False).sum().to_dict(orient='split')['data'])\n",
    "print([result[v] for v in result if v in filtercountry])'''\n",
    "countCollection = df['home_team'].value_counts()\n",
    "countCollection"
   ]
  },
  {
   "cell_type": "markdown",
   "id": "f0183ad5-4f63-4e8d-b3e6-b800d3bb02c2",
   "metadata": {},
   "source": [
    "# Data Viz \n",
    "## Displaying points earned by winning matches of the qualified teams "
   ]
  },
  {
   "cell_type": "code",
   "execution_count": 75,
   "id": "d69c1df9-cb6f-4039-8255-aa7ff2400307",
   "metadata": {},
   "outputs": [],
   "source": [
    "home_points = df.groupby('home_team')['result'].sum()\n",
    "away_points = df.groupby('away_team')['result'].sum() \n",
    "\n",
    "display = (home_points.add(away_points, fill_value=0)\n",
    "                .rename_axis('Team')\n",
    "                .reset_index(name='Points')\n",
    "                .sort_values('Points', ascending=False, ignore_index=True))\n",
    "display = display[display['Team'].isin(filtercountry)]\n",
    "display = display.sort_values(by =\"Points\", ascending=True)"
   ]
  },
  {
   "cell_type": "code",
   "execution_count": 76,
   "id": "bb8cd713-7911-42be-b1e5-bda968564421",
   "metadata": {},
   "outputs": [
    {
     "data": {
      "image/png": "[encoded data removed]",
      "text/plain": [
       "<Figure size 1200x1600 with 1 Axes>"
      ]
     },
     "metadata": {},
     "output_type": "display_data"
    }
   ],
   "source": [
    "fig = plt.figure(figsize=(6,8), dpi=200)\n",
    "left, bottom, width, height = 0.1, 0.3, 0.8, 0.6\n",
    "ax = fig.add_axes([left, bottom, width, height]) \n",
    "\n",
    "ax.bar(x=np.arange(len(display['Points'])), # The x coordinates of the bars. \n",
    "       height=display['Team'], # the height(s) of the vars \n",
    "       color=\"green\", align=\"center\",\n",
    "       tick_label=display['Points'])\n",
    "\n",
    "ax.set_ylabel('Team')\n",
    "#ax.set_xticks(rotation='vertical')\n",
    "ax.set_title('Points')\n",
    "plt.xticks(rotation=90)\n",
    "plt.show()"
   ]
  },
  {
   "cell_type": "markdown",
   "id": "bd65a5a5-f74e-4352-a2a5-e411cd276e2f",
   "metadata": {},
   "source": [
    "## Fifa Ranking "
   ]
  },
  {
   "cell_type": "code",
   "execution_count": 77,
   "id": "8924a89e-d539-460d-9c7d-72ca6aa6c562",
   "metadata": {},
   "outputs": [
    {
     "data": {
      "text/plain": [
       "rank                 int64\n",
       "country_full        object\n",
       "country_abrv        object\n",
       "total_points       float64\n",
       "previous_points    float64\n",
       "rank_change          int64\n",
       "confederation       object\n",
       "rank_date           object\n",
       "dtype: object"
      ]
     },
     "execution_count": 77,
     "metadata": {},
     "output_type": "execute_result"
    }
   ],
   "source": [
    "rank = pd.read_csv('fifa_ranking-2022-08-25.csv')\n",
    "rank1 = pd.read_csv('fifa_ranking-2022-08-25.csv')\n",
    "rank.dtypes"
   ]
  },
  {
   "cell_type": "code",
   "execution_count": 78,
   "id": "ab6d43a0-53f2-47c0-b034-ad7060c70d7e",
   "metadata": {},
   "outputs": [],
   "source": [
    "rank = rank.loc[(rank['rank_date'] == \"2022-08-25\")]\n",
    "rank = rank[rank['country_full'].isin(filtercountry)]"
   ]
  },
  {
   "cell_type": "code",
   "execution_count": 79,
   "id": "0879963a-8a5c-41f0-974d-b399af840c3b",
   "metadata": {},
   "outputs": [
    {
     "data": {
      "text/plain": [
       "<AxesSubplot:xlabel='rank', ylabel='country_full'>"
      ]
     },
     "execution_count": 79,
     "metadata": {},
     "output_type": "execute_result"
    },
    {
     "data": {
      "image/png": "[encoded data removed]",
      "text/plain": [
       "<Figure size 640x480 with 1 Axes>"
      ]
     },
     "metadata": {},
     "output_type": "display_data"
    }
   ],
   "source": [
    "\n",
    "sns.barplot(data=rank, x=\"rank\" , y=\"country_full\")"
   ]
  },
  {
   "cell_type": "markdown",
   "id": "9300f0a6-2121-4f61-ba13-fe20b447c8af",
   "metadata": {},
   "source": [
    "## Strongest offense team "
   ]
  },
  {
   "cell_type": "code",
   "execution_count": 80,
   "id": "56a0baa2-88f3-4fa4-afcb-074232642910",
   "metadata": {},
   "outputs": [
    {
     "name": "stderr",
     "output_type": "stream",
     "text": [
      "C:\\Users\\utilisateur\\AppData\\Local\\Temp\\ipykernel_10096\\1700669849.py:5: FutureWarning: The frame.append method is deprecated and will be removed from pandas in a future version. Use pandas.concat instead.\n",
      "  offense  = home.append(away)\n"
     ]
    }
   ],
   "source": [
    "#let's re-shape the data a bit\n",
    "offense = df[['date', 'home_team', 'away_team', 'home_team_mean_offense_score', 'away_team_mean_offense_score']]\n",
    "home = offense [['date', 'home_team','home_team_mean_offense_score']].rename(columns = {'home_team': 'team', 'home_team_mean_offense_score' : 'offense_score'})\n",
    "away = offense [['date', 'away_team','away_team_mean_offense_score']].rename(columns = {'away_team': 'team', 'away_team_mean_offense_score' : 'offense_score'})\n",
    "offense  = home.append(away)\n",
    "\n",
    "#select for each country the latest match\n",
    "offense   = offense .sort_values(['team', 'date'], ascending=[True, False])\n",
    "offense ['row_number'] = offense .groupby('team').cumcount()+1\n",
    "offense_top = offense [offense ['row_number']==1].drop('row_number',axis=1).nlargest(20, 'offense_score')"
   ]
  },
  {
   "cell_type": "code",
   "execution_count": 35,
   "id": "a1775e60-775e-44e3-8942-b868d0249651",
   "metadata": {},
   "outputs": [
    {
     "data": {
      "image/png": "[encoded data removed]",
      "text/plain": [
       "<Figure size 1000x600 with 1 Axes>"
      ]
     },
     "metadata": {},
     "output_type": "display_data"
    }
   ],
   "source": [
    "#plot the teams with the strongest offense players\n",
    "fig, axes = plt.subplots(1,1,  figsize=(10, 6))\n",
    "ax = sns.barplot(data = offense_top, y = 'team', x = 'offense_score', orientation = 'horizontal', color = \"#66C8D5\")\n",
    "ax.set_title ('Teams with the strongest offense', fontsize = 15)\n",
    "ax.set(xlabel = '', ylabel = '')\n",
    "\n",
    "plt.show()"
   ]
  },
  {
   "cell_type": "code",
   "execution_count": 36,
   "id": "4a20e5bb-e3ff-42ff-8b82-995f22e30afa",
   "metadata": {},
   "outputs": [
    {
     "name": "stderr",
     "output_type": "stream",
     "text": [
      "C:\\Users\\utilisateur\\AppData\\Local\\Temp\\ipykernel_10096\\1616664776.py:5: FutureWarning: The frame.append method is deprecated and will be removed from pandas in a future version. Use pandas.concat instead.\n",
      "  fifa_rank = home.append(away)\n"
     ]
    },
    {
     "data": {
      "text/html": [
       "<div>\n",
       "<style scoped>\n",
       "    .dataframe tbody tr th:only-of-type {\n",
       "        vertical-align: middle;\n",
       "    }\n",
       "\n",
       "    .dataframe tbody tr th {\n",
       "        vertical-align: top;\n",
       "    }\n",
       "\n",
       "    .dataframe thead th {\n",
       "        text-align: right;\n",
       "    }\n",
       "</style>\n",
       "<table border=\"1\" class=\"dataframe\">\n",
       "  <thead>\n",
       "    <tr style=\"text-align: right;\">\n",
       "      <th></th>\n",
       "      <th>date</th>\n",
       "      <th>team</th>\n",
       "      <th>rank</th>\n",
       "    </tr>\n",
       "  </thead>\n",
       "  <tbody>\n",
       "    <tr>\n",
       "      <th>23760</th>\n",
       "      <td>2022-06-06</td>\n",
       "      <td>Brazil</td>\n",
       "      <td>1</td>\n",
       "    </tr>\n",
       "    <tr>\n",
       "      <th>23909</th>\n",
       "      <td>2022-06-14</td>\n",
       "      <td>Belgium</td>\n",
       "      <td>2</td>\n",
       "    </tr>\n",
       "    <tr>\n",
       "      <th>23885</th>\n",
       "      <td>2022-06-13</td>\n",
       "      <td>France</td>\n",
       "      <td>3</td>\n",
       "    </tr>\n",
       "    <tr>\n",
       "      <th>23741</th>\n",
       "      <td>2022-06-05</td>\n",
       "      <td>Argentina</td>\n",
       "      <td>4</td>\n",
       "    </tr>\n",
       "    <tr>\n",
       "      <th>23906</th>\n",
       "      <td>2022-06-14</td>\n",
       "      <td>England</td>\n",
       "      <td>5</td>\n",
       "    </tr>\n",
       "  </tbody>\n",
       "</table>\n",
       "</div>"
      ],
      "text/plain": [
       "            date       team  rank\n",
       "23760 2022-06-06     Brazil     1\n",
       "23909 2022-06-14    Belgium     2\n",
       "23885 2022-06-13     France     3\n",
       "23741 2022-06-05  Argentina     4\n",
       "23906 2022-06-14    England     5"
      ]
     },
     "execution_count": 36,
     "metadata": {},
     "output_type": "execute_result"
    }
   ],
   "source": [
    "#let's re-shape the data a bit\n",
    "fifa_rank = df[['date', 'home_team', 'away_team', 'home_team_fifa_rank', 'away_team_fifa_rank']]\n",
    "home = fifa_rank[['date', 'home_team','home_team_fifa_rank']].rename(columns = {'home_team': 'team', 'home_team_fifa_rank' : 'rank'})\n",
    "away = fifa_rank[['date', 'away_team','away_team_fifa_rank']].rename(columns = {'away_team': 'team', 'away_team_fifa_rank' : 'rank'})\n",
    "fifa_rank = home.append(away)\n",
    "\n",
    "#select for each country the latest match\n",
    "fifa_rank  = fifa_rank.sort_values(['team', 'date'], ascending=[True, False])\n",
    "fifa_rank['row_number'] = fifa_rank.groupby('team').cumcount()+1\n",
    "fifa_rank_top = fifa_rank[fifa_rank['row_number']==1].drop('row_number',axis=1).nsmallest(5, 'rank')\n",
    "\n",
    "#let's see the 5 strongest teams\n",
    "fifa_rank_top"
   ]
  },
  {
   "cell_type": "markdown",
   "id": "a11214bb-f3ec-462b-9ef7-ff5c12ebd220",
   "metadata": {},
   "source": [
    "## Is the match played at home as an influence on the result ? "
   ]
  },
  {
   "cell_type": "code",
   "execution_count": 37,
   "id": "cd6c5496-cfe4-4d4e-ab51-0afdc1141fe0",
   "metadata": {},
   "outputs": [
    {
     "data": {
      "image/png": "[encoded data removed]",
      "text/plain": [
       "<Figure size 800x800 with 1 Axes>"
      ]
     },
     "metadata": {},
     "output_type": "display_data"
    }
   ],
   "source": [
    "#select all matches played at non-neutral locations\n",
    "home_team_advantage = df[df['neutral_location']==False]['result'].value_counts(normalize=True)\n",
    "\n",
    "#plot\n",
    "fig, axes = plt.subplots(1,1,  figsize=(8,8))\n",
    "ax =plt.pie(home_team_advantage  ,labels = ['Win',  'Lose', 'Draw'],  autopct='%.0f%%')\n",
    "plt.title('Home team match result', fontsize = 15)\n",
    "plt.show()"
   ]
  },
  {
   "cell_type": "markdown",
   "id": "7b7ee24d-708f-46da-b2cd-24150dac157a",
   "metadata": {},
   "source": [
    "## Winning rates of France"
   ]
  },
  {
   "cell_type": "code",
   "execution_count": 39,
   "id": "0e759d70-9244-499c-90f3-af7cb5c9013e",
   "metadata": {},
   "outputs": [
    {
     "data": {
      "text/plain": [
       "<AxesSubplot:xlabel='France_Results', ylabel='count'>"
      ]
     },
     "execution_count": 39,
     "metadata": {},
     "output_type": "execute_result"
    },
    {
     "data": {
      "image/png": "[encoded data removed]",
      "text/plain": [
       "<Figure size 1070x627 with 1 Axes>"
      ]
     },
     "metadata": {},
     "output_type": "display_data"
    }
   ],
   "source": [
    "wins = []\n",
    "for row in df['result']:\n",
    "    if row != 1 and row != 0 :\n",
    "        wins.append('Wins')\n",
    "    else:\n",
    "        wins.append(row)\n",
    "winsdf= pd.DataFrame(wins, columns=['France_Results'])\n",
    "\n",
    "#plotting\n",
    "fig, ax = plt.subplots(1)\n",
    "fig.set_size_inches(10.7, 6.27)\n",
    "sns.set(style='darkgrid')\n",
    "sns.countplot(x='France_Results', data=winsdf)"
   ]
  },
  {
   "cell_type": "code",
   "execution_count": 87,
   "id": "0b7dfefc-81c8-49e2-80f9-f33bcab5f5b7",
   "metadata": {},
   "outputs": [],
   "source": [
    "#del df['neutral_location']\n",
    "#del df['tournament']\n",
    "#del df['home_team_total_fifa_points']\n",
    "#del df['away_team_total_fifa_points']\n",
    "del df['shoot_out']"
   ]
  },
  {
   "cell_type": "code",
   "execution_count": 88,
   "id": "67f0ad26-e6f7-47a8-95c6-5eb01f4acdbc",
   "metadata": {},
   "outputs": [],
   "source": [
    "df.to_csv('df_clean.csv', encoding='utf-8', index=False)"
   ]
  },
  {
   "cell_type": "code",
   "execution_count": 89,
   "id": "4349733a-4edd-494c-a8ee-b9b9977c9e7f",
   "metadata": {},
   "outputs": [
    {
     "data": {
      "text/html": [
       "<div>\n",
       "<style scoped>\n",
       "    .dataframe tbody tr th:only-of-type {\n",
       "        vertical-align: middle;\n",
       "    }\n",
       "\n",
       "    .dataframe tbody tr th {\n",
       "        vertical-align: top;\n",
       "    }\n",
       "\n",
       "    .dataframe thead th {\n",
       "        text-align: right;\n",
       "    }\n",
       "</style>\n",
       "<table border=\"1\" class=\"dataframe\">\n",
       "  <thead>\n",
       "    <tr style=\"text-align: right;\">\n",
       "      <th></th>\n",
       "      <th>date</th>\n",
       "      <th>home_team</th>\n",
       "      <th>away_team</th>\n",
       "      <th>home_team_fifa_rank</th>\n",
       "      <th>away_team_fifa_rank</th>\n",
       "      <th>home_team_score</th>\n",
       "      <th>away_team_score</th>\n",
       "      <th>home_team_goalkeeper_score</th>\n",
       "      <th>away_team_goalkeeper_score</th>\n",
       "      <th>home_team_mean_defense_score</th>\n",
       "      <th>home_team_mean_offense_score</th>\n",
       "      <th>home_team_mean_midfield_score</th>\n",
       "      <th>away_team_mean_defense_score</th>\n",
       "      <th>away_team_mean_offense_score</th>\n",
       "      <th>away_team_mean_midfield_score</th>\n",
       "      <th>result</th>\n",
       "    </tr>\n",
       "  </thead>\n",
       "  <tbody>\n",
       "    <tr>\n",
       "      <th>1</th>\n",
       "      <td>1993-08-08</td>\n",
       "      <td>Brazil</td>\n",
       "      <td>Mexico</td>\n",
       "      <td>8</td>\n",
       "      <td>14</td>\n",
       "      <td>1</td>\n",
       "      <td>1</td>\n",
       "      <td>85.941860</td>\n",
       "      <td>79.248175</td>\n",
       "      <td>85.902907</td>\n",
       "      <td>86.538372</td>\n",
       "      <td>85.355233</td>\n",
       "      <td>76.813139</td>\n",
       "      <td>79.659854</td>\n",
       "      <td>77.708759</td>\n",
       "      <td>1</td>\n",
       "    </tr>\n",
       "    <tr>\n",
       "      <th>2</th>\n",
       "      <td>1993-08-08</td>\n",
       "      <td>Ecuador</td>\n",
       "      <td>Venezuela</td>\n",
       "      <td>35</td>\n",
       "      <td>94</td>\n",
       "      <td>5</td>\n",
       "      <td>0</td>\n",
       "      <td>71.275510</td>\n",
       "      <td>67.595745</td>\n",
       "      <td>70.599091</td>\n",
       "      <td>75.413265</td>\n",
       "      <td>75.042857</td>\n",
       "      <td>72.443243</td>\n",
       "      <td>74.760000</td>\n",
       "      <td>73.500000</td>\n",
       "      <td>3</td>\n",
       "    </tr>\n",
       "    <tr>\n",
       "      <th>10</th>\n",
       "      <td>1993-08-15</td>\n",
       "      <td>Australia</td>\n",
       "      <td>Canada</td>\n",
       "      <td>52</td>\n",
       "      <td>46</td>\n",
       "      <td>2</td>\n",
       "      <td>1</td>\n",
       "      <td>78.088710</td>\n",
       "      <td>71.726190</td>\n",
       "      <td>72.558065</td>\n",
       "      <td>74.718548</td>\n",
       "      <td>74.060484</td>\n",
       "      <td>68.810714</td>\n",
       "      <td>71.543210</td>\n",
       "      <td>72.527381</td>\n",
       "      <td>3</td>\n",
       "    </tr>\n",
       "    <tr>\n",
       "      <th>14</th>\n",
       "      <td>1993-08-15</td>\n",
       "      <td>Uruguay</td>\n",
       "      <td>Brazil</td>\n",
       "      <td>22</td>\n",
       "      <td>8</td>\n",
       "      <td>1</td>\n",
       "      <td>1</td>\n",
       "      <td>79.368421</td>\n",
       "      <td>86.369128</td>\n",
       "      <td>79.753509</td>\n",
       "      <td>83.721053</td>\n",
       "      <td>78.356140</td>\n",
       "      <td>86.066443</td>\n",
       "      <td>86.607383</td>\n",
       "      <td>85.288591</td>\n",
       "      <td>1</td>\n",
       "    </tr>\n",
       "    <tr>\n",
       "      <th>15</th>\n",
       "      <td>1993-08-22</td>\n",
       "      <td>Argentina</td>\n",
       "      <td>Peru</td>\n",
       "      <td>5</td>\n",
       "      <td>70</td>\n",
       "      <td>2</td>\n",
       "      <td>1</td>\n",
       "      <td>80.490566</td>\n",
       "      <td>69.581395</td>\n",
       "      <td>82.635220</td>\n",
       "      <td>88.293082</td>\n",
       "      <td>84.132704</td>\n",
       "      <td>70.993878</td>\n",
       "      <td>76.436735</td>\n",
       "      <td>73.813636</td>\n",
       "      <td>3</td>\n",
       "    </tr>\n",
       "    <tr>\n",
       "      <th>...</th>\n",
       "      <td>...</td>\n",
       "      <td>...</td>\n",
       "      <td>...</td>\n",
       "      <td>...</td>\n",
       "      <td>...</td>\n",
       "      <td>...</td>\n",
       "      <td>...</td>\n",
       "      <td>...</td>\n",
       "      <td>...</td>\n",
       "      <td>...</td>\n",
       "      <td>...</td>\n",
       "      <td>...</td>\n",
       "      <td>...</td>\n",
       "      <td>...</td>\n",
       "      <td>...</td>\n",
       "      <td>...</td>\n",
       "    </tr>\n",
       "    <tr>\n",
       "      <th>23867</th>\n",
       "      <td>2022-06-12</td>\n",
       "      <td>Switzerland</td>\n",
       "      <td>Portugal</td>\n",
       "      <td>14</td>\n",
       "      <td>8</td>\n",
       "      <td>1</td>\n",
       "      <td>0</td>\n",
       "      <td>85.000000</td>\n",
       "      <td>82.000000</td>\n",
       "      <td>78.500000</td>\n",
       "      <td>76.700000</td>\n",
       "      <td>79.500000</td>\n",
       "      <td>85.200000</td>\n",
       "      <td>86.000000</td>\n",
       "      <td>84.500000</td>\n",
       "      <td>3</td>\n",
       "    </tr>\n",
       "    <tr>\n",
       "      <th>23869</th>\n",
       "      <td>2022-06-12</td>\n",
       "      <td>Slovenia</td>\n",
       "      <td>Serbia</td>\n",
       "      <td>65</td>\n",
       "      <td>25</td>\n",
       "      <td>2</td>\n",
       "      <td>2</td>\n",
       "      <td>91.000000</td>\n",
       "      <td>80.000000</td>\n",
       "      <td>73.000000</td>\n",
       "      <td>77.000000</td>\n",
       "      <td>76.200000</td>\n",
       "      <td>75.800000</td>\n",
       "      <td>80.300000</td>\n",
       "      <td>81.800000</td>\n",
       "      <td>1</td>\n",
       "    </tr>\n",
       "    <tr>\n",
       "      <th>23885</th>\n",
       "      <td>2022-06-13</td>\n",
       "      <td>France</td>\n",
       "      <td>Croatia</td>\n",
       "      <td>3</td>\n",
       "      <td>16</td>\n",
       "      <td>0</td>\n",
       "      <td>1</td>\n",
       "      <td>87.000000</td>\n",
       "      <td>82.000000</td>\n",
       "      <td>84.200000</td>\n",
       "      <td>88.300000</td>\n",
       "      <td>86.800000</td>\n",
       "      <td>77.800000</td>\n",
       "      <td>76.700000</td>\n",
       "      <td>84.200000</td>\n",
       "      <td>0</td>\n",
       "    </tr>\n",
       "    <tr>\n",
       "      <th>23908</th>\n",
       "      <td>2022-06-14</td>\n",
       "      <td>Netherlands</td>\n",
       "      <td>Wales</td>\n",
       "      <td>10</td>\n",
       "      <td>18</td>\n",
       "      <td>3</td>\n",
       "      <td>2</td>\n",
       "      <td>81.000000</td>\n",
       "      <td>74.000000</td>\n",
       "      <td>85.200000</td>\n",
       "      <td>83.000000</td>\n",
       "      <td>83.500000</td>\n",
       "      <td>75.000000</td>\n",
       "      <td>73.000000</td>\n",
       "      <td>78.500000</td>\n",
       "      <td>3</td>\n",
       "    </tr>\n",
       "    <tr>\n",
       "      <th>23909</th>\n",
       "      <td>2022-06-14</td>\n",
       "      <td>Poland</td>\n",
       "      <td>Belgium</td>\n",
       "      <td>26</td>\n",
       "      <td>2</td>\n",
       "      <td>0</td>\n",
       "      <td>1</td>\n",
       "      <td>87.000000</td>\n",
       "      <td>89.000000</td>\n",
       "      <td>75.200000</td>\n",
       "      <td>84.700000</td>\n",
       "      <td>75.800000</td>\n",
       "      <td>80.800000</td>\n",
       "      <td>85.700000</td>\n",
       "      <td>85.500000</td>\n",
       "      <td>0</td>\n",
       "    </tr>\n",
       "  </tbody>\n",
       "</table>\n",
       "<p>10078 rows × 16 columns</p>\n",
       "</div>"
      ],
      "text/plain": [
       "            date    home_team  away_team  home_team_fifa_rank  \\\n",
       "1     1993-08-08       Brazil     Mexico                    8   \n",
       "2     1993-08-08      Ecuador  Venezuela                   35   \n",
       "10    1993-08-15    Australia     Canada                   52   \n",
       "14    1993-08-15      Uruguay     Brazil                   22   \n",
       "15    1993-08-22    Argentina       Peru                    5   \n",
       "...          ...          ...        ...                  ...   \n",
       "23867 2022-06-12  Switzerland   Portugal                   14   \n",
       "23869 2022-06-12     Slovenia     Serbia                   65   \n",
       "23885 2022-06-13       France    Croatia                    3   \n",
       "23908 2022-06-14  Netherlands      Wales                   10   \n",
       "23909 2022-06-14       Poland    Belgium                   26   \n",
       "\n",
       "       away_team_fifa_rank  home_team_score  away_team_score  \\\n",
       "1                       14                1                1   \n",
       "2                       94                5                0   \n",
       "10                      46                2                1   \n",
       "14                       8                1                1   \n",
       "15                      70                2                1   \n",
       "...                    ...              ...              ...   \n",
       "23867                    8                1                0   \n",
       "23869                   25                2                2   \n",
       "23885                   16                0                1   \n",
       "23908                   18                3                2   \n",
       "23909                    2                0                1   \n",
       "\n",
       "       home_team_goalkeeper_score  away_team_goalkeeper_score  \\\n",
       "1                       85.941860                   79.248175   \n",
       "2                       71.275510                   67.595745   \n",
       "10                      78.088710                   71.726190   \n",
       "14                      79.368421                   86.369128   \n",
       "15                      80.490566                   69.581395   \n",
       "...                           ...                         ...   \n",
       "23867                   85.000000                   82.000000   \n",
       "23869                   91.000000                   80.000000   \n",
       "23885                   87.000000                   82.000000   \n",
       "23908                   81.000000                   74.000000   \n",
       "23909                   87.000000                   89.000000   \n",
       "\n",
       "       home_team_mean_defense_score  home_team_mean_offense_score  \\\n",
       "1                         85.902907                     86.538372   \n",
       "2                         70.599091                     75.413265   \n",
       "10                        72.558065                     74.718548   \n",
       "14                        79.753509                     83.721053   \n",
       "15                        82.635220                     88.293082   \n",
       "...                             ...                           ...   \n",
       "23867                     78.500000                     76.700000   \n",
       "23869                     73.000000                     77.000000   \n",
       "23885                     84.200000                     88.300000   \n",
       "23908                     85.200000                     83.000000   \n",
       "23909                     75.200000                     84.700000   \n",
       "\n",
       "       home_team_mean_midfield_score  away_team_mean_defense_score  \\\n",
       "1                          85.355233                     76.813139   \n",
       "2                          75.042857                     72.443243   \n",
       "10                         74.060484                     68.810714   \n",
       "14                         78.356140                     86.066443   \n",
       "15                         84.132704                     70.993878   \n",
       "...                              ...                           ...   \n",
       "23867                      79.500000                     85.200000   \n",
       "23869                      76.200000                     75.800000   \n",
       "23885                      86.800000                     77.800000   \n",
       "23908                      83.500000                     75.000000   \n",
       "23909                      75.800000                     80.800000   \n",
       "\n",
       "       away_team_mean_offense_score  away_team_mean_midfield_score  result  \n",
       "1                         79.659854                      77.708759       1  \n",
       "2                         74.760000                      73.500000       3  \n",
       "10                        71.543210                      72.527381       3  \n",
       "14                        86.607383                      85.288591       1  \n",
       "15                        76.436735                      73.813636       3  \n",
       "...                             ...                            ...     ...  \n",
       "23867                     86.000000                      84.500000       3  \n",
       "23869                     80.300000                      81.800000       1  \n",
       "23885                     76.700000                      84.200000       0  \n",
       "23908                     73.000000                      78.500000       3  \n",
       "23909                     85.700000                      85.500000       0  \n",
       "\n",
       "[10078 rows x 16 columns]"
      ]
     },
     "execution_count": 89,
     "metadata": {},
     "output_type": "execute_result"
    }
   ],
   "source": [
    "df"
   ]
  },
  {
   "cell_type": "code",
   "execution_count": null,
   "id": "269c891c-8cf1-4c67-bb99-9a0a9dde54a2",
   "metadata": {},
   "outputs": [],
   "source": []
  }
 ],
 "metadata": {
  "kernelspec": {
   "display_name": "Python 3 (ipykernel)",
   "language": "python",
   "name": "python3"
  },
  "language_info": {
   "codemirror_mode": {
    "name": "ipython",
    "version": 3
   },
   "file_extension": ".py",
   "mimetype": "text/x-python",
   "name": "python",
   "nbconvert_exporter": "python",
   "pygments_lexer": "ipython3",
   "version": "3.10.4"
  }
 },
 "nbformat": 4,
 "nbformat_minor": 5
}
