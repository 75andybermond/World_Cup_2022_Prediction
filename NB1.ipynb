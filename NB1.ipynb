{
 "cells": [
  {
   "cell_type": "code",
   "execution_count": 56,
   "id": "cfb52a1c-3f83-428c-b2af-f9bda6985599",
   "metadata": {},
   "outputs": [],
   "source": [
    "import pandas as pd \n",
    "import seaborn as sns\n",
    "import numpy as np\n",
    "from sklearn import preprocessing\n",
    "import matplotlib.pyplot as plt\n",
    "\n",
    "#https://www.kaggle.com/datasets/brenda89/fifa-world-cup-2022\n"
   ]
  },
  {
   "cell_type": "markdown",
   "id": "5f73ecde-d735-4cff-8de5-096cc920356d",
   "metadata": {},
   "source": [
    "# Loading international- matches dataset "
   ]
  },
  {
   "cell_type": "code",
   "execution_count": 57,
   "id": "c2b4762c-2ac5-4980-9cd6-81574bbdf40c",
   "metadata": {},
   "outputs": [
    {
     "name": "stderr",
     "output_type": "stream",
     "text": [
      "C:\\Users\\utilisateur\\AppData\\Local\\Temp\\ipykernel_8976\\1141665387.py:2: DtypeWarning: Columns (25,108) have mixed types. Specify dtype option on import or set low_memory=False.\n",
      "  df1 = pd.read_csv('players_22.csv')\n"
     ]
    }
   ],
   "source": [
    "df = pd.read_csv('international_matches.csv')\n",
    "df1 = pd.read_csv('players_22.csv')"
   ]
  },
  {
   "cell_type": "markdown",
   "id": "d91f3aa7-db42-457d-9ebe-7224b9923342",
   "metadata": {},
   "source": [
    "## Analyzing dataset types / counting "
   ]
  },
  {
   "cell_type": "code",
   "execution_count": 58,
   "id": "2501b7c3-b83e-481a-ae75-562c79af4ba2",
   "metadata": {},
   "outputs": [
    {
     "data": {
      "text/plain": [
       "date                              object\n",
       "home_team                         object\n",
       "away_team                         object\n",
       "home_team_continent               object\n",
       "away_team_continent               object\n",
       "home_team_fifa_rank                int64\n",
       "away_team_fifa_rank                int64\n",
       "home_team_total_fifa_points        int64\n",
       "away_team_total_fifa_points        int64\n",
       "home_team_score                    int64\n",
       "away_team_score                    int64\n",
       "tournament                        object\n",
       "city                              object\n",
       "country                           object\n",
       "neutral_location                    bool\n",
       "shoot_out                         object\n",
       "home_team_result                  object\n",
       "home_team_goalkeeper_score       float64\n",
       "away_team_goalkeeper_score       float64\n",
       "home_team_mean_defense_score     float64\n",
       "home_team_mean_offense_score     float64\n",
       "home_team_mean_midfield_score    float64\n",
       "away_team_mean_defense_score     float64\n",
       "away_team_mean_offense_score     float64\n",
       "away_team_mean_midfield_score    float64\n",
       "dtype: object"
      ]
     },
     "execution_count": 58,
     "metadata": {},
     "output_type": "execute_result"
    }
   ],
   "source": [
    "df.dtypes"
   ]
  },
  {
   "cell_type": "code",
   "execution_count": 59,
   "id": "6719000b-a66a-4c4f-a1d0-acdcbecb9f32",
   "metadata": {},
   "outputs": [
    {
     "data": {
      "text/plain": [
       "home_team\n",
       "Afghanistan        36\n",
       "Albania           131\n",
       "Algeria           159\n",
       "American Samoa     17\n",
       "Andorra            97\n",
       "                 ... \n",
       "Vietnam           120\n",
       "Wales             129\n",
       "Yemen              87\n",
       "Zambia            180\n",
       "Zimbabwe          135\n",
       "Name: date, Length: 211, dtype: int64"
      ]
     },
     "execution_count": 59,
     "metadata": {},
     "output_type": "execute_result"
    }
   ],
   "source": [
    "countries = df.groupby('home_team')['date'].count()\n",
    "countries"
   ]
  },
  {
   "cell_type": "code",
   "execution_count": 60,
   "id": "7b1111d3-6261-49a8-a7c8-7b6435794db9",
   "metadata": {},
   "outputs": [
    {
     "data": {
      "text/plain": [
       "Mexico                      316\n",
       "USA                         314\n",
       "Japan                       280\n",
       "Saudi Arabia                272\n",
       "Korea Republic              249\n",
       "                           ... \n",
       "Timor-Leste                  16\n",
       "Tonga                        15\n",
       "Anguilla                     13\n",
       "Cook Islands                 10\n",
       "Turks and Caicos Islands      8\n",
       "Name: home_team, Length: 211, dtype: int64"
      ]
     },
     "execution_count": 60,
     "metadata": {},
     "output_type": "execute_result"
    }
   ],
   "source": [
    "df.home_team.value_counts()"
   ]
  },
  {
   "cell_type": "code",
   "execution_count": 61,
   "id": "262c4a5a-1dfa-4597-bc4a-d481c62e9f3b",
   "metadata": {},
   "outputs": [
    {
     "data": {
      "text/plain": [
       "Zambia                      243\n",
       "Costa Rica                  217\n",
       "Paraguay                    216\n",
       "Sweden                      206\n",
       "Mexico                      201\n",
       "                           ... \n",
       "Bahamas                      20\n",
       "Turks and Caicos Islands     18\n",
       "Montserrat                   18\n",
       "American Samoa               14\n",
       "Samoa                        14\n",
       "Name: away_team, Length: 211, dtype: int64"
      ]
     },
     "execution_count": 61,
     "metadata": {},
     "output_type": "execute_result"
    }
   ],
   "source": [
    "df.away_team.value_counts()"
   ]
  },
  {
   "cell_type": "markdown",
   "id": "3f026c00-2fe2-4348-82ac-c202cc74761a",
   "metadata": {},
   "source": [
    "# Filtering qualified countries "
   ]
  },
  {
   "cell_type": "markdown",
   "id": "2fbeee96-909a-4220-a4f3-faadae2e13bb",
   "metadata": {},
   "source": [
    "\n",
    "\n",
    "* Only 31 teams qualified \n",
    "* Filtering for away and home team "
   ]
  },
  {
   "cell_type": "code",
   "execution_count": 62,
   "id": "344d063b-db9d-4dbf-a56a-e5a81d09df70",
   "metadata": {},
   "outputs": [],
   "source": [
    "filtercountry = \"Qatar\" ,\"Ecuador\", \"Senegal\", \"Netherlands\" ,\"England\", \"Iran\" , \"USA\" , \"Wales\",  \"Argentina\" , \"Saudi Arabia\",  \"Mexico\", \"Poland\",  \"France\" ,\"Australia\", \"Denmark\" ,\"Tunisia\" , \"Spain\" , \"Costa Rica\",  \"Germany\", \"Japan\" , \"Belgium\",  \"Canada\",  \"Morocco\",  \"Croatia\",  \"Brazil\",  \"Serbia\",  \"Switzerland\",  \"Cameroon\",  \"Portugal\",  \"Ghana\",  \"Uruguay\", \"Korea Republic\""
   ]
  },
  {
   "cell_type": "code",
   "execution_count": 63,
   "id": "0359f19b-3838-42fd-8082-5d3e5557ea38",
   "metadata": {},
   "outputs": [
    {
     "data": {
      "text/html": [
       "<div>\n",
       "<style scoped>\n",
       "    .dataframe tbody tr th:only-of-type {\n",
       "        vertical-align: middle;\n",
       "    }\n",
       "\n",
       "    .dataframe tbody tr th {\n",
       "        vertical-align: top;\n",
       "    }\n",
       "\n",
       "    .dataframe thead th {\n",
       "        text-align: right;\n",
       "    }\n",
       "</style>\n",
       "<table border=\"1\" class=\"dataframe\">\n",
       "  <thead>\n",
       "    <tr style=\"text-align: right;\">\n",
       "      <th></th>\n",
       "      <th>date</th>\n",
       "      <th>home_team</th>\n",
       "      <th>away_team</th>\n",
       "      <th>home_team_continent</th>\n",
       "      <th>away_team_continent</th>\n",
       "      <th>home_team_fifa_rank</th>\n",
       "      <th>away_team_fifa_rank</th>\n",
       "      <th>home_team_total_fifa_points</th>\n",
       "      <th>away_team_total_fifa_points</th>\n",
       "      <th>home_team_score</th>\n",
       "      <th>...</th>\n",
       "      <th>shoot_out</th>\n",
       "      <th>home_team_result</th>\n",
       "      <th>home_team_goalkeeper_score</th>\n",
       "      <th>away_team_goalkeeper_score</th>\n",
       "      <th>home_team_mean_defense_score</th>\n",
       "      <th>home_team_mean_offense_score</th>\n",
       "      <th>home_team_mean_midfield_score</th>\n",
       "      <th>away_team_mean_defense_score</th>\n",
       "      <th>away_team_mean_offense_score</th>\n",
       "      <th>away_team_mean_midfield_score</th>\n",
       "    </tr>\n",
       "  </thead>\n",
       "  <tbody>\n",
       "    <tr>\n",
       "      <th>188</th>\n",
       "      <td>1994-01-25</td>\n",
       "      <td>Qatar</td>\n",
       "      <td>Finland</td>\n",
       "      <td>Asia</td>\n",
       "      <td>Europe</td>\n",
       "      <td>54</td>\n",
       "      <td>45</td>\n",
       "      <td>0</td>\n",
       "      <td>0</td>\n",
       "      <td>1</td>\n",
       "      <td>...</td>\n",
       "      <td>No</td>\n",
       "      <td>Win</td>\n",
       "      <td>NaN</td>\n",
       "      <td>NaN</td>\n",
       "      <td>NaN</td>\n",
       "      <td>NaN</td>\n",
       "      <td>NaN</td>\n",
       "      <td>NaN</td>\n",
       "      <td>NaN</td>\n",
       "      <td>NaN</td>\n",
       "    </tr>\n",
       "    <tr>\n",
       "      <th>192</th>\n",
       "      <td>1994-01-27</td>\n",
       "      <td>Qatar</td>\n",
       "      <td>Finland</td>\n",
       "      <td>Asia</td>\n",
       "      <td>Europe</td>\n",
       "      <td>54</td>\n",
       "      <td>45</td>\n",
       "      <td>0</td>\n",
       "      <td>0</td>\n",
       "      <td>0</td>\n",
       "      <td>...</td>\n",
       "      <td>No</td>\n",
       "      <td>Draw</td>\n",
       "      <td>NaN</td>\n",
       "      <td>NaN</td>\n",
       "      <td>NaN</td>\n",
       "      <td>NaN</td>\n",
       "      <td>NaN</td>\n",
       "      <td>NaN</td>\n",
       "      <td>NaN</td>\n",
       "      <td>NaN</td>\n",
       "    </tr>\n",
       "    <tr>\n",
       "      <th>508</th>\n",
       "      <td>1994-09-10</td>\n",
       "      <td>Qatar</td>\n",
       "      <td>Oman</td>\n",
       "      <td>Asia</td>\n",
       "      <td>Asia</td>\n",
       "      <td>67</td>\n",
       "      <td>77</td>\n",
       "      <td>0</td>\n",
       "      <td>0</td>\n",
       "      <td>0</td>\n",
       "      <td>...</td>\n",
       "      <td>No</td>\n",
       "      <td>Lose</td>\n",
       "      <td>NaN</td>\n",
       "      <td>NaN</td>\n",
       "      <td>NaN</td>\n",
       "      <td>NaN</td>\n",
       "      <td>NaN</td>\n",
       "      <td>NaN</td>\n",
       "      <td>NaN</td>\n",
       "      <td>NaN</td>\n",
       "    </tr>\n",
       "    <tr>\n",
       "      <th>515</th>\n",
       "      <td>1994-09-16</td>\n",
       "      <td>Qatar</td>\n",
       "      <td>Yemen</td>\n",
       "      <td>Asia</td>\n",
       "      <td>Asia</td>\n",
       "      <td>71</td>\n",
       "      <td>109</td>\n",
       "      <td>0</td>\n",
       "      <td>0</td>\n",
       "      <td>2</td>\n",
       "      <td>...</td>\n",
       "      <td>No</td>\n",
       "      <td>Win</td>\n",
       "      <td>NaN</td>\n",
       "      <td>NaN</td>\n",
       "      <td>NaN</td>\n",
       "      <td>NaN</td>\n",
       "      <td>NaN</td>\n",
       "      <td>NaN</td>\n",
       "      <td>NaN</td>\n",
       "      <td>NaN</td>\n",
       "    </tr>\n",
       "    <tr>\n",
       "      <th>577</th>\n",
       "      <td>1994-11-09</td>\n",
       "      <td>Qatar</td>\n",
       "      <td>Oman</td>\n",
       "      <td>Asia</td>\n",
       "      <td>Asia</td>\n",
       "      <td>60</td>\n",
       "      <td>65</td>\n",
       "      <td>0</td>\n",
       "      <td>0</td>\n",
       "      <td>4</td>\n",
       "      <td>...</td>\n",
       "      <td>No</td>\n",
       "      <td>Win</td>\n",
       "      <td>NaN</td>\n",
       "      <td>NaN</td>\n",
       "      <td>NaN</td>\n",
       "      <td>NaN</td>\n",
       "      <td>NaN</td>\n",
       "      <td>NaN</td>\n",
       "      <td>NaN</td>\n",
       "      <td>NaN</td>\n",
       "    </tr>\n",
       "    <tr>\n",
       "      <th>...</th>\n",
       "      <td>...</td>\n",
       "      <td>...</td>\n",
       "      <td>...</td>\n",
       "      <td>...</td>\n",
       "      <td>...</td>\n",
       "      <td>...</td>\n",
       "      <td>...</td>\n",
       "      <td>...</td>\n",
       "      <td>...</td>\n",
       "      <td>...</td>\n",
       "      <td>...</td>\n",
       "      <td>...</td>\n",
       "      <td>...</td>\n",
       "      <td>...</td>\n",
       "      <td>...</td>\n",
       "      <td>...</td>\n",
       "      <td>...</td>\n",
       "      <td>...</td>\n",
       "      <td>...</td>\n",
       "      <td>...</td>\n",
       "      <td>...</td>\n",
       "    </tr>\n",
       "    <tr>\n",
       "      <th>23338</th>\n",
       "      <td>2021-12-10</td>\n",
       "      <td>Qatar</td>\n",
       "      <td>United Arab Emirates</td>\n",
       "      <td>Asia</td>\n",
       "      <td>Asia</td>\n",
       "      <td>51</td>\n",
       "      <td>70</td>\n",
       "      <td>1431</td>\n",
       "      <td>1350</td>\n",
       "      <td>5</td>\n",
       "      <td>...</td>\n",
       "      <td>No</td>\n",
       "      <td>Win</td>\n",
       "      <td>NaN</td>\n",
       "      <td>70.0</td>\n",
       "      <td>NaN</td>\n",
       "      <td>NaN</td>\n",
       "      <td>NaN</td>\n",
       "      <td>63.0</td>\n",
       "      <td>64.3</td>\n",
       "      <td>67.0</td>\n",
       "    </tr>\n",
       "    <tr>\n",
       "      <th>23343</th>\n",
       "      <td>2021-12-15</td>\n",
       "      <td>Qatar</td>\n",
       "      <td>Algeria</td>\n",
       "      <td>Asia</td>\n",
       "      <td>Africa</td>\n",
       "      <td>51</td>\n",
       "      <td>32</td>\n",
       "      <td>1431</td>\n",
       "      <td>1508</td>\n",
       "      <td>1</td>\n",
       "      <td>...</td>\n",
       "      <td>No</td>\n",
       "      <td>Lose</td>\n",
       "      <td>NaN</td>\n",
       "      <td>78.0</td>\n",
       "      <td>NaN</td>\n",
       "      <td>NaN</td>\n",
       "      <td>NaN</td>\n",
       "      <td>78.0</td>\n",
       "      <td>81.0</td>\n",
       "      <td>78.0</td>\n",
       "    </tr>\n",
       "    <tr>\n",
       "      <th>23344</th>\n",
       "      <td>2021-12-18</td>\n",
       "      <td>Qatar</td>\n",
       "      <td>Egypt</td>\n",
       "      <td>Asia</td>\n",
       "      <td>Africa</td>\n",
       "      <td>51</td>\n",
       "      <td>45</td>\n",
       "      <td>1431</td>\n",
       "      <td>1449</td>\n",
       "      <td>0</td>\n",
       "      <td>...</td>\n",
       "      <td>Yes</td>\n",
       "      <td>Win</td>\n",
       "      <td>NaN</td>\n",
       "      <td>NaN</td>\n",
       "      <td>NaN</td>\n",
       "      <td>NaN</td>\n",
       "      <td>NaN</td>\n",
       "      <td>NaN</td>\n",
       "      <td>79.3</td>\n",
       "      <td>70.8</td>\n",
       "    </tr>\n",
       "    <tr>\n",
       "      <th>23550</th>\n",
       "      <td>2022-03-26</td>\n",
       "      <td>Qatar</td>\n",
       "      <td>Bulgaria</td>\n",
       "      <td>Asia</td>\n",
       "      <td>Europe</td>\n",
       "      <td>52</td>\n",
       "      <td>71</td>\n",
       "      <td>1437</td>\n",
       "      <td>1345</td>\n",
       "      <td>2</td>\n",
       "      <td>...</td>\n",
       "      <td>No</td>\n",
       "      <td>Win</td>\n",
       "      <td>NaN</td>\n",
       "      <td>66.0</td>\n",
       "      <td>NaN</td>\n",
       "      <td>NaN</td>\n",
       "      <td>NaN</td>\n",
       "      <td>67.2</td>\n",
       "      <td>64.3</td>\n",
       "      <td>64.5</td>\n",
       "    </tr>\n",
       "    <tr>\n",
       "      <th>23615</th>\n",
       "      <td>2022-03-29</td>\n",
       "      <td>Qatar</td>\n",
       "      <td>Slovenia</td>\n",
       "      <td>Asia</td>\n",
       "      <td>Europe</td>\n",
       "      <td>52</td>\n",
       "      <td>64</td>\n",
       "      <td>1437</td>\n",
       "      <td>1375</td>\n",
       "      <td>0</td>\n",
       "      <td>...</td>\n",
       "      <td>No</td>\n",
       "      <td>Draw</td>\n",
       "      <td>NaN</td>\n",
       "      <td>91.0</td>\n",
       "      <td>NaN</td>\n",
       "      <td>NaN</td>\n",
       "      <td>NaN</td>\n",
       "      <td>73.0</td>\n",
       "      <td>77.0</td>\n",
       "      <td>76.2</td>\n",
       "    </tr>\n",
       "  </tbody>\n",
       "</table>\n",
       "<p>249 rows × 25 columns</p>\n",
       "</div>"
      ],
      "text/plain": [
       "             date home_team             away_team home_team_continent  \\\n",
       "188    1994-01-25     Qatar               Finland                Asia   \n",
       "192    1994-01-27     Qatar               Finland                Asia   \n",
       "508    1994-09-10     Qatar                  Oman                Asia   \n",
       "515    1994-09-16     Qatar                 Yemen                Asia   \n",
       "577    1994-11-09     Qatar                  Oman                Asia   \n",
       "...           ...       ...                   ...                 ...   \n",
       "23338  2021-12-10     Qatar  United Arab Emirates                Asia   \n",
       "23343  2021-12-15     Qatar               Algeria                Asia   \n",
       "23344  2021-12-18     Qatar                 Egypt                Asia   \n",
       "23550  2022-03-26     Qatar              Bulgaria                Asia   \n",
       "23615  2022-03-29     Qatar              Slovenia                Asia   \n",
       "\n",
       "      away_team_continent  home_team_fifa_rank  away_team_fifa_rank  \\\n",
       "188                Europe                   54                   45   \n",
       "192                Europe                   54                   45   \n",
       "508                  Asia                   67                   77   \n",
       "515                  Asia                   71                  109   \n",
       "577                  Asia                   60                   65   \n",
       "...                   ...                  ...                  ...   \n",
       "23338                Asia                   51                   70   \n",
       "23343              Africa                   51                   32   \n",
       "23344              Africa                   51                   45   \n",
       "23550              Europe                   52                   71   \n",
       "23615              Europe                   52                   64   \n",
       "\n",
       "       home_team_total_fifa_points  away_team_total_fifa_points  \\\n",
       "188                              0                            0   \n",
       "192                              0                            0   \n",
       "508                              0                            0   \n",
       "515                              0                            0   \n",
       "577                              0                            0   \n",
       "...                            ...                          ...   \n",
       "23338                         1431                         1350   \n",
       "23343                         1431                         1508   \n",
       "23344                         1431                         1449   \n",
       "23550                         1437                         1345   \n",
       "23615                         1437                         1375   \n",
       "\n",
       "       home_team_score  ...  shoot_out home_team_result  \\\n",
       "188                  1  ...         No              Win   \n",
       "192                  0  ...         No             Draw   \n",
       "508                  0  ...         No             Lose   \n",
       "515                  2  ...         No              Win   \n",
       "577                  4  ...         No              Win   \n",
       "...                ...  ...        ...              ...   \n",
       "23338                5  ...         No              Win   \n",
       "23343                1  ...         No             Lose   \n",
       "23344                0  ...        Yes              Win   \n",
       "23550                2  ...         No              Win   \n",
       "23615                0  ...         No             Draw   \n",
       "\n",
       "      home_team_goalkeeper_score away_team_goalkeeper_score  \\\n",
       "188                          NaN                        NaN   \n",
       "192                          NaN                        NaN   \n",
       "508                          NaN                        NaN   \n",
       "515                          NaN                        NaN   \n",
       "577                          NaN                        NaN   \n",
       "...                          ...                        ...   \n",
       "23338                        NaN                       70.0   \n",
       "23343                        NaN                       78.0   \n",
       "23344                        NaN                        NaN   \n",
       "23550                        NaN                       66.0   \n",
       "23615                        NaN                       91.0   \n",
       "\n",
       "       home_team_mean_defense_score home_team_mean_offense_score  \\\n",
       "188                             NaN                          NaN   \n",
       "192                             NaN                          NaN   \n",
       "508                             NaN                          NaN   \n",
       "515                             NaN                          NaN   \n",
       "577                             NaN                          NaN   \n",
       "...                             ...                          ...   \n",
       "23338                           NaN                          NaN   \n",
       "23343                           NaN                          NaN   \n",
       "23344                           NaN                          NaN   \n",
       "23550                           NaN                          NaN   \n",
       "23615                           NaN                          NaN   \n",
       "\n",
       "      home_team_mean_midfield_score  away_team_mean_defense_score  \\\n",
       "188                             NaN                           NaN   \n",
       "192                             NaN                           NaN   \n",
       "508                             NaN                           NaN   \n",
       "515                             NaN                           NaN   \n",
       "577                             NaN                           NaN   \n",
       "...                             ...                           ...   \n",
       "23338                           NaN                          63.0   \n",
       "23343                           NaN                          78.0   \n",
       "23344                           NaN                           NaN   \n",
       "23550                           NaN                          67.2   \n",
       "23615                           NaN                          73.0   \n",
       "\n",
       "       away_team_mean_offense_score  away_team_mean_midfield_score  \n",
       "188                             NaN                            NaN  \n",
       "192                             NaN                            NaN  \n",
       "508                             NaN                            NaN  \n",
       "515                             NaN                            NaN  \n",
       "577                             NaN                            NaN  \n",
       "...                             ...                            ...  \n",
       "23338                          64.3                           67.0  \n",
       "23343                          81.0                           78.0  \n",
       "23344                          79.3                           70.8  \n",
       "23550                          64.3                           64.5  \n",
       "23615                          77.0                           76.2  \n",
       "\n",
       "[249 rows x 25 columns]"
      ]
     },
     "execution_count": 63,
     "metadata": {},
     "output_type": "execute_result"
    }
   ],
   "source": [
    "df.loc[(df['home_team'] == 'Qatar' )] # test for checking each countries "
   ]
  },
  {
   "cell_type": "markdown",
   "id": "b2798e9d-902e-440b-b3b5-7448449ca1c6",
   "metadata": {},
   "source": [
    "## Concat 2 datasets created qualified teams\n"
   ]
  },
  {
   "cell_type": "code",
   "execution_count": 64,
   "id": "45cea64d-09ea-4140-aa85-f95951b1526e",
   "metadata": {},
   "outputs": [
    {
     "data": {
      "text/plain": [
       "date                             10930\n",
       "home_team                        10930\n",
       "away_team                        10930\n",
       "home_team_continent              10930\n",
       "away_team_continent              10930\n",
       "home_team_fifa_rank              10930\n",
       "away_team_fifa_rank              10930\n",
       "home_team_total_fifa_points      10930\n",
       "away_team_total_fifa_points      10930\n",
       "home_team_score                  10930\n",
       "away_team_score                  10930\n",
       "tournament                       10930\n",
       "city                             10930\n",
       "country                          10930\n",
       "neutral_location                 10930\n",
       "shoot_out                        10930\n",
       "home_team_result                 10930\n",
       "home_team_goalkeeper_score        5648\n",
       "away_team_goalkeeper_score        5531\n",
       "home_team_mean_defense_score      5645\n",
       "home_team_mean_offense_score      5805\n",
       "home_team_mean_midfield_score     5755\n",
       "away_team_mean_defense_score      5541\n",
       "away_team_mean_offense_score      5709\n",
       "away_team_mean_midfield_score     5650\n",
       "dtype: int64"
      ]
     },
     "execution_count": 64,
     "metadata": {},
     "output_type": "execute_result"
    }
   ],
   "source": [
    "dfhome = df[df['home_team'].isin(filtercountry)]\n",
    "dfaway = df[df['away_team'].isin(filtercountry)]\n",
    "newdf = pd.concat((dfhome, dfaway))\n",
    "newdf.drop_duplicates()\n",
    "newdf.count()"
   ]
  },
  {
   "cell_type": "code",
   "execution_count": 65,
   "id": "e55278e4-69e5-42d9-a994-9c4889b0966f",
   "metadata": {},
   "outputs": [
    {
     "data": {
      "text/plain": [
       "tournament\n",
       "AFC Asian Cup                    12\n",
       "AFC Asian Cup qualification      16\n",
       "Arab Cup                         11\n",
       "Copa América                      2\n",
       "FIFA World Cup qualification     55\n",
       "Friendly                        137\n",
       "Gold Cup                          2\n",
       "Gulf Cup                         31\n",
       "King's Cup                        3\n",
       "WAFF Championship                 5\n",
       "Name: date, dtype: int64"
      ]
     },
     "execution_count": 65,
     "metadata": {},
     "output_type": "execute_result"
    }
   ],
   "source": [
    "#newdf.groupby('home_team')['date'].count()\n",
    "qa = newdf.loc[(df['home_team'] == 'Qatar' )]\n",
    "qa.groupby([\"tournament\"])[\"date\"].count()\n"
   ]
  },
  {
   "cell_type": "markdown",
   "id": "73d19430-0e67-4771-9f0c-c5a59c3e66b1",
   "metadata": {},
   "source": [
    "# Filtering important competitions \n",
    "* Get only FIFA and UEFA competitions"
   ]
  },
  {
   "cell_type": "code",
   "execution_count": 66,
   "id": "c14ebcd8-699f-4f00-8255-2e1f47a40d45",
   "metadata": {},
   "outputs": [
    {
     "data": {
      "text/plain": [
       "tournament\n",
       "AFC Asian Cup                                  152\n",
       "AFC Asian Cup qualification                     88\n",
       "African Cup of Nations                         273\n",
       "African Cup of Nations qualification           262\n",
       "African Nations Championship                    58\n",
       "African Nations Championship qualification      10\n",
       "Amílcar Cabral Cup                              17\n",
       "Arab Cup                                        35\n",
       "CONCACAF Nations League                         29\n",
       "CONCACAF Nations League qualification            3\n",
       "CONMEBOL–UEFA Cup of Champions                   1\n",
       "COSAFA Cup                                       8\n",
       "Confederations Cup                             194\n",
       "Copa América                                   286\n",
       "Copa Confraternidad                              2\n",
       "Cyprus International Tournament                  9\n",
       "Dynasty Cup                                     14\n",
       "EAFF Championship                               54\n",
       "FIFA World Cup                                 581\n",
       "FIFA World Cup qualification                  2542\n",
       "Friendly                                      4360\n",
       "Gold Cup                                       253\n",
       "Gold Cup qualification                           3\n",
       "Gulf Cup                                       115\n",
       "King Hassan II Tournament                       18\n",
       "King's Cup                                      21\n",
       "Kirin Challenge Cup                             25\n",
       "Kirin Cup                                       54\n",
       "Korea Cup                                       20\n",
       "Lunar New Year Cup                              17\n",
       "Malta International Tournament                   2\n",
       "Nations Cup                                      3\n",
       "Nehru Cup                                        7\n",
       "Nordic Championship                              1\n",
       "OSN Cup                                          2\n",
       "Oceania Nations Cup                             18\n",
       "Simba Tournament                                11\n",
       "Superclásico de las Américas                    16\n",
       "Tournoi de France                                9\n",
       "UEFA Euro                                      280\n",
       "UEFA Euro qualification                        776\n",
       "UEFA Nations League                            198\n",
       "UNCAF Cup                                       48\n",
       "USA Cup                                         26\n",
       "United Arab Emirates Friendship Tournament      17\n",
       "WAFF Championship                               12\n",
       "Name: date, dtype: int64"
      ]
     },
     "execution_count": 66,
     "metadata": {},
     "output_type": "execute_result"
    }
   ],
   "source": [
    "newdf.groupby('tournament')['date'].count() # Checking all the competitions played "
   ]
  },
  {
   "cell_type": "code",
   "execution_count": 67,
   "id": "3d1b8890-202a-441e-8902-6b17cc80add0",
   "metadata": {},
   "outputs": [],
   "source": [
    "filtertournament = \"AFC Asian Cup\", \"AFC Asian Cup qualification \", \"African Cup of Nations\", \"Friendly\", \"African Cup of Nations qualification\", \"African Nations Championship\", \"African Nations Championship qualification\",\"Copa América\", \"FIFA World Cup\", \"FIFA World Cup qualification\", \"UEFA Euro\", \"UEFA Euro qualification\", \"UEFA Nations League\"\n",
    "# Selecting only the main competitions \n",
    "newdf = newdf.query('tournament in @filtertournament')"
   ]
  },
  {
   "cell_type": "code",
   "execution_count": 68,
   "id": "23db7c93-d9c0-461b-b9e3-60554be0a2c8",
   "metadata": {},
   "outputs": [
    {
     "data": {
      "text/plain": [
       "shoot_out\n",
       "No     9641\n",
       "Yes     137\n",
       "Name: date, dtype: int64"
      ]
     },
     "execution_count": 68,
     "metadata": {},
     "output_type": "execute_result"
    }
   ],
   "source": [
    "newdf.groupby('shoot_out')['date'].count() # Does the match include a penaly or not "
   ]
  },
  {
   "cell_type": "code",
   "execution_count": 69,
   "id": "f6297913-5413-415b-bfd1-eaae27d5fb82",
   "metadata": {},
   "outputs": [
    {
     "data": {
      "text/plain": [
       "home_team\n",
       "Mexico             342\n",
       "USA                311\n",
       "Germany            298\n",
       "France             297\n",
       "Brazil             294\n",
       "                  ... \n",
       "Solomon Islands      1\n",
       "Chinese Taipei       1\n",
       "Chad                 1\n",
       "Suriname             1\n",
       "Djibouti             1\n",
       "Name: home_team_result, Length: 187, dtype: int64"
      ]
     },
     "execution_count": 69,
     "metadata": {},
     "output_type": "execute_result"
    }
   ],
   "source": [
    "newdf.groupby('home_team')['home_team_result'].count().sort_values(ascending=False)"
   ]
  },
  {
   "cell_type": "markdown",
   "id": "1ddedb2e-0530-4dc0-8740-e0ae731de654",
   "metadata": {},
   "source": [
    "# Filling Nan values (a lot of process) \n",
    "\n",
    "*  Identify columns with Nan \n",
    "* '[home_team_goalkeeper_score', 'away_team_goalkeeper_score',\n",
    "       'home_team_mean_defense_score', 'home_team_mean_offense_score',\n",
    "       'home_team_mean_midfield_score', 'away_team_mean_defense_score',\n",
    "       'away_team_mean_offense_score', 'away_team_mean_midfield_score']"
   ]
  },
  {
   "cell_type": "code",
   "execution_count": 70,
   "id": "26642036-bae7-4f9c-a9fb-fe841036ff1a",
   "metadata": {},
   "outputs": [
    {
     "data": {
      "text/plain": [
       "date                                0\n",
       "home_team                           0\n",
       "away_team                           0\n",
       "home_team_continent                 0\n",
       "away_team_continent                 0\n",
       "home_team_fifa_rank                 0\n",
       "away_team_fifa_rank                 0\n",
       "home_team_total_fifa_points         0\n",
       "away_team_total_fifa_points         0\n",
       "home_team_score                     0\n",
       "away_team_score                     0\n",
       "tournament                          0\n",
       "city                                0\n",
       "country                             0\n",
       "neutral_location                    0\n",
       "shoot_out                           0\n",
       "home_team_result                    0\n",
       "home_team_goalkeeper_score       4530\n",
       "away_team_goalkeeper_score       4618\n",
       "home_team_mean_defense_score     4539\n",
       "home_team_mean_offense_score     4408\n",
       "home_team_mean_midfield_score    4460\n",
       "away_team_mean_defense_score     4605\n",
       "away_team_mean_offense_score     4454\n",
       "away_team_mean_midfield_score    4515\n",
       "dtype: int64"
      ]
     },
     "execution_count": 70,
     "metadata": {},
     "output_type": "execute_result"
    }
   ],
   "source": [
    "newdf.isnull().sum()"
   ]
  },
  {
   "cell_type": "markdown",
   "id": "e705e28e-11a1-4122-b433-aa2cb11ea93f",
   "metadata": {},
   "source": [
    "## Filling columns by columns\n",
    "* Filling Nan with the mean of the column and the country that it belongs to \n",
    "* Filling missing Nan in the Qatar team"
   ]
  },
  {
   "cell_type": "code",
   "execution_count": 71,
   "id": "acca4510-c2d5-413e-b95f-545dca4580ee",
   "metadata": {},
   "outputs": [],
   "source": [
    "\n",
    "newdf['home_team_goalkeeper_score'] = newdf['home_team_goalkeeper_score'].fillna(newdf.groupby('home_team')['home_team_goalkeeper_score'].transform('mean'))\n",
    "\n",
    "newdf['away_team_goalkeeper_score'] = newdf['away_team_goalkeeper_score'].fillna(newdf.groupby('away_team')['away_team_goalkeeper_score'].transform('mean'))\n",
    "\n",
    "newdf['home_team_mean_defense_score'] = newdf['home_team_mean_defense_score'].fillna(newdf.groupby('home_team')['home_team_mean_defense_score'].transform('mean'))\n",
    "\n",
    "newdf['home_team_mean_offense_score'] = newdf['home_team_mean_offense_score'].fillna(newdf.groupby('home_team')['home_team_mean_offense_score'].transform('mean'))\n",
    "\n",
    "newdf['home_team_mean_midfield_score'] = newdf['home_team_mean_midfield_score'].fillna(newdf.groupby('home_team')['home_team_mean_midfield_score'].transform('mean'))\n",
    "\n",
    "newdf['away_team_mean_defense_score'] = newdf['away_team_mean_defense_score'].fillna(newdf.groupby('away_team')['away_team_mean_defense_score'].transform('mean'))\n",
    "\n",
    "newdf['away_team_mean_offense_score'] = newdf['away_team_mean_offense_score'].fillna(newdf.groupby('away_team')['away_team_mean_offense_score'].transform('mean'))\n",
    "\n",
    "newdf['away_team_mean_midfield_score'] = newdf['away_team_mean_midfield_score'].fillna(newdf.groupby('away_team')['away_team_mean_midfield_score'].transform('mean'))\n",
    "\n",
    "newdf = newdf.fillna(73.93)"
   ]
  },
  {
   "cell_type": "code",
   "execution_count": 72,
   "id": "422cef5d-a0fe-4a9f-94b2-3352fa06fab3",
   "metadata": {},
   "outputs": [],
   "source": [
    "#fifa rank delta of home and away team (higher values indicate that home team is stronger than away team)\n",
    "df['fifa_rank_delta'] = df['away_team_fifa_rank'] - df ['home_team_fifa_rank']\n",
    "\n",
    "#offense home team vs defense away team (higher values indicate that home team offense is stronger than away team defense)\n",
    "df['offense/defense_ratio'] = df['home_team_mean_offense_score'] / df['away_team_mean_defense_score']"
   ]
  },
  {
   "cell_type": "code",
   "execution_count": 73,
   "id": "238a1db8-9e38-448f-942b-b01adce20525",
   "metadata": {},
   "outputs": [
    {
     "data": {
      "text/plain": [
       "'qatar = newdf.loc[(newdf[\\'home_team\\'] == \\'Qatar\\' )]\\nqatar[\"home_team_goalkeeper_score\"] = qatar[\\'home_team_goalkeeper_score\\'].fillna(76.96)\\nqatar.away_team_goalkeeper_score = qatar.away_team_goalkeeper_score.fillna(69.63)\\nqatar.home_team_mean_defense_score = qatar.home_team_mean_defense_score.fillna(76.50)\\nqatar.home_team_mean_offense_score = qatar.home_team_mean_offense_score.fillna(77.81)\\nqatar.home_team_mean_midfield_score = qatar.home_team_mean_midfield_score.fillna(77.71)\\nqatar.away_team_mean_defense_score = qatar.away_team_mean_defense_score.fillna(70.71)\\nqatar.away_team_mean_offense_score  = qatar.away_team_mean_offense_score.fillna(70.70)\\nqatar.away_team_mean_midfield_score = qatar.away_team_mean_midfield_score.fillna(71.44)\\n'"
      ]
     },
     "execution_count": 73,
     "metadata": {},
     "output_type": "execute_result"
    }
   ],
   "source": [
    "\"\"\"qatar = newdf.loc[(newdf['home_team'] == 'Qatar' )]\n",
    "qatar[\"home_team_goalkeeper_score\"] = qatar['home_team_goalkeeper_score'].fillna(76.96)\n",
    "qatar.away_team_goalkeeper_score = qatar.away_team_goalkeeper_score.fillna(69.63)\n",
    "qatar.home_team_mean_defense_score = qatar.home_team_mean_defense_score.fillna(76.50)\n",
    "qatar.home_team_mean_offense_score = qatar.home_team_mean_offense_score.fillna(77.81)\n",
    "qatar.home_team_mean_midfield_score = qatar.home_team_mean_midfield_score.fillna(77.71)\n",
    "qatar.away_team_mean_defense_score = qatar.away_team_mean_defense_score.fillna(70.71)\n",
    "qatar.away_team_mean_offense_score  = qatar.away_team_mean_offense_score.fillna(70.70)\n",
    "qatar.away_team_mean_midfield_score = qatar.away_team_mean_midfield_score.fillna(71.44)\n",
    "\"\"\""
   ]
  },
  {
   "cell_type": "code",
   "execution_count": 74,
   "id": "564f6338-41d1-4569-b821-c971b9d25ab2",
   "metadata": {},
   "outputs": [],
   "source": [
    "#newdf.drop(newdf.loc[(newdf['home_team'] == 'Qatar' )], inplace=True, axis=1)\n",
    "#newdf = newdf.drop((['home_team'] == 'Qatar' ), axis=1)"
   ]
  },
  {
   "cell_type": "code",
   "execution_count": 75,
   "id": "41acb312-ecf4-4119-8aed-04f56bba78b2",
   "metadata": {},
   "outputs": [],
   "source": [
    "#newdf.drop(newdf.loc[(newdf['home_team'] == 'Qatar' ), axis=0])"
   ]
  },
  {
   "cell_type": "markdown",
   "id": "587d723b-750c-49ff-8e87-5575f6dff257",
   "metadata": {},
   "source": [
    "# Converting string columns into numeric\n",
    "* renaming dataset\n",
    "* convert to datetime index\n",
    "* Label encoding "
   ]
  },
  {
   "cell_type": "code",
   "execution_count": 76,
   "id": "793f9928-25ca-4496-99f4-2156ea157cb0",
   "metadata": {},
   "outputs": [
    {
     "data": {
      "text/html": [
       "<div>\n",
       "<style scoped>\n",
       "    .dataframe tbody tr th:only-of-type {\n",
       "        vertical-align: middle;\n",
       "    }\n",
       "\n",
       "    .dataframe tbody tr th {\n",
       "        vertical-align: top;\n",
       "    }\n",
       "\n",
       "    .dataframe thead th {\n",
       "        text-align: right;\n",
       "    }\n",
       "</style>\n",
       "<table border=\"1\" class=\"dataframe\">\n",
       "  <thead>\n",
       "    <tr style=\"text-align: right;\">\n",
       "      <th></th>\n",
       "      <th>date</th>\n",
       "      <th>home_team</th>\n",
       "      <th>away_team</th>\n",
       "      <th>home_team_continent</th>\n",
       "      <th>away_team_continent</th>\n",
       "      <th>home_team_fifa_rank</th>\n",
       "      <th>away_team_fifa_rank</th>\n",
       "      <th>home_team_total_fifa_points</th>\n",
       "      <th>away_team_total_fifa_points</th>\n",
       "      <th>home_team_score</th>\n",
       "      <th>...</th>\n",
       "      <th>home_team_result</th>\n",
       "      <th>home_team_goalkeeper_score</th>\n",
       "      <th>away_team_goalkeeper_score</th>\n",
       "      <th>home_team_mean_defense_score</th>\n",
       "      <th>home_team_mean_offense_score</th>\n",
       "      <th>home_team_mean_midfield_score</th>\n",
       "      <th>away_team_mean_defense_score</th>\n",
       "      <th>away_team_mean_offense_score</th>\n",
       "      <th>away_team_mean_midfield_score</th>\n",
       "      <th>result</th>\n",
       "    </tr>\n",
       "  </thead>\n",
       "  <tbody>\n",
       "    <tr>\n",
       "      <th>1</th>\n",
       "      <td>1993-08-08</td>\n",
       "      <td>Brazil</td>\n",
       "      <td>Mexico</td>\n",
       "      <td>South America</td>\n",
       "      <td>North America</td>\n",
       "      <td>8</td>\n",
       "      <td>14</td>\n",
       "      <td>0</td>\n",
       "      <td>0</td>\n",
       "      <td>1</td>\n",
       "      <td>...</td>\n",
       "      <td>Draw</td>\n",
       "      <td>85.941860</td>\n",
       "      <td>79.248175</td>\n",
       "      <td>85.902907</td>\n",
       "      <td>86.538372</td>\n",
       "      <td>85.355233</td>\n",
       "      <td>76.813139</td>\n",
       "      <td>79.659854</td>\n",
       "      <td>77.708759</td>\n",
       "      <td>Draw</td>\n",
       "    </tr>\n",
       "    <tr>\n",
       "      <th>2</th>\n",
       "      <td>1993-08-08</td>\n",
       "      <td>Ecuador</td>\n",
       "      <td>Venezuela</td>\n",
       "      <td>South America</td>\n",
       "      <td>South America</td>\n",
       "      <td>35</td>\n",
       "      <td>94</td>\n",
       "      <td>0</td>\n",
       "      <td>0</td>\n",
       "      <td>5</td>\n",
       "      <td>...</td>\n",
       "      <td>Win</td>\n",
       "      <td>71.275510</td>\n",
       "      <td>67.311111</td>\n",
       "      <td>70.599091</td>\n",
       "      <td>75.413265</td>\n",
       "      <td>75.042857</td>\n",
       "      <td>72.305714</td>\n",
       "      <td>74.660417</td>\n",
       "      <td>73.423810</td>\n",
       "      <td>Win</td>\n",
       "    </tr>\n",
       "    <tr>\n",
       "      <th>10</th>\n",
       "      <td>1993-08-15</td>\n",
       "      <td>Australia</td>\n",
       "      <td>Canada</td>\n",
       "      <td>Oceania</td>\n",
       "      <td>North America</td>\n",
       "      <td>52</td>\n",
       "      <td>46</td>\n",
       "      <td>0</td>\n",
       "      <td>0</td>\n",
       "      <td>2</td>\n",
       "      <td>...</td>\n",
       "      <td>Win</td>\n",
       "      <td>78.088710</td>\n",
       "      <td>71.726190</td>\n",
       "      <td>72.558065</td>\n",
       "      <td>74.718548</td>\n",
       "      <td>74.060484</td>\n",
       "      <td>68.810714</td>\n",
       "      <td>71.543210</td>\n",
       "      <td>72.527381</td>\n",
       "      <td>Win</td>\n",
       "    </tr>\n",
       "    <tr>\n",
       "      <th>14</th>\n",
       "      <td>1993-08-15</td>\n",
       "      <td>Uruguay</td>\n",
       "      <td>Brazil</td>\n",
       "      <td>South America</td>\n",
       "      <td>South America</td>\n",
       "      <td>22</td>\n",
       "      <td>8</td>\n",
       "      <td>0</td>\n",
       "      <td>0</td>\n",
       "      <td>1</td>\n",
       "      <td>...</td>\n",
       "      <td>Draw</td>\n",
       "      <td>79.368421</td>\n",
       "      <td>86.371622</td>\n",
       "      <td>79.753509</td>\n",
       "      <td>83.721053</td>\n",
       "      <td>78.356140</td>\n",
       "      <td>86.077027</td>\n",
       "      <td>86.625000</td>\n",
       "      <td>85.312162</td>\n",
       "      <td>Draw</td>\n",
       "    </tr>\n",
       "    <tr>\n",
       "      <th>15</th>\n",
       "      <td>1993-08-22</td>\n",
       "      <td>Argentina</td>\n",
       "      <td>Peru</td>\n",
       "      <td>South America</td>\n",
       "      <td>South America</td>\n",
       "      <td>5</td>\n",
       "      <td>70</td>\n",
       "      <td>0</td>\n",
       "      <td>0</td>\n",
       "      <td>2</td>\n",
       "      <td>...</td>\n",
       "      <td>Win</td>\n",
       "      <td>80.500000</td>\n",
       "      <td>69.581395</td>\n",
       "      <td>82.644304</td>\n",
       "      <td>88.286709</td>\n",
       "      <td>84.138608</td>\n",
       "      <td>70.993878</td>\n",
       "      <td>76.436735</td>\n",
       "      <td>73.813636</td>\n",
       "      <td>Win</td>\n",
       "    </tr>\n",
       "  </tbody>\n",
       "</table>\n",
       "<p>5 rows × 26 columns</p>\n",
       "</div>"
      ],
      "text/plain": [
       "         date  home_team  away_team home_team_continent away_team_continent  \\\n",
       "1  1993-08-08     Brazil     Mexico       South America       North America   \n",
       "2  1993-08-08    Ecuador  Venezuela       South America       South America   \n",
       "10 1993-08-15  Australia     Canada             Oceania       North America   \n",
       "14 1993-08-15    Uruguay     Brazil       South America       South America   \n",
       "15 1993-08-22  Argentina       Peru       South America       South America   \n",
       "\n",
       "    home_team_fifa_rank  away_team_fifa_rank  home_team_total_fifa_points  \\\n",
       "1                     8                   14                            0   \n",
       "2                    35                   94                            0   \n",
       "10                   52                   46                            0   \n",
       "14                   22                    8                            0   \n",
       "15                    5                   70                            0   \n",
       "\n",
       "    away_team_total_fifa_points  home_team_score  ...  home_team_result  \\\n",
       "1                             0                1  ...              Draw   \n",
       "2                             0                5  ...               Win   \n",
       "10                            0                2  ...               Win   \n",
       "14                            0                1  ...              Draw   \n",
       "15                            0                2  ...               Win   \n",
       "\n",
       "   home_team_goalkeeper_score away_team_goalkeeper_score  \\\n",
       "1                   85.941860                  79.248175   \n",
       "2                   71.275510                  67.311111   \n",
       "10                  78.088710                  71.726190   \n",
       "14                  79.368421                  86.371622   \n",
       "15                  80.500000                  69.581395   \n",
       "\n",
       "   home_team_mean_defense_score  home_team_mean_offense_score  \\\n",
       "1                     85.902907                     86.538372   \n",
       "2                     70.599091                     75.413265   \n",
       "10                    72.558065                     74.718548   \n",
       "14                    79.753509                     83.721053   \n",
       "15                    82.644304                     88.286709   \n",
       "\n",
       "   home_team_mean_midfield_score away_team_mean_defense_score  \\\n",
       "1                      85.355233                    76.813139   \n",
       "2                      75.042857                    72.305714   \n",
       "10                     74.060484                    68.810714   \n",
       "14                     78.356140                    86.077027   \n",
       "15                     84.138608                    70.993878   \n",
       "\n",
       "    away_team_mean_offense_score  away_team_mean_midfield_score  result  \n",
       "1                      79.659854                      77.708759    Draw  \n",
       "2                      74.660417                      73.423810     Win  \n",
       "10                     71.543210                      72.527381     Win  \n",
       "14                     86.625000                      85.312162    Draw  \n",
       "15                     76.436735                      73.813636     Win  \n",
       "\n",
       "[5 rows x 26 columns]"
      ]
     },
     "execution_count": 76,
     "metadata": {},
     "output_type": "execute_result"
    }
   ],
   "source": [
    "df = newdf\n",
    "df.date = pd.to_datetime(df.date)\n",
    "df['result'] = df.home_team_result \n",
    "df.head()"
   ]
  },
  {
   "cell_type": "code",
   "execution_count": 77,
   "id": "a7735b0a-5da6-4efd-935b-1dcc108cbf5d",
   "metadata": {},
   "outputs": [
    {
     "data": {
      "text/plain": [
       "date                             datetime64[ns]\n",
       "home_team                                object\n",
       "away_team                                object\n",
       "home_team_continent                      object\n",
       "away_team_continent                      object\n",
       "home_team_fifa_rank                       int64\n",
       "away_team_fifa_rank                       int64\n",
       "home_team_total_fifa_points               int64\n",
       "away_team_total_fifa_points               int64\n",
       "home_team_score                           int64\n",
       "away_team_score                           int64\n",
       "tournament                               object\n",
       "city                                     object\n",
       "country                                  object\n",
       "neutral_location                           bool\n",
       "shoot_out                                object\n",
       "home_team_result                         object\n",
       "home_team_goalkeeper_score              float64\n",
       "away_team_goalkeeper_score              float64\n",
       "home_team_mean_defense_score            float64\n",
       "home_team_mean_offense_score            float64\n",
       "home_team_mean_midfield_score           float64\n",
       "away_team_mean_defense_score            float64\n",
       "away_team_mean_offense_score            float64\n",
       "away_team_mean_midfield_score           float64\n",
       "result                                   object\n",
       "dtype: object"
      ]
     },
     "execution_count": 77,
     "metadata": {},
     "output_type": "execute_result"
    }
   ],
   "source": [
    "df.dtypes"
   ]
  },
  {
   "cell_type": "code",
   "execution_count": 78,
   "id": "36878ebd-cf5a-4af8-ab3a-8adc247fcbe5",
   "metadata": {},
   "outputs": [
    {
     "data": {
      "text/html": [
       "<div>\n",
       "<style scoped>\n",
       "    .dataframe tbody tr th:only-of-type {\n",
       "        vertical-align: middle;\n",
       "    }\n",
       "\n",
       "    .dataframe tbody tr th {\n",
       "        vertical-align: top;\n",
       "    }\n",
       "\n",
       "    .dataframe thead th {\n",
       "        text-align: right;\n",
       "    }\n",
       "</style>\n",
       "<table border=\"1\" class=\"dataframe\">\n",
       "  <thead>\n",
       "    <tr style=\"text-align: right;\">\n",
       "      <th></th>\n",
       "      <th>date</th>\n",
       "      <th>home_team</th>\n",
       "      <th>away_team</th>\n",
       "      <th>home_team_continent</th>\n",
       "      <th>away_team_continent</th>\n",
       "      <th>home_team_fifa_rank</th>\n",
       "      <th>away_team_fifa_rank</th>\n",
       "      <th>home_team_total_fifa_points</th>\n",
       "      <th>away_team_total_fifa_points</th>\n",
       "      <th>home_team_score</th>\n",
       "      <th>...</th>\n",
       "      <th>home_team_result</th>\n",
       "      <th>home_team_goalkeeper_score</th>\n",
       "      <th>away_team_goalkeeper_score</th>\n",
       "      <th>home_team_mean_defense_score</th>\n",
       "      <th>home_team_mean_offense_score</th>\n",
       "      <th>home_team_mean_midfield_score</th>\n",
       "      <th>away_team_mean_defense_score</th>\n",
       "      <th>away_team_mean_offense_score</th>\n",
       "      <th>away_team_mean_midfield_score</th>\n",
       "      <th>result</th>\n",
       "    </tr>\n",
       "  </thead>\n",
       "  <tbody>\n",
       "    <tr>\n",
       "      <th>1</th>\n",
       "      <td>1993-08-08</td>\n",
       "      <td>Brazil</td>\n",
       "      <td>Mexico</td>\n",
       "      <td>South America</td>\n",
       "      <td>North America</td>\n",
       "      <td>8</td>\n",
       "      <td>14</td>\n",
       "      <td>0</td>\n",
       "      <td>0</td>\n",
       "      <td>1</td>\n",
       "      <td>...</td>\n",
       "      <td>Draw</td>\n",
       "      <td>85.941860</td>\n",
       "      <td>79.248175</td>\n",
       "      <td>85.902907</td>\n",
       "      <td>86.538372</td>\n",
       "      <td>85.355233</td>\n",
       "      <td>76.813139</td>\n",
       "      <td>79.659854</td>\n",
       "      <td>77.708759</td>\n",
       "      <td>Draw</td>\n",
       "    </tr>\n",
       "    <tr>\n",
       "      <th>2</th>\n",
       "      <td>1993-08-08</td>\n",
       "      <td>Ecuador</td>\n",
       "      <td>Venezuela</td>\n",
       "      <td>South America</td>\n",
       "      <td>South America</td>\n",
       "      <td>35</td>\n",
       "      <td>94</td>\n",
       "      <td>0</td>\n",
       "      <td>0</td>\n",
       "      <td>5</td>\n",
       "      <td>...</td>\n",
       "      <td>Win</td>\n",
       "      <td>71.275510</td>\n",
       "      <td>67.311111</td>\n",
       "      <td>70.599091</td>\n",
       "      <td>75.413265</td>\n",
       "      <td>75.042857</td>\n",
       "      <td>72.305714</td>\n",
       "      <td>74.660417</td>\n",
       "      <td>73.423810</td>\n",
       "      <td>Win</td>\n",
       "    </tr>\n",
       "    <tr>\n",
       "      <th>10</th>\n",
       "      <td>1993-08-15</td>\n",
       "      <td>Australia</td>\n",
       "      <td>Canada</td>\n",
       "      <td>Oceania</td>\n",
       "      <td>North America</td>\n",
       "      <td>52</td>\n",
       "      <td>46</td>\n",
       "      <td>0</td>\n",
       "      <td>0</td>\n",
       "      <td>2</td>\n",
       "      <td>...</td>\n",
       "      <td>Win</td>\n",
       "      <td>78.088710</td>\n",
       "      <td>71.726190</td>\n",
       "      <td>72.558065</td>\n",
       "      <td>74.718548</td>\n",
       "      <td>74.060484</td>\n",
       "      <td>68.810714</td>\n",
       "      <td>71.543210</td>\n",
       "      <td>72.527381</td>\n",
       "      <td>Win</td>\n",
       "    </tr>\n",
       "    <tr>\n",
       "      <th>14</th>\n",
       "      <td>1993-08-15</td>\n",
       "      <td>Uruguay</td>\n",
       "      <td>Brazil</td>\n",
       "      <td>South America</td>\n",
       "      <td>South America</td>\n",
       "      <td>22</td>\n",
       "      <td>8</td>\n",
       "      <td>0</td>\n",
       "      <td>0</td>\n",
       "      <td>1</td>\n",
       "      <td>...</td>\n",
       "      <td>Draw</td>\n",
       "      <td>79.368421</td>\n",
       "      <td>86.371622</td>\n",
       "      <td>79.753509</td>\n",
       "      <td>83.721053</td>\n",
       "      <td>78.356140</td>\n",
       "      <td>86.077027</td>\n",
       "      <td>86.625000</td>\n",
       "      <td>85.312162</td>\n",
       "      <td>Draw</td>\n",
       "    </tr>\n",
       "    <tr>\n",
       "      <th>15</th>\n",
       "      <td>1993-08-22</td>\n",
       "      <td>Argentina</td>\n",
       "      <td>Peru</td>\n",
       "      <td>South America</td>\n",
       "      <td>South America</td>\n",
       "      <td>5</td>\n",
       "      <td>70</td>\n",
       "      <td>0</td>\n",
       "      <td>0</td>\n",
       "      <td>2</td>\n",
       "      <td>...</td>\n",
       "      <td>Win</td>\n",
       "      <td>80.500000</td>\n",
       "      <td>69.581395</td>\n",
       "      <td>82.644304</td>\n",
       "      <td>88.286709</td>\n",
       "      <td>84.138608</td>\n",
       "      <td>70.993878</td>\n",
       "      <td>76.436735</td>\n",
       "      <td>73.813636</td>\n",
       "      <td>Win</td>\n",
       "    </tr>\n",
       "  </tbody>\n",
       "</table>\n",
       "<p>5 rows × 26 columns</p>\n",
       "</div>"
      ],
      "text/plain": [
       "         date  home_team  away_team home_team_continent away_team_continent  \\\n",
       "1  1993-08-08     Brazil     Mexico       South America       North America   \n",
       "2  1993-08-08    Ecuador  Venezuela       South America       South America   \n",
       "10 1993-08-15  Australia     Canada             Oceania       North America   \n",
       "14 1993-08-15    Uruguay     Brazil       South America       South America   \n",
       "15 1993-08-22  Argentina       Peru       South America       South America   \n",
       "\n",
       "    home_team_fifa_rank  away_team_fifa_rank  home_team_total_fifa_points  \\\n",
       "1                     8                   14                            0   \n",
       "2                    35                   94                            0   \n",
       "10                   52                   46                            0   \n",
       "14                   22                    8                            0   \n",
       "15                    5                   70                            0   \n",
       "\n",
       "    away_team_total_fifa_points  home_team_score  ...  home_team_result  \\\n",
       "1                             0                1  ...              Draw   \n",
       "2                             0                5  ...               Win   \n",
       "10                            0                2  ...               Win   \n",
       "14                            0                1  ...              Draw   \n",
       "15                            0                2  ...               Win   \n",
       "\n",
       "   home_team_goalkeeper_score away_team_goalkeeper_score  \\\n",
       "1                   85.941860                  79.248175   \n",
       "2                   71.275510                  67.311111   \n",
       "10                  78.088710                  71.726190   \n",
       "14                  79.368421                  86.371622   \n",
       "15                  80.500000                  69.581395   \n",
       "\n",
       "   home_team_mean_defense_score  home_team_mean_offense_score  \\\n",
       "1                     85.902907                     86.538372   \n",
       "2                     70.599091                     75.413265   \n",
       "10                    72.558065                     74.718548   \n",
       "14                    79.753509                     83.721053   \n",
       "15                    82.644304                     88.286709   \n",
       "\n",
       "   home_team_mean_midfield_score away_team_mean_defense_score  \\\n",
       "1                      85.355233                    76.813139   \n",
       "2                      75.042857                    72.305714   \n",
       "10                     74.060484                    68.810714   \n",
       "14                     78.356140                    86.077027   \n",
       "15                     84.138608                    70.993878   \n",
       "\n",
       "    away_team_mean_offense_score  away_team_mean_midfield_score  result  \n",
       "1                      79.659854                      77.708759    Draw  \n",
       "2                      74.660417                      73.423810     Win  \n",
       "10                     71.543210                      72.527381     Win  \n",
       "14                     86.625000                      85.312162    Draw  \n",
       "15                     76.436735                      73.813636     Win  \n",
       "\n",
       "[5 rows x 26 columns]"
      ]
     },
     "execution_count": 78,
     "metadata": {},
     "output_type": "execute_result"
    }
   ],
   "source": [
    "df.head()"
   ]
  },
  {
   "cell_type": "markdown",
   "id": "420293ef-cf57-420b-9d00-744c906ebb78",
   "metadata": {},
   "source": [
    "# Encoding non numericals columns\n",
    "* Using label encoder and a dictionary "
   ]
  },
  {
   "cell_type": "code",
   "execution_count": 79,
   "id": "432d19b1-7bda-4847-b365-9973808c03d0",
   "metadata": {},
   "outputs": [
    {
     "data": {
      "text/plain": [
       "date                             datetime64[ns]\n",
       "home_team                                object\n",
       "away_team                                object\n",
       "home_team_continent                      object\n",
       "away_team_continent                      object\n",
       "home_team_fifa_rank                       int64\n",
       "away_team_fifa_rank                       int64\n",
       "home_team_total_fifa_points               int64\n",
       "away_team_total_fifa_points               int64\n",
       "home_team_score                           int64\n",
       "away_team_score                           int64\n",
       "tournament                                int32\n",
       "city                                      int32\n",
       "country                                  object\n",
       "neutral_location                           bool\n",
       "shoot_out                                 int32\n",
       "home_team_result                         object\n",
       "home_team_goalkeeper_score              float64\n",
       "away_team_goalkeeper_score              float64\n",
       "home_team_mean_defense_score            float64\n",
       "home_team_mean_offense_score            float64\n",
       "home_team_mean_midfield_score           float64\n",
       "away_team_mean_defense_score            float64\n",
       "away_team_mean_offense_score            float64\n",
       "away_team_mean_midfield_score           float64\n",
       "result                                    int64\n",
       "dtype: object"
      ]
     },
     "execution_count": 79,
     "metadata": {},
     "output_type": "execute_result"
    }
   ],
   "source": [
    "le = preprocessing.LabelEncoder()\n",
    "df.tournament = le.fit_transform(df.tournament)\n",
    "df.city = le.fit_transform(df.city)\n",
    "\n",
    "df.shoot_out = le.fit_transform(df.shoot_out)\n",
    "df['result'] =  df['result'].replace({'Win': 3, 'Lose': 0, 'Draw' : 2})\n",
    "df.dtypes"
   ]
  },
  {
   "cell_type": "markdown",
   "id": "b02c3bd3-80b8-4169-891d-9b147f0d86f6",
   "metadata": {},
   "source": [
    "## Deleting useless columns"
   ]
  },
  {
   "cell_type": "code",
   "execution_count": 80,
   "id": "0f1a9d3d-aa5e-46fe-859d-0c5c1049a16b",
   "metadata": {},
   "outputs": [],
   "source": [
    "del df['home_team_result']\n",
    "del df['home_team_continent']\n",
    "del df['away_team_continent']\n",
    "del df['country']\n",
    "\n",
    "del df['city']\n"
   ]
  },
  {
   "cell_type": "code",
   "execution_count": null,
   "id": "2e255819-b6ce-4701-ba2b-715e3aee8d7a",
   "metadata": {},
   "outputs": [],
   "source": []
  },
  {
   "cell_type": "code",
   "execution_count": 81,
   "id": "a1c8c9ca-371c-4f49-8ab4-b45a331b3118",
   "metadata": {},
   "outputs": [
    {
     "data": {
      "text/plain": [
       "date                             0\n",
       "home_team                        0\n",
       "away_team                        0\n",
       "home_team_fifa_rank              0\n",
       "away_team_fifa_rank              0\n",
       "home_team_total_fifa_points      0\n",
       "away_team_total_fifa_points      0\n",
       "home_team_score                  0\n",
       "away_team_score                  0\n",
       "tournament                       0\n",
       "neutral_location                 0\n",
       "shoot_out                        0\n",
       "home_team_goalkeeper_score       0\n",
       "away_team_goalkeeper_score       0\n",
       "home_team_mean_defense_score     0\n",
       "home_team_mean_offense_score     0\n",
       "home_team_mean_midfield_score    0\n",
       "away_team_mean_defense_score     0\n",
       "away_team_mean_offense_score     0\n",
       "away_team_mean_midfield_score    0\n",
       "result                           0\n",
       "dtype: int64"
      ]
     },
     "execution_count": 81,
     "metadata": {},
     "output_type": "execute_result"
    }
   ],
   "source": [
    "df.isnull().sum() # still many values missing / problem is that values missing belongs to qatar mostly / , "
   ]
  },
  {
   "cell_type": "code",
   "execution_count": 82,
   "id": "4e67940c-7740-48b7-8ce8-a36713bdf66b",
   "metadata": {},
   "outputs": [
    {
     "data": {
      "text/plain": [
       "home_team\n",
       "Afghanistan      14\n",
       "Albania         246\n",
       "Algeria         162\n",
       "Andorra         166\n",
       "Angola           94\n",
       "               ... \n",
       "Vietnam          35\n",
       "Wales          1390\n",
       "Yemen             7\n",
       "Zambia          115\n",
       "Zimbabwe         51\n",
       "Name: tournament, Length: 187, dtype: int32"
      ]
     },
     "execution_count": 82,
     "metadata": {},
     "output_type": "execute_result"
    }
   ],
   "source": [
    "df.groupby('home_team')['tournament'].sum()"
   ]
  },
  {
   "cell_type": "code",
   "execution_count": 83,
   "id": "0a90be92-f91e-419a-8eae-5c86643ed856",
   "metadata": {},
   "outputs": [],
   "source": [
    "one = (df.groupby('home_team')['result'].sum() /  df.groupby('home_team')['tournament'].sum())\n",
    "one = pd.DataFrame(data=one).reset_index()\n",
    "\n",
    "two = (df.groupby('away_team')['result'].sum() /  df.groupby('away_team')['tournament'].sum())\n",
    "two = pd.DataFrame(data=two).reset_index()\n"
   ]
  },
  {
   "cell_type": "code",
   "execution_count": 84,
   "id": "c8381d1b-9e2a-488d-8828-06db826d91eb",
   "metadata": {},
   "outputs": [
    {
     "data": {
      "text/plain": [
       "Mexico             342\n",
       "USA                311\n",
       "Germany            298\n",
       "France             297\n",
       "Brazil             294\n",
       "                  ... \n",
       "Suriname             1\n",
       "Belize               1\n",
       "Dominica             1\n",
       "Solomon Islands      1\n",
       "Aruba                1\n",
       "Name: home_team, Length: 187, dtype: int64"
      ]
     },
     "execution_count": 84,
     "metadata": {},
     "output_type": "execute_result"
    }
   ],
   "source": [
    "'''result = dict(pd.concat([one,two]).groupby('home_team',as_index=False).sum().to_dict(orient='split')['data'])\n",
    "print([result[v] for v in result if v in filtercountry])'''\n",
    "countCollection = df['home_team'].value_counts()\n",
    "countCollection"
   ]
  },
  {
   "cell_type": "markdown",
   "id": "f0183ad5-4f63-4e8d-b3e6-b800d3bb02c2",
   "metadata": {},
   "source": [
    "# Data Viz \n",
    "## Displaying points earned by winning matches of the qualified teams "
   ]
  },
  {
   "cell_type": "code",
   "execution_count": 85,
   "id": "d69c1df9-cb6f-4039-8255-aa7ff2400307",
   "metadata": {},
   "outputs": [],
   "source": [
    "home_points = df.groupby('home_team')['result'].sum()\n",
    "away_points = df.groupby('away_team')['result'].sum() \n",
    "\n",
    "display = (home_points.add(away_points, fill_value=0)\n",
    "                .rename_axis('Team')\n",
    "                .reset_index(name='Points')\n",
    "                .sort_values('Points', ascending=False, ignore_index=True))\n",
    "display = display[display['Team'].isin(filtercountry)]\n",
    "display = display.sort_values(by =\"Points\", ascending=True)"
   ]
  },
  {
   "cell_type": "code",
   "execution_count": 86,
   "id": "bb8cd713-7911-42be-b1e5-bda968564421",
   "metadata": {},
   "outputs": [
    {
     "data": {
      "image/png": "[encoded data removed]",
      "text/plain": [
       "<Figure size 1200x1600 with 1 Axes>"
      ]
     },
     "metadata": {},
     "output_type": "display_data"
    }
   ],
   "source": [
    "fig = plt.figure(figsize=(6,8), dpi=200)\n",
    "left, bottom, width, height = 0.1, 0.3, 0.8, 0.6\n",
    "ax = fig.add_axes([left, bottom, width, height]) \n",
    "\n",
    "ax.bar(x=np.arange(len(display['Points'])), # The x coordinates of the bars. \n",
    "       height=display['Team'], # the height(s) of the vars \n",
    "       color=\"green\", align=\"center\",\n",
    "       tick_label=display['Points'])\n",
    "\n",
    "ax.set_ylabel('Team')\n",
    "#ax.set_xticks(rotation='vertical')\n",
    "ax.set_title('Points')\n",
    "plt.xticks(rotation=90)\n",
    "plt.show()"
   ]
  },
  {
   "cell_type": "markdown",
   "id": "bd65a5a5-f74e-4352-a2a5-e411cd276e2f",
   "metadata": {},
   "source": [
    "## Fifa Ranking "
   ]
  },
  {
   "cell_type": "code",
   "execution_count": 87,
   "id": "8924a89e-d539-460d-9c7d-72ca6aa6c562",
   "metadata": {},
   "outputs": [
    {
     "data": {
      "text/plain": [
       "rank                 int64\n",
       "country_full        object\n",
       "country_abrv        object\n",
       "total_points       float64\n",
       "previous_points    float64\n",
       "rank_change          int64\n",
       "confederation       object\n",
       "rank_date           object\n",
       "dtype: object"
      ]
     },
     "execution_count": 87,
     "metadata": {},
     "output_type": "execute_result"
    }
   ],
   "source": [
    "rank = pd.read_csv('fifa_ranking-2022-08-25.csv')\n",
    "rank1 = pd.read_csv('fifa_ranking-2022-08-25.csv')\n",
    "rank.dtypes"
   ]
  },
  {
   "cell_type": "code",
   "execution_count": 88,
   "id": "ab6d43a0-53f2-47c0-b034-ad7060c70d7e",
   "metadata": {},
   "outputs": [],
   "source": [
    "rank = rank.loc[(rank['rank_date'] == \"2022-08-25\")]\n",
    "rank = rank[rank['country_full'].isin(filtercountry)]"
   ]
  },
  {
   "cell_type": "code",
   "execution_count": 89,
   "id": "0879963a-8a5c-41f0-974d-b399af840c3b",
   "metadata": {},
   "outputs": [
    {
     "data": {
      "text/plain": [
       "<AxesSubplot:xlabel='rank', ylabel='country_full'>"
      ]
     },
     "execution_count": 89,
     "metadata": {},
     "output_type": "execute_result"
    },
    {
     "data": {
      "image/png": "[encoded data removed]",
      "text/plain": [
       "<Figure size 640x480 with 1 Axes>"
      ]
     },
     "metadata": {},
     "output_type": "display_data"
    }
   ],
   "source": [
    "\n",
    "sns.barplot(data=rank, x=\"rank\" , y=\"country_full\")"
   ]
  },
  {
   "cell_type": "markdown",
   "id": "9300f0a6-2121-4f61-ba13-fe20b447c8af",
   "metadata": {},
   "source": [
    "## Strongest offense team "
   ]
  },
  {
   "cell_type": "code",
   "execution_count": 90,
   "id": "56a0baa2-88f3-4fa4-afcb-074232642910",
   "metadata": {},
   "outputs": [
    {
     "name": "stderr",
     "output_type": "stream",
     "text": [
      "C:\\Users\\utilisateur\\AppData\\Local\\Temp\\ipykernel_8976\\1700669849.py:5: FutureWarning: The frame.append method is deprecated and will be removed from pandas in a future version. Use pandas.concat instead.\n",
      "  offense  = home.append(away)\n"
     ]
    }
   ],
   "source": [
    "#let's re-shape the data a bit\n",
    "offense = df[['date', 'home_team', 'away_team', 'home_team_mean_offense_score', 'away_team_mean_offense_score']]\n",
    "home = offense [['date', 'home_team','home_team_mean_offense_score']].rename(columns = {'home_team': 'team', 'home_team_mean_offense_score' : 'offense_score'})\n",
    "away = offense [['date', 'away_team','away_team_mean_offense_score']].rename(columns = {'away_team': 'team', 'away_team_mean_offense_score' : 'offense_score'})\n",
    "offense  = home.append(away)\n",
    "\n",
    "#select for each country the latest match\n",
    "offense   = offense .sort_values(['team', 'date'], ascending=[True, False])\n",
    "offense ['row_number'] = offense .groupby('team').cumcount()+1\n",
    "offense_top = offense [offense ['row_number']==1].drop('row_number',axis=1).nlargest(20, 'offense_score')"
   ]
  },
  {
   "cell_type": "code",
   "execution_count": 91,
   "id": "a1775e60-775e-44e3-8942-b868d0249651",
   "metadata": {},
   "outputs": [
    {
     "data": {
      "image/png": "[encoded data removed]",
      "text/plain": [
       "<Figure size 1000x600 with 1 Axes>"
      ]
     },
     "metadata": {},
     "output_type": "display_data"
    }
   ],
   "source": [
    "#plot the teams with the strongest offense players\n",
    "fig, axes = plt.subplots(1,1,  figsize=(10, 6))\n",
    "ax = sns.barplot(data = offense_top, y = 'team', x = 'offense_score', orientation = 'horizontal', color = \"#66C8D5\")\n",
    "ax.set_title ('Teams with the strongest offense', fontsize = 15)\n",
    "ax.set(xlabel = '', ylabel = '')\n",
    "\n",
    "plt.show()"
   ]
  },
  {
   "cell_type": "code",
   "execution_count": 92,
   "id": "4a20e5bb-e3ff-42ff-8b82-995f22e30afa",
   "metadata": {},
   "outputs": [
    {
     "name": "stderr",
     "output_type": "stream",
     "text": [
      "C:\\Users\\utilisateur\\AppData\\Local\\Temp\\ipykernel_8976\\1616664776.py:5: FutureWarning: The frame.append method is deprecated and will be removed from pandas in a future version. Use pandas.concat instead.\n",
      "  fifa_rank = home.append(away)\n"
     ]
    },
    {
     "data": {
      "text/html": [
       "<div>\n",
       "<style scoped>\n",
       "    .dataframe tbody tr th:only-of-type {\n",
       "        vertical-align: middle;\n",
       "    }\n",
       "\n",
       "    .dataframe tbody tr th {\n",
       "        vertical-align: top;\n",
       "    }\n",
       "\n",
       "    .dataframe thead th {\n",
       "        text-align: right;\n",
       "    }\n",
       "</style>\n",
       "<table border=\"1\" class=\"dataframe\">\n",
       "  <thead>\n",
       "    <tr style=\"text-align: right;\">\n",
       "      <th></th>\n",
       "      <th>date</th>\n",
       "      <th>team</th>\n",
       "      <th>rank</th>\n",
       "    </tr>\n",
       "  </thead>\n",
       "  <tbody>\n",
       "    <tr>\n",
       "      <th>23760</th>\n",
       "      <td>2022-06-06</td>\n",
       "      <td>Brazil</td>\n",
       "      <td>1</td>\n",
       "    </tr>\n",
       "    <tr>\n",
       "      <th>23909</th>\n",
       "      <td>2022-06-14</td>\n",
       "      <td>Belgium</td>\n",
       "      <td>2</td>\n",
       "    </tr>\n",
       "    <tr>\n",
       "      <th>23885</th>\n",
       "      <td>2022-06-13</td>\n",
       "      <td>France</td>\n",
       "      <td>3</td>\n",
       "    </tr>\n",
       "    <tr>\n",
       "      <th>23741</th>\n",
       "      <td>2022-06-05</td>\n",
       "      <td>Argentina</td>\n",
       "      <td>4</td>\n",
       "    </tr>\n",
       "    <tr>\n",
       "      <th>23906</th>\n",
       "      <td>2022-06-14</td>\n",
       "      <td>England</td>\n",
       "      <td>5</td>\n",
       "    </tr>\n",
       "  </tbody>\n",
       "</table>\n",
       "</div>"
      ],
      "text/plain": [
       "            date       team  rank\n",
       "23760 2022-06-06     Brazil     1\n",
       "23909 2022-06-14    Belgium     2\n",
       "23885 2022-06-13     France     3\n",
       "23741 2022-06-05  Argentina     4\n",
       "23906 2022-06-14    England     5"
      ]
     },
     "execution_count": 92,
     "metadata": {},
     "output_type": "execute_result"
    }
   ],
   "source": [
    "#let's re-shape the data a bit\n",
    "fifa_rank = df[['date', 'home_team', 'away_team', 'home_team_fifa_rank', 'away_team_fifa_rank']]\n",
    "home = fifa_rank[['date', 'home_team','home_team_fifa_rank']].rename(columns = {'home_team': 'team', 'home_team_fifa_rank' : 'rank'})\n",
    "away = fifa_rank[['date', 'away_team','away_team_fifa_rank']].rename(columns = {'away_team': 'team', 'away_team_fifa_rank' : 'rank'})\n",
    "fifa_rank = home.append(away)\n",
    "\n",
    "#select for each country the latest match\n",
    "fifa_rank  = fifa_rank.sort_values(['team', 'date'], ascending=[True, False])\n",
    "fifa_rank['row_number'] = fifa_rank.groupby('team').cumcount()+1\n",
    "fifa_rank_top = fifa_rank[fifa_rank['row_number']==1].drop('row_number',axis=1).nsmallest(5, 'rank')\n",
    "\n",
    "#let's see the 5 strongest teams\n",
    "fifa_rank_top"
   ]
  },
  {
   "cell_type": "markdown",
   "id": "a11214bb-f3ec-462b-9ef7-ff5c12ebd220",
   "metadata": {},
   "source": [
    "## Is the match played at home as an influence on the result ? "
   ]
  },
  {
   "cell_type": "code",
   "execution_count": 97,
   "id": "cd6c5496-cfe4-4d4e-ab51-0afdc1141fe0",
   "metadata": {},
   "outputs": [
    {
     "data": {
      "image/png": "[encoded data removed]",
      "text/plain": [
       "<Figure size 800x800 with 1 Axes>"
      ]
     },
     "metadata": {},
     "output_type": "display_data"
    }
   ],
   "source": [
    "#select all matches played at non-neutral locations\n",
    "home_team_advantage = df[df['neutral_location']==False]['result'].value_counts(normalize=True)\n",
    "\n",
    "#plot\n",
    "fig, axes = plt.subplots(1,1,  figsize=(8,8))\n",
    "ax =plt.pie(home_team_advantage  ,labels = ['Win',  'Lose', 'Draw'],  autopct='%.0f%%')\n",
    "plt.title('Home team match result', fontsize = 15)\n",
    "plt.show()"
   ]
  },
  {
   "cell_type": "markdown",
   "id": "7b7ee24d-708f-46da-b2cd-24150dac157a",
   "metadata": {},
   "source": [
    "## Winning rates of France"
   ]
  },
  {
   "cell_type": "code",
   "execution_count": 94,
   "id": "0e759d70-9244-499c-90f3-af7cb5c9013e",
   "metadata": {},
   "outputs": [
    {
     "data": {
      "text/plain": [
       "<AxesSubplot:xlabel='France_Results', ylabel='count'>"
      ]
     },
     "execution_count": 94,
     "metadata": {},
     "output_type": "execute_result"
    },
    {
     "data": {
      "image/png": "[encoded data removed]",
      "text/plain": [
       "<Figure size 1070x627 with 1 Axes>"
      ]
     },
     "metadata": {},
     "output_type": "display_data"
    }
   ],
   "source": [
    "wins = []\n",
    "for row in df['result']:\n",
    "    if row != 2 and row != 0 :\n",
    "        wins.append('Wins')\n",
    "    else:\n",
    "        wins.append(row)\n",
    "winsdf= pd.DataFrame(wins, columns=['France_Results'])\n",
    "\n",
    "#plotting\n",
    "fig, ax = plt.subplots(1)\n",
    "fig.set_size_inches(10.7, 6.27)\n",
    "sns.set(style='darkgrid')\n",
    "sns.countplot(x='France_Results', data=winsdf)"
   ]
  },
  {
   "cell_type": "code",
   "execution_count": 98,
   "id": "0b7dfefc-81c8-49e2-80f9-f33bcab5f5b7",
   "metadata": {},
   "outputs": [],
   "source": [
    "del df['neutral_location']"
   ]
  },
  {
   "cell_type": "code",
   "execution_count": null,
   "id": "83cdfeab-9e86-4c3f-8d26-f0e66a48136d",
   "metadata": {},
   "outputs": [],
   "source": [
    "qa = df[df.home_team == 'Qatar']\n",
    "qa1= df[df.away_team == 'Qatar']\n",
    "\n",
    "ec = df[df.home_team == 'Ecuador']\n",
    "ec1 = df[df.away_team == 'Ecuador']\n",
    "\n",
    "se = df[df.home_team == 'Senegal']\n",
    "se1= df[df.away_team == 'Senegal']\n",
    "\n",
    "ne = df[df.home_team == 'Netherlands']\n",
    "ne1=df[df.away_team == 'Netherlands']\n",
    "\n",
    "en = df[df.home_team == 'England']\n",
    "en1= df[df.away_team == 'England']\n",
    "\n",
    "ir= df[df.home_team == 'Iran']\n",
    "ir1=df[df.away_team == 'Iran']\n",
    "\n",
    "us= df[df.home_team == 'USA']\n",
    "us1= df[df.away_team == 'USA']\n",
    "\n",
    "wa= df[df.home_team == 'Wales']\n",
    "wa1= df[df.away_team == 'Wales']\n",
    "\n",
    "ar=df[df.home_team == 'Argentina']\n",
    "ar1=df[df.away_team == 'Argentina']\n",
    "\n",
    "sa=df[df.home_team == 'Saudia Arabia']\n",
    "sa1=df[df.away_team == 'Saudia Arabia']\n",
    "\n",
    "me=df[df.home_team == 'Mexico']\n",
    "me1=df[df.away_team == 'Mexico']\n",
    "\n",
    "po=df[df.home_team== 'Poland']\n",
    "po1=df[df.away_team == 'Poland']\n",
    "\n",
    "fr= df[df.home_team == 'France']\n",
    "fr1= df[df.away_team == 'France']\n",
    "\n",
    "au= df[df.home_team == 'Australia']\n",
    "au1 =df[df.away_team == 'Australia']\n",
    "\n",
    "de=df[df.home_team == 'Denmark']\n",
    "de1= df[df.away_team == 'Denmark']\n",
    "\n",
    "tu=df[df.home_team == 'Tunisia']\n",
    "tu1= df[df.away_team == 'Tunisia'] \n",
    "\n",
    "sp=df[df.home_team == 'Spain']\n",
    "sp1 = df[df.away_team == 'Spain']\n",
    "\n",
    "co= df[df.home_team == 'Costa Rica']\n",
    "co1 = df[df.away_team == 'Costa Rica']\n",
    "\n",
    "ge= df[df.home_team == 'Germany']\n",
    "ge1 = df[df.away_team == 'Germany']\n",
    "\n",
    "ja=df[df.home_team == 'Japan']\n",
    "ja1 = df[df.away_team == 'Japan']\n",
    "\n",
    "be=df[df.home_team == 'Belgium']\n",
    "be1=df[df.away_team == 'Belgium']\n",
    "\n",
    "can= df[df.home_team == 'Canada']\n",
    "can1=df[df.away_team == 'Canada']\n",
    "\n",
    "mo= df[df.home_team == 'Morocco'] \n",
    "mo1 =df[df.away_team == 'Morocco']\n",
    "\n",
    "cr= df[df.home_team == 'Croatia']\n",
    "cr1=df[df.away_team == 'Croatia']\n",
    "\n",
    "br= df[df.home_team == 'Brazil']\n",
    "br1=df[df.away_team == 'Brazil']\n",
    "\n",
    "se= df[df.home_team == 'Serbia']\n",
    "se1= df[df.away_team == 'Serbia']\n",
    "\n",
    "sw= df[df.home_team == 'Switzerland'] \n",
    "sw1=df[df.away_team == 'Switzerland']\n",
    "\n",
    "ca=df[df.home_team == 'Cameroon']\n",
    "ca1=df[df.away_team == 'Cameroon']\n",
    "\n",
    "po= df[df.home_team == 'Portugal']\n",
    "po1=df[df.away_team == 'Portugal']\n",
    "\n",
    "gh= df[df.home_team == 'Ghana']\n",
    "gh1=df[df.away_team == 'Ghana']\n",
    "\n",
    "ur= df[df.home_team == 'Uruguay']\n",
    "ur1=df[df.away_team == 'Uruguay']\n",
    "\n",
    "ko= df[df.home_team == 'Korea Republic']\n",
    "ko1=df[df.away_team == 'Korea Republic']\n",
    "\n",
    "#a = np.array([[tree1,tree2,tree3,tree4,tree5]])"
   ]
  },
  {
   "cell_type": "code",
   "execution_count": null,
   "id": "206d3869-6760-419a-8cc0-f686258593e5",
   "metadata": {},
   "outputs": [],
   "source": []
  },
  {
   "cell_type": "code",
   "execution_count": null,
   "id": "d0e99207-cdbe-453f-8ab4-9be03cfa9b26",
   "metadata": {},
   "outputs": [],
   "source": [
    "dfqatar =pd.concat([qa, qa1])\n",
    "dfec = pd.concat([ec, ec1])\n",
    "dfse = pd.concat([se, se1])\n",
    "dfne = pd.concat([ne, ne1])\n",
    "dfen = pd.concat([en, en1])\n",
    "dfir = pd.concat([ir, ir1])\n",
    "dfus = pd.concat([us, us1])\n",
    "dfwa = pd.concat([wa, wa1])\n",
    "dfar = pd.concat([ar, ar1])\n",
    "dfsa = pd.concat([sa, sa1])\n",
    "dfme = pd.concat([me, me1])\n",
    "dfpo = pd.concat([po, po1])\n",
    "dffr = pd.concat([fr, fr1])\n",
    "dfau =  pd.concat([au, au1])\n",
    "dfde = pd.concat([de, de1])\n",
    "dftu= pd.concat([tu, tu1])\n",
    "dfsp = pd.concat([sp, sp1])\n",
    "dfco = pd.concat([co, co1])\n",
    "dfge = pd.concat([ge, ge1])\n",
    "dfja = pd.concat([ja, ja1])\n",
    "dfbe= pd.concat([be, be1])\n",
    "dfcan = pd.concat([can, can1])\n",
    "dfmo = pd.concat([mo, mo1])\n",
    "dfcr= pd.concat([cr, cr1])\n",
    "dfbr = pd.concat([br, br1])\n",
    "dfse = pd.concat([se, se1])\n",
    "dfsw= pd.concat([sw, sw1])\n",
    "dfca = pd.concat([ca, ca1])\n",
    "dfpo=pd.concat([po, po1])\n",
    "dfgh=pd.concat([gh, gh1])\n",
    "dfur=pd.concat([ur, ur1])\n",
    "dfko=pd.concat([ko, ko1])"
   ]
  },
  {
   "cell_type": "code",
   "execution_count": 99,
   "id": "67f0ad26-e6f7-47a8-95c6-5eb01f4acdbc",
   "metadata": {},
   "outputs": [],
   "source": [
    "df.to_csv('df_clean.csv', encoding='utf-8', index=False)"
   ]
  },
  {
   "cell_type": "code",
   "execution_count": null,
   "id": "4349733a-4edd-494c-a8ee-b9b9977c9e7f",
   "metadata": {},
   "outputs": [],
   "source": []
  },
  {
   "cell_type": "code",
   "execution_count": null,
   "id": "269c891c-8cf1-4c67-bb99-9a0a9dde54a2",
   "metadata": {},
   "outputs": [],
   "source": []
  }
 ],
 "metadata": {
  "kernelspec": {
   "display_name": "Python 3 (ipykernel)",
   "language": "python",
   "name": "python3"
  },
  "language_info": {
   "codemirror_mode": {
    "name": "ipython",
    "version": 3
   },
   "file_extension": ".py",
   "mimetype": "text/x-python",
   "name": "python",
   "nbconvert_exporter": "python",
   "pygments_lexer": "ipython3",
   "version": "3.10.4"
  }
 },
 "nbformat": 4,
 "nbformat_minor": 5
}
